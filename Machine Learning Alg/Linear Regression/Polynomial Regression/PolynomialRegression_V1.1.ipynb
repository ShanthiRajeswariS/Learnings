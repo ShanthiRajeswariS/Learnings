{
  "cells": [
    {
      "cell_type": "markdown",
      "metadata": {
        "id": "ZQUlffOLQy6V"
      },
      "source": [
        "# Polynomial Regression"
      ]
    },
    {
      "cell_type": "markdown",
      "metadata": {
        "id": "A6oXjZ8qQxz4"
      },
      "source": [
        "\n",
        "\n",
        "Polynomial regression is an extension of linear regression that allows modeling nonlinear relationships between variables by fitting a polynomial equation to the data.\n",
        "\n",
        "Unlike simple linear regression (y = β₀ + β₁x), polynomial regression introduces higher-order terms:\n",
        "\n",
        "y = β₀ + β₁x + β₂x² + β₃x³ + ... + βₙxⁿ + ε\n",
        "\n",
        "Where:\n",
        "- y is the dependent variable\n",
        "- x is the independent variable\n",
        "- β values are the coefficients\n",
        "- ε represents the error term\n",
        "- n is the degree of the polynomial\n"
      ]
    },
    {
      "cell_type": "markdown",
      "metadata": {
        "id": "AzjmqAqBRHyd"
      },
      "source": [
        "# Key aspects of polynomial regression:"
      ]
    },
    {
      "cell_type": "markdown",
      "metadata": {
        "id": "tVzfzDdTRFv9"
      },
      "source": [
        "\n",
        "\n",
        "\n",
        "1. **Flexibility**: Can capture curved relationships that linear regression would miss\n",
        "2. **Model selection**: Choosing the right polynomial degree is crucial\n",
        "   - Too low: underfitting (high bias)\n",
        "   - Too high: overfitting (high variance)\n",
        "\n",
        "3. **Implementation**: Often uses the same estimation methods as linear regression (like ordinary least squares)\n",
        "\n",
        "4. **Interpretation**: Higher-degree models become harder to interpret conceptually\n",
        "\n"
      ]
    },
    {
      "cell_type": "code",
      "execution_count": 2,
      "metadata": {
        "id": "pkvH--XISig0"
      },
      "outputs": [],
      "source": [
        "import numpy as np\n",
        "import matplotlib.pyplot as plt\n",
        "import pandas as pd\n",
        "\n",
        "from sklearn.preprocessing import StandardScaler, PolynomialFeatures\n",
        "from sklearn.linear_model import LinearRegression, Ridge\n",
        "from sklearn.metrics import mean_squared_error, r2_score\n",
        "from sklearn.model_selection import train_test_split, cross_val_score\n",
        "import warnings\n",
        "warnings.filterwarnings('ignore')"
      ]
    },
    {
      "cell_type": "code",
      "execution_count": 3,
      "metadata": {
        "id": "7r4EAL_eSij2"
      },
      "outputs": [],
      "source": [
        "from sklearn.datasets import fetch_california_housing\n",
        "boston_df = fetch_california_housing()\n"
      ]
    },
    {
      "cell_type": "code",
      "execution_count": 4,
      "metadata": {
        "colab": {
          "base_uri": "https://localhost:8080/"
        },
        "id": "tfM91_djZxwZ",
        "outputId": "fff81598-a6ec-4ec2-90b9-3d29e3e58bd0"
      },
      "outputs": [
        {
          "data": {
            "text/plain": [
              "{'data': array([[   8.3252    ,   41.        ,    6.98412698, ...,    2.55555556,\n",
              "           37.88      , -122.23      ],\n",
              "        [   8.3014    ,   21.        ,    6.23813708, ...,    2.10984183,\n",
              "           37.86      , -122.22      ],\n",
              "        [   7.2574    ,   52.        ,    8.28813559, ...,    2.80225989,\n",
              "           37.85      , -122.24      ],\n",
              "        ...,\n",
              "        [   1.7       ,   17.        ,    5.20554273, ...,    2.3256351 ,\n",
              "           39.43      , -121.22      ],\n",
              "        [   1.8672    ,   18.        ,    5.32951289, ...,    2.12320917,\n",
              "           39.43      , -121.32      ],\n",
              "        [   2.3886    ,   16.        ,    5.25471698, ...,    2.61698113,\n",
              "           39.37      , -121.24      ]]),\n",
              " 'target': array([4.526, 3.585, 3.521, ..., 0.923, 0.847, 0.894]),\n",
              " 'frame': None,\n",
              " 'target_names': ['MedHouseVal'],\n",
              " 'feature_names': ['MedInc',\n",
              "  'HouseAge',\n",
              "  'AveRooms',\n",
              "  'AveBedrms',\n",
              "  'Population',\n",
              "  'AveOccup',\n",
              "  'Latitude',\n",
              "  'Longitude'],\n",
              " 'DESCR': '.. _california_housing_dataset:\\n\\nCalifornia Housing dataset\\n--------------------------\\n\\n**Data Set Characteristics:**\\n\\n:Number of Instances: 20640\\n\\n:Number of Attributes: 8 numeric, predictive attributes and the target\\n\\n:Attribute Information:\\n    - MedInc        median income in block group\\n    - HouseAge      median house age in block group\\n    - AveRooms      average number of rooms per household\\n    - AveBedrms     average number of bedrooms per household\\n    - Population    block group population\\n    - AveOccup      average number of household members\\n    - Latitude      block group latitude\\n    - Longitude     block group longitude\\n\\n:Missing Attribute Values: None\\n\\nThis dataset was obtained from the StatLib repository.\\nhttps://www.dcc.fc.up.pt/~ltorgo/Regression/cal_housing.html\\n\\nThe target variable is the median house value for California districts,\\nexpressed in hundreds of thousands of dollars ($100,000).\\n\\nThis dataset was derived from the 1990 U.S. census, using one row per census\\nblock group. A block group is the smallest geographical unit for which the U.S.\\nCensus Bureau publishes sample data (a block group typically has a population\\nof 600 to 3,000 people).\\n\\nA household is a group of people residing within a home. Since the average\\nnumber of rooms and bedrooms in this dataset are provided per household, these\\ncolumns may take surprisingly large values for block groups with few households\\nand many empty houses, such as vacation resorts.\\n\\nIt can be downloaded/loaded using the\\n:func:`sklearn.datasets.fetch_california_housing` function.\\n\\n.. topic:: References\\n\\n    - Pace, R. Kelley and Ronald Barry, Sparse Spatial Autoregressions,\\n      Statistics and Probability Letters, 33 (1997) 291-297\\n'}"
            ]
          },
          "execution_count": 4,
          "metadata": {},
          "output_type": "execute_result"
        }
      ],
      "source": [
        "boston_df"
      ]
    },
    {
      "cell_type": "code",
      "execution_count": 5,
      "metadata": {
        "colab": {
          "base_uri": "https://localhost:8080/",
          "height": 206
        },
        "id": "JPI4JNBhSim0",
        "outputId": "01846976-5b79-4b4f-a71d-1f14b78b5088"
      },
      "outputs": [
        {
          "data": {
            "text/html": [
              "<div>\n",
              "<style scoped>\n",
              "    .dataframe tbody tr th:only-of-type {\n",
              "        vertical-align: middle;\n",
              "    }\n",
              "\n",
              "    .dataframe tbody tr th {\n",
              "        vertical-align: top;\n",
              "    }\n",
              "\n",
              "    .dataframe thead th {\n",
              "        text-align: right;\n",
              "    }\n",
              "</style>\n",
              "<table border=\"1\" class=\"dataframe\">\n",
              "  <thead>\n",
              "    <tr style=\"text-align: right;\">\n",
              "      <th></th>\n",
              "      <th>MedInc</th>\n",
              "      <th>HouseAge</th>\n",
              "      <th>AveRooms</th>\n",
              "      <th>AveBedrms</th>\n",
              "      <th>Population</th>\n",
              "      <th>AveOccup</th>\n",
              "      <th>Latitude</th>\n",
              "      <th>Longitude</th>\n",
              "    </tr>\n",
              "  </thead>\n",
              "  <tbody>\n",
              "    <tr>\n",
              "      <th>0</th>\n",
              "      <td>8.3252</td>\n",
              "      <td>41.0</td>\n",
              "      <td>6.984127</td>\n",
              "      <td>1.023810</td>\n",
              "      <td>322.0</td>\n",
              "      <td>2.555556</td>\n",
              "      <td>37.88</td>\n",
              "      <td>-122.23</td>\n",
              "    </tr>\n",
              "    <tr>\n",
              "      <th>1</th>\n",
              "      <td>8.3014</td>\n",
              "      <td>21.0</td>\n",
              "      <td>6.238137</td>\n",
              "      <td>0.971880</td>\n",
              "      <td>2401.0</td>\n",
              "      <td>2.109842</td>\n",
              "      <td>37.86</td>\n",
              "      <td>-122.22</td>\n",
              "    </tr>\n",
              "    <tr>\n",
              "      <th>2</th>\n",
              "      <td>7.2574</td>\n",
              "      <td>52.0</td>\n",
              "      <td>8.288136</td>\n",
              "      <td>1.073446</td>\n",
              "      <td>496.0</td>\n",
              "      <td>2.802260</td>\n",
              "      <td>37.85</td>\n",
              "      <td>-122.24</td>\n",
              "    </tr>\n",
              "    <tr>\n",
              "      <th>3</th>\n",
              "      <td>5.6431</td>\n",
              "      <td>52.0</td>\n",
              "      <td>5.817352</td>\n",
              "      <td>1.073059</td>\n",
              "      <td>558.0</td>\n",
              "      <td>2.547945</td>\n",
              "      <td>37.85</td>\n",
              "      <td>-122.25</td>\n",
              "    </tr>\n",
              "    <tr>\n",
              "      <th>4</th>\n",
              "      <td>3.8462</td>\n",
              "      <td>52.0</td>\n",
              "      <td>6.281853</td>\n",
              "      <td>1.081081</td>\n",
              "      <td>565.0</td>\n",
              "      <td>2.181467</td>\n",
              "      <td>37.85</td>\n",
              "      <td>-122.25</td>\n",
              "    </tr>\n",
              "  </tbody>\n",
              "</table>\n",
              "</div>"
            ],
            "text/plain": [
              "   MedInc  HouseAge  AveRooms  AveBedrms  Population  AveOccup  Latitude  \\\n",
              "0  8.3252      41.0  6.984127   1.023810       322.0  2.555556     37.88   \n",
              "1  8.3014      21.0  6.238137   0.971880      2401.0  2.109842     37.86   \n",
              "2  7.2574      52.0  8.288136   1.073446       496.0  2.802260     37.85   \n",
              "3  5.6431      52.0  5.817352   1.073059       558.0  2.547945     37.85   \n",
              "4  3.8462      52.0  6.281853   1.081081       565.0  2.181467     37.85   \n",
              "\n",
              "   Longitude  \n",
              "0    -122.23  \n",
              "1    -122.22  \n",
              "2    -122.24  \n",
              "3    -122.25  \n",
              "4    -122.25  "
            ]
          },
          "execution_count": 5,
          "metadata": {},
          "output_type": "execute_result"
        }
      ],
      "source": [
        "X = pd.DataFrame(boston_df.data, columns=boston_df.feature_names)\n",
        "X.head()"
      ]
    },
    {
      "cell_type": "code",
      "execution_count": 6,
      "metadata": {
        "colab": {
          "base_uri": "https://localhost:8080/",
          "height": 206
        },
        "id": "lfFfRyu-Z8Cv",
        "outputId": "c2dbb8f5-fc52-43c2-ffd5-2bc228655257"
      },
      "outputs": [
        {
          "data": {
            "text/html": [
              "<div>\n",
              "<style scoped>\n",
              "    .dataframe tbody tr th:only-of-type {\n",
              "        vertical-align: middle;\n",
              "    }\n",
              "\n",
              "    .dataframe tbody tr th {\n",
              "        vertical-align: top;\n",
              "    }\n",
              "\n",
              "    .dataframe thead th {\n",
              "        text-align: right;\n",
              "    }\n",
              "</style>\n",
              "<table border=\"1\" class=\"dataframe\">\n",
              "  <thead>\n",
              "    <tr style=\"text-align: right;\">\n",
              "      <th></th>\n",
              "      <th>MedHouseVal</th>\n",
              "    </tr>\n",
              "  </thead>\n",
              "  <tbody>\n",
              "    <tr>\n",
              "      <th>0</th>\n",
              "      <td>4.526</td>\n",
              "    </tr>\n",
              "    <tr>\n",
              "      <th>1</th>\n",
              "      <td>3.585</td>\n",
              "    </tr>\n",
              "    <tr>\n",
              "      <th>2</th>\n",
              "      <td>3.521</td>\n",
              "    </tr>\n",
              "    <tr>\n",
              "      <th>3</th>\n",
              "      <td>3.413</td>\n",
              "    </tr>\n",
              "    <tr>\n",
              "      <th>4</th>\n",
              "      <td>3.422</td>\n",
              "    </tr>\n",
              "  </tbody>\n",
              "</table>\n",
              "</div>"
            ],
            "text/plain": [
              "   MedHouseVal\n",
              "0        4.526\n",
              "1        3.585\n",
              "2        3.521\n",
              "3        3.413\n",
              "4        3.422"
            ]
          },
          "execution_count": 6,
          "metadata": {},
          "output_type": "execute_result"
        }
      ],
      "source": [
        "y = pd.DataFrame(boston_df.target, columns=boston_df.target_names)\n",
        "y.head()"
      ]
    },
    {
      "cell_type": "code",
      "execution_count": 7,
      "metadata": {
        "colab": {
          "base_uri": "https://localhost:8080/"
        },
        "id": "OtrkZDfySisX",
        "outputId": "af8c149a-7a35-43a4-a83f-d36a5fcd90c1"
      },
      "outputs": [
        {
          "name": "stdout",
          "output_type": "stream",
          "text": [
            "<class 'pandas.core.frame.DataFrame'>\n",
            "RangeIndex: 20640 entries, 0 to 20639\n",
            "Data columns (total 8 columns):\n",
            " #   Column      Non-Null Count  Dtype  \n",
            "---  ------      --------------  -----  \n",
            " 0   MedInc      20640 non-null  float64\n",
            " 1   HouseAge    20640 non-null  float64\n",
            " 2   AveRooms    20640 non-null  float64\n",
            " 3   AveBedrms   20640 non-null  float64\n",
            " 4   Population  20640 non-null  float64\n",
            " 5   AveOccup    20640 non-null  float64\n",
            " 6   Latitude    20640 non-null  float64\n",
            " 7   Longitude   20640 non-null  float64\n",
            "dtypes: float64(8)\n",
            "memory usage: 1.3 MB\n"
          ]
        }
      ],
      "source": [
        "X.info()"
      ]
    },
    {
      "cell_type": "code",
      "execution_count": 8,
      "metadata": {
        "id": "yV1jVrpKTYMD"
      },
      "outputs": [],
      "source": [
        "X_s = X[['AveRooms']].values\n",
        "y_s = y.values"
      ]
    },
    {
      "cell_type": "code",
      "execution_count": 9,
      "metadata": {
        "id": "A101YKtVSivH"
      },
      "outputs": [],
      "source": [
        "\n",
        "# Split data into training and testing sets\n",
        "X_train, X_test, y_train, y_test = train_test_split(X, y, test_size=0.3, random_state=42)\n"
      ]
    },
    {
      "cell_type": "code",
      "execution_count": 10,
      "metadata": {
        "id": "3Q-iLYNPSix1"
      },
      "outputs": [],
      "source": [
        "# Standardize the feature\n",
        "scaler = StandardScaler()\n",
        "X_train_scaled = scaler.fit_transform(X_train)\n",
        "X_test_scaled = scaler.transform(X_test)"
      ]
    },
    {
      "cell_type": "code",
      "execution_count": 11,
      "metadata": {
        "id": "h-lnKzedTvA_"
      },
      "outputs": [],
      "source": [
        "# Function to create and evaluate polynomial regression model\n",
        "def evaluate_poly_regression(degree, X_train, X_test, y_train, y_test, use_ridge=False, alpha=1.0):\n",
        "    # Create polynomial features\n",
        "    poly = PolynomialFeatures(degree=degree, include_bias=False)\n",
        "    X_train_poly = poly.fit_transform(X_train)\n",
        "    X_test_poly = poly.transform(X_test)\n",
        "\n",
        "    # Choose model (Linear Regression or Ridge)\n",
        "    if use_ridge:\n",
        "        model = Ridge(alpha=alpha)\n",
        "    else:\n",
        "        model = LinearRegression()\n",
        "\n",
        "    # Train model\n",
        "    model.fit(X_train_poly, y_train)\n",
        "\n",
        "    # Make predictions\n",
        "    y_train_pred = model.predict(X_train_poly)\n",
        "    y_test_pred = model.predict(X_test_poly)\n",
        "\n",
        "    # Calculate metrics\n",
        "    train_rmse = np.sqrt(mean_squared_error(y_train, y_train_pred))\n",
        "    test_rmse = np.sqrt(mean_squared_error(y_test, y_test_pred))\n",
        "    r2 = r2_score(y_test, y_test_pred)\n",
        "\n",
        "    return {\n",
        "        'model': model,\n",
        "        'poly': poly,\n",
        "        'train_rmse': train_rmse,\n",
        "        'test_rmse': test_rmse,\n",
        "        'r2': r2,\n",
        "        'coefficients': model.coef_\n",
        "    }\n"
      ]
    },
    {
      "cell_type": "code",
      "execution_count": 12,
      "metadata": {
        "id": "_i28BPGrTvEj"
      },
      "outputs": [],
      "source": [
        "# Evaluate models with different polynomial degrees\n",
        "degrees = range(1, 4)\n",
        "results = []\n"
      ]
    },
    {
      "cell_type": "code",
      "execution_count": 13,
      "metadata": {
        "colab": {
          "base_uri": "https://localhost:8080/"
        },
        "id": "Y-IRfVmRTvKg",
        "outputId": "9131b09c-55fa-4955-d1b6-1e7882e74117"
      },
      "outputs": [
        {
          "name": "stdout",
          "output_type": "stream",
          "text": [
            "Degree 1:\n",
            "  Training RMSE: 0.72\n",
            "  Testing RMSE: 0.73\n",
            "  R²: 0.5958\n",
            "Degree 2:\n",
            "  Training RMSE: 0.65\n",
            "  Testing RMSE: 0.67\n",
            "  R²: 0.6534\n"
          ]
        }
      ],
      "source": [
        "for degree in degrees:\n",
        "    result = evaluate_poly_regression(degree, X_train_scaled, X_test_scaled, y_train, y_test)\n",
        "    results.append(result)\n",
        "    if result['r2'] <0.4:\n",
        "      break\n",
        "    print(f\"Degree {degree}:\")\n",
        "    print(f\"  Training RMSE: {result['train_rmse']:.2f}\")\n",
        "    print(f\"  Testing RMSE: {result['test_rmse']:.2f}\")\n",
        "    print(f\"  R²: {result['r2']:.4f}\")"
      ]
    },
    {
      "cell_type": "code",
      "execution_count": 14,
      "metadata": {
        "colab": {
          "base_uri": "https://localhost:8080/",
          "height": 487
        },
        "id": "ZBcbGojDTvN5",
        "outputId": "6bb1a3d4-2680-48f6-8984-834fb105f651"
      },
      "outputs": [
        {
          "data": {
            "image/png": "[encoded data removed]",
            "text/plain": [
              "<Figure size 1200x500 with 1 Axes>"
            ]
          },
          "metadata": {},
          "output_type": "display_data"
        }
      ],
      "source": [
        "# Plot RMSE vs polynomial degree\n",
        "plt.figure(figsize=(12, 5))\n",
        "plt.subplot(1, 2, 1)\n",
        "train_rmse_values = [result['train_rmse'] for result in results]\n",
        "test_rmse_values = [result['test_rmse'] for result in results]\n",
        "plt.plot(degrees, train_rmse_values, 'o-', label='Training RMSE')\n",
        "plt.plot(degrees, test_rmse_values, 's-', label='Testing RMSE')\n",
        "plt.xlabel('Polynomial Degree')\n",
        "plt.ylabel('RMSE')\n",
        "plt.title('RMSE vs Polynomial Degree')\n",
        "plt.legend()\n",
        "plt.grid(True)"
      ]
    },
    {
      "cell_type": "code",
      "execution_count": 15,
      "metadata": {
        "colab": {
          "base_uri": "https://localhost:8080/",
          "height": 487
        },
        "id": "SSWJfCeRSi0r",
        "outputId": "85260bf5-287f-4d74-ea20-597f4a437217"
      },
      "outputs": [
        {
          "data": {
            "image/png": "[encoded data removed]",
            "text/plain": [
              "<Figure size 640x480 with 1 Axes>"
            ]
          },
          "metadata": {},
          "output_type": "display_data"
        }
      ],
      "source": [
        "# Plot R² vs polynomial degree\n",
        "plt.subplot(1, 2, 2)\n",
        "r2_values = [result['r2'] for result in results]\n",
        "plt.plot(degrees, r2_values, 'o-', color='green')\n",
        "plt.xlabel('Polynomial Degree')\n",
        "plt.ylabel('R²')\n",
        "plt.title('R² vs Polynomial Degree')\n",
        "plt.grid(True)\n",
        "plt.tight_layout()"
      ]
    },
    {
      "cell_type": "code",
      "execution_count": 16,
      "metadata": {
        "colab": {
          "base_uri": "https://localhost:8080/"
        },
        "id": "pXRmXGdOSi6Q",
        "outputId": "623bc8fa-6424-4ff1-c21b-73099ca6e596"
      },
      "outputs": [
        {
          "name": "stdout",
          "output_type": "stream",
          "text": [
            "\n",
            "Optimal polynomial degree based on test RMSE: 2\n"
          ]
        }
      ],
      "source": [
        "# Find optimal degree based on test RMSE\n",
        "optimal_degree_idx = np.argmin(test_rmse_values)\n",
        "optimal_degree = degrees[optimal_degree_idx]\n",
        "print(f\"\\nOptimal polynomial degree based on test RMSE: {optimal_degree}\")"
      ]
    },
    {
      "cell_type": "code",
      "execution_count": 17,
      "metadata": {
        "id": "vB9zSp3EbQ0r"
      },
      "outputs": [],
      "source": [
        "# Cross-validation for degree selection\n",
        "def evaluate_with_cv(degree, X, y, cv=5):\n",
        "    poly = PolynomialFeatures(degree=degree, include_bias=False)\n",
        "    X_poly = poly.fit_transform(X)\n",
        "\n",
        "    model = LinearRegression()\n",
        "    cv_scores = cross_val_score(model, X_poly, y, cv=cv, scoring='neg_mean_squared_error')\n",
        "    rmse_scores = np.sqrt(-cv_scores)\n",
        "\n",
        "    return rmse_scores.mean()"
      ]
    },
    {
      "cell_type": "code",
      "execution_count": 18,
      "metadata": {
        "colab": {
          "base_uri": "https://localhost:8080/"
        },
        "id": "ygqdzXJabQ4v",
        "outputId": "21a15ed7-7207-4e79-e008-108493011c39"
      },
      "outputs": [
        {
          "name": "stdout",
          "output_type": "stream",
          "text": [
            "\n",
            "Cross-validation results:\n",
            "Degree 1: CV RMSE = 0.73\n",
            "Degree 2: CV RMSE = 4.72\n"
          ]
        }
      ],
      "source": [
        "# Perform cross-validation\n",
        "print(\"\\nCross-validation results:\")\n",
        "cv_rmse_values = []\n",
        "for degree in degrees:\n",
        "    cv_rmse = evaluate_with_cv(degree, X_train_scaled, y_train)\n",
        "    cv_rmse_values.append(cv_rmse)\n",
        "    if cv_rmse >100:\n",
        "      break\n",
        "    print(f\"Degree {degree}: CV RMSE = {cv_rmse:.2f}\")\n"
      ]
    },
    {
      "cell_type": "code",
      "execution_count": 19,
      "metadata": {
        "colab": {
          "base_uri": "https://localhost:8080/"
        },
        "id": "WLDhkEI0bQ8P",
        "outputId": "51b6c430-5818-4ebf-ed88-0ce889bb5e36"
      },
      "outputs": [
        {
          "name": "stdout",
          "output_type": "stream",
          "text": [
            "\n",
            "Optimal polynomial degree based on cross-validation: 1\n"
          ]
        }
      ],
      "source": [
        "# Find optimal degree based on cross-validation\n",
        "cv_optimal_degree_idx = np.argmin(cv_rmse_values)\n",
        "cv_optimal_degree = degrees[cv_optimal_degree_idx]\n",
        "print(f\"\\nOptimal polynomial degree based on cross-validation: {cv_optimal_degree}\")"
      ]
    },
    {
      "cell_type": "code",
      "execution_count": 20,
      "metadata": {
        "colab": {
          "base_uri": "https://localhost:8080/",
          "height": 790
        },
        "id": "lrq3OdLzbs6V",
        "outputId": "e44b4fa7-d6c4-4ad1-dd5d-ff70a868ef36"
      },
      "outputs": [
        {
          "data": {
            "image/png": "[encoded data removed]",
            "text/plain": [
              "<Figure size 800x500 with 1 Axes>"
            ]
          },
          "metadata": {},
          "output_type": "display_data"
        }
      ],
      "source": [
        "# Plot cross-validation RMSE\n",
        "plt.figure(figsize=(8, 5))\n",
        "plt.plot(degrees, cv_rmse_values, 'o-', color='purple')\n",
        "plt.xlabel('Polynomial Degree')\n",
        "plt.ylabel('Cross-Validation RMSE')\n",
        "plt.title('Cross-Validation RMSE vs Polynomial Degree')\n",
        "plt.grid(True)\n"
      ]
    },
    {
      "cell_type": "code",
      "execution_count": 24,
      "metadata": {},
      "outputs": [
        {
          "data": {
            "text/plain": [
              "range(1, 4)"
            ]
          },
          "execution_count": 24,
          "metadata": {},
          "output_type": "execute_result"
        }
      ],
      "source": [
        "degrees"
      ]
    },
    {
      "cell_type": "code",
      "execution_count": 30,
      "metadata": {},
      "outputs": [
        {
          "data": {
            "text/plain": [
              "((14448, 8), (14448, 1))"
            ]
          },
          "execution_count": 30,
          "metadata": {},
          "output_type": "execute_result"
        }
      ],
      "source": [
        "X_train_scaled.shape, y_train.shape"
      ]
    },
    {
      "cell_type": "code",
      "execution_count": 33,
      "metadata": {
        "colab": {
          "base_uri": "https://localhost:8080/",
          "height": 755
        },
        "id": "kzyaieAnbs9k",
        "outputId": "931209df-9f38-4706-baea-0aa45b793d43"
      },
      "outputs": [
        {
          "ename": "ValueError",
          "evalue": "x and y must be the same size",
          "output_type": "error",
          "traceback": [
            "\u001b[1;31m---------------------------------------------------------------------------\u001b[0m",
            "\u001b[1;31mValueError\u001b[0m                                Traceback (most recent call last)",
            "Cell \u001b[1;32mIn[33], line 22\u001b[0m\n\u001b[0;32m     19\u001b[0m y_plot \u001b[38;5;241m=\u001b[39m model\u001b[38;5;241m.\u001b[39mpredict(X_plot_poly)\n\u001b[0;32m     21\u001b[0m \u001b[38;5;66;03m# Plot data points\u001b[39;00m\n\u001b[1;32m---> 22\u001b[0m plt\u001b[38;5;241m.\u001b[39mscatter(X_train_scaled[\u001b[38;5;241m0\u001b[39m, :], y_train, alpha\u001b[38;5;241m=\u001b[39m\u001b[38;5;241m0.6\u001b[39m, color\u001b[38;5;241m=\u001b[39m\u001b[38;5;124m'\u001b[39m\u001b[38;5;124mblue\u001b[39m\u001b[38;5;124m'\u001b[39m, label\u001b[38;5;241m=\u001b[39m\u001b[38;5;124m'\u001b[39m\u001b[38;5;124mTraining data\u001b[39m\u001b[38;5;124m'\u001b[39m)\n\u001b[0;32m     23\u001b[0m plt\u001b[38;5;241m.\u001b[39mscatter(X_test_scaled, y_test, alpha\u001b[38;5;241m=\u001b[39m\u001b[38;5;241m0.6\u001b[39m, color\u001b[38;5;241m=\u001b[39m\u001b[38;5;124m'\u001b[39m\u001b[38;5;124mred\u001b[39m\u001b[38;5;124m'\u001b[39m, label\u001b[38;5;241m=\u001b[39m\u001b[38;5;124m'\u001b[39m\u001b[38;5;124mTesting data\u001b[39m\u001b[38;5;124m'\u001b[39m)\n\u001b[0;32m     25\u001b[0m \u001b[38;5;66;03m# Plot model prediction\u001b[39;00m\n",
            "File \u001b[1;32mc:\\Users\\shanthi\\anaconda3\\Lib\\site-packages\\matplotlib\\pyplot.py:3699\u001b[0m, in \u001b[0;36mscatter\u001b[1;34m(x, y, s, c, marker, cmap, norm, vmin, vmax, alpha, linewidths, edgecolors, plotnonfinite, data, **kwargs)\u001b[0m\n\u001b[0;32m   3680\u001b[0m \u001b[38;5;129m@_copy_docstring_and_deprecators\u001b[39m(Axes\u001b[38;5;241m.\u001b[39mscatter)\n\u001b[0;32m   3681\u001b[0m \u001b[38;5;28;01mdef\u001b[39;00m \u001b[38;5;21mscatter\u001b[39m(\n\u001b[0;32m   3682\u001b[0m     x: \u001b[38;5;28mfloat\u001b[39m \u001b[38;5;241m|\u001b[39m ArrayLike,\n\u001b[1;32m   (...)\u001b[0m\n\u001b[0;32m   3697\u001b[0m     \u001b[38;5;241m*\u001b[39m\u001b[38;5;241m*\u001b[39mkwargs,\n\u001b[0;32m   3698\u001b[0m ) \u001b[38;5;241m-\u001b[39m\u001b[38;5;241m>\u001b[39m PathCollection:\n\u001b[1;32m-> 3699\u001b[0m     __ret \u001b[38;5;241m=\u001b[39m gca()\u001b[38;5;241m.\u001b[39mscatter(\n\u001b[0;32m   3700\u001b[0m         x,\n\u001b[0;32m   3701\u001b[0m         y,\n\u001b[0;32m   3702\u001b[0m         s\u001b[38;5;241m=\u001b[39ms,\n\u001b[0;32m   3703\u001b[0m         c\u001b[38;5;241m=\u001b[39mc,\n\u001b[0;32m   3704\u001b[0m         marker\u001b[38;5;241m=\u001b[39mmarker,\n\u001b[0;32m   3705\u001b[0m         cmap\u001b[38;5;241m=\u001b[39mcmap,\n\u001b[0;32m   3706\u001b[0m         norm\u001b[38;5;241m=\u001b[39mnorm,\n\u001b[0;32m   3707\u001b[0m         vmin\u001b[38;5;241m=\u001b[39mvmin,\n\u001b[0;32m   3708\u001b[0m         vmax\u001b[38;5;241m=\u001b[39mvmax,\n\u001b[0;32m   3709\u001b[0m         alpha\u001b[38;5;241m=\u001b[39malpha,\n\u001b[0;32m   3710\u001b[0m         linewidths\u001b[38;5;241m=\u001b[39mlinewidths,\n\u001b[0;32m   3711\u001b[0m         edgecolors\u001b[38;5;241m=\u001b[39medgecolors,\n\u001b[0;32m   3712\u001b[0m         plotnonfinite\u001b[38;5;241m=\u001b[39mplotnonfinite,\n\u001b[0;32m   3713\u001b[0m         \u001b[38;5;241m*\u001b[39m\u001b[38;5;241m*\u001b[39m({\u001b[38;5;124m\"\u001b[39m\u001b[38;5;124mdata\u001b[39m\u001b[38;5;124m\"\u001b[39m: data} \u001b[38;5;28;01mif\u001b[39;00m data \u001b[38;5;129;01mis\u001b[39;00m \u001b[38;5;129;01mnot\u001b[39;00m \u001b[38;5;28;01mNone\u001b[39;00m \u001b[38;5;28;01melse\u001b[39;00m {}),\n\u001b[0;32m   3714\u001b[0m         \u001b[38;5;241m*\u001b[39m\u001b[38;5;241m*\u001b[39mkwargs,\n\u001b[0;32m   3715\u001b[0m     )\n\u001b[0;32m   3716\u001b[0m     sci(__ret)\n\u001b[0;32m   3717\u001b[0m     \u001b[38;5;28;01mreturn\u001b[39;00m __ret\n",
            "File \u001b[1;32mc:\\Users\\shanthi\\anaconda3\\Lib\\site-packages\\matplotlib\\__init__.py:1465\u001b[0m, in \u001b[0;36m_preprocess_data.<locals>.inner\u001b[1;34m(ax, data, *args, **kwargs)\u001b[0m\n\u001b[0;32m   1462\u001b[0m \u001b[38;5;129m@functools\u001b[39m\u001b[38;5;241m.\u001b[39mwraps(func)\n\u001b[0;32m   1463\u001b[0m \u001b[38;5;28;01mdef\u001b[39;00m \u001b[38;5;21minner\u001b[39m(ax, \u001b[38;5;241m*\u001b[39margs, data\u001b[38;5;241m=\u001b[39m\u001b[38;5;28;01mNone\u001b[39;00m, \u001b[38;5;241m*\u001b[39m\u001b[38;5;241m*\u001b[39mkwargs):\n\u001b[0;32m   1464\u001b[0m     \u001b[38;5;28;01mif\u001b[39;00m data \u001b[38;5;129;01mis\u001b[39;00m \u001b[38;5;28;01mNone\u001b[39;00m:\n\u001b[1;32m-> 1465\u001b[0m         \u001b[38;5;28;01mreturn\u001b[39;00m func(ax, \u001b[38;5;241m*\u001b[39m\u001b[38;5;28mmap\u001b[39m(sanitize_sequence, args), \u001b[38;5;241m*\u001b[39m\u001b[38;5;241m*\u001b[39mkwargs)\n\u001b[0;32m   1467\u001b[0m     bound \u001b[38;5;241m=\u001b[39m new_sig\u001b[38;5;241m.\u001b[39mbind(ax, \u001b[38;5;241m*\u001b[39margs, \u001b[38;5;241m*\u001b[39m\u001b[38;5;241m*\u001b[39mkwargs)\n\u001b[0;32m   1468\u001b[0m     auto_label \u001b[38;5;241m=\u001b[39m (bound\u001b[38;5;241m.\u001b[39marguments\u001b[38;5;241m.\u001b[39mget(label_namer)\n\u001b[0;32m   1469\u001b[0m                   \u001b[38;5;129;01mor\u001b[39;00m bound\u001b[38;5;241m.\u001b[39mkwargs\u001b[38;5;241m.\u001b[39mget(label_namer))\n",
            "File \u001b[1;32mc:\\Users\\shanthi\\anaconda3\\Lib\\site-packages\\matplotlib\\axes\\_axes.py:4655\u001b[0m, in \u001b[0;36mAxes.scatter\u001b[1;34m(self, x, y, s, c, marker, cmap, norm, vmin, vmax, alpha, linewidths, edgecolors, plotnonfinite, **kwargs)\u001b[0m\n\u001b[0;32m   4653\u001b[0m y \u001b[38;5;241m=\u001b[39m np\u001b[38;5;241m.\u001b[39mma\u001b[38;5;241m.\u001b[39mravel(y)\n\u001b[0;32m   4654\u001b[0m \u001b[38;5;28;01mif\u001b[39;00m x\u001b[38;5;241m.\u001b[39msize \u001b[38;5;241m!=\u001b[39m y\u001b[38;5;241m.\u001b[39msize:\n\u001b[1;32m-> 4655\u001b[0m     \u001b[38;5;28;01mraise\u001b[39;00m \u001b[38;5;167;01mValueError\u001b[39;00m(\u001b[38;5;124m\"\u001b[39m\u001b[38;5;124mx and y must be the same size\u001b[39m\u001b[38;5;124m\"\u001b[39m)\n\u001b[0;32m   4657\u001b[0m \u001b[38;5;28;01mif\u001b[39;00m s \u001b[38;5;129;01mis\u001b[39;00m \u001b[38;5;28;01mNone\u001b[39;00m:\n\u001b[0;32m   4658\u001b[0m     s \u001b[38;5;241m=\u001b[39m (\u001b[38;5;241m20\u001b[39m \u001b[38;5;28;01mif\u001b[39;00m mpl\u001b[38;5;241m.\u001b[39mrcParams[\u001b[38;5;124m'\u001b[39m\u001b[38;5;124m_internal.classic_mode\u001b[39m\u001b[38;5;124m'\u001b[39m] \u001b[38;5;28;01melse\u001b[39;00m\n\u001b[0;32m   4659\u001b[0m          mpl\u001b[38;5;241m.\u001b[39mrcParams[\u001b[38;5;124m'\u001b[39m\u001b[38;5;124mlines.markersize\u001b[39m\u001b[38;5;124m'\u001b[39m] \u001b[38;5;241m*\u001b[39m\u001b[38;5;241m*\u001b[39m \u001b[38;5;241m2.0\u001b[39m)\n",
            "\u001b[1;31mValueError\u001b[0m: x and y must be the same size"
          ]
        },
        {
          "data": {
            "image/png": "[encoded data removed]",
            "text/plain": [
              "<Figure size 1500x1000 with 1 Axes>"
            ]
          },
          "metadata": {},
          "output_type": "display_data"
        }
      ],
      "source": [
        "# Compare models visually\n",
        "plt.figure(figsize=(15, 10))\n",
        "\n",
        "# Generate points for plotting smooth curves\n",
        "#X_plot = np.linspace(min(X_train_scaled.flatten()), max(X_train_scaled.flatten()), 100).reshape(-1, 1)\n",
        "\n",
        "# Plot for various degrees\n",
        "#degrees_to_plot = [1, 2, optimal_degree, 8]\n",
        "degrees_to_plot = [1,2,3,4]\n",
        "for i, degree in enumerate(degrees_to_plot):\n",
        "    plt.subplot(2, 2, i+1) \n",
        "\n",
        "    # Get the model and polynomial transformer\n",
        "    model = results[degree-1]['model']\n",
        "    poly = results[degree-1]['poly']\n",
        "\n",
        "    # Transform points for smooth curve\n",
        "    X_plot_poly = poly.transform(X_train_scaled)\n",
        "    y_plot = model.predict(X_plot_poly)\n",
        "\n",
        "    # Plot data points\n",
        "    plt.scatter(X_train_scaled[0, :], y_train, alpha=0.6, color='blue', label='Training data')\n",
        "    plt.scatter(X_test_scaled, y_test, alpha=0.6, color='red', label='Testing data')\n",
        "\n",
        "    # Plot model prediction\n",
        "    plt.plot(X_plot, y_plot, color='green', linewidth=2, label=f'Degree {degree} model')\n",
        "\n",
        "    plt.title(f'Polynomial Regression (Degree {degree})')\n",
        "    plt.xlabel('Standardized Average Number of Rooms')\n",
        "    plt.ylabel('House Price ($1000s)')\n",
        "    plt.legend()\n",
        "    plt.grid(True)"
      ]
    },
    {
      "cell_type": "code",
      "execution_count": null,
      "metadata": {
        "colab": {
          "background_save": true,
          "base_uri": "https://localhost:8080/"
        },
        "id": "17WwvpoXbtAV",
        "outputId": "d33f84e5-409b-4cd6-e341-40d889f49da5"
      },
      "outputs": [
        {
          "name": "stdout",
          "output_type": "stream",
          "text": [
            "\n",
            "Ridge Regression results for degree 8:\n",
            "Alpha = 0.001:\n",
            "  Test RMSE: 4223456516.19\n",
            "  R²: -13590125618196674560.0000\n",
            "Alpha = 0.01:\n",
            "  Test RMSE: 999558420.99\n",
            "  R²: -761208766894859648.0000\n",
            "Alpha = 0.1:\n",
            "  Test RMSE: 846172149.55\n",
            "  R²: -545512706548453760.0000\n",
            "Alpha = 1.0:\n",
            "  Test RMSE: 1371146513.64\n",
            "  R²: -1432369762010238720.0000\n",
            "Alpha = 10.0:\n",
            "  Test RMSE: 871700378.91\n",
            "  R²: -578924442821257472.0000\n"
          ]
        }
      ],
      "source": [
        "# Evaluate Ridge Regression to address overfitting\n",
        "print(\"\\nRidge Regression results for degree 4:\")\n",
        "alphas = [0.001, 0.01, 0.1, 1.0, 10.0, 100.0]\n",
        "ridge_results = []\n",
        "\n",
        "for alpha in alphas:\n",
        "    result = evaluate_poly_regression(8, X_train_scaled, X_test_scaled, y_train, y_test,\n",
        "                                     use_ridge=True, alpha=alpha)\n",
        "    ridge_results.append(result)\n",
        "    print(f\"Alpha = {alpha}:\")\n",
        "    print(f\"  Test RMSE: {result['test_rmse']:.2f}\")\n",
        "    print(f\"  R²: {result['r2']:.4f}\")\n",
        "\n",
        "# Plot Ridge coefficient magnitudes for different alpha values\n",
        "plt.figure(figsize=(10, 6))\n",
        "for i, result in enumerate(ridge_results):\n",
        "    coeffs = np.abs(result['coefficients'])\n",
        "    plt.bar(np.arange(len(coeffs)) + i*0.1, coeffs, width=0.1,\n",
        "            label=f'Alpha = {alphas[i]}')\n",
        "\n",
        "plt.xlabel('Coefficient Index')\n",
        "plt.ylabel('Absolute Coefficient Value')\n",
        "plt.title('Ridge Regression Coefficient Magnitudes (Degree 8)')\n",
        "plt.legend()\n",
        "plt.grid(True)\n",
        "\n",
        "# Visualize best Ridge model\n",
        "best_ridge_idx = np.argmin([result['test_rmse'] for result in ridge_results])\n",
        "best_alpha = alphas[best_ridge_idx]\n",
        "best_ridge = ridge_results[best_ridge_idx]"
      ]
    },
    {
      "cell_type": "code",
      "execution_count": null,
      "metadata": {
        "id": "4PEBPUo6b9s9"
      },
      "outputs": [],
      "source": [
        "plt.figure(figsize=(10, 6))\n",
        "# Transform points for smooth curve\n",
        "X_plot_poly = best_ridge['poly'].transform(X_plot)\n",
        "y_plot = best_ridge['model'].predict(X_plot_poly)\n",
        "\n",
        "# Plot data points\n",
        "plt.scatter(X_train_scaled, y_train, alpha=0.6, color='blue', label='Training data')\n",
        "plt.scatter(X_test_scaled, y_test, alpha=0.6, color='red', label='Testing data')\n",
        "\n",
        "# Plot model prediction\n",
        "plt.plot(X_plot, y_plot, color='green', linewidth=2,\n",
        "         label=f'Ridge (Degree 8, Alpha={best_alpha})')\n",
        "\n",
        "plt.title('Ridge Regression with Optimal Alpha')\n",
        "plt.xlabel('Standardized Average Number of Rooms')\n",
        "plt.ylabel('House Price ($1000s)')\n",
        "plt.legend()\n",
        "plt.grid(True)\n",
        "\n",
        "plt.tight_layout()\n",
        "plt.show()"
      ]
    },
    {
      "cell_type": "code",
      "execution_count": null,
      "metadata": {
        "id": "_2-PGcupcAJ0"
      },
      "outputs": [],
      "source": [
        "# Function to calculate information criteria\n",
        "def calculate_information_criteria(y, y_pred, num_params):\n",
        "    n = len(y)\n",
        "    mse = mean_squared_error(y, y_pred)\n",
        "    aic = n * np.log(mse) + 2 * num_params\n",
        "    bic = n * np.log(mse) + num_params * np.log(n)\n",
        "    return aic, bic\n",
        "\n",
        "# Calculate AIC and BIC for each model\n",
        "print(\"\\nInformation Criteria Results:\")\n",
        "print(\"Degree\\tAIC\\t\\tBIC\")\n",
        "for degree in degrees:\n",
        "    idx = degree - 1\n",
        "    model = results[idx]['model']\n",
        "    poly = results[idx]['poly']\n",
        "\n",
        "    # Get predictions\n",
        "    X_train_poly = poly.transform(X_train_scaled)\n",
        "    y_train_pred = model.predict(X_train_poly)\n",
        "\n",
        "    # Calculate number of parameters (coefficients + intercept)\n",
        "    num_params = len(model.coef_) + 1\n",
        "\n",
        "    # Calculate information criteria\n",
        "    aic, bic = calculate_information_criteria(y_train, y_train_pred, num_params)\n",
        "\n",
        "    print(f\"{degree}\\t{aic:.2f}\\t{bic:.2f}\")"
      ]
    },
    {
      "cell_type": "code",
      "execution_count": null,
      "metadata": {
        "id": "nCdtg86HcANQ"
      },
      "outputs": [],
      "source": []
    },
    {
      "cell_type": "code",
      "execution_count": null,
      "metadata": {
        "id": "gYJTLUvhb9v-"
      },
      "outputs": [],
      "source": []
    },
    {
      "cell_type": "code",
      "execution_count": null,
      "metadata": {
        "id": "_V5TgjOib9zl"
      },
      "outputs": [],
      "source": []
    },
    {
      "cell_type": "code",
      "execution_count": null,
      "metadata": {
        "id": "jW-o23HzSi9v"
      },
      "outputs": [],
      "source": []
    },
    {
      "cell_type": "markdown",
      "metadata": {
        "id": "fXXG6_TIRsbd"
      },
      "source": []
    },
    {
      "cell_type": "markdown",
      "metadata": {
        "id": "Vfd02GthRseP"
      },
      "source": []
    },
    {
      "cell_type": "markdown",
      "metadata": {
        "id": "Us_NAaiIRz-G"
      },
      "source": []
    },
    {
      "cell_type": "markdown",
      "metadata": {
        "id": "oIMxHNQOR0BN"
      },
      "source": []
    },
    {
      "cell_type": "markdown",
      "metadata": {
        "id": "SFh_BTr1R0EW"
      },
      "source": []
    },
    {
      "cell_type": "markdown",
      "metadata": {
        "id": "BhsiysrNR0HF"
      },
      "source": []
    },
    {
      "cell_type": "markdown",
      "metadata": {
        "id": "cKBZvFBmR0J3"
      },
      "source": []
    },
    {
      "cell_type": "markdown",
      "metadata": {
        "id": "ZxfrxMkQR0Mf"
      },
      "source": []
    },
    {
      "cell_type": "markdown",
      "metadata": {
        "id": "ytTnM4yPR0PN"
      },
      "source": []
    },
    {
      "cell_type": "markdown",
      "metadata": {
        "id": "t9LzyQ0wRsg7"
      },
      "source": []
    },
    {
      "cell_type": "markdown",
      "metadata": {
        "id": "EWXYryQ7RsjW"
      },
      "source": [
        "# Implementing Polynomial Regression in Python\n",
        "\n",
        "Let me show you how to implement polynomial regression in Python and methods for selecting the optimal polynomial degree.\n",
        "\n",
        "```python\n",
        "import numpy as np\n",
        "import matplotlib.pyplot as plt\n",
        "from sklearn.preprocessing import PolynomialFeatures\n",
        "from sklearn.linear_model import LinearRegression\n",
        "from sklearn.metrics import mean_squared_error, r2_score\n",
        "from sklearn.model_selection import train_test_split, cross_val_score\n",
        "\n",
        "# Generate sample data\n",
        "np.random.seed(42)\n",
        "X = 6 * np.random.rand(100, 1) - 3  # Values between -3 and 3\n",
        "y = 0.5 * X**3 + X**2 - 2 * X + 2 + np.random.randn(100, 1) * 1.5  # Cubic function with noise\n",
        "\n",
        "# Split data into training and testing sets\n",
        "X_train, X_test, y_train, y_test = train_test_split(X, y, test_size=0.2, random_state=42)\n",
        "\n",
        "# Function to create and evaluate polynomial regression model\n",
        "def polynomial_regression(degree):\n",
        "    poly_features = PolynomialFeatures(degree=degree, include_bias=False)\n",
        "    X_poly_train = poly_features.fit_transform(X_train)\n",
        "    X_poly_test = poly_features.transform(X_test)\n",
        "    \n",
        "    # Train the model\n",
        "    model = LinearRegression()\n",
        "    model.fit(X_poly_train, y_train)\n",
        "    \n",
        "    # Make predictions\n",
        "    y_pred_train = model.predict(X_poly_train)\n",
        "    y_pred_test = model.predict(X_poly_test)\n",
        "    \n",
        "    # Calculate metrics\n",
        "    train_rmse = np.sqrt(mean_squared_error(y_train, y_pred_train))\n",
        "    test_rmse = np.sqrt(mean_squared_error(y_test, y_pred_test))\n",
        "    r2 = r2_score(y_test, y_pred_test)\n",
        "    \n",
        "    return model, poly_features, train_rmse, test_rmse, r2\n",
        "\n",
        "# Evaluate different polynomial degrees\n",
        "degrees = range(1, 11)  # Test degrees 1 through 10\n",
        "train_rmse_list = []\n",
        "test_rmse_list = []\n",
        "r2_list = []\n",
        "\n",
        "for degree in degrees:\n",
        "    _, _, train_rmse, test_rmse, r2 = polynomial_regression(degree)\n",
        "    train_rmse_list.append(train_rmse)\n",
        "    test_rmse_list.append(test_rmse)\n",
        "    r2_list.append(r2)\n",
        "    print(f\"Degree {degree}: Train RMSE = {train_rmse:.4f}, Test RMSE = {test_rmse:.4f}, R² = {r2:.4f}\")\n",
        "\n",
        "# Plot RMSE vs. polynomial degree\n",
        "plt.figure(figsize=(12, 5))\n",
        "plt.subplot(1, 2, 1)\n",
        "plt.plot(degrees, train_rmse_list, 'o-', label='Training RMSE')\n",
        "plt.plot(degrees, test_rmse_list, 's-', label='Testing RMSE')\n",
        "plt.xlabel('Polynomial Degree')\n",
        "plt.ylabel('RMSE')\n",
        "plt.title('RMSE vs. Polynomial Degree')\n",
        "plt.legend()\n",
        "plt.grid(True)\n",
        "\n",
        "# Plot R² vs. polynomial degree\n",
        "plt.subplot(1, 2, 2)\n",
        "plt.plot(degrees, r2_list, 'o-', color='green')\n",
        "plt.xlabel('Polynomial Degree')\n",
        "plt.ylabel('R²')\n",
        "plt.title('R² vs. Polynomial Degree')\n",
        "plt.grid(True)\n",
        "plt.tight_layout()\n",
        "\n",
        "# Find optimal degree based on test RMSE\n",
        "optimal_degree = degrees[np.argmin(test_rmse_list)]\n",
        "print(f\"\\nOptimal polynomial degree based on test RMSE: {optimal_degree}\")\n",
        "\n",
        "# Train model with optimal degree\n",
        "best_model, best_poly_features, _, _, _ = polynomial_regression(optimal_degree)\n",
        "\n",
        "# Create data for plotting the final model\n",
        "X_plot = np.linspace(-3, 3, 100).reshape(-1, 1)\n",
        "X_plot_poly = best_poly_features.transform(X_plot)\n",
        "y_plot = best_model.predict(X_plot_poly)\n",
        "\n",
        "# Plot the final model\n",
        "plt.figure(figsize=(10, 6))\n",
        "plt.scatter(X, y, alpha=0.5, label='Data points')\n",
        "plt.plot(X_plot, y_plot, color='red', linewidth=2, label=f'Polynomial degree {optimal_degree}')\n",
        "plt.xlabel('X')\n",
        "plt.ylabel('y')\n",
        "plt.title(f'Polynomial Regression with Optimal Degree = {optimal_degree}')\n",
        "plt.legend()\n",
        "plt.grid(True)\n",
        "plt.show()\n",
        "\n",
        "# Cross-validation for degree selection\n",
        "def evaluate_degree_with_cv(degree, X, y, cv=5):\n",
        "    poly_features = PolynomialFeatures(degree=degree, include_bias=False)\n",
        "    X_poly = poly_features.fit_transform(X)\n",
        "    \n",
        "    model = LinearRegression()\n",
        "    cv_scores = cross_val_score(model, X_poly, y, cv=cv, scoring='neg_mean_squared_error')\n",
        "    rmse_scores = np.sqrt(-cv_scores)\n",
        "    \n",
        "    return rmse_scores.mean()\n",
        "\n",
        "# Perform cross-validation for each degree\n",
        "cv_rmse_list = []\n",
        "for degree in degrees:\n",
        "    cv_rmse = evaluate_degree_with_cv(degree, X, y)\n",
        "    cv_rmse_list.append(cv_rmse)\n",
        "    print(f\"Degree {degree}: CV RMSE = {cv_rmse:.4f}\")\n",
        "\n",
        "# Find optimal degree based on cross-validation\n",
        "cv_optimal_degree = degrees[np.argmin(cv_rmse_list)]\n",
        "print(f\"\\nOptimal polynomial degree based on cross-validation: {cv_optimal_degree}\")\n",
        "\n",
        "# Plot cross-validation RMSE\n",
        "plt.figure(figsize=(8, 5))\n",
        "plt.plot(degrees, cv_rmse_list, 'o-', color='purple')\n",
        "plt.xlabel('Polynomial Degree')\n",
        "plt.ylabel('Cross-Validation RMSE')\n",
        "plt.title('Cross-Validation RMSE vs. Polynomial Degree')\n",
        "plt.grid(True)\n",
        "plt.show()\n",
        "\n",
        "```\n",
        "\n",
        "## Techniques for Selecting the Optimal Polynomial Degree\n",
        "\n",
        "Choosing the right polynomial degree is crucial for balancing model complexity with generalization. Here are the key methods:\n",
        "\n",
        "### 1. Train-Test Split Evaluation\n",
        "\n",
        "As shown in the code, we can:\n",
        "- Split data into training and testing sets\n",
        "- Train models with different polynomial degrees\n",
        "- Compare test set performance (RMSE, R²)\n",
        "- Select the degree that minimizes test error\n",
        "\n",
        "### 2. Cross-Validation\n",
        "\n",
        "Cross-validation provides a more robust evaluation:\n",
        "- Divide data into k folds (typically 5 or 10)\n",
        "- For each degree, perform k-fold cross-validation\n",
        "- Calculate average error across all folds\n",
        "- Choose the degree with lowest cross-validated error\n",
        "\n",
        "### 3. Regularization Techniques\n",
        "\n",
        "Instead of explicitly selecting a degree, you can use:\n",
        "- **Ridge Regression**: Adds L2 penalty to control coefficient sizes\n",
        "- **Lasso Regression**: Adds L1 penalty that can shrink some coefficients to zero\n",
        "\n",
        "```python\n",
        "from sklearn.linear_model import Ridge, Lasso\n",
        "\n",
        "# Ridge with polynomial features\n",
        "poly_features = PolynomialFeatures(degree=higher_degree)\n",
        "X_poly = poly_features.fit_transform(X)\n",
        "ridge_model = Ridge(alpha=1.0)  # alpha controls regularization strength\n",
        "ridge_model.fit(X_poly, y)\n",
        "```\n",
        "\n",
        "### 4. Information Criteria\n",
        "\n",
        "Statistical measures like AIC (Akaike Information Criterion) and BIC (Bayesian Information Criterion) balance goodness of fit with model complexity:\n",
        "\n",
        "```python\n",
        "def calculate_aic(n, mse, num_params):\n",
        "    return n * np.log(mse) + 2 * num_params\n",
        "\n",
        "def calculate_bic(n, mse, num_params):\n",
        "    return n * np.log(mse) + num_params * np.log(n)\n",
        "```\n",
        "\n",
        "### 5. Visual Inspection\n",
        "\n",
        "Plotting training and testing errors against polynomial degree often reveals:\n",
        "- When degrees are too low (both errors high)\n",
        "- When degrees are too high (training error very low but testing error increases)\n",
        "- The \"sweet spot\" where test error flattens or begins to increase\n",
        "\n",
        "### Tips for Practical Implementation\n",
        "\n",
        "1. Start with lower degrees (1-5) and incrementally increase if needed\n",
        "2. Watch for the point where test error stops decreasing significantly\n",
        "3. For small datasets, cross-validation is particularly important\n",
        "4. Consider domain knowledge when selecting degree (some relationships have known forms)\n",
        "5. Always plot your fitted curves to visually assess the fit\n",
        "\n",
        "Would you like me to explain any of these techniques in more detail or show how to implement another specific approach for polynomial degree selection?"
      ]
    },
    {
      "cell_type": "markdown",
      "metadata": {
        "id": "Qhx_z8DBRslt"
      },
      "source": []
    },
    {
      "cell_type": "markdown",
      "metadata": {
        "id": "WjaiqMcsRsol"
      },
      "source": []
    },
    {
      "cell_type": "code",
      "execution_count": null,
      "metadata": {
        "id": "VUaQML3tRszo"
      },
      "outputs": [],
      "source": [
        "import numpy as np\n",
        "import matplotlib.pyplot as plt\n",
        "from sklearn.preprocessing import PolynomialFeatures\n",
        "from sklearn.linear_model import LinearRegression\n",
        "from sklearn.metrics import mean_squared_error, r2_score\n",
        "from sklearn.model_selection import train_test_split, cross_val_score\n",
        "\n",
        "# Generate sample data\n",
        "np.random.seed(42)\n",
        "X = 6 * np.random.rand(100, 1) - 3  # Values between -3 and 3\n",
        "y = 0.5 * X**3 + X**2 - 2 * X + 2 + np.random.randn(100, 1) * 1.5  # Cubic function with noise\n",
        "\n",
        "# Split data into training and testing sets\n",
        "X_train, X_test, y_train, y_test = train_test_split(X, y, test_size=0.2, random_state=42)\n",
        "\n",
        "# Function to create and evaluate polynomial regression model\n",
        "def polynomial_regression(degree):\n",
        "    poly_features = PolynomialFeatures(degree=degree, include_bias=False)\n",
        "    X_poly_train = poly_features.fit_transform(X_train)\n",
        "    X_poly_test = poly_features.transform(X_test)\n",
        "\n",
        "    # Train the model\n",
        "    model = LinearRegression()\n",
        "    model.fit(X_poly_train, y_train)\n",
        "\n",
        "    # Make predictions\n",
        "    y_pred_train = model.predict(X_poly_train)\n",
        "    y_pred_test = model.predict(X_poly_test)\n",
        "\n",
        "    # Calculate metrics\n",
        "    train_rmse = np.sqrt(mean_squared_error(y_train, y_pred_train))\n",
        "    test_rmse = np.sqrt(mean_squared_error(y_test, y_pred_test))\n",
        "    r2 = r2_score(y_test, y_pred_test)\n",
        "\n",
        "    return model, poly_features, train_rmse, test_rmse, r2\n",
        "\n",
        "# Evaluate different polynomial degrees\n",
        "degrees = range(1, 11)  # Test degrees 1 through 10\n",
        "train_rmse_list = []\n",
        "test_rmse_list = []\n",
        "r2_list = []\n",
        "\n",
        "for degree in degrees:\n",
        "    _, _, train_rmse, test_rmse, r2 = polynomial_regression(degree)\n",
        "    train_rmse_list.append(train_rmse)\n",
        "    test_rmse_list.append(test_rmse)\n",
        "    r2_list.append(r2)\n",
        "    print(f\"Degree {degree}: Train RMSE = {train_rmse:.4f}, Test RMSE = {test_rmse:.4f}, R² = {r2:.4f}\")\n",
        "\n",
        "# Plot RMSE vs. polynomial degree\n",
        "plt.figure(figsize=(12, 5))\n",
        "plt.subplot(1, 2, 1)\n",
        "plt.plot(degrees, train_rmse_list, 'o-', label='Training RMSE')\n",
        "plt.plot(degrees, test_rmse_list, 's-', label='Testing RMSE')\n",
        "plt.xlabel('Polynomial Degree')\n",
        "plt.ylabel('RMSE')\n",
        "plt.title('RMSE vs. Polynomial Degree')\n",
        "plt.legend()\n",
        "plt.grid(True)\n",
        "\n",
        "# Plot R² vs. polynomial degree\n",
        "plt.subplot(1, 2, 2)\n",
        "plt.plot(degrees, r2_list, 'o-', color='green')\n",
        "plt.xlabel('Polynomial Degree')\n",
        "plt.ylabel('R²')\n",
        "plt.title('R² vs. Polynomial Degree')\n",
        "plt.grid(True)\n",
        "plt.tight_layout()\n",
        "\n",
        "# Find optimal degree based on test RMSE\n",
        "optimal_degree = degrees[np.argmin(test_rmse_list)]\n",
        "print(f\"\\nOptimal polynomial degree based on test RMSE: {optimal_degree}\")\n",
        "\n",
        "# Train model with optimal degree\n",
        "best_model, best_poly_features, _, _, _ = polynomial_regression(optimal_degree)\n",
        "\n",
        "# Create data for plotting the final model\n",
        "X_plot = np.linspace(-3, 3, 100).reshape(-1, 1)\n",
        "X_plot_poly = best_poly_features.transform(X_plot)\n",
        "y_plot = best_model.predict(X_plot_poly)\n",
        "\n",
        "# Plot the final model\n",
        "plt.figure(figsize=(10, 6))\n",
        "plt.scatter(X, y, alpha=0.5, label='Data points')\n",
        "plt.plot(X_plot, y_plot, color='red', linewidth=2, label=f'Polynomial degree {optimal_degree}')\n",
        "plt.xlabel('X')\n",
        "plt.ylabel('y')\n",
        "plt.title(f'Polynomial Regression with Optimal Degree = {optimal_degree}')\n",
        "plt.legend()\n",
        "plt.grid(True)\n",
        "plt.show()\n",
        "\n",
        "# Cross-validation for degree selection\n",
        "def evaluate_degree_with_cv(degree, X, y, cv=5):\n",
        "    poly_features = PolynomialFeatures(degree=degree, include_bias=False)\n",
        "    X_poly = poly_features.fit_transform(X)\n",
        "\n",
        "    model = LinearRegression()\n",
        "    cv_scores = cross_val_score(model, X_poly, y, cv=cv, scoring='neg_mean_squared_error')\n",
        "    rmse_scores = np.sqrt(-cv_scores)\n",
        "\n",
        "    return rmse_scores.mean()\n",
        "\n",
        "# Perform cross-validation for each degree\n",
        "cv_rmse_list = []\n",
        "for degree in degrees:\n",
        "    cv_rmse = evaluate_degree_with_cv(degree, X, y)\n",
        "    cv_rmse_list.append(cv_rmse)\n",
        "    print(f\"Degree {degree}: CV RMSE = {cv_rmse:.4f}\")\n",
        "\n",
        "# Find optimal degree based on cross-validation\n",
        "cv_optimal_degree = degrees[np.argmin(cv_rmse_list)]\n",
        "print(f\"\\nOptimal polynomial degree based on cross-validation: {cv_optimal_degree}\")\n",
        "\n",
        "# Plot cross-validation RMSE\n",
        "plt.figure(figsize=(8, 5))\n",
        "plt.plot(degrees, cv_rmse_list, 'o-', color='purple')\n",
        "plt.xlabel('Polynomial Degree')\n",
        "plt.ylabel('Cross-Validation RMSE')\n",
        "plt.title('Cross-Validation RMSE vs. Polynomial Degree')\n",
        "plt.grid(True)\n",
        "plt.show()"
      ]
    },
    {
      "cell_type": "markdown",
      "metadata": {
        "id": "yrI23G4tRxTo"
      },
      "source": []
    }
  ],
  "metadata": {
    "colab": {
      "provenance": []
    },
    "kernelspec": {
      "display_name": "base",
      "language": "python",
      "name": "python3"
    },
    "language_info": {
      "codemirror_mode": {
        "name": "ipython",
        "version": 3
      },
      "file_extension": ".py",
      "mimetype": "text/x-python",
      "name": "python",
      "nbconvert_exporter": "python",
      "pygments_lexer": "ipython3",
      "version": "3.12.4"
    }
  },
  "nbformat": 4,
  "nbformat_minor": 0
}
