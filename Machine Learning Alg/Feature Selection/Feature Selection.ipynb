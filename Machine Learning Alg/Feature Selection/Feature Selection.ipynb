{
 "cells": [
  {
   "cell_type": "markdown",
   "id": "124b6722",
   "metadata": {},
   "source": [
    "# MAchine Learning Intro"
   ]
  },
  {
   "cell_type": "markdown",
   "id": "2fc0e5cd",
   "metadata": {},
   "source": [
    "Machine learning is the scientific study of algorithms and statistical models to perform a specific task effectively without using explicit instructions. Machine learning algorithms include – supervised and unsupervised algorithms"
   ]
  },
  {
   "cell_type": "markdown",
   "id": "67f70929",
   "metadata": {},
   "source": [
    "## Supervised Learning \n",
    "In supervised learning, the target is already known and is used in the model prediction.\n",
    "\n",
    "**Classification**: When target variable is categorical \n",
    "**Regression**: When target variable is continuous \n"
   ]
  },
  {
   "cell_type": "markdown",
   "id": "6c422b88",
   "metadata": {},
   "source": [
    "## Unsupervised Learning \n",
    "In unsupervised learning, the target is not known and is supposed to be determined through the models.\n",
    "\n",
    "**Clustering**: Customer segmentation  \n",
    "**Association**: Market basket analysis "
   ]
  },
  {
   "attachments": {
    "image.png": {
     "image/png": "[encoded data removed]"
    }
   },
   "cell_type": "markdown",
   "id": "c5b15096",
   "metadata": {},
   "source": [
    "![image.png](attachment:image.png)"
   ]
  },
  {
   "cell_type": "markdown",
   "id": "f7e0caea",
   "metadata": {},
   "source": [
    "# Feature Selection "
   ]
  },
  {
   "cell_type": "markdown",
   "id": "a930fecb",
   "metadata": {},
   "source": [
    "Feature selection is the process of selecting a subset of relevant features for use in machine learning model building. \n",
    "- Filter method \n",
    "- Wrapper Method\n",
    "- Embedded Method"
   ]
  },
  {
   "cell_type": "markdown",
   "id": "3d11e261",
   "metadata": {},
   "source": [
    "## Filter Method"
   ]
  },
  {
   "cell_type": "markdown",
   "id": "723e3a49",
   "metadata": {},
   "source": [
    "Filter methods rely on the characteristics of data and are model agnostic. They tend to be less computationally expensive and suitable for quick screening. \n",
    "\n"
   ]
  },
  {
   "attachments": {
    "image.png": {
     "image/png": "[encoded data removed]"
    }
   },
   "cell_type": "markdown",
   "id": "bbd78909",
   "metadata": {},
   "source": [
    "![image.png](attachment:image.png)"
   ]
  },
  {
   "cell_type": "markdown",
   "id": "b98a6e7b",
   "metadata": {},
   "source": [
    "- **Constant feature**: Same value for all observations. Checks on standard deviation and count of unique\n",
    "- **Quasi constant feature**: Same value for most of the observations. Check on variance threshold and count of distinct observations. \n",
    "- **Duplication feature**: Identical feature. Retain only one of the duplicate features. \n",
    "- **Correlation**: It refers to the degree to which a pair of variables is linearly related. Correlated predictor variables provide redundant information. Good feature subset contains features highly correlated with the target, yet uncorrelated to each other. \n",
    "- **Fisher score (Chi-square)**: Statistical test, best suited to determine a difference between expected frequencies and observed frequencies. **Smallest p-value, biggest is the importance. **\n",
    "- **Univariate (one way ANOVA)**: Tests the hypothesis that 2 or more samples have same mean. Samples should be **independent, normally distributed and homogeneity of variance.** Variables with p-value > 0.05 are not important to predict Y. "
   ]
  },
  {
   "cell_type": "markdown",
   "id": "9c1d4885",
   "metadata": {},
   "source": [
    "## Wrapper Method"
   ]
  },
  {
   "cell_type": "markdown",
   "id": "befcc7a4",
   "metadata": {},
   "source": [
    "- Wrapper methods use machine learning models to score the **feature subset**. \n",
    "- A new model is trained on each feature subset and usually provide the best performing subset"
   ]
  },
  {
   "cell_type": "markdown",
   "id": "78ce772c",
   "metadata": {},
   "source": [
    "- **Step forward**: Begin with no feature and add one feature at a time (mlxtend)\n",
    "    - **Recursive function addition**: If on adding the feature the increment is more than the threshold then keep the feature \n",
    "    - **Condition**: Increase > Threshold \n",
    "- **Step backward**: Begin with all the features and remove one feature at a time (mlxtend)\n",
    "    - **Recursive function elimination**: If on removing the feature, the decrease is less than the threshold then drop the feature \n",
    "    - **Condition**: Decrease < Threshold \n",
    "- **Exhaustive**: Tries all possible feature combinations\n",
    "- **Stop condition**: When the performance does not increase beyond a certain threshold or decrease beyond a certain threshold \n"
   ]
  },
  {
   "cell_type": "markdown",
   "id": "180d4d53",
   "metadata": {},
   "source": [
    "## Embedded Method "
   ]
  },
  {
   "cell_type": "markdown",
   "id": "0783bbf9",
   "metadata": {},
   "source": [
    "- Performs feature selection as part of the **model construction process** and considers the **interaction between models and features**. \n",
    "- Embedded methods are faster than wrapper methods and more accurate than filter methods"
   ]
  },
  {
   "cell_type": "markdown",
   "id": "74b5cc51",
   "metadata": {},
   "source": [
    "- **Regularization**: Consists of adding a penalty to the different parameters of the model to reduce the freedom of the model. Helps to **improve generalization ability of the model**. \n",
    "- **Lasso (L1)**: Shrinks some **parameters to zero (feature elimination)**\n",
    "- **Ridge (L2)**: As the **penalization increases the coefficients approach zero** (no feature is eliminated)\n",
    "- **Tree**: Build machine learning model (decision tree, random forest or gradient boosting) and calculate **feature importance**. Remove least important feature and repeat till a condition is met. \n"
   ]
  },
  {
   "cell_type": "markdown",
   "id": "5d22edbb",
   "metadata": {},
   "source": [
    "# Reference"
   ]
  },
  {
   "cell_type": "markdown",
   "id": "a1bec0ba",
   "metadata": {},
   "source": [
    "- https://analyticsindiamag.com/ai-trends/study-notes-on-machine-learning-pipeline-feature-engineering-feature-selection-and-hyper-parameters-optimization/\n",
    "\n",
    "- https://analyticsindiamag.com/ai-trends/common-feature-engineering-techniques-to-tackle-real-world-data/"
   ]
  }
 ],
 "metadata": {
  "language_info": {
   "name": "python"
  }
 },
 "nbformat": 4,
 "nbformat_minor": 5
}
