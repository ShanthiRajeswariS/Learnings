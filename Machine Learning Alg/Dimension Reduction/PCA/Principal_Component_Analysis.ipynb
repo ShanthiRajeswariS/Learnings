{
  "nbformat": 4,
  "nbformat_minor": 0,
  "metadata": {
    "colab": {
      "provenance": []
    },
    "kernelspec": {
      "name": "python3",
      "display_name": "Python 3"
    },
    "language_info": {
      "name": "python"
    }
  },
  "cells": [
    {
      "cell_type": "markdown",
      "source": [
        "# Principal Component Analysis"
      ],
      "metadata": {
        "id": "WoQmL7laxG-q"
      }
    },
    {
      "cell_type": "markdown",
      "source": [
        "- statistical technique used in data analysis and machine learning **to simplify the complexity of high-dimensional data while retaining its important features.**\n",
        "\n",
        "- aims to **transform a dataset’s original variables into a new set of uncorrelated variables** called **principal components**\n",
        "\n",
        "- These **components are linear combinations of the original variables** and are chosen in such a way that they **capture the maximum variance present in the data.**\n",
        "\n",
        "- is particularly useful when dealing with datasets with many variables\n",
        "\n",
        "- By reducing the number of dimensions, PCA can help mitigate issues related to the “curse of dimensionality” and make subsequent analysis or modelling more efficient and accurate.\n",
        "\n",
        "- Additionally, PCA can also be used for data visualization and noise reduction.\n",
        "\n",
        "- In PCA, the first principal component captures the **most variance in the data**; the second principal component captures the second most, and so on.\n",
        "\n",
        "- These **principal components are orthogonal to each other**, meaning they are **uncorrelated**\n",
        "\n",
        "- Finding these components involves computing eigenvectors and eigenvalues of the data’s covariance matrix"
      ],
      "metadata": {
        "id": "k8FGr2mwxHBz"
      }
    },
    {
      "cell_type": "markdown",
      "source": [
        "#  Intuitive Explanation Behind PCA"
      ],
      "metadata": {
        "id": "Fy8Y3vwcxHFW"
      }
    },
    {
      "cell_type": "markdown",
      "source": [
        "- The intuition behind Principal Component Analysis (PCA) revolves around **simplifying complex data by focusing on its most significant patterns**\n",
        "\n",
        "- Imagine you have a high-dimensional dataset with numerous variables. Each variable represents a different aspect or measurement, and together, they form a multi-dimensional space. However, not all of these variables may contribute equally to the underlying structure of the data.\n",
        "\n",
        "- PCA aims to **find a new set of axes, called principal components**, in this multi-dimensional space such that when the data is projected onto these components, **the variance (spread) of the data is maximized along the first component, followed by the second most variance on the second component, and so** on.\n",
        "\n",
        "- PCA **identifies the directions in the original data space where the data varies the most**.\n",
        "\n"
      ],
      "metadata": {
        "id": "9gQ36qwqxHIX"
      }
    },
    {
      "cell_type": "markdown",
      "source": [
        "# Process Steps"
      ],
      "metadata": {
        "id": "fZiVC2NKb3Gw"
      }
    },
    {
      "cell_type": "markdown",
      "source": [
        "**1.Data Variability:**\n",
        "- Consider your high-dimensional data as points scattered in space.\n",
        "- Each point is a data instance whose dimensions correspond to the different variables.\n",
        "- These dimensions might be correlated or might contain redundant information.\n",
        "\n",
        "**2.Variance as Information:**\n",
        "- The **spread of the data **along each dimension represents the a**mount of information contained in that variable**.\n",
        "- If a variable has a **more extensive spread (higher variance)**, it means it carries **more information** about the differences between data points.\n",
        "\n",
        "**3.New Coordinate System:**\n",
        "- PCA seeks **to find a new set of axes (principal components) in this space**.\n",
        "- The first principal component is the **direction along which the data varies the most (has the highest variance)**.\n",
        "- The **second principal component is orthogonal (perpendicular) to the first, captures the next highest variance**, and so on.\n",
        "\n",
        "**4.Projection:**\n",
        "- When you **project the data onto these principal components**, you’re essentially **looking at the data from a new perspective**.\n",
        "- The projection **captures the most significant information while discarding the less critical information**.\n",
        "- The new coordinate system is chosen so the first principal component captures the most variance. The second captures the second most, and so on.\n",
        "\n",
        "**5.Dimensionality Reduction:**\n",
        "- Now, if you’re willing to sacrifice some information (variance), you can **choose to retain only the top few principal components. **\n",
        "- This effectively reduces the dimensionality of the data while preserving the most important patterns.\n",
        "- It can simplify visualization and subsequent analysis.\n",
        "\n",
        "**6.Interpretability:**\n",
        "- In many cases, these principal components might have physical or intuitive interpretations.\n",
        "- They might represent underlying factors or trends in the data that are difficult to discern in the original high-dimensional space.\n",
        "\n",
        "\n",
        "PCA helps to highlight the underlying structure of the data by finding the directions in which it varies the most. Focusing on the most important patterns and reducing dimensionality can lead to better data understanding, visualization, and analysis."
      ],
      "metadata": {
        "id": "zHjuOU8db3JY"
      }
    },
    {
      "cell_type": "markdown",
      "source": [
        "# Process Steps"
      ],
      "metadata": {
        "id": "2wkbuHLmb3O5"
      }
    },
    {
      "cell_type": "markdown",
      "source": [
        "Principal Component Analysis (PCA) is a powerful dimensionality reduction technique used to simplify complex datasets while retaining as much of the original variance (information) as possible. It achieves this by transforming the data into a new set of uncorrelated variables called principal components.\n",
        "\n",
        "Here's a breakdown of the PCA process steps with a simple example:\n",
        "\n",
        "**Scenario:**\n",
        "\n",
        "Imagine we have a small dataset with measurements of two features, 'Height' (in cm) and 'Weight' (in kg), for five individuals.\n",
        "\n",
        "| Individual | Height (cm) | Weight (kg) |\n",
        "|------------|-------------|-------------|\n",
        "| A          | 160         | 55          |\n",
        "| B          | 165         | 60          |\n",
        "| C          | 170         | 65          |\n",
        "| D          | 175         | 70          |\n",
        "| E          | 180         | 75          |\n",
        "\n",
        "Our goal is to use PCA to see if we can represent this data in a lower-dimensional space (in this case, one dimension) while capturing the most significant patterns.\n"
      ],
      "metadata": {
        "id": "FFYNIkefb3SJ"
      }
    },
    {
      "cell_type": "markdown",
      "source": [
        "\n",
        "**PCA Process Steps:**\n",
        "\n",
        "**Step 1: Standardize the Data/ Centering the data**\n",
        "\n",
        "PCA is sensitive to the scale of the features. Features with larger scales will have a disproportionately larger impact on the principal components. To avoid this, we **standardize the data by subtracting the mean and dividing by the standard deviation for each feature. This results in features with a mean of 0 and a standard deviation of 1.**\n",
        "\n",
        "* **Example:**\n",
        "    * Calculate the mean and standard deviation for 'Height' and 'Weight'.\n",
        "    * Standardize each data point using the formula: $x_{standardized} = (x - \\mu) / \\sigma$, where $\\mu$ is the mean and $\\sigma$ is the standard deviation.\n",
        "\n",
        "    (Calculations omitted for brevity, but in a real application, you would perform these to get the standardized dataset).\n",
        "\n",
        "    Let's assume the standardized data looks something like this (actual values would result from calculations):\n",
        "\n",
        "\n",
        "    | Individual | Standardized Height | Standardized Weight |\n",
        "    |------------|---------------------|---------------------|\n",
        "    | A          | -1.4                | -1.4                |\n",
        "    | B          | -0.7                | -0.7                |\n",
        "    | C          | 0.0                 | 0.0                 |\n",
        "    | D          | 0.7                 | 0.7                 |\n",
        "    | E          | 1.4                 | 1.4                 |\n",
        "\n"
      ],
      "metadata": {
        "id": "nhU4a14Rb3VS"
      }
    },
    {
      "cell_type": "markdown",
      "source": [
        "**Step 2: Compute the Covariance Matrix**\n",
        "\n",
        "- The **covariance matrix describes the relationship between the different features in the dataset**.\n",
        "- The covariance between two features **indicates how much they vary together**.\n",
        "- A positive covariance means that as one feature increases, the other tends to increase as well.\n",
        "- A negative covariance means that as one feature increases, the other tends to decrease.\n",
        "\n",
        "* **Example:**\n",
        "    * For our 2-dimensional dataset, the covariance matrix will be a 2x2 matrix.\n",
        "    * The elements of the matrix are calculated as follows:\n",
        "        * Cov(Height, Height) = Variance of Height\n",
        "        * Cov(Height, Weight)\n",
        "        * Cov(Weight, Height) = Cov(Height, Weight)\n",
        "        * Cov(Weight, Weight) = Variance of Weight\n",
        "\n",
        "    Let's assume the covariance matrix calculated from the standardized data is (actual values depend on the standardized data):\n",
        "\n",
        "    $$\n",
        "    \\begin{bmatrix}\n",
        "    1.0 & 1.0 \\\\\n",
        "    1.0 & 1.0\n",
        "    \\end{bmatrix}\n",
        "    $$\n",
        "\n",
        "    This indicates a strong positive correlation between standardized Height and Standardized Weight."
      ],
      "metadata": {
        "id": "njuwBD1yb3YX"
      }
    },
    {
      "cell_type": "markdown",
      "source": [
        "Covariance is a statistical measure that quantifies the extent to which two random variables change together. In simpler terms, it indicates the directional relationship between two variables.\n",
        "\n",
        "* A **positive covariance** suggests that as one variable increases, the other tends to increase as well.\n",
        "* A **negative covariance** suggests that as one variable increases, the other tends to decrease.\n",
        "* A covariance close to **zero** suggests a weak linear relationship between the two variables.\n",
        "\n",
        "It's important to note that covariance only measures the *linear* relationship and is not standardized, meaning its value depends on the scale of the variables. Therefore, the magnitude of the covariance isn't easily interpretable on its own; it's the sign that matters most for understanding the direction of the relationship.\n",
        "\n",
        "**Formula for Sample Covariance:**\n",
        "\n",
        "For a sample of $n$ paired data points $(x_i, y_i)$, the sample covariance ($Cov(X, Y)$ or $s_{xy}$) is calculated using the following formula:\n",
        "\n",
        "$$Cov(X, Y) = \\frac{\\sum_{i=1}^{n} (x_i - \\bar{x})(y_i - \\bar{y})}{n-1}$$\n",
        "\n",
        "Where:\n",
        "* $x_i$ is the individual data point for variable X\n",
        "* $y_i$ is the individual data point for variable Y\n",
        "* $\\bar{x}$ is the mean of variable X\n",
        "* $\\bar{y}$ is the mean of variable Y\n",
        "* $n$ is the number of data points\n",
        "\n",
        "For the population covariance, the denominator is $N$ (the population size) instead of $n-1$. However, in most practical scenarios with data samples, we use the sample covariance formula.\n",
        "\n",
        "**Example Calculation:**\n",
        "\n",
        "Let's calculate the sample covariance for a small dataset with two variables, X and Y:\n",
        "\n",
        "| Data Point (i) | X ($x_i$) | Y ($y_i$) |\n",
        "|----------------|-----------|-----------|\n",
        "| 1              | 1         | 5         |\n",
        "| 2              | 2         | 6         |\n",
        "| 3              | 3         | 7         |\n",
        "| 4              | 4         | 9         |\n",
        "| 5              | 5         | 10        |\n",
        "\n",
        "**Step 1: Calculate the mean of X ($\\bar{x}$) and the mean of Y ($\\bar{y}$)**\n",
        "\n",
        "$$\\bar{x} = \\frac{1 + 2 + 3 + 4 + 5}{5} = \\frac{15}{5} = 3$$\n",
        "\n",
        "$$\\bar{y} = \\frac{5 + 6 + 7 + 9 + 10}{5} = \\frac{37}{5} = 7.4$$\n",
        "\n",
        "**Step 2: Calculate the deviations from the mean for each data point**\n",
        "\n",
        "For each data point, subtract the mean of X from $x_i$ ($x_i - \\bar{x}$) and the mean of Y from $y_i$ ($y_i - \\bar{y}$).\n",
        "\n",
        "| Data Point (i) | X ($x_i$) | Y ($y_i$) | $x_i - \\bar{x}$ | $y_i - \\bar{y}$ |\n",
        "|----------------|-----------|-----------|-----------------|-----------------|\n",
        "| 1              | 1         | 5         | $1 - 3 = -2$    | $5 - 7.4 = -2.4$ |\n",
        "| 2              | 2         | 6         | $2 - 3 = -1$    | $6 - 7.4 = -1.4$ |\n",
        "| 3              | 3         | 7         | $3 - 3 = 0$     | $7 - 7.4 = -0.4$ |\n",
        "| 4              | 4         | 9         | $4 - 3 = 1$     | $9 - 7.4 = 1.6$  |\n",
        "| 5              | 5         | 10        | $5 - 3 = 2$     | $10 - 7.4 = 2.6$ |\n",
        "\n",
        "**Step 3: Multiply the deviations for each data point**\n",
        "\n",
        "Multiply the corresponding deviations for X and Y for each data point: $(x_i - \\bar{x})(y_i - \\bar{y})$.\n",
        "\n",
        "| Data Point (i) | $x_i - \\bar{x}$ | $y_i - \\bar{y}$ | $(x_i - \\bar{x})(y_i - \\bar{y})$ |\n",
        "|----------------|-----------------|-----------------|---------------------------------|\n",
        "| 1              | -2              | -2.4            | $(-2) * (-2.4) = 4.8$           |\n",
        "| 2              | -1              | -1.4            | $(-1) * (-1.4) = 1.4$           |\n",
        "| 3              | 0               | -0.4            | $(0) * (-0.4) = 0.0$            |\n",
        "| 4              | 1               | 1.6             | $(1) * (1.6) = 1.6$             |\n",
        "| 5              | 2               | 2.6             | $(2) * (2.6) = 5.2$             |\n",
        "\n",
        "**Step 4: Sum the products of the deviations**\n",
        "\n",
        "Add up the values in the last column:\n",
        "\n",
        "$$\\sum_{i=1}^{n} (x_i - \\bar{x})(y_i - \\bar{y}) = 4.8 + 1.4 + 0.0 + 1.6 + 5.2 = 13.0$$\n",
        "\n",
        "**Step 5: Divide the sum by (n-1)**\n",
        "\n",
        "Since we have 5 data points ($n=5$), we divide by $n-1 = 5-1 = 4$.\n",
        "\n",
        "$$Cov(X, Y) = \\frac{13.0}{4} = 3.25$$\n",
        "\n",
        "**Conclusion:**\n",
        "\n",
        "The sample covariance between X and Y is 3.25. Since this is a positive value, it indicates a positive linear relationship between X and Y in this dataset; as X increases, Y tends to increase as well. The magnitude of 3.25 itself doesn't tell us the strength of the relationship in a standardized way, but the positive sign is informative about the direction."
      ],
      "metadata": {
        "id": "INw2p7mjjSYN"
      }
    },
    {
      "cell_type": "markdown",
      "source": [
        "**Step 3: Calculate the Eigenvalues and Eigenvectors of the Covariance Matrix**\n",
        "\n",
        "- **Eigenvectors** represent the **directions of maximum variance** in the data, An eigenvector of a **square matrix is a non-zero vector** that, when multiplied by the matrix, results in a scalar multiple of itself.The direction of the eigenvector remains unchanged by the linear transformation represented by the matrix; it is only scaled.\n",
        "- **eigenvalues** represent the **magnitude of that variance along those directions**. The eigenvalue is the **scalar factor** by which the eigenvector is scaled when multiplied by the matrix. It tells us how much the eigenvector is stretched or compressed (or if its direction is reversed) by the transformation\n",
        "- These **eigenvectors are the principal components**.\n",
        "\n",
        "* **Example:**\n",
        "    * We need to solve the equation $Cv = \\lambda v$, where $C$ is the covariance matrix, $v$ is the eigenvector, and $\\lambda$ is the eigenvalue.\n",
        "    * For our example covariance matrix, the calculated eigenvalues and eigenvectors would be:\n",
        "        * Eigenvalue 1 ($\\lambda_1$): 2.0, Corresponding Eigenvector 1 ($v_1$): $\\begin{bmatrix} 0.707 \\\\ 0.707 \\end{bmatrix}$\n",
        "        * Eigenvalue 2 ($\\lambda_2$): 0.0, Corresponding Eigenvector 2 ($v_2$): $\\begin{bmatrix} -0.707 \\\\ 0.707 \\end{bmatrix}$\n",
        "\n",
        "    The eigenvector $v_1$ points in the direction where the data has the most variance, and $v_2$ is orthogonal to $v_1$ and points in the direction of the remaining variance."
      ],
      "metadata": {
        "id": "oXhOS4nqjSa5"
      }
    },
    {
      "cell_type": "markdown",
      "source": [
        "**Step 4: Sort Eigenvalues and Corresponding Eigenvectors**\n",
        "\n",
        "We sort the eigenvalues in descending order. The eigenvector with the largest eigenvalue is the first principal component, the eigenvector with the second largest eigenvalue is the second principal component, and so on.\n",
        "\n",
        "* **Example:**\n",
        "    * Our eigenvalues are 2.0 and 0.0.\n",
        "    * Sorted eigenvalues: $\\lambda_1 = 2.0$, $\\lambda_2 = 0.0$.\n",
        "    * Sorted corresponding eigenvectors: $v_1 = \\begin{bmatrix} 0.707 \\\\ 0.707 \\end{bmatrix}$, $v_2 = \\begin{bmatrix} -0.707 \\\\ 0.707 \\end{bmatrix}$."
      ],
      "metadata": {
        "id": "oC2mXRr5jSdp"
      }
    },
    {
      "cell_type": "markdown",
      "source": [
        "**Step 5: Select a Subset of Principal Components**\n",
        "\n",
        "We choose the top *k* eigenvectors based on the desired dimensionality of the reduced dataset. The number of components is typically chosen to retain a certain percentage of the total variance.\n",
        "\n",
        "* **Example:**\n",
        "    * If we want to reduce the data to one dimension, we select the eigenvector with the largest eigenvalue, which is $v_1 = \\begin{bmatrix} 0.707 \\\\ 0.707 \\end{bmatrix}$. This is our first principal component.\n",
        "    * The total variance is the sum of the eigenvalues (2.0 + 0.0 = 2.0). The first principal component explains $(2.0 / 2.0) * 100 = 100\\%$ of the variance in this specific example."
      ],
      "metadata": {
        "id": "D-iIJhAvjSga"
      }
    },
    {
      "cell_type": "markdown",
      "source": [
        "\n",
        "**Step 6: Project the Data onto the New Subspace**\n",
        "\n",
        "Finally, we transform the original standardized data onto the new subspace defined by the selected principal components. This is done by multiplying the standardized data matrix by the transpose of the matrix containing the selected eigenvectors.\n",
        "\n",
        "* **Example:**\n",
        "    * To project our standardized data onto the first principal component ($v_1$), we multiply the standardized data matrix by $v_1^T$.\n",
        "\n",
        "    Let the standardized data matrix be $X_{std}$. The transformed data $X_{pca}$ is calculated as: $X_{pca} = X_{std} \\cdot v_1$.\n",
        "\n",
        "    For Individual A: $[-1.4, -1.4] \\cdot \\begin{bmatrix} 0.707 \\\\ 0.707 \\end{bmatrix} = (-1.4 * 0.707) + (-1.4 * 0.707) \\approx -0.99 - 0.99 = -1.98$.\n",
        "\n",
        "    (This calculation would be done for all individuals).\n",
        "\n",
        "    The resulting data will have one dimension, representing the projection of each individual onto the first principal component.\n",
        "\n",
        "**Result:**\n",
        "\n",
        "After performing these steps, we will have a new dataset with reduced dimensionality (in this case, 1D) where the single dimension (the first principal component) captures the most significant variation in the original 'Height' and 'Weight' data. This new representation can be used for visualization, further analysis, or as input for other machine learning algorithms, potentially improving efficiency and reducing noise. In our simple example, the first principal component essentially represents a combined measure of size, as Height and Weight are highly correlated."
      ],
      "metadata": {
        "id": "sSW5i9KtjSiz"
      }
    },
    {
      "cell_type": "markdown",
      "source": [
        "# Mathematics Behind Principal Component Analysis\n"
      ],
      "metadata": {
        "id": "KLkOkYlhjSlU"
      }
    },
    {
      "cell_type": "markdown",
      "source": [
        "**1.Covariance Matrix and Centered Data**\n",
        " - covariance matrixquantifies the relationships between different variables in data.\n",
        " - Centring involves subtracting the mean of each variable from its respective values, ensuring that the new origin is at the mean of the data.\n",
        "\n",
        "**2.Eigenvalues and Eigenvectors**\n",
        "- An eigenvector of a matrix remains in the same direction, only scaled, whenthe matrix is applied to it.\n",
        "- The corresponding eigenvalue represents the amount by which the eigenvectoris scaled.\n",
        "- For the covariance matrix, the eigenvectors represent the directions alongwhich the data varies the most. The eigenvalues tell us how much variance iscaptured along each eigenvector direction. The eigenvector with the largesteigenvalue corresponds to the first principal component, the direction withthe most variance in the data. The second largest eigenvalue corresponds tothe second principal component, and so on.\n",
        "\n",
        "**3.Selecting Principal Components**\n",
        "The final step involves selecting the top k eigenvectors (principalcomponents) corresponding to the k largest eigenvalues. These principalcomponents collectively form a new coordinate system for the data. Theoriginal data is projected onto this new coordinate system, capturing theessential patterns while discarding the less significant information.\n",
        "\n",
        "**4.Dimensionality Reduction and Reconstruction**\n",
        "- By selecting a subset of the principal components, you reduce the dimensionality of your data while retaining most of its essential characteristics. This can significantly simplify subsequent analysis, visualization, and modelling.\n",
        "- Additionally, you can use the retained principal components to reconstruct an approximation of the original data. This is done by projecting the data back into the original space using the selected principal components."
      ],
      "metadata": {
        "id": "f3EVArrMxHK2"
      }
    },
    {
      "cell_type": "markdown",
      "source": [
        "# Implementation"
      ],
      "metadata": {
        "id": "eXRjlHk8slue"
      }
    },
    {
      "cell_type": "code",
      "source": [
        "import numpy as np\n",
        "import matplotlib.pyplot as plt\n",
        "from sklearn.preprocessing import StandardScaler\n",
        "from sklearn.decomposition import PCA\n",
        "\n",
        "# Generating some fake data for this demonstration\n",
        "np.random.seed(42)\n",
        "num_samples = 100\n",
        "\n",
        "# Create correlated data with a positive correlation\n",
        "mean = [5, 7]\n",
        "cov = [[2, 1.5], [1.5, 2]]\n",
        "data = np.random.multivariate_normal(mean, cov, num_samples)\n",
        "\n",
        "# Standardize the data\n",
        "scaler = StandardScaler()\n",
        "scaled_data = scaler.fit_transform(data)"
      ],
      "metadata": {
        "id": "yDzbWLTgsnj1"
      },
      "execution_count": 1,
      "outputs": []
    },
    {
      "cell_type": "code",
      "source": [
        "# Apply PCA\n",
        "\n",
        "# Instantiate PCA with the number of components you want to retain\n",
        "num_components = 2\n",
        "pca = PCA(n_components=num_components)\n",
        "\n",
        "# Fit PCA to the scaled data\n",
        "pca_data = pca.fit_transform(scaled_data)"
      ],
      "metadata": {
        "id": "qi1DQPb5snm1"
      },
      "execution_count": 2,
      "outputs": []
    },
    {
      "cell_type": "code",
      "source": [
        "# Explained variance ratio\n",
        "explained_variance_ratio = pca.explained_variance_ratio_\n",
        "print(\"Explained Variance Ratio:\", explained_variance_ratio)"
      ],
      "metadata": {
        "colab": {
          "base_uri": "https://localhost:8080/"
        },
        "id": "VWqfj3ZCsnp0",
        "outputId": "7f1bd94e-144f-4b05-a5de-54ffe3ff546a"
      },
      "execution_count": 3,
      "outputs": [
        {
          "output_type": "stream",
          "name": "stdout",
          "text": [
            "Explained Variance Ratio: [0.8373527 0.1626473]\n"
          ]
        }
      ]
    },
    {
      "cell_type": "code",
      "source": [
        "# Visualize the original and PCA-transformed data\n",
        "plt.figure(figsize=(10, 5))\n",
        "\n",
        "plt.subplot(1, 2, 1)\n",
        "plt.scatter(data[:, 0], data[:, 1])\n",
        "plt.xlabel('X')\n",
        "plt.ylabel('Y')\n",
        "plt.title('Original Data')\n",
        "\n",
        "plt.subplot(1, 2, 2)\n",
        "plt.scatter(pca_data[:, 0], pca_data[:, 1])\n",
        "plt.xlabel('Principal Component 1')\n",
        "plt.ylabel('Principal Component 2')\n",
        "plt.title('PCA Transformed Data')\n",
        "\n",
        "plt.tight_layout()\n",
        "plt.show()"
      ],
      "metadata": {
        "colab": {
          "base_uri": "https://localhost:8080/",
          "height": 507
        },
        "id": "gjVcJLzqsns2",
        "outputId": "c8b55491-b000-43dd-fd16-a5265618dd0a"
      },
      "execution_count": 4,
      "outputs": [
        {
          "output_type": "display_data",
          "data": {
            "text/plain": [
              "<Figure size 1000x500 with 2 Axes>"
            ],
            "image/png": "[encoded data removed]"
          },
          "metadata": {}
        }
      ]
    },
    {
      "cell_type": "code",
      "source": [
        "# Reconstruction\n",
        "\n",
        "original_data_reconstructed = pca.inverse_transform(pca_data)\n",
        "original_data_reconstructed"
      ],
      "metadata": {
        "colab": {
          "base_uri": "https://localhost:8080/"
        },
        "id": "cTTXuI3Jsnv1",
        "outputId": "e1d09910-dc0b-4b9e-ee23-cf47dc15909a"
      },
      "execution_count": 5,
      "outputs": [
        {
          "output_type": "execute_result",
          "data": {
            "text/plain": [
              "array([[-0.58072804, -0.73631987],\n",
              "       [-1.40739658, -0.2178979 ],\n",
              "       [ 0.23343719,  0.01873357],\n",
              "       [-2.09296043, -1.54088062],\n",
              "       [ 0.17162117,  0.59362342],\n",
              "       [ 0.56967068,  0.17279244],\n",
              "       [ 0.40170441, -1.18865892],\n",
              "       [ 1.94729727,  1.50435402],\n",
              "       [ 0.8399006 ,  1.09044359],\n",
              "       [ 1.42127365,  0.26718084],\n",
              "       [-1.57400042, -1.82549068],\n",
              "       [ 0.39086411, -0.79834241],\n",
              "       [ 0.42427744,  0.49771301],\n",
              "       [ 0.96188813,  1.26587058],\n",
              "       [ 0.64549514,  0.39345083],\n",
              "       [-0.21343071,  1.27544461],\n",
              "       [ 0.32962255, -0.55947481],\n",
              "       [-0.49226907, -1.53526165],\n",
              "       [ 0.45544307, -1.17174005],\n",
              "       [ 1.22169201,  1.38500251],\n",
              "       [-0.96152162, -0.87189113],\n",
              "       [ 0.13452576, -0.13759239],\n",
              "       [ 1.74898945,  1.17179462],\n",
              "       [-0.04417431,  0.79542282],\n",
              "       [ 0.23354271, -1.23743258],\n",
              "       [-0.29849553, -0.65007658],\n",
              "       [ 0.3640694 ,  0.84751167],\n",
              "       [-1.57684163, -0.87766657],\n",
              "       [ 0.90573824,  0.64558502],\n",
              "       [-0.85193427, -0.09887814],\n",
              "       [ 0.47404284,  0.30498431],\n",
              "       [ 1.54506293,  0.57152346],\n",
              "       [-1.51543838, -0.46559774],\n",
              "       [-0.43514755,  0.35097264],\n",
              "       [-0.23403674, -0.79772932],\n",
              "       [-1.10955977,  0.09946356],\n",
              "       [-0.69864237,  0.54216876],\n",
              "       [ 2.34175049,  3.04570061],\n",
              "       [-0.08144575, -0.3570579 ],\n",
              "       [ 0.59092172, -1.05591305],\n",
              "       [-0.01911384,  0.24590235],\n",
              "       [-1.46966233, -1.95896979],\n",
              "       [ 0.95036917,  0.53308322],\n",
              "       [-1.21244651, -0.99955796],\n",
              "       [ 0.24735627,  0.64711857],\n",
              "       [-0.60061325,  0.1528435 ],\n",
              "       [ 0.76756004,  0.48890943],\n",
              "       [ 0.89425019, -0.31465166],\n",
              "       [-0.52801586, -0.35422025],\n",
              "       [-0.02032789, -0.2415308 ],\n",
              "       [ 1.5619396 ,  1.22607354],\n",
              "       [ 0.57656927, -0.09667782],\n",
              "       [-0.09991137,  0.20172166],\n",
              "       [-2.18094016, -2.11812602],\n",
              "       [-0.35249266, -0.45013323],\n",
              "       [ 1.93811657,  1.93518784],\n",
              "       [-1.16106644,  0.80693875],\n",
              "       [-0.02581015,  0.19338728],\n",
              "       [ 0.3966533 , -0.58200483],\n",
              "       [-1.62357969, -1.07290005],\n",
              "       [-0.58376418, -1.37304836],\n",
              "       [-1.03550479, -2.24034934],\n",
              "       [-1.61057255,  0.12243126],\n",
              "       [ 1.16947071,  0.70444489],\n",
              "       [-0.01280038, -0.45476267],\n",
              "       [ 1.50928536,  1.57412179],\n",
              "       [ 0.82848664,  1.20968515],\n",
              "       [ 0.24506455,  1.49658343],\n",
              "       [ 0.85149511,  0.57947379],\n",
              "       [-0.47866772, -1.52956559],\n",
              "       [-0.87478366,  0.15018881],\n",
              "       [ 1.52302891,  1.6835708 ],\n",
              "       [-0.69846235, -0.10087764],\n",
              "       [ 1.73353501,  0.66245371],\n",
              "       [-0.78210427, -0.58492328],\n",
              "       [-0.51384479, -0.26954096],\n",
              "       [ 0.51956871,  0.69500167],\n",
              "       [-0.13349443, -0.75164503],\n",
              "       [-2.27932343, -1.97299269],\n",
              "       [ 0.89200517,  1.42507403],\n",
              "       [ 0.60973095,  1.24323696],\n",
              "       [-1.00946183, -1.73614069],\n",
              "       [-1.29707244, -1.01718203],\n",
              "       [-1.7424017 , -0.25387975],\n",
              "       [ 0.45379959, -0.18252743],\n",
              "       [ 1.16234374,  0.49212547],\n",
              "       [-0.16402796,  0.08437345],\n",
              "       [-0.73449794, -0.10051175],\n",
              "       [-0.70589399,  0.4434451 ],\n",
              "       [-0.9193147 ,  1.26564238],\n",
              "       [-0.42920673, -1.17184133],\n",
              "       [ 0.83404012,  1.22266929],\n",
              "       [-0.15825679,  0.39664742],\n",
              "       [-0.58206081, -0.68391766],\n",
              "       [ 1.39742243,  0.15849522],\n",
              "       [ 0.02135605,  0.6976049 ],\n",
              "       [ 0.16349685, -0.88411241],\n",
              "       [-0.4473823 , -0.16953499],\n",
              "       [ 0.76740834,  0.88430193],\n",
              "       [ 0.28771949, -0.67244618]])"
            ]
          },
          "metadata": {},
          "execution_count": 5
        }
      ]
    },
    {
      "cell_type": "markdown",
      "source": [
        "# Applications"
      ],
      "metadata": {
        "id": "RR5nlumns7El"
      }
    },
    {
      "cell_type": "markdown",
      "source": [
        "1. Image Compression and Reconstruction\n",
        "\n",
        "2. Face Recognition\n",
        "\n",
        "3. Bioinformatics\n",
        "\n",
        "4. Financial Analysis\n",
        "\n",
        "5. Noise Reduction"
      ],
      "metadata": {
        "id": "rpGiNOcAs7Jd"
      }
    },
    {
      "cell_type": "markdown",
      "source": [
        "# Principal Component Analysis in Data Visualization"
      ],
      "metadata": {
        "id": "sx0sPVqes7MF"
      }
    },
    {
      "cell_type": "markdown",
      "source": [
        "1. Dimension Reduction for Visualization\n",
        "\n",
        "2. Scatter Plots and Clustering\n",
        "\n",
        "3. Anomaly Detection\n",
        "\n",
        "4. Interactive Visualization"
      ],
      "metadata": {
        "id": "qK9pxuiBs7O3"
      }
    },
    {
      "cell_type": "markdown",
      "source": [
        "# Considerations and Limitations"
      ],
      "metadata": {
        "id": "sPoxq0SMtMPs"
      }
    },
    {
      "cell_type": "markdown",
      "source": [
        "1. Linear Assumption\n",
        "- PCA is based on the assumption that the underlying relationships in the data are linear\n",
        "- alternative techniques like Kernel PCA can be considered to capture non-linear patterns.\n",
        "\n",
        "2. Retained Variance\n",
        "\n",
        "3. Interpretability when the original variables have complex relationships.\n",
        "\n",
        "4. Data Scaling and Outliers\n",
        "PCA is sensitive to the scale of the data. Before applying PCA, it’s crucial to standardize or normalize your data to ensure that variables with larger scales do not dominate the principal component selection process.\n",
        "\n",
        "5. Curse of Dimensionality\n",
        "While PCA addresses the “curse of dimensionality” to some extent by reducing dimensionality, it’s essential to remember that PCA might not always be a magic solution.\n",
        "\n",
        "6. Overfitting and Generalization\n",
        "When applying PCA for machine learning tasks, such as feature reduction, be cautious not to overfit your model to the reduced-dimensional space."
      ],
      "metadata": {
        "id": "5B0p6XmltNHe"
      }
    },
    {
      "cell_type": "markdown",
      "source": [
        "# Soruce"
      ],
      "metadata": {
        "id": "-dRO1Qs1trWk"
      }
    },
    {
      "cell_type": "markdown",
      "source": [
        "- https://spotintelligence.com/2023/08/25/principal-component-analysis/"
      ],
      "metadata": {
        "id": "Sn3qwLNjtsGW"
      }
    }
  ]
}