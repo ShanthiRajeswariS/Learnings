{
  "nbformat": 4,
  "nbformat_minor": 0,
  "metadata": {
    "colab": {
      "provenance": []
    },
    "kernelspec": {
      "name": "python3",
      "display_name": "Python 3"
    },
    "language_info": {
      "name": "python"
    }
  },
  "cells": [
    {
      "cell_type": "code",
      "execution_count": 1,
      "metadata": {
        "id": "YOUy9A__SBIM"
      },
      "outputs": [],
      "source": [
        "import numpy as np\n",
        "import time\n",
        "from sklearn.datasets import load_iris # Import the Iris dataset loader\n",
        "from sklearn.linear_model import LogisticRegression\n",
        "from sklearn.model_selection import KFold\n",
        "from sklearn.metrics import accuracy_score"
      ]
    },
    {
      "cell_type": "code",
      "source": [
        "# --- Configuration ---\n",
        "N_BATCH_SAMPLES = 15     # Number of new samples arriving (simulated batch size per step)\n",
        "K_FOLDS = 5              # Number of folds for K-Fold Cross-Validation\n",
        "EVAL_INTERVAL = 3        # Perform K-Fold evaluation every X simulated time steps\n",
        "MIN_SAMPLES_FOR_KFOLD = K_FOLDS # Need at least K samples for KFold"
      ],
      "metadata": {
        "id": "tpdgNR6qSCQk"
      },
      "execution_count": 2,
      "outputs": []
    },
    {
      "cell_type": "code",
      "source": [
        "# --- Load Dataset ---\n",
        "print(\"Loading Iris dataset...\")\n",
        "iris = load_iris()\n",
        "X_full, y_full = iris.data, iris.target\n",
        "N_TOTAL_SAMPLES = len(X_full)\n",
        "N_FEATURES = X_full.shape[1]\n",
        "N_CLASSES = len(np.unique(y_full))\n",
        "\n",
        "print(f\"Total samples in Iris dataset: {N_TOTAL_SAMPLES}\")\n",
        "print(f\"Number of features: {N_FEATURES}\")\n",
        "print(f\"Number of classes: {N_CLASSES}\")"
      ],
      "metadata": {
        "colab": {
          "base_uri": "https://localhost:8080/"
        },
        "id": "XXyYqTjzSCTi",
        "outputId": "c4d2eade-8b5d-4dba-f294-011b1c0cdd17"
      },
      "execution_count": 3,
      "outputs": [
        {
          "output_type": "stream",
          "name": "stdout",
          "text": [
            "Loading Iris dataset...\n",
            "Total samples in Iris dataset: 150\n",
            "Number of features: 4\n",
            "Number of classes: 3\n"
          ]
        }
      ]
    },
    {
      "cell_type": "code",
      "source": [
        "# Optional: Shuffle the full dataset initially to simulate random arrival order\n",
        "# In a real system, data might arrive chronologically or based on some other criteria.\n",
        "\n",
        "shuffle_idx = np.random.permutation(N_TOTAL_SAMPLES)\n",
        "X_full = X_full[shuffle_idx]\n",
        "y_full = y_full[shuffle_idx]"
      ],
      "metadata": {
        "id": "ZKuCodrASCWX"
      },
      "execution_count": 5,
      "outputs": []
    },
    {
      "cell_type": "code",
      "source": [
        "# --- Initialize Current \"Arrived\" Dataset ---\n",
        "# Start with empty numpy arrays that match the structure of the full dataset\n",
        "X_current = np.empty((0, N_FEATURES))\n",
        "y_current = np.empty((0,), dtype=y_full.dtype) # Ensure correct dtype for labels"
      ],
      "metadata": {
        "id": "IFfyYUHhSCbr"
      },
      "execution_count": 6,
      "outputs": []
    },
    {
      "cell_type": "code",
      "source": [
        "X_current"
      ],
      "metadata": {
        "colab": {
          "base_uri": "https://localhost:8080/"
        },
        "id": "eRM3u9iQSZi1",
        "outputId": "449b3d98-08a4-4cb1-b6d2-704e1f4422f4"
      },
      "execution_count": 7,
      "outputs": [
        {
          "output_type": "execute_result",
          "data": {
            "text/plain": [
              "array([], shape=(0, 4), dtype=float64)"
            ]
          },
          "metadata": {},
          "execution_count": 7
        }
      ]
    },
    {
      "cell_type": "code",
      "source": [
        "y_current"
      ],
      "metadata": {
        "colab": {
          "base_uri": "https://localhost:8080/"
        },
        "id": "tNiKbcrcSZlu",
        "outputId": "ecc01ecb-64e2-4685-87b1-05e64edff69b"
      },
      "execution_count": 8,
      "outputs": [
        {
          "output_type": "execute_result",
          "data": {
            "text/plain": [
              "array([], dtype=int64)"
            ]
          },
          "metadata": {},
          "execution_count": 8
        }
      ]
    },
    {
      "cell_type": "code",
      "source": [
        "\n",
        "# --- Simulation Loop: Simulating Data Arrival and Periodic Evaluation ---\n",
        "print(\"\\nStarting real-time data simulation (slicing Iris) and periodic K-Fold evaluation...\")\n",
        "\n",
        "current_idx = 0 # Keep track of how many samples we've processed from the full dataset\n",
        "step = 0 # Simulated time step counter\n",
        "\n",
        "while current_idx < N_TOTAL_SAMPLES:\n",
        "    step += 1\n",
        "    print(f\"\\n--- Time Step {step} ---\")\n",
        "\n",
        "    # 1. Simulate new data arriving (take the next batch from the shuffled dataset)\n",
        "    start_slice = current_idx\n",
        "    end_slice = min(current_idx + N_BATCH_SAMPLES, N_TOTAL_SAMPLES) # Handle the last potentially smaller batch\n",
        "\n",
        "    X_new = X_full[start_slice:end_slice]\n",
        "    y_new = y_full[start_slice:end_slice]\n",
        "\n",
        "    # Break if no new samples were added (can happen if N_BATCH_SAMPLES is large and current_idx is already N_TOTAL_SAMPLES)\n",
        "    if len(X_new) == 0:\n",
        "        print(\"No new samples to add. Ending simulation loop.\")\n",
        "        break\n",
        "\n",
        "    print(f\"Simulating arrival of {len(X_new)} new samples (Indices {start_slice} to {end_slice-1} from shuffled dataset).\")\n",
        "\n",
        "    # 2. Add new data to the current \"arrived\" dataset\n",
        "    X_current = np.vstack((X_current, X_new))\n",
        "    y_current = np.concatenate((y_current, y_new))\n",
        "    current_idx = end_slice # Update the index for the next step\n",
        "\n",
        "    print(f\"Current total dataset size: {len(X_current)} samples\")\n",
        "\n",
        "    # 3. Perform K-Fold Cross-Validation periodically\n",
        "    # Evaluate every EVAL_INTERVAL steps OR when the last batch has arrived (current_idx == N_TOTAL_SAMPLES)\n",
        "    if (step % EVAL_INTERVAL == 0) or (current_idx == N_TOTAL_SAMPLES):\n",
        "        print(f\"Evaluation interval reached (or all data arrived).\")\n",
        "\n",
        "        if len(X_current) < MIN_SAMPLES_FOR_KFOLD:\n",
        "            print(f\"Current dataset ({len(X_current)} samples) too small for K-Fold with {K_FOLDS} splits. Skipping evaluation.\")\n",
        "            continue\n",
        "\n",
        "        print(f\"Performing {K_FOLDS}-Fold Cross-Validation on the current snapshot of {len(X_current)} samples...\")\n",
        "\n",
        "        kf = KFold(n_splits=K_FOLDS, shuffle=True, random_state=42) # Fixed random_state for reproducible splits *within* this evaluation run\n",
        "        fold_accuracies = []\n",
        "\n",
        "        # Create a new model instance for each evaluation run on the current snapshot\n",
        "        # This simulates retraining a model from scratch on the updated dataset\n",
        "        model = LogisticRegression(solver='liblinear', max_iter=1000) # Use liblinear for speed/small datasets\n",
        "\n",
        "        for fold, (train_index, val_index) in enumerate(kf.split(X_current, y_current)):\n",
        "            # Split data for the current fold\n",
        "            X_fold_train, X_fold_val = X_current[train_index], X_current[val_index]\n",
        "            y_fold_train, y_fold_val = y_current[train_index], y_current[val_index]\n",
        "\n",
        "            # Train the model on the training fold\n",
        "            model.fit(X_fold_train, y_fold_train)\n",
        "\n",
        "            # Evaluate the model on the validation fold\n",
        "            y_pred = model.predict(X_fold_val)\n",
        "            accuracy = accuracy_score(y_fold_val, y_pred)\n",
        "            fold_accuracies.append(accuracy)\n",
        "\n",
        "            # Optional: print per fold accuracy\n",
        "            # print(f\"  Fold {fold + 1} Accuracy: {accuracy:.4f}\")\n",
        "\n",
        "        # 4. Report average performance for this evaluation run\n",
        "        avg_accuracy = np.mean(fold_accuracies)\n",
        "        print(f\"--- Average {K_FOLDS}-Fold CV Accuracy (Snapshot Size: {len(X_current)} samples): {avg_accuracy:.4f} ---\")\n",
        "\n",
        "    # Optional: Add a delay to simulate time passing\n",
        "    # time.sleep(0.1) # Small delay\n",
        "\n",
        "print(\"\\nSimulation finished. All data processed.\")"
      ],
      "metadata": {
        "colab": {
          "base_uri": "https://localhost:8080/"
        },
        "id": "1LM9ekxKSCeb",
        "outputId": "542e0eb9-91f7-46bc-eb46-d604b75b62ba"
      },
      "execution_count": 9,
      "outputs": [
        {
          "output_type": "stream",
          "name": "stdout",
          "text": [
            "\n",
            "Starting real-time data simulation (slicing Iris) and periodic K-Fold evaluation...\n",
            "\n",
            "--- Time Step 1 ---\n",
            "Simulating arrival of 15 new samples (Indices 0 to 14 from shuffled dataset).\n",
            "Current total dataset size: 15 samples\n",
            "\n",
            "--- Time Step 2 ---\n",
            "Simulating arrival of 15 new samples (Indices 15 to 29 from shuffled dataset).\n",
            "Current total dataset size: 30 samples\n",
            "\n",
            "--- Time Step 3 ---\n",
            "Simulating arrival of 15 new samples (Indices 30 to 44 from shuffled dataset).\n",
            "Current total dataset size: 45 samples\n",
            "Evaluation interval reached (or all data arrived).\n",
            "Performing 5-Fold Cross-Validation on the current snapshot of 45 samples...\n",
            "--- Average 5-Fold CV Accuracy (Snapshot Size: 45 samples): 0.8667 ---\n",
            "\n",
            "--- Time Step 4 ---\n",
            "Simulating arrival of 15 new samples (Indices 45 to 59 from shuffled dataset).\n",
            "Current total dataset size: 60 samples\n",
            "\n",
            "--- Time Step 5 ---\n",
            "Simulating arrival of 15 new samples (Indices 60 to 74 from shuffled dataset).\n",
            "Current total dataset size: 75 samples\n",
            "\n",
            "--- Time Step 6 ---\n",
            "Simulating arrival of 15 new samples (Indices 75 to 89 from shuffled dataset).\n",
            "Current total dataset size: 90 samples\n",
            "Evaluation interval reached (or all data arrived).\n",
            "Performing 5-Fold Cross-Validation on the current snapshot of 90 samples...\n",
            "--- Average 5-Fold CV Accuracy (Snapshot Size: 90 samples): 0.9000 ---\n",
            "\n",
            "--- Time Step 7 ---\n",
            "Simulating arrival of 15 new samples (Indices 90 to 104 from shuffled dataset).\n",
            "Current total dataset size: 105 samples\n",
            "\n",
            "--- Time Step 8 ---\n",
            "Simulating arrival of 15 new samples (Indices 105 to 119 from shuffled dataset).\n",
            "Current total dataset size: 120 samples\n",
            "\n",
            "--- Time Step 9 ---\n",
            "Simulating arrival of 15 new samples (Indices 120 to 134 from shuffled dataset).\n",
            "Current total dataset size: 135 samples\n",
            "Evaluation interval reached (or all data arrived).\n",
            "Performing 5-Fold Cross-Validation on the current snapshot of 135 samples...\n",
            "--- Average 5-Fold CV Accuracy (Snapshot Size: 135 samples): 0.9407 ---\n",
            "\n",
            "--- Time Step 10 ---\n",
            "Simulating arrival of 15 new samples (Indices 135 to 149 from shuffled dataset).\n",
            "Current total dataset size: 150 samples\n",
            "Evaluation interval reached (or all data arrived).\n",
            "Performing 5-Fold Cross-Validation on the current snapshot of 150 samples...\n",
            "--- Average 5-Fold CV Accuracy (Snapshot Size: 150 samples): 0.9467 ---\n",
            "\n",
            "Simulation finished. All data processed.\n"
          ]
        }
      ]
    }
  ]
}