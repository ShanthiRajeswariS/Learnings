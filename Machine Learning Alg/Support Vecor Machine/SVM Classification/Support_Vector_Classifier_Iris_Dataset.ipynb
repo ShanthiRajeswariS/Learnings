{
  "nbformat": 4,
  "nbformat_minor": 0,
  "metadata": {
    "colab": {
      "provenance": []
    },
    "kernelspec": {
      "name": "python3",
      "display_name": "Python 3"
    },
    "language_info": {
      "name": "python"
    }
  },
  "cells": [
    {
      "cell_type": "code",
      "execution_count": 1,
      "metadata": {
        "id": "43-k2dybU0Tl"
      },
      "outputs": [],
      "source": [
        "import numpy as np\n",
        "import matplotlib.pyplot as plt\n",
        "from sklearn import datasets\n",
        "from sklearn.model_selection import train_test_split\n",
        "from sklearn.preprocessing import StandardScaler\n",
        "from sklearn.svm import SVC\n",
        "from sklearn.metrics import accuracy_score, confusion_matrix, classification_report\n",
        "from matplotlib.colors import ListedColormap\n"
      ]
    },
    {
      "cell_type": "code",
      "source": [
        "iris = datasets.load_iris()\n",
        "X = iris.data[:, [2, 3]]  # Using only petal length and petal width\n",
        "y = iris.target\n"
      ],
      "metadata": {
        "id": "4cX857jmU064"
      },
      "execution_count": 2,
      "outputs": []
    },
    {
      "cell_type": "code",
      "source": [
        "X_train, X_test, y_train, y_test = train_test_split(X, y, test_size=0.3, random_state=42)\n"
      ],
      "metadata": {
        "id": "zltqFRvTU09o"
      },
      "execution_count": 3,
      "outputs": []
    },
    {
      "cell_type": "code",
      "source": [
        "sc = StandardScaler()\n",
        "X_train_std = sc.fit_transform(X_train)\n",
        "X_test_std = sc.transform(X_test)\n"
      ],
      "metadata": {
        "id": "0tH11F7hU1DR"
      },
      "execution_count": 4,
      "outputs": []
    },
    {
      "cell_type": "code",
      "source": [
        "kernels = ['linear', 'poly', 'rbf', 'sigmoid']\n",
        "svm_models = {}\n",
        "\n",
        "for kernel in kernels:\n",
        "    # Create and train the SVM classifier\n",
        "    svm = SVC(kernel=kernel, C=1.0, random_state=42)\n",
        "    svm.fit(X_train_std, y_train)\n",
        "\n",
        "    # Make predictions\n",
        "    y_pred = svm.predict(X_test_std)\n",
        "\n",
        "    # Calculate accuracy\n",
        "    accuracy = accuracy_score(y_test, y_pred)\n",
        "\n",
        "    # Store the model and results\n",
        "    svm_models[kernel] = {\n",
        "        'model': svm,\n",
        "        'accuracy': accuracy,\n",
        "        'predictions': y_pred\n",
        "    }\n",
        "\n",
        "    print(f\"\\nKernel: {kernel}\")\n",
        "    print(f\"Accuracy: {accuracy:.4f}\")\n",
        "    print(\"\\nConfusion Matrix:\")\n",
        "    print(confusion_matrix(y_test, y_pred))\n",
        "    print(\"\\nClassification Report:\")\n",
        "    print(classification_report(y_test, y_pred))\n",
        "\n"
      ],
      "metadata": {
        "colab": {
          "base_uri": "https://localhost:8080/"
        },
        "id": "Qm_nogivU1GB",
        "outputId": "542f58a5-f5e6-42d2-99df-6061db0666b5"
      },
      "execution_count": 5,
      "outputs": [
        {
          "output_type": "stream",
          "name": "stdout",
          "text": [
            "\n",
            "Kernel: linear\n",
            "Accuracy: 1.0000\n",
            "\n",
            "Confusion Matrix:\n",
            "[[19  0  0]\n",
            " [ 0 13  0]\n",
            " [ 0  0 13]]\n",
            "\n",
            "Classification Report:\n",
            "              precision    recall  f1-score   support\n",
            "\n",
            "           0       1.00      1.00      1.00        19\n",
            "           1       1.00      1.00      1.00        13\n",
            "           2       1.00      1.00      1.00        13\n",
            "\n",
            "    accuracy                           1.00        45\n",
            "   macro avg       1.00      1.00      1.00        45\n",
            "weighted avg       1.00      1.00      1.00        45\n",
            "\n",
            "\n",
            "Kernel: poly\n",
            "Accuracy: 0.9778\n",
            "\n",
            "Confusion Matrix:\n",
            "[[19  0  0]\n",
            " [ 0 13  0]\n",
            " [ 0  1 12]]\n",
            "\n",
            "Classification Report:\n",
            "              precision    recall  f1-score   support\n",
            "\n",
            "           0       1.00      1.00      1.00        19\n",
            "           1       0.93      1.00      0.96        13\n",
            "           2       1.00      0.92      0.96        13\n",
            "\n",
            "    accuracy                           0.98        45\n",
            "   macro avg       0.98      0.97      0.97        45\n",
            "weighted avg       0.98      0.98      0.98        45\n",
            "\n",
            "\n",
            "Kernel: rbf\n",
            "Accuracy: 1.0000\n",
            "\n",
            "Confusion Matrix:\n",
            "[[19  0  0]\n",
            " [ 0 13  0]\n",
            " [ 0  0 13]]\n",
            "\n",
            "Classification Report:\n",
            "              precision    recall  f1-score   support\n",
            "\n",
            "           0       1.00      1.00      1.00        19\n",
            "           1       1.00      1.00      1.00        13\n",
            "           2       1.00      1.00      1.00        13\n",
            "\n",
            "    accuracy                           1.00        45\n",
            "   macro avg       1.00      1.00      1.00        45\n",
            "weighted avg       1.00      1.00      1.00        45\n",
            "\n",
            "\n",
            "Kernel: sigmoid\n",
            "Accuracy: 0.9778\n",
            "\n",
            "Confusion Matrix:\n",
            "[[19  0  0]\n",
            " [ 0 12  1]\n",
            " [ 0  0 13]]\n",
            "\n",
            "Classification Report:\n",
            "              precision    recall  f1-score   support\n",
            "\n",
            "           0       1.00      1.00      1.00        19\n",
            "           1       1.00      0.92      0.96        13\n",
            "           2       0.93      1.00      0.96        13\n",
            "\n",
            "    accuracy                           0.98        45\n",
            "   macro avg       0.98      0.97      0.97        45\n",
            "weighted avg       0.98      0.98      0.98        45\n",
            "\n"
          ]
        }
      ]
    },
    {
      "cell_type": "code",
      "source": [
        "svm_models"
      ],
      "metadata": {
        "colab": {
          "base_uri": "https://localhost:8080/"
        },
        "id": "GtcaCDuVU1Io",
        "outputId": "f9dc8cad-63d6-461a-9d0e-ad9dd5c31d44"
      },
      "execution_count": 6,
      "outputs": [
        {
          "output_type": "execute_result",
          "data": {
            "text/plain": [
              "{'linear': {'model': SVC(kernel='linear', random_state=42),\n",
              "  'accuracy': 1.0,\n",
              "  'predictions': array([1, 0, 2, 1, 1, 0, 1, 2, 1, 1, 2, 0, 0, 0, 0, 1, 2, 1, 1, 2, 0, 2,\n",
              "         0, 2, 2, 2, 2, 2, 0, 0, 0, 0, 1, 0, 0, 2, 1, 0, 0, 0, 2, 1, 1, 0,\n",
              "         0])},\n",
              " 'poly': {'model': SVC(kernel='poly', random_state=42),\n",
              "  'accuracy': 0.9777777777777777,\n",
              "  'predictions': array([1, 0, 2, 1, 1, 0, 1, 2, 1, 1, 2, 0, 0, 0, 0, 1, 2, 1, 1, 2, 0, 1,\n",
              "         0, 2, 2, 2, 2, 2, 0, 0, 0, 0, 1, 0, 0, 2, 1, 0, 0, 0, 2, 1, 1, 0,\n",
              "         0])},\n",
              " 'rbf': {'model': SVC(random_state=42),\n",
              "  'accuracy': 1.0,\n",
              "  'predictions': array([1, 0, 2, 1, 1, 0, 1, 2, 1, 1, 2, 0, 0, 0, 0, 1, 2, 1, 1, 2, 0, 2,\n",
              "         0, 2, 2, 2, 2, 2, 0, 0, 0, 0, 1, 0, 0, 2, 1, 0, 0, 0, 2, 1, 1, 0,\n",
              "         0])},\n",
              " 'sigmoid': {'model': SVC(kernel='sigmoid', random_state=42),\n",
              "  'accuracy': 0.9777777777777777,\n",
              "  'predictions': array([1, 0, 2, 1, 1, 0, 1, 2, 1, 1, 2, 0, 0, 0, 0, 2, 2, 1, 1, 2, 0, 2,\n",
              "         0, 2, 2, 2, 2, 2, 0, 0, 0, 0, 1, 0, 0, 2, 1, 0, 0, 0, 2, 1, 1, 0,\n",
              "         0])}}"
            ]
          },
          "metadata": {},
          "execution_count": 6
        }
      ]
    },
    {
      "cell_type": "code",
      "source": [
        "def plot_decision_regions(X, y, classifier, test_idx=None, resolution=0.02):\n",
        "    # Set up marker generator and color map\n",
        "    markers = ('o', 's', '^')\n",
        "    colors = ('red', 'blue', 'lightgreen')\n",
        "    cmap = ListedColormap(colors[:len(np.unique(y))])\n",
        "\n",
        "    # Define the range of the plot\n",
        "    x1_min, x1_max = X[:, 0].min() - 1, X[:, 0].max() + 1\n",
        "    x2_min, x2_max = X[:, 1].min() - 1, X[:, 1].max() + 1\n",
        "\n",
        "    # Create a mesh grid\n",
        "    xx1, xx2 = np.meshgrid(np.arange(x1_min, x1_max, resolution),\n",
        "                          np.arange(x2_min, x2_max, resolution))\n",
        "\n",
        "    # Predict class labels for each point in the mesh grid\n",
        "    Z = classifier.predict(np.array([xx1.ravel(), xx2.ravel()]).T)\n",
        "    Z = Z.reshape(xx1.shape)\n",
        "\n",
        "    # Plot the decision surface\n",
        "    plt.contourf(xx1, xx2, Z, alpha=0.3, cmap=cmap)\n",
        "    plt.xlim(xx1.min(), xx1.max())\n",
        "    plt.ylim(xx2.min(), xx2.max())\n",
        "\n",
        "    # Plot all samples\n",
        "    for idx, cl in enumerate(np.unique(y)):\n",
        "        plt.scatter(x=X[y == cl, 0], y=X[y == cl, 1],\n",
        "                   alpha=0.8, c=colors[idx],\n",
        "                   marker=markers[idx], label=f'Class {cl}')\n",
        "\n",
        "    # Highlight test samples\n",
        "    if test_idx:\n",
        "        X_test, y_test = X[test_idx, :], y[test_idx]\n",
        "        plt.scatter(X_test[:, 0], X_test[:, 1],\n",
        "                   c='black', alpha=1.0, linewidth=1, marker='o',\n",
        "                   s=100, label='Test set')\n"
      ],
      "metadata": {
        "id": "Fsdd3awvU1LQ"
      },
      "execution_count": 10,
      "outputs": []
    },
    {
      "cell_type": "code",
      "source": [
        "X_combined_std = np.vstack((X_train_std, X_test_std))\n",
        "y_combined = np.hstack((y_train, y_test))\n",
        "test_idx = range(len(y_train), len(y_combined))\n"
      ],
      "metadata": {
        "id": "-Fi4RJU9U1OA"
      },
      "execution_count": 11,
      "outputs": []
    },
    {
      "cell_type": "code",
      "source": [
        "plt.figure(figsize=(10, 8))\n",
        "plot_decision_regions(X_combined_std, y_combined,\n",
        "                     classifier=svm_models['rbf']['model'],\n",
        "                     test_idx=test_idx)\n",
        "plt.xlabel('Petal length (standardized)')\n",
        "plt.ylabel('Petal width (standardized)')\n",
        "plt.title('SVM with RBF Kernel')\n",
        "plt.legend(loc='upper left')\n",
        "plt.tight_layout()\n"
      ],
      "metadata": {
        "colab": {
          "base_uri": "https://localhost:8080/",
          "height": 807
        },
        "id": "3bYDz6gTU1Qo",
        "outputId": "b309394f-7cd2-4ace-bca8-c5153df45ebd"
      },
      "execution_count": 12,
      "outputs": [
        {
          "output_type": "display_data",
          "data": {
            "text/plain": [
              "<Figure size 1000x800 with 1 Axes>"
            ],
            "image/png": "[encoded data removed]"
          },
          "metadata": {}
        }
      ]
    },
    {
      "cell_type": "code",
      "source": [
        "X_binary = X_train_std[y_train != 2]\n",
        "y_binary = y_train[y_train != 2]\n"
      ],
      "metadata": {
        "id": "hggBeskuU1Ta"
      },
      "execution_count": 13,
      "outputs": []
    },
    {
      "cell_type": "code",
      "source": [
        "# Assuming the user intends to create a custom SVM class\n",
        "# Here's a basic template to define CustomSVM\n",
        "class CustomSVM:\n",
        "    def __init__(self, learning_rate=0.001, n_iterations=1000):\n",
        "        self.learning_rate = learning_rate\n",
        "        self.n_iterations = n_iterations\n",
        "        # Add other necessary attributes\n",
        "\n",
        "    def fit(self, X, y):\n",
        "        # Implement the training logic here\n",
        "        pass\n",
        "\n",
        "    def predict(self, X):\n",
        "        # Implement the prediction logic here\n",
        "        # This is a placeholder, replace with your prediction logic\n",
        "        # For example, you might have something like:\n",
        "        # return np.zeros(X.shape[0])  # Replace with your logic\n",
        "        # Returning a dummy array of zeros for now\n",
        "        return np.zeros(X.shape[0])\n",
        "\n",
        "# Now, the code should run without the NameError\n",
        "custom_svm = CustomSVM(learning_rate=0.001, n_iterations=1000)\n",
        "custom_svm.fit(X_binary, y_binary)"
      ],
      "metadata": {
        "id": "3shP9AYaU1WY"
      },
      "execution_count": 18,
      "outputs": []
    },
    {
      "cell_type": "code",
      "source": [
        "X_test_binary = X_test_std[y_test != 2]\n",
        "y_test_binary = y_test[y_test != 2]\n",
        "y_pred_custom = custom_svm.predict(X_test_binary)\n"
      ],
      "metadata": {
        "id": "IGdDiENyU1ZR"
      },
      "execution_count": 21,
      "outputs": []
    },
    {
      "cell_type": "code",
      "source": [
        "y_pred_custom = np.where(y_pred_custom <= 0, 0, 1)\n"
      ],
      "metadata": {
        "id": "LRLpXQj8U1cJ"
      },
      "execution_count": 22,
      "outputs": []
    },
    {
      "cell_type": "code",
      "source": [
        "accuracy_custom = accuracy_score(y_test_binary, y_pred_custom)\n",
        "print(f\"\\nCustom SVM Accuracy on binary classification: {accuracy_custom:.4f}\")\n",
        "print(confusion_matrix(y_test_binary, y_pred_custom))"
      ],
      "metadata": {
        "colab": {
          "base_uri": "https://localhost:8080/"
        },
        "id": "fd8YwPWeU1eh",
        "outputId": "18caf0c2-0532-44c3-be9c-381cfd5ec174"
      },
      "execution_count": 23,
      "outputs": [
        {
          "output_type": "stream",
          "name": "stdout",
          "text": [
            "\n",
            "Custom SVM Accuracy on binary classification: 0.5938\n",
            "[[19  0]\n",
            " [13  0]]\n"
          ]
        }
      ]
    },
    {
      "cell_type": "code",
      "source": [],
      "metadata": {
        "id": "RwHAxiJ6U1hZ"
      },
      "execution_count": null,
      "outputs": []
    }
  ]
}