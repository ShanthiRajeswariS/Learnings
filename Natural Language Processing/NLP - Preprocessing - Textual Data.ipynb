{
 "cells": [
  {
   "cell_type": "code",
   "execution_count": null,
   "id": "a09c2585",
   "metadata": {},
   "outputs": [],
   "source": []
  },
  {
   "cell_type": "markdown",
   "id": "9c60b779",
   "metadata": {},
   "source": [
    "# Reference"
   ]
  },
  {
   "cell_type": "markdown",
   "id": "6909913d",
   "metadata": {},
   "source": [
    "- https://spotintelligence.com/2022/11/24/natural-language-processing-techniques/"
   ]
  }
 ],
 "metadata": {
  "language_info": {
   "name": "python"
  }
 },
 "nbformat": 4,
 "nbformat_minor": 5
}
