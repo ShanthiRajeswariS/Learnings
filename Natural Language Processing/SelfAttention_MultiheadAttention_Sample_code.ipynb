{
  "nbformat": 4,
  "nbformat_minor": 0,
  "metadata": {
    "colab": {
      "provenance": []
    },
    "kernelspec": {
      "name": "python3",
      "display_name": "Python 3"
    },
    "language_info": {
      "name": "python"
    }
  },
  "cells": [
    {
      "cell_type": "markdown",
      "source": [
        "# Self-Attention"
      ],
      "metadata": {
        "id": "Wgu22jWl9Vk9"
      }
    },
    {
      "cell_type": "markdown",
      "source": [
        "- Self-attention allows a model to weigh **the importance of different words in a sequence relative to each other**.\n",
        "\n",
        "- For each word, it calculates **attention scores with every other word, allowing the model to capture relationships regardless of their distance in the sequence**.\n"
      ],
      "metadata": {
        "id": "CixcmRGy9Vni"
      }
    },
    {
      "cell_type": "markdown",
      "source": [
        "## Key Steps"
      ],
      "metadata": {
        "id": "i7HkD-Ci9Vqd"
      }
    },
    {
      "cell_type": "markdown",
      "source": [
        "1. Transform input embeddings into queries, keys, and values\n",
        "2. Calculate attention scores between queries and keys\n",
        "3. Scale and normalize these scores with softmax\n",
        "4. Use these attention weights to create weighted combinations of values"
      ],
      "metadata": {
        "id": "W0EJBM709Vte"
      }
    },
    {
      "cell_type": "markdown",
      "source": [
        "1. Prepare your input data: The first step is to prepare your input data, usually a sequence of data such as text or a time series.\n",
        "\n",
        "2. Calculate attention scores: The next step is calculating the attention scores between each element in the input sequence. This is done by applying a multi-layer feedforward neural network to each aspect, generating a set of attention scores representing each element’s importance in the series.\n",
        "\n",
        "3. Apply attention mechanism: Using the attention scores, the attention mechanism can be applied to the input sequence. This is done by weighting each element in the series by its attention score, producing a weighted representation of the input sequence.\n",
        "\n",
        "4. Pass the weighted representation through the model: The weighted term of the input sequence is then passed through the rest of the model, typically a series of fully connected layers, to make predictions.\n",
        "\n",
        "5. Train the model: Finally, the model is trained using a supervised learning algorithm, like cross-entropy loss, to minimise the prediction error."
      ],
      "metadata": {
        "id": "ArMfmDShFN5F"
      }
    },
    {
      "cell_type": "markdown",
      "source": [
        "# Multi-Head Attention"
      ],
      "metadata": {
        "id": "vkZpgS7z9Vwj"
      }
    },
    {
      "cell_type": "markdown",
      "source": [
        "1. Splitting the embedding dimension into multiple \"heads\"\n",
        "2. Running parallel attention operations in each head\n",
        "3. Allowing each head to focus on different aspects of the relationships\n",
        "4. Concatenating and transforming the results"
      ],
      "metadata": {
        "id": "p81se1oq9Vzp"
      }
    },
    {
      "cell_type": "code",
      "source": [
        "import numpy as np\n",
        "import torch\n",
        "import torch.nn as nn #Netural network\n",
        "import torch.nn.functional as F\n",
        "import matplotlib.pyplot as plt\n",
        "import seaborn as sns"
      ],
      "metadata": {
        "id": "AatAMINC-AYq"
      },
      "execution_count": 1,
      "outputs": []
    },
    {
      "cell_type": "code",
      "source": [
        "class SelfAttention(nn.Module):\n",
        "    def __init__(self, embed_size, heads):\n",
        "        \"\"\"\n",
        "        Self Attention mechanism\n",
        "\n",
        "        Args:\n",
        "            embed_size: Embedding dimension\n",
        "            heads: Number of attention heads\n",
        "        \"\"\"\n",
        "        super(SelfAttention, self).__init__()\n",
        "        self.embed_size = embed_size\n",
        "        self.heads = heads\n",
        "        self.head_dim = embed_size // heads\n",
        "\n",
        "        assert self.head_dim * heads == embed_size, \"Embedding size needs to be divisible by heads\"\n",
        "\n",
        "        # Linear layers for queries, keys, and values\n",
        "        self.q = nn.Linear(self.head_dim, self.head_dim, bias=False)\n",
        "        self.k = nn.Linear(self.head_dim, self.head_dim, bias=False)\n",
        "        self.v = nn.Linear(self.head_dim, self.head_dim, bias=False)\n",
        "\n",
        "        # Output linear layer\n",
        "        self.fc_out = nn.Linear(heads * self.head_dim, embed_size)\n",
        "\n",
        "    def forward(self, query, key, value, mask=None):\n",
        "        # Get batch size and sequence length\n",
        "        N = query.shape[0]\n",
        "        query_len, key_len, value_len = query.shape[1], key.shape[1], value.shape[1]\n",
        "\n",
        "        # Reshape for multi-head attention\n",
        "        # Original: [N, seq_len, embed_size] -> [N, seq_len, heads, head_dim]\n",
        "        query = query.reshape(N, query_len, self.heads, self.head_dim)\n",
        "        key = key.reshape(N, key_len, self.heads, self.head_dim)\n",
        "        value = value.reshape(N, value_len, self.heads, self.head_dim)\n",
        "\n",
        "        # Apply linear transformations\n",
        "        query = self.q(query)  # (N, query_len, heads, head_dim)\n",
        "        key = self.k(key)      # (N, key_len, heads, head_dim)\n",
        "        value = self.v(value)  # (N, value_len, heads, head_dim)\n",
        "\n",
        "        # Compute attention scores\n",
        "        # Transpose key for matrix multiplication\n",
        "        # (N, heads, query_len, head_dim) x (N, heads, head_dim, key_len) -> (N, heads, query_len, key_len)\n",
        "        energy = torch.einsum(\"nqhd,nkhd->nhqk\", [query, key])\n",
        "\n",
        "        # Scale the attention scores\n",
        "        energy = energy / (self.head_dim ** 0.5)\n",
        "\n",
        "        # Apply mask if provided (used in decoder for causal attention)\n",
        "        if mask is not None:\n",
        "            energy = energy.masked_fill(mask == 0, float(\"-1e20\"))\n",
        "\n",
        "        # Apply softmax to get attention weights\n",
        "        attention = F.softmax(energy, dim=-1)  # (N, heads, query_len, key_len)\n",
        "\n",
        "        # Multiply attention weights with values\n",
        "        # (N, heads, query_len, key_len) x (N, heads, value_len, head_dim) -> (N, heads, query_len, head_dim)\n",
        "        out = torch.einsum(\"nhql,nlhd->nqhd\", [attention, value])\n",
        "\n",
        "        # Reshape and pass through final linear layer\n",
        "        out = out.reshape(N, query_len, self.heads * self.head_dim)  # (N, query_len, embed_size)\n",
        "        out = self.fc_out(out)  # (N, query_len, embed_size)\n",
        "\n",
        "        return out, attention\n"
      ],
      "metadata": {
        "id": "y5mrNsZ6-Abw"
      },
      "execution_count": 2,
      "outputs": []
    },
    {
      "cell_type": "code",
      "source": [
        "class MultiHeadAttention(nn.Module):\n",
        "    def __init__(self, embed_size, heads):\n",
        "        \"\"\"\n",
        "        Multi-Head Attention mechanism (more standard implementation)\n",
        "\n",
        "        Args:\n",
        "            embed_size: Embedding dimension\n",
        "            heads: Number of attention heads\n",
        "        \"\"\"\n",
        "        super(MultiHeadAttention, self).__init__()\n",
        "        self.embed_size = embed_size\n",
        "        self.heads = heads\n",
        "        self.head_dim = embed_size // heads\n",
        "\n",
        "        assert self.head_dim * heads == embed_size, \"Embedding size needs to be divisible by heads\"\n",
        "\n",
        "        # Single linear layers for all heads\n",
        "        self.query = nn.Linear(embed_size, embed_size)\n",
        "        self.key = nn.Linear(embed_size, embed_size)\n",
        "        self.value = nn.Linear(embed_size, embed_size)\n",
        "\n",
        "        # Output linear layer\n",
        "        self.fc_out = nn.Linear(embed_size, embed_size)\n",
        "\n",
        "    def forward(self, query, key, value, mask=None):\n",
        "        N = query.shape[0]\n",
        "        query_len, key_len, value_len = query.shape[1], key.shape[1], value.shape[1]\n",
        "\n",
        "        # Apply linear transformations first\n",
        "        query = self.query(query)  # (N, query_len, embed_size)\n",
        "        key = self.key(key)        # (N, key_len, embed_size)\n",
        "        value = self.value(value)  # (N, value_len, embed_size)\n",
        "\n",
        "        # Reshape for multiple heads\n",
        "        query = query.reshape(N, query_len, self.heads, self.head_dim)\n",
        "        key = key.reshape(N, key_len, self.heads, self.head_dim)\n",
        "        value = value.reshape(N, value_len, self.heads, self.head_dim)\n",
        "\n",
        "        # Compute attention scores\n",
        "        energy = torch.einsum(\"nqhd,nkhd->nhqk\", [query, key])\n",
        "\n",
        "        # Scale the attention scores\n",
        "        energy = energy / (self.head_dim ** 0.5)\n",
        "\n",
        "        # Apply mask if provided\n",
        "        if mask is not None:\n",
        "            energy = energy.masked_fill(mask == 0, float(\"-1e20\"))\n",
        "\n",
        "        # Apply softmax to get attention weights\n",
        "        attention = F.softmax(energy, dim=-1)  # (N, heads, query_len, key_len)\n",
        "        # Store the attention weights for visualization\n",
        "        self.attention_weights = attention.detach()\n",
        "\n",
        "        # Multiply attention weights with values\n",
        "        out = torch.einsum(\"nhql,nlhd->nqhd\", [attention, value])\n",
        "\n",
        "        # Reshape and pass through final linear layer\n",
        "        out = out.reshape(N, query_len, self.heads * self.head_dim)\n",
        "        out = self.fc_out(out)\n",
        "\n",
        "        return out"
      ],
      "metadata": {
        "id": "67OZm8vh-Aeh"
      },
      "execution_count": 3,
      "outputs": []
    },
    {
      "cell_type": "code",
      "source": [
        "# Real-time example with sentence processing\n",
        "def process_sentence_with_attention():\n",
        "    # Sample sentence\n",
        "    sentence = \"The cat sat on the mat\"\n",
        "    words = sentence.lower().split()\n",
        "\n",
        "    # Simple word embedding (for demonstration)\n",
        "    # In real applications, you would use pre-trained embeddings like Word2Vec or GloVe\n",
        "    word_to_idx = {word: i for i, word in enumerate(set(words))}\n",
        "    vocab_size = len(word_to_idx)\n",
        "\n",
        "    # Create a simple embedding matrix (random for demonstration)\n",
        "    np.random.seed(42)  # For reproducibility\n",
        "    embed_dim = 8\n",
        "    embedding_matrix = np.random.randn(vocab_size, embed_dim)\n",
        "\n",
        "    # Convert words to embeddings\n",
        "    word_indices = [word_to_idx[word] for word in words]\n",
        "    word_embeddings = np.array([embedding_matrix[idx] for idx in word_indices])\n",
        "\n",
        "    # Convert to PyTorch tensors\n",
        "    embeddings = torch.tensor(word_embeddings, dtype=torch.float32).unsqueeze(0)  # Add batch dimension\n",
        "\n",
        "    # Initialize attention mechanisms\n",
        "    embed_size = embed_dim\n",
        "    heads = 2\n",
        "    self_attention = SelfAttention(embed_size, heads)\n",
        "\n",
        "    # Process through self-attention\n",
        "    with torch.no_grad():\n",
        "        output, attention_weights = self_attention(embeddings, embeddings, embeddings)\n",
        "\n",
        "    print(f\"Input sentence: {sentence}\")\n",
        "    print(f\"Input shape: {embeddings.shape}\")\n",
        "    print(f\"Output shape: {output.shape}\")\n",
        "\n",
        "    # Visualize attention weights\n",
        "    plt.figure(figsize=(10, 5))\n",
        "\n",
        "    for h in range(heads):\n",
        "        plt.subplot(1, heads, h+1)\n",
        "        attn = attention_weights[0, h].numpy()\n",
        "        sns.heatmap(attn, annot=True, cmap='viridis', xticklabels=words, yticklabels=words)\n",
        "        plt.title(f'Head {h+1} Attention')\n",
        "\n",
        "    plt.tight_layout()\n",
        "    plt.show()\n",
        "\n",
        "    return {\n",
        "        'words': words,\n",
        "        'attention_weights': attention_weights,\n",
        "        'output': output\n",
        "    }\n"
      ],
      "metadata": {
        "id": "r1k1jYhO-AhZ"
      },
      "execution_count": 5,
      "outputs": []
    },
    {
      "cell_type": "code",
      "source": [
        "# Real-world application example: Sentiment analysis with attention\n",
        "class AttentionSentimentClassifier(nn.Module):\n",
        "    def __init__(self, vocab_size, embed_size, hidden_size, num_classes, num_heads):\n",
        "        super(AttentionSentimentClassifier, self).__init__()\n",
        "        self.embedding = nn.Embedding(vocab_size, embed_size)\n",
        "        self.attention = MultiHeadAttention(embed_size, num_heads)\n",
        "        self.fc = nn.Linear(embed_size, hidden_size)\n",
        "        self.classifier = nn.Linear(hidden_size, num_classes)\n",
        "        self.dropout = nn.Dropout(0.1)\n",
        "\n",
        "    def forward(self, x):\n",
        "        # x shape: (batch_size, seq_len)\n",
        "        embedded = self.embedding(x)  # (batch_size, seq_len, embed_size)\n",
        "\n",
        "        # Self-attention\n",
        "        attended = self.attention(embedded, embedded, embedded)  # (batch_size, seq_len, embed_size)\n",
        "\n",
        "        # Global average pooling over sequence length\n",
        "        pooled = torch.mean(attended, dim=1)  # (batch_size, embed_size)\n",
        "\n",
        "        # Fully connected layers\n",
        "        hidden = F.relu(self.fc(pooled))\n",
        "        hidden = self.dropout(hidden)\n",
        "        output = self.classifier(hidden)\n",
        "\n",
        "        return output"
      ],
      "metadata": {
        "id": "YP7Czf8K-AkK"
      },
      "execution_count": 6,
      "outputs": []
    },
    {
      "cell_type": "code",
      "source": [
        "# Example of how to train the sentiment classifier\n",
        "def sentiment_analysis_example():\n",
        "    # This is a simplified example - in a real scenario you would use actual data\n",
        "\n",
        "    # Sample parameters\n",
        "    vocab_size = 5000\n",
        "    embed_size = 128\n",
        "    hidden_size = 64\n",
        "    num_classes = 2  # Binary sentiment (positive/negative)\n",
        "    num_heads = 4\n",
        "\n",
        "    # Initialize model\n",
        "    model = AttentionSentimentClassifier(vocab_size, embed_size, hidden_size, num_classes, num_heads)\n",
        "\n",
        "    # Sample input (batch of 3 sentences, each with max length of 10)\n",
        "    input_ids = torch.randint(0, vocab_size, (3, 10))\n",
        "\n",
        "    # Forward pass\n",
        "    outputs = model(input_ids)\n",
        "\n",
        "    print(f\"Sentiment logits shape: {outputs.shape}\")\n",
        "    print(f\"Sample sentiment logits: {outputs}\")\n",
        "\n",
        "    # In a real scenario, you would:\n",
        "    # 1. Prepare your dataset with tokenization and padding\n",
        "    # 2. Define loss function and optimizer\n",
        "    # 3. Train the model with actual labeled data\n",
        "    # 4. Evaluate on validation set\n",
        "    # 5. Use the model for inference on new data\n",
        "\n",
        "    return model, outputs\n",
        "\n",
        "\n"
      ],
      "metadata": {
        "id": "f178WPqb-Am4"
      },
      "execution_count": 7,
      "outputs": []
    },
    {
      "cell_type": "code",
      "source": [
        "if __name__ == \"__main__\":\n",
        "    # Run the basic sentence processing example\n",
        "    result = process_sentence_with_attention()\n",
        "\n",
        "    # Run the sentiment analysis example\n",
        "    model, outputs = sentiment_analysis_example()"
      ],
      "metadata": {
        "colab": {
          "base_uri": "https://localhost:8080/",
          "height": 629
        },
        "id": "qqo2uHbRCiXA",
        "outputId": "c110d257-4a78-40a7-fc3e-47b625a6c58d"
      },
      "execution_count": 8,
      "outputs": [
        {
          "output_type": "stream",
          "name": "stdout",
          "text": [
            "Input sentence: The cat sat on the mat\n",
            "Input shape: torch.Size([1, 6, 8])\n",
            "Output shape: torch.Size([1, 6, 8])\n"
          ]
        },
        {
          "output_type": "display_data",
          "data": {
            "text/plain": [
              "<Figure size 1000x500 with 4 Axes>"
            ],
            "image/png": "[encoded data removed]"
          },
          "metadata": {}
        },
        {
          "output_type": "stream",
          "name": "stdout",
          "text": [
            "Sentiment logits shape: torch.Size([3, 2])\n",
            "Sample sentiment logits: tensor([[ 0.1112, -0.0213],\n",
            "        [ 0.1108, -0.0074],\n",
            "        [ 0.1610, -0.0307]], grad_fn=<AddmmBackward0>)\n"
          ]
        }
      ]
    },
    {
      "cell_type": "markdown",
      "source": [
        "# Self - Attention code"
      ],
      "metadata": {
        "id": "QYVeGKndDAeu"
      }
    },
    {
      "cell_type": "code",
      "source": [
        "import torch\n",
        "import torch.nn as nn\n",
        "import torch.nn.functional as F"
      ],
      "metadata": {
        "id": "ivo4cpVtC_pm"
      },
      "execution_count": 9,
      "outputs": []
    },
    {
      "cell_type": "code",
      "source": [
        "# --- 1. Define the SelfAttention Module ---\n",
        "class SelfAttention(nn.Module):\n",
        "    def __init__(self, embed_dim, num_heads=1):\n",
        "        \"\"\"\n",
        "        Initializes the SelfAttention module.\n",
        "\n",
        "        Args:\n",
        "            embed_dim (int): The dimension of the input embeddings.\n",
        "            num_heads (int): The number of attention heads (for simplicity, we'll stick to 1 initially,\n",
        "                             but multi-head attention is just running this process in parallel and concatenating).\n",
        "        \"\"\"\n",
        "        super().__init__()\n",
        "        if embed_dim % num_heads != 0:\n",
        "            raise ValueError(\n",
        "                f\"Embedding dimension ({embed_dim}) must be divisible by number of heads ({num_heads})\"\n",
        "            )\n",
        "        self.embed_dim = embed_dim\n",
        "        self.num_heads = num_heads\n",
        "        self.head_dim = embed_dim // num_heads\n",
        "\n",
        "        # Linear layers to project input into Query, Key, and Value matrices\n",
        "        # For single-head attention, these project from embed_dim to embed_dim\n",
        "        # For multi-head, they project from embed_dim to num_heads * head_dim (which is embed_dim)\n",
        "        self.W_q = nn.Linear(embed_dim, embed_dim)\n",
        "        self.W_k = nn.Linear(embed_dim, embed_dim)\n",
        "        self.W_v = nn.Linear(embed_dim, embed_dim)\n",
        "\n",
        "        # Output linear layer (for multi-head, this combines outputs from different heads)\n",
        "        self.W_o = nn.Linear(embed_dim, embed_dim)\n",
        "\n",
        "    def forward(self, x):\n",
        "        \"\"\"\n",
        "        Forward pass for the SelfAttention module.\n",
        "\n",
        "        Args:\n",
        "            x (torch.Tensor): Input tensor of shape (batch_size, sequence_length, embed_dim).\n",
        "\n",
        "        Returns:\n",
        "            torch.Tensor: Output tensor of shape (batch_size, sequence_length, embed_dim)\n",
        "                          representing the attended features.\n",
        "            torch.Tensor: Attention weights (for visualization/interpretability).\n",
        "        \"\"\"\n",
        "        batch_size, seq_len, embed_dim = x.size()\n",
        "\n",
        "        # 1. Project input x to Query, Key, Value using linear layers\n",
        "        # Resulting shape: (batch_size, sequence_length, embed_dim)\n",
        "        Q = self.W_q(x)\n",
        "        K = self.W_k(x)\n",
        "        V = self.W_v(x)\n",
        "\n",
        "        # For multi-head attention, these would be reshaped and permuted:\n",
        "        # Q = Q.view(batch_size, seq_len, self.num_heads, self.head_dim).permute(0, 2, 1, 3)\n",
        "        # K = K.view(batch_size, seq_len, self.num_heads, self.head_dim).permute(0, 2, 1, 3)\n",
        "        # V = V.view(batch_size, seq_len, self.num_heads, self.head_dim).permute(0, 2, 1, 3)\n",
        "        # Then attention is applied per head, and results are concatenated.\n",
        "\n",
        "        # 2. Calculate attention scores (dot product of Q and K transpose)\n",
        "        # (batch_size, seq_len, embed_dim) @ (batch_size, embed_dim, seq_len)\n",
        "        # -> (batch_size, seq_len, seq_len)\n",
        "        # Q @ K.transpose(-2, -1) performs batch matrix multiplication\n",
        "        attention_scores = torch.bmm(Q, K.transpose(1, 2))\n",
        "\n",
        "        # 3. Scale the attention scores\n",
        "        # This helps prevent the softmax function from having extremely small gradients\n",
        "        scaling_factor = torch.sqrt(torch.tensor(self.head_dim, dtype=torch.float32))\n",
        "        scaled_attention_scores = attention_scores / scaling_factor\n",
        "\n",
        "        # 4. Apply softmax to get attention weights\n",
        "        # (batch_size, seq_len, seq_len)\n",
        "        # The softmax is applied over the last dimension (the Key dimension),\n",
        "        # meaning for each query word, the weights sum to 1 over all key words.\n",
        "        attention_weights = F.softmax(scaled_attention_scores, dim=-1)\n",
        "\n",
        "        # 5. Multiply attention weights with Value matrix\n",
        "        # (batch_size, seq_len, seq_len) @ (batch_size, seq_len, embed_dim)\n",
        "        # -> (batch_size, seq_len, embed_dim)\n",
        "        attended_output = torch.bmm(attention_weights, V)\n",
        "\n",
        "        # 6. Apply final linear layer (W_o)\n",
        "        # (This step is more critical for multi-head attention to combine heads,\n",
        "        # but it's good practice to include it for single head as well.)\n",
        "        output = self.W_o(attended_output)\n",
        "\n",
        "        return output, attention_weights"
      ],
      "metadata": {
        "id": "viMx1rgLDDPI"
      },
      "execution_count": 10,
      "outputs": []
    },
    {
      "cell_type": "code",
      "source": [
        "# --- 2. Prepare Sample Data (Simulated Word Embeddings) ---\n",
        "\n",
        "# Let's represent a short sentence like \"The quick brown fox\"\n",
        "# For simplicity, we'll use small random tensors as word embeddings.\n",
        "# Assume:\n",
        "#   Batch size = 1 (one sentence)\n",
        "#   Sequence length = 4 (4 words)\n",
        "#   Embedding dimension = 64 (size of each word vector)\n",
        "\n",
        "batch_size = 1\n",
        "sequence_length = 4\n",
        "embed_dim = 64\n",
        "\n",
        "# Simulate word embeddings for a sentence.\n",
        "# In a real scenario, these would come from an embedding layer (e.g., Word2Vec, GloVe, BERT embeddings).\n",
        "# Example:\n",
        "# Word 1: [0.1, 0.2, ..., 0.5]\n",
        "# Word 2: [0.8, 0.3, ..., 0.7]\n",
        "# ...\n",
        "input_embeddings = torch.randn(batch_size, sequence_length, embed_dim)\n",
        "\n",
        "print(\"Input Embeddings Shape:\", input_embeddings.shape) # (1, 4, 64)\n",
        "print(\"-\" * 30)\n"
      ],
      "metadata": {
        "colab": {
          "base_uri": "https://localhost:8080/"
        },
        "id": "MX3UZALtDDSG",
        "outputId": "7f19c9dc-f01c-4b72-ae50-9e0672349d07"
      },
      "execution_count": 11,
      "outputs": [
        {
          "output_type": "stream",
          "name": "stdout",
          "text": [
            "Input Embeddings Shape: torch.Size([1, 4, 64])\n",
            "------------------------------\n"
          ]
        }
      ]
    },
    {
      "cell_type": "code",
      "source": [
        "# --- 3. Instantiate and Run the Self-Attention Model ---\n",
        "\n",
        "# Initialize the self-attention layer\n",
        "attention_layer = SelfAttention(embed_dim=embed_dim)\n",
        "\n",
        "# Perform the forward pass\n",
        "output_features, attention_weights = attention_layer(input_embeddings)\n",
        "\n",
        "print(\"Output Features Shape (Attended Context):\", output_features.shape) # (1, 4, 64)\n",
        "print(\"-\" * 30)\n",
        "\n",
        "print(\"Attention Weights Shape:\", attention_weights.shape) # (1, 4, 4)\n",
        "print(\"Attention Weights (first batch, for word 1):\")\n",
        "# This shows how much each word attends to every other word in the sequence.\n",
        "# For batch 0 (our only batch), for the first word (index 0):\n",
        "# attention_weights[0, 0] -> weights for word 0 attending to word 0, word 1, word 2, word 3\n",
        "print(attention_weights[0, 0].detach().numpy())\n",
        "print(\"\\nAttention Weights (first batch, for word 2):\")\n",
        "print(attention_weights[0, 1].detach().numpy())\n",
        "print(\"-\" * 30)"
      ],
      "metadata": {
        "colab": {
          "base_uri": "https://localhost:8080/"
        },
        "id": "NMNfKcUwDDVI",
        "outputId": "1ea086b9-eae9-451a-ca41-a53319f2e744"
      },
      "execution_count": 12,
      "outputs": [
        {
          "output_type": "stream",
          "name": "stdout",
          "text": [
            "Output Features Shape (Attended Context): torch.Size([1, 4, 64])\n",
            "------------------------------\n",
            "Attention Weights Shape: torch.Size([1, 4, 4])\n",
            "Attention Weights (first batch, for word 1):\n",
            "[0.27993485 0.17552002 0.1874432  0.35710198]\n",
            "\n",
            "Attention Weights (first batch, for word 2):\n",
            "[0.25414947 0.28165573 0.18428047 0.27991423]\n",
            "------------------------------\n"
          ]
        }
      ]
    },
    {
      "cell_type": "code",
      "source": [
        "\n",
        "# --- 4. Interpretation of Output and Weights ---\n",
        "\n",
        "print(\"Explanation of Output:\")\n",
        "print(\"The `output_features` tensor now contains new representations for each word.\")\n",
        "print(\"Each word's new representation is a weighted sum of ALL words in the sentence,\")\n",
        "print(\"where the weights (`attention_weights`) determine how much each other word contributes.\")\n",
        "print(\"This effectively means each word's representation is enriched with contextual information from the entire sequence.\")\n",
        "print(\"\\nExplanation of Attention Weights:\")\n",
        "print(\"`attention_weights` has shape (batch_size, sequence_length, sequence_length).\")\n",
        "print(\"`attention_weights[b, i, j]` represents how much the i-th word in sentence `b` 'attends' to the j-th word in the same sentence.\")\n",
        "print(\"For example, `attention_weights[0, 0, 0]` is how much the first word attends to itself.\")\n",
        "print(\"`attention_weights[0, 0, 1]` is how much the first word attends to the second word.\")\n",
        "print(\"The sum of `attention_weights[b, i, :]` (across the last dimension) for any `i` is 1.\")\n",
        "\n",
        "# Example of how to interpret attention_weights for a single word's attention\n",
        "# For word at index `i_query`:\n",
        "# `attention_weights[0, i_query, :]` shows its attention distribution over all words.\n",
        "word_index_to_examine = 0 # Let's look at the first word's attention\n",
        "print(f\"\\nAttention distribution for word at index {word_index_to_examine}:\")\n",
        "print(attention_weights[0, word_index_to_examine, :].detach().numpy())"
      ],
      "metadata": {
        "colab": {
          "base_uri": "https://localhost:8080/"
        },
        "id": "xRJKNI2yDDX2",
        "outputId": "19ecc5be-56bf-4f9f-9e5c-7c3f27675843"
      },
      "execution_count": 13,
      "outputs": [
        {
          "output_type": "stream",
          "name": "stdout",
          "text": [
            "Explanation of Output:\n",
            "The `output_features` tensor now contains new representations for each word.\n",
            "Each word's new representation is a weighted sum of ALL words in the sentence,\n",
            "where the weights (`attention_weights`) determine how much each other word contributes.\n",
            "This effectively means each word's representation is enriched with contextual information from the entire sequence.\n",
            "\n",
            "Explanation of Attention Weights:\n",
            "`attention_weights` has shape (batch_size, sequence_length, sequence_length).\n",
            "`attention_weights[b, i, j]` represents how much the i-th word in sentence `b` 'attends' to the j-th word in the same sentence.\n",
            "For example, `attention_weights[0, 0, 0]` is how much the first word attends to itself.\n",
            "`attention_weights[0, 0, 1]` is how much the first word attends to the second word.\n",
            "The sum of `attention_weights[b, i, :]` (across the last dimension) for any `i` is 1.\n",
            "\n",
            "Attention distribution for word at index 0:\n",
            "[0.27993485 0.17552002 0.1874432  0.35710198]\n"
          ]
        }
      ]
    },
    {
      "cell_type": "markdown",
      "source": [
        "# Another example - Self-Attention"
      ],
      "metadata": {
        "id": "0PLROrJmEIzW"
      }
    },
    {
      "cell_type": "code",
      "source": [
        "import torch\n",
        "import torch.nn.functional as F\n",
        "\n",
        "def scaled_dot_product_attention(Q: torch.Tensor, K: torch.Tensor, V: torch.Tensor) -> (torch.Tensor, torch.Tensor):\n",
        "    \"\"\"\n",
        "    Performs scaled dot-product attention.\n",
        "\n",
        "    Args:\n",
        "        Q (torch.Tensor): Query tensor, shape (..., seq_len_q, embed_dim)\n",
        "        K (torch.Tensor): Key tensor, shape (..., seq_len_k, embed_dim)\n",
        "        V (torch.Tensor): Value tensor, shape (..., seq_len_k, embed_dim)\n",
        "\n",
        "    Returns:\n",
        "        tuple: A tuple containing:\n",
        "            - attended_output (torch.Tensor): The contextualized output, shape (..., seq_len_q, embed_dim)\n",
        "            - attention_weights (torch.Tensor): The attention weights, shape (..., seq_len_q, seq_len_k)\n",
        "    \"\"\"\n",
        "    # Get the dimension of the keys for scaling\n",
        "    d_k = K.size(-1) # embed_dim or head_dim\n",
        "\n",
        "    # 1. Calculate attention scores (Q dot K_transpose)\n",
        "    # (..., seq_len_q, embed_dim) @ (..., embed_dim, seq_len_k)\n",
        "    # -> (..., seq_len_q, seq_len_k)\n",
        "    attention_scores = torch.matmul(Q, K.transpose(-2, -1))\n",
        "\n",
        "    # 2. Scale the attention scores\n",
        "    scaled_attention_scores = attention_scores / (d_k ** 0.5) # Equivalent to torch.sqrt(torch.tensor(d_k, dtype=torch.float32))\n",
        "\n",
        "    # 3. Apply softmax to get attention weights\n",
        "    attention_weights = F.softmax(scaled_attention_scores, dim=-1)\n",
        "\n",
        "    # 4. Multiply attention weights with Value matrix\n",
        "    # (..., seq_len_q, seq_len_k) @ (..., seq_len_k, embed_dim)\n",
        "    # -> (..., seq_len_q, embed_dim)\n",
        "    attended_output = torch.matmul(attention_weights, V)\n",
        "\n",
        "    return attended_output, attention_weights\n",
        "\n",
        "# --- Sample Usage ---\n",
        "if __name__ == \"__main__\":\n",
        "    # --- 1. Define parameters for our example ---\n",
        "    batch_size = 1\n",
        "    sequence_length = 4  # Number of tokens/words in the sequence\n",
        "    embed_dim = 64       # Dimension of each token's embedding\n",
        "\n",
        "    # --- 2. Create dummy Q, K, V tensors ---\n",
        "    # In a real scenario, these would come from linear projections of input embeddings.\n",
        "    # For self-attention, Q, K, V typically come from the same source.\n",
        "    Q = torch.randn(batch_size, sequence_length, embed_dim)\n",
        "    K = torch.randn(batch_size, sequence_length, embed_dim)\n",
        "    V = torch.randn(batch_size, sequence_length, embed_dim)\n",
        "\n",
        "    print(\"Input Q shape:\", Q.shape)\n",
        "    print(\"Input K shape:\", K.shape)\n",
        "    print(\"Input V shape:\", V.shape)\n",
        "    print(\"-\" * 30)\n",
        "\n",
        "    # --- 3. Call the simplified attention function ---\n",
        "    output_features, attention_weights = scaled_dot_product_attention(Q, K, V)\n",
        "\n",
        "    print(\"Output Features Shape (Contextualized):\", output_features.shape) # (1, 4, 64)\n",
        "    print(\"Attention Weights Shape:\", attention_weights.shape)       # (1, 4, 4)\n",
        "    print(\"-\" * 30)\n",
        "\n",
        "    print(\"Sample Attention Weights (for the first word):\")\n",
        "    # This shows how much the first query word attends to each of the key words.\n",
        "    print(attention_weights[0, 0, :].detach().numpy())\n",
        "    print(\"\\nSum of attention weights for the first query word (should be ~1):\")\n",
        "    print(attention_weights[0, 0, :].sum().item())\n",
        "\n",
        "    print(\"\\nExplanation:\")\n",
        "    print(\"Each row in `attention_weights` (e.g., `attention_weights[0, 0, :]`) shows how much\")\n",
        "    print(\"a specific query (e.g., the first word's query) attends to all keys (all words).\")\n",
        "    print(\"The `output_features` tensor contains new representations for each word,\")\n",
        "    print(\"enriched by a weighted sum of the `V` vectors, where the weights are from attention.\")"
      ],
      "metadata": {
        "colab": {
          "base_uri": "https://localhost:8080/"
        },
        "id": "YBEHQuEgEIDQ",
        "outputId": "ea58db4e-e0b1-47c3-d5ee-934a2ef9a7a8"
      },
      "execution_count": 14,
      "outputs": [
        {
          "output_type": "stream",
          "name": "stdout",
          "text": [
            "Input Q shape: torch.Size([1, 4, 64])\n",
            "Input K shape: torch.Size([1, 4, 64])\n",
            "Input V shape: torch.Size([1, 4, 64])\n",
            "------------------------------\n",
            "Output Features Shape (Contextualized): torch.Size([1, 4, 64])\n",
            "Attention Weights Shape: torch.Size([1, 4, 4])\n",
            "------------------------------\n",
            "Sample Attention Weights (for the first word):\n",
            "[0.2732     0.3161912  0.0863199  0.32428893]\n",
            "\n",
            "Sum of attention weights for the first query word (should be ~1):\n",
            "1.0000001192092896\n",
            "\n",
            "Explanation:\n",
            "Each row in `attention_weights` (e.g., `attention_weights[0, 0, :]`) shows how much\n",
            "a specific query (e.g., the first word's query) attends to all keys (all words).\n",
            "The `output_features` tensor contains new representations for each word,\n",
            "enriched by a weighted sum of the `V` vectors, where the weights are from attention.\n"
          ]
        }
      ]
    },
    {
      "cell_type": "markdown",
      "source": [
        "# Multi-head aatention - sample code"
      ],
      "metadata": {
        "id": "2BKb_G-tEp9O"
      }
    },
    {
      "cell_type": "code",
      "source": [
        "import torch\n",
        "import torch.nn as nn\n",
        "import torch.nn.functional as F"
      ],
      "metadata": {
        "id": "9_PW50Q6EtGO"
      },
      "execution_count": 15,
      "outputs": []
    },
    {
      "cell_type": "code",
      "source": [
        "# --- Helper Function: Scaled Dot-Product Attention ---\n",
        "def scaled_dot_product_attention(Q: torch.Tensor, K: torch.Tensor, V: torch.Tensor, mask: torch.Tensor = None) -> (torch.Tensor, torch.Tensor):\n",
        "    \"\"\"\n",
        "    Performs scaled dot-product attention.\n",
        "\n",
        "    Args:\n",
        "        Q (torch.Tensor): Query tensor, shape (..., seq_len_q, embed_dim)\n",
        "        K (torch.Tensor): Key tensor, shape (..., seq_len_k, embed_dim)\n",
        "        V (torch.Tensor): Value tensor, shape (..., seq_len_k, embed_dim)\n",
        "        mask (torch.Tensor, optional): Optional mask tensor, shape (..., seq_len_q, seq_len_k)\n",
        "                                       used to mask out attention to certain positions (e.g., for padding or causality).\n",
        "\n",
        "    Returns:\n",
        "        tuple: A tuple containing:\n",
        "            - attended_output (torch.Tensor): The contextualized output, shape (..., seq_len_q, embed_dim)\n",
        "            - attention_weights (torch.Tensor): The attention weights, shape (..., seq_len_q, seq_len_k)\n",
        "    \"\"\"\n",
        "    d_k = K.size(-1) # embed_dim or head_dim\n",
        "\n",
        "    # 1. Calculate attention scores (Q dot K_transpose)\n",
        "    # (..., seq_len_q, embed_dim) @ (..., embed_dim, seq_len_k)\n",
        "    # -> (..., seq_len_q, seq_len_k)\n",
        "    attention_scores = torch.matmul(Q, K.transpose(-2, -1))\n",
        "\n",
        "    # 2. Scale the attention scores\n",
        "    scaled_attention_scores = attention_scores / (d_k ** 0.5)\n",
        "\n",
        "    # 3. Apply mask if provided\n",
        "    if mask is not None:\n",
        "        # For masked positions, set scores to a very small negative number\n",
        "        # so that they become 0 after softmax.\n",
        "        scaled_attention_scores = scaled_attention_scores.masked_fill(mask == 0, float('-inf'))\n",
        "\n",
        "    # 4. Apply softmax to get attention weights\n",
        "    attention_weights = F.softmax(scaled_attention_scores, dim=-1)\n",
        "\n",
        "    # 5. Multiply attention weights with Value matrix\n",
        "    # (..., seq_len_q, seq_len_k) @ (..., seq_len_k, embed_dim)\n",
        "    # -> (..., seq_len_q, embed_dim)\n",
        "    attended_output = torch.matmul(attention_weights, V)\n",
        "\n",
        "    return attended_output, attention_weights\n"
      ],
      "metadata": {
        "id": "m4dSr7KVEtJO"
      },
      "execution_count": 16,
      "outputs": []
    },
    {
      "cell_type": "code",
      "source": [
        "# --- MultiHeadAttention Module ---\n",
        "class MultiHeadAttention(nn.Module):\n",
        "    def __init__(self, embed_dim: int, num_heads: int):\n",
        "        \"\"\"\n",
        "        Initializes the MultiHeadAttention module.\n",
        "\n",
        "        Args:\n",
        "            embed_dim (int): The dimension of the input embeddings (e.g., 512).\n",
        "            num_heads (int): The number of attention heads (e.g., 8).\n",
        "                             embed_dim must be divisible by num_heads.\n",
        "        \"\"\"\n",
        "        super().__init__()\n",
        "        if embed_dim % num_heads != 0:\n",
        "            raise ValueError(\n",
        "                f\"Embedding dimension ({embed_dim}) must be divisible by number of heads ({num_heads})\"\n",
        "            )\n",
        "\n",
        "        self.embed_dim = embed_dim\n",
        "        self.num_heads = num_heads\n",
        "        self.head_dim = embed_dim // num_heads # Dimension of Q, K, V for each head\n",
        "\n",
        "        # Linear layers for projecting input to Query, Key, Value for all heads\n",
        "        # We project to (embed_dim) and then split into (num_heads, head_dim)\n",
        "        self.W_q = nn.Linear(embed_dim, embed_dim)\n",
        "        self.W_k = nn.Linear(embed_dim, embed_dim)\n",
        "        self.W_v = nn.Linear(embed_dim, embed_dim)\n",
        "\n",
        "        # Final linear layer to combine outputs from all heads\n",
        "        self.W_o = nn.Linear(embed_dim, embed_dim)\n",
        "\n",
        "    def forward(self, query: torch.Tensor, key: torch.Tensor, value: torch.Tensor, mask: torch.Tensor = None) -> torch.Tensor:\n",
        "        \"\"\"\n",
        "        Forward pass for MultiHeadAttention.\n",
        "\n",
        "        Args:\n",
        "            query (torch.Tensor): Query tensor, shape (batch_size, seq_len_q, embed_dim)\n",
        "            key (torch.Tensor): Key tensor, shape (batch_size, seq_len_k, embed_dim)\n",
        "            value (torch.Tensor): Value tensor, shape (batch_size, seq_len_k, embed_dim)\n",
        "            mask (torch.Tensor, optional): Mask tensor, shape (batch_size, seq_len_q, seq_len_k) or (1, seq_len_q, seq_len_k)\n",
        "\n",
        "        Returns:\n",
        "            torch.Tensor: Output tensor after multi-head attention, shape (batch_size, seq_len_q, embed_dim)\n",
        "        \"\"\"\n",
        "        batch_size = query.size(0)\n",
        "        seq_len_q = query.size(1)\n",
        "        seq_len_k = key.size(1)\n",
        "\n",
        "        # 1. Project Q, K, V using linear layers\n",
        "        # Shape after projection: (batch_size, seq_len, embed_dim)\n",
        "        Q = self.W_q(query)\n",
        "        K = self.W_k(key)\n",
        "        V = self.W_v(value)\n",
        "\n",
        "        # 2. Reshape and permute for multi-head attention\n",
        "        # Split the embed_dim into num_heads * head_dim and transpose for batching heads.\n",
        "        # Original shape: (batch_size, seq_len, embed_dim)\n",
        "        # Reshape to:     (batch_size, seq_len, num_heads, head_dim)\n",
        "        # Permute to:     (batch_size, num_heads, seq_len, head_dim)\n",
        "        Q = Q.view(batch_size, seq_len_q, self.num_heads, self.head_dim).transpose(1, 2)\n",
        "        K = K.view(batch_size, seq_len_k, self.num_heads, self.head_dim).transpose(1, 2)\n",
        "        V = V.view(batch_size, seq_len_k, self.num_heads, self.head_dim).transpose(1, 2)\n",
        "\n",
        "        # If a mask is provided, it needs to be expanded for the head dimension\n",
        "        if mask is not None:\n",
        "            # Mask shape: (batch_size, seq_len_q, seq_len_k) or (1, seq_len_q, seq_len_k)\n",
        "            # Expand to:  (batch_size, 1, seq_len_q, seq_len_k) for broadcasting across heads\n",
        "            mask = mask.unsqueeze(1) # Add head dimension for broadcasting\n",
        "\n",
        "        # 3. Apply scaled dot-product attention to each head\n",
        "        # Resulting shape: (batch_size, num_heads, seq_len_q, head_dim)\n",
        "        # And attention_weights_per_head: (batch_size, num_heads, seq_len_q, seq_len_k)\n",
        "        attended_heads, attention_weights_per_head = scaled_dot_product_attention(Q, K, V, mask=mask)\n",
        "\n",
        "        # 4. Concatenate outputs from all heads\n",
        "        # Transpose back to (batch_size, seq_len_q, num_heads, head_dim)\n",
        "        # Then reshape (flatten num_heads and head_dim) to (batch_size, seq_len_q, embed_dim)\n",
        "        concat_heads = attended_heads.transpose(1, 2).contiguous().view(batch_size, seq_len_q, self.embed_dim)\n",
        "\n",
        "        # 5. Apply final linear layer\n",
        "        output = self.W_o(concat_heads)\n",
        "\n",
        "        return output, attention_weights_per_head\n"
      ],
      "metadata": {
        "id": "ptFZYgJgEtM1"
      },
      "execution_count": 17,
      "outputs": []
    },
    {
      "cell_type": "code",
      "source": [
        "\n",
        "# --- Sample Usage ---\n",
        "if __name__ == \"__main__\":\n",
        "    # --- Define parameters for our example ---\n",
        "    batch_size = 2        # Number of sentences in a batch\n",
        "    seq_len = 5           # Sequence length (e.g., 5 words)\n",
        "    embed_dim = 128       # Dimension of word embeddings\n",
        "    num_heads = 8         # Number of attention heads\n",
        "\n",
        "    # --- Create dummy input embeddings ---\n",
        "    # In a real NLP model, this would be output from an embedding layer.\n",
        "    # For self-attention in an Encoder, Q, K, V come from the same source.\n",
        "    # For cross-attention in a Decoder, Q comes from decoder state, K/V from encoder output.\n",
        "    input_embeddings = torch.randn(batch_size, seq_len, embed_dim)\n",
        "    print(f\"Input Embeddings Shape: {input_embeddings.shape}\") # (2, 5, 128)\n",
        "    print(\"-\" * 30)\n",
        "\n",
        "    # --- Create a dummy mask (optional) ---\n",
        "    # Example: A padding mask. Let's say in the first batch, the last word is padding.\n",
        "    # Mask should be 0 for padded positions, 1 for actual tokens.\n",
        "    # It needs to be (batch_size, seq_len_q, seq_len_k)\n",
        "    # For self-attention, seq_len_q == seq_len_k\n",
        "    dummy_mask = torch.ones(batch_size, seq_len, seq_len)\n",
        "    # For the first batch, let's mask out attention to the last token (index 4)\n",
        "    # (This is a simple example, real padding masks are more complex)\n",
        "    dummy_mask[0, :, 4] = 0 # Querying any position cannot attend to the 5th Key\n",
        "    dummy_mask[0, 4, :] = 0 # The 5th Query cannot attend to any Key\n",
        "\n",
        "    print(f\"Dummy Mask Shape: {dummy_mask.shape}\")\n",
        "    print(\"Dummy Mask (Batch 0):\\n\", dummy_mask[0].numpy())\n",
        "    print(\"-\" * 30)\n",
        "\n",
        "    # --- Instantiate MultiHeadAttention ---\n",
        "    mha_layer = MultiHeadAttention(embed_dim=embed_dim, num_heads=num_heads)\n",
        "\n",
        "    # --- Forward pass (Self-Attention scenario: Q=K=V=input_embeddings) ---\n",
        "    print(\"Performing Multi-Head Self-Attention...\")\n",
        "    output_features, attention_weights = mha_layer(\n",
        "        query=input_embeddings,\n",
        "        key=input_embeddings,\n",
        "        value=input_embeddings,\n",
        "        mask=dummy_mask # Pass the mask here\n",
        "    )\n",
        "\n",
        "    print(f\"Output Features Shape: {output_features.shape}\") # (2, 5, 128) - same as input embed_dim\n",
        "    # Attention weights are per head: (batch_size, num_heads, seq_len_q, seq_len_k)\n",
        "    print(f\"Attention Weights Shape: {attention_weights.shape}\") # (2, 8, 5, 5)\n",
        "    print(\"-\" * 30)\n",
        "\n",
        "    print(\"\\nExample Attention Weights (Batch 0, Head 0, first word's attention):\")\n",
        "    print(attention_weights[0, 0, 0, :].detach().numpy()) # How much the first word attends to others in head 0\n",
        "\n",
        "    print(\"\\nObservation with Mask:\")\n",
        "    print(\"Notice that for Batch 0, the attention weights corresponding to the 5th column (index 4)\")\n",
        "    print(\"should be very close to zero for any query due to the mask.\")\n",
        "    print(\"Also, the 5th row (index 4) should have near-zero weights because the 5th query was masked.\")\n",
        "    print(\"Example for Batch 0, Head 0:\")\n",
        "    print(attention_weights[0, 0, :, :].detach().numpy())\n",
        "\n",
        "    print(\"\\nSum of Attention Weights for a specific query (across keys, should be ~1):\")\n",
        "    print(f\"Batch 0, Head 0, first query's sum: {attention_weights[0, 0, 0, :].sum().item()}\")"
      ],
      "metadata": {
        "colab": {
          "base_uri": "https://localhost:8080/"
        },
        "id": "uy-1_P6gE2zH",
        "outputId": "c1f0fbb2-7ec4-4204-d2ca-fce82838bfe5"
      },
      "execution_count": 18,
      "outputs": [
        {
          "output_type": "stream",
          "name": "stdout",
          "text": [
            "Input Embeddings Shape: torch.Size([2, 5, 128])\n",
            "------------------------------\n",
            "Dummy Mask Shape: torch.Size([2, 5, 5])\n",
            "Dummy Mask (Batch 0):\n",
            " [[1. 1. 1. 1. 0.]\n",
            " [1. 1. 1. 1. 0.]\n",
            " [1. 1. 1. 1. 0.]\n",
            " [1. 1. 1. 1. 0.]\n",
            " [0. 0. 0. 0. 0.]]\n",
            "------------------------------\n",
            "Performing Multi-Head Self-Attention...\n",
            "Output Features Shape: torch.Size([2, 5, 128])\n",
            "Attention Weights Shape: torch.Size([2, 8, 5, 5])\n",
            "------------------------------\n",
            "\n",
            "Example Attention Weights (Batch 0, Head 0, first word's attention):\n",
            "[0.15368605 0.39079386 0.23464662 0.22087353 0.        ]\n",
            "\n",
            "Observation with Mask:\n",
            "Notice that for Batch 0, the attention weights corresponding to the 5th column (index 4)\n",
            "should be very close to zero for any query due to the mask.\n",
            "Also, the 5th row (index 4) should have near-zero weights because the 5th query was masked.\n",
            "Example for Batch 0, Head 0:\n",
            "[[0.15368605 0.39079386 0.23464662 0.22087353 0.        ]\n",
            " [0.26854393 0.32995886 0.16173172 0.23976554 0.        ]\n",
            " [0.28693038 0.3067946  0.15152204 0.254753   0.        ]\n",
            " [0.11451287 0.4449058  0.29631078 0.14427051 0.        ]\n",
            " [       nan        nan        nan        nan        nan]]\n",
            "\n",
            "Sum of Attention Weights for a specific query (across keys, should be ~1):\n",
            "Batch 0, Head 0, first query's sum: 1.0\n"
          ]
        }
      ]
    },
    {
      "cell_type": "markdown",
      "source": [
        "# Reference"
      ],
      "metadata": {
        "id": "B4086aYRFiLN"
      }
    },
    {
      "cell_type": "markdown",
      "source": [
        "- http://spotintelligence.com/2023/01/31/self-attention/"
      ],
      "metadata": {
        "id": "a6Cm46jaFjjH"
      }
    }
  ]
}