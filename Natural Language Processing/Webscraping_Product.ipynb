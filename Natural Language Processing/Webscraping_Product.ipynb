{
  "nbformat": 4,
  "nbformat_minor": 0,
  "metadata": {
    "colab": {
      "provenance": []
    },
    "kernelspec": {
      "name": "python3",
      "display_name": "Python 3"
    },
    "language_info": {
      "name": "python"
    }
  },
  "cells": [
    {
      "cell_type": "code",
      "execution_count": 5,
      "metadata": {
        "id": "ReE7_a7A4D9w"
      },
      "outputs": [],
      "source": [
        "import requests\n",
        "from bs4 import BeautifulSoup\n",
        "import pandas as pd\n",
        "import time\n",
        "import random\n"
      ]
    },
    {
      "cell_type": "code",
      "source": [
        "url = \"https://news.ycombinator.com/\"\n",
        "headers = {\n",
        "        \"User-Agent\": \"Mozilla/5.0 (Windows NT 10.0; Win64; x64) AppleWebKit/537.36 (KHTML, like Gecko) Chrome/91.0.4472.124 Safari/537.36\"\n",
        "    }\n",
        "response = requests.get(url, headers=headers)\n",
        "#response.raise_for_status()\n",
        "response"
      ],
      "metadata": {
        "colab": {
          "base_uri": "https://localhost:8080/"
        },
        "id": "NjsIn7eF3Q-z",
        "outputId": "9ee7749f-2f32-4236-ff40-016ff63f6561"
      },
      "execution_count": 15,
      "outputs": [
        {
          "output_type": "execute_result",
          "data": {
            "text/plain": [
              "<Response [200]>"
            ]
          },
          "metadata": {},
          "execution_count": 15
        }
      ]
    },
    {
      "cell_type": "code",
      "source": [
        "soup = BeautifulSoup(response.text, 'html.parser')"
      ],
      "metadata": {
        "id": "KvcVAhoE3RBn"
      },
      "execution_count": 16,
      "outputs": []
    },
    {
      "cell_type": "code",
      "source": [
        "soup"
      ],
      "metadata": {
        "colab": {
          "base_uri": "https://localhost:8080/"
        },
        "collapsed": true,
        "id": "y19w8zQt3iN8",
        "outputId": "8b3c6571-dd3e-45b6-8bf2-c96d8abc5113"
      },
      "execution_count": 11,
      "outputs": [
        {
          "output_type": "execute_result",
          "data": {
            "text/plain": [
              "<html lang=\"en\" op=\"news\"><head><meta content=\"origin\" name=\"referrer\"/><meta content=\"width=device-width, initial-scale=1.0\" name=\"viewport\"/><link href=\"news.css?lvYOTeaZKqFhcJaaAifQ\" rel=\"stylesheet\" type=\"text/css\"/>\n",
              "<link href=\"y18.svg\" rel=\"icon\"/>\n",
              "<link href=\"rss\" rel=\"alternate\" title=\"RSS\" type=\"application/rss+xml\"/>\n",
              "<title>Hacker News</title></head><body><center><table bgcolor=\"#f6f6ef\" border=\"0\" cellpadding=\"0\" cellspacing=\"0\" id=\"hnmain\" width=\"85%\">\n",
              "<tr><td bgcolor=\"#ff6600\"><table border=\"0\" cellpadding=\"0\" cellspacing=\"0\" style=\"padding:2px\" width=\"100%\"><tr><td style=\"width:18px;padding-right:4px\"><a href=\"https://news.ycombinator.com\"><img height=\"18\" src=\"y18.svg\" style=\"border:1px white solid; display:block\" width=\"18\"/></a></td>\n",
              "<td style=\"line-height:12pt; height:10px;\"><span class=\"pagetop\"><b class=\"hnname\"><a href=\"news\">Hacker News</a></b>\n",
              "<a href=\"newest\">new</a> | <a href=\"front\">past</a> | <a href=\"newcomments\">comments</a> | <a href=\"ask\">ask</a> | <a href=\"show\">show</a> | <a href=\"jobs\">jobs</a> | <a href=\"submit\" rel=\"nofollow\">submit</a> </span></td><td style=\"text-align:right;padding-right:4px;\"><span class=\"pagetop\">\n",
              "<a href=\"login?goto=news\">login</a>\n",
              "</span></td>\n",
              "</tr></table></td></tr>\n",
              "<tr id=\"pagespace\" style=\"height:10px\" title=\"\"></tr><tr><td><table border=\"0\" cellpadding=\"0\" cellspacing=\"0\">\n",
              "<tr class=\"athing submission\" id=\"43790093\">\n",
              "<td align=\"right\" class=\"title\" valign=\"top\"><span class=\"rank\">1.</span></td> <td class=\"votelinks\" valign=\"top\"><center><a href=\"vote?id=43790093&amp;how=up&amp;goto=news\" id=\"up_43790093\"><div class=\"votearrow\" title=\"upvote\"></div></a></center></td><td class=\"title\"><span class=\"titleline\"><a href=\"https://deepmind.google/discover/blog/music-ai-sandbox-now-with-new-features-and-broader-access/\">DeepMind releases Lyria 2 music generation model</a><span class=\"sitebit comhead\"> (<a href=\"from?site=deepmind.google\"><span class=\"sitestr\">deepmind.google</span></a>)</span></span></td></tr><tr><td colspan=\"2\"></td><td class=\"subtext\"><span class=\"subline\">\n",
              "<span class=\"score\" id=\"score_43790093\">140 points</span> by <a class=\"hnuser\" href=\"user?id=velcrobeg\">velcrobeg</a> <span class=\"age\" title=\"2025-04-25T04:25:15 1745555115\"><a href=\"item?id=43790093\">3 hours ago</a></span> <span id=\"unv_43790093\"></span> | <a href=\"hide?id=43790093&amp;goto=news\">hide</a> | <a href=\"item?id=43790093\">132 comments</a> </span>\n",
              "</td></tr>\n",
              "<tr class=\"spacer\" style=\"height:5px\"></tr>\n",
              "<tr class=\"athing submission\" id=\"43789593\">\n",
              "<td align=\"right\" class=\"title\" valign=\"top\"><span class=\"rank\">2.</span></td> <td class=\"votelinks\" valign=\"top\"><center><a href=\"vote?id=43789593&amp;how=up&amp;goto=news\" id=\"up_43789593\"><div class=\"votearrow\" title=\"upvote\"></div></a></center></td><td class=\"title\"><span class=\"titleline\"><a href=\"https://www.jsoftware.com/papers/tot.htm\">Notation as a Tool of Thought (1979)</a><span class=\"sitebit comhead\"> (<a href=\"from?site=jsoftware.com\"><span class=\"sitestr\">jsoftware.com</span></a>)</span></span></td></tr><tr><td colspan=\"2\"></td><td class=\"subtext\"><span class=\"subline\">\n",
              "<span class=\"score\" id=\"score_43789593\">89 points</span> by <a class=\"hnuser\" href=\"user?id=susam\">susam</a> <span class=\"age\" title=\"2025-04-25T02:30:34 1745548234\"><a href=\"item?id=43789593\">5 hours ago</a></span> <span id=\"unv_43789593\"></span> | <a href=\"hide?id=43789593&amp;goto=news\">hide</a> | <a href=\"item?id=43789593\">18 comments</a> </span>\n",
              "</td></tr>\n",
              "<tr class=\"spacer\" style=\"height:5px\"></tr>\n",
              "<tr class=\"athing submission\" id=\"43790855\">\n",
              "<td align=\"right\" class=\"title\" valign=\"top\"><span class=\"rank\">3.</span></td> <td class=\"votelinks\" valign=\"top\"><center><a href=\"vote?id=43790855&amp;how=up&amp;goto=news\" id=\"up_43790855\"><div class=\"votearrow\" title=\"upvote\"></div></a></center></td><td class=\"title\"><span class=\"titleline\"><a href=\"https://lwn.net/SubscriberLink/1018486/1dcd29863655cb25/\" rel=\"nofollow\">Some __nonstring__ Turbulence</a><span class=\"sitebit comhead\"> (<a href=\"from?site=lwn.net\"><span class=\"sitestr\">lwn.net</span></a>)</span></span></td></tr><tr><td colspan=\"2\"></td><td class=\"subtext\"><span class=\"subline\">\n",
              "<span class=\"score\" id=\"score_43790855\">7 points</span> by <a class=\"hnuser\" href=\"user?id=jwilk\">jwilk</a> <span class=\"age\" title=\"2025-04-25T06:46:45 1745563605\"><a href=\"item?id=43790855\">44 minutes ago</a></span> <span id=\"unv_43790855\"></span> | <a href=\"hide?id=43790855&amp;goto=news\">hide</a> | <a href=\"item?id=43790855\">discuss</a> </span>\n",
              "</td></tr>\n",
              "<tr class=\"spacer\" style=\"height:5px\"></tr>\n",
              "<tr class=\"athing submission\" id=\"43786506\">\n",
              "<td align=\"right\" class=\"title\" valign=\"top\"><span class=\"rank\">4.</span></td> <td class=\"votelinks\" valign=\"top\"><center><a href=\"vote?id=43786506&amp;how=up&amp;goto=news\" id=\"up_43786506\"><div class=\"votearrow\" title=\"upvote\"></div></a></center></td><td class=\"title\"><span class=\"titleline\"><a href=\"https://openai.com/index/image-generation-api/\">OpenAI releases image generation in the API</a><span class=\"sitebit comhead\"> (<a href=\"from?site=openai.com\"><span class=\"sitestr\">openai.com</span></a>)</span></span></td></tr><tr><td colspan=\"2\"></td><td class=\"subtext\"><span class=\"subline\">\n",
              "<span class=\"score\" id=\"score_43786506\">360 points</span> by <a class=\"hnuser\" href=\"user?id=themanmaran\">themanmaran</a> <span class=\"age\" title=\"2025-04-24T19:27:51 1745522871\"><a href=\"item?id=43786506\">12 hours ago</a></span> <span id=\"unv_43786506\"></span> | <a href=\"hide?id=43786506&amp;goto=news\">hide</a> | <a href=\"item?id=43786506\">202 comments</a> </span>\n",
              "</td></tr>\n",
              "<tr class=\"spacer\" style=\"height:5px\"></tr>\n",
              "<tr class=\"athing submission\" id=\"43790420\">\n",
              "<td align=\"right\" class=\"title\" valign=\"top\"><span class=\"rank\">5.</span></td> <td class=\"votelinks\" valign=\"top\"><center><a href=\"vote?id=43790420&amp;how=up&amp;goto=news\" id=\"up_43790420\"><div class=\"votearrow\" title=\"upvote\"></div></a></center></td><td class=\"title\"><span class=\"titleline\"><a href=\"https://www.morling.dev/blog/what-if-we-could-rebuild-kafka-from-scratch/\">What If We Could Rebuild Kafka from Scratch?</a><span class=\"sitebit comhead\"> (<a href=\"from?site=morling.dev\"><span class=\"sitestr\">morling.dev</span></a>)</span></span></td></tr><tr><td colspan=\"2\"></td><td class=\"subtext\"><span class=\"subline\">\n",
              "<span class=\"score\" id=\"score_43790420\">17 points</span> by <a class=\"hnuser\" href=\"user?id=mpweiher\">mpweiher</a> <span class=\"age\" title=\"2025-04-25T05:34:52 1745559292\"><a href=\"item?id=43790420\">1 hour ago</a></span> <span id=\"unv_43790420\"></span> | <a href=\"hide?id=43790420&amp;goto=news\">hide</a> | <a href=\"item?id=43790420\">10 comments</a> </span>\n",
              "</td></tr>\n",
              "<tr class=\"spacer\" style=\"height:5px\"></tr>\n",
              "<tr class=\"athing submission\" id=\"43788053\">\n",
              "<td align=\"right\" class=\"title\" valign=\"top\"><span class=\"rank\">6.</span></td> <td class=\"votelinks\" valign=\"top\"><center><a href=\"vote?id=43788053&amp;how=up&amp;goto=news\" id=\"up_43788053\"><div class=\"votearrow\" title=\"upvote\"></div></a></center></td><td class=\"title\"><span class=\"titleline\"><a href=\"https://newscenter.lbl.gov/2025/04/24/scientists-develop-artificial-leaf-that-uses-sunlight-to-produce-valuable-chemicals/\">Scientists Develop Artificial Leaf, Uses Sunlight to Produce Valuable Chemicals</a><span class=\"sitebit comhead\"> (<a href=\"from?site=lbl.gov\"><span class=\"sitestr\">lbl.gov</span></a>)</span></span></td></tr><tr><td colspan=\"2\"></td><td class=\"subtext\"><span class=\"subline\">\n",
              "<span class=\"score\" id=\"score_43788053\">137 points</span> by <a class=\"hnuser\" href=\"user?id=gnabgib\">gnabgib</a> <span class=\"age\" title=\"2025-04-24T22:10:15 1745532615\"><a href=\"item?id=43788053\">9 hours ago</a></span> <span id=\"unv_43788053\"></span> | <a href=\"hide?id=43788053&amp;goto=news\">hide</a> | <a href=\"item?id=43788053\">49 comments</a> </span>\n",
              "</td></tr>\n",
              "<tr class=\"spacer\" style=\"height:5px\"></tr>\n",
              "<tr class=\"athing submission\" id=\"43789625\">\n",
              "<td align=\"right\" class=\"title\" valign=\"top\"><span class=\"rank\">7.</span></td> <td class=\"votelinks\" valign=\"top\"><center><a href=\"vote?id=43789625&amp;how=up&amp;goto=news\" id=\"up_43789625\"><div class=\"votearrow\" title=\"upvote\"></div></a></center></td><td class=\"title\"><span class=\"titleline\"><a href=\"https://greptime.com/blogs/2025-04-25-greptimedb-observability2-new-database\">Observability 2.0 and the Database for It</a><span class=\"sitebit comhead\"> (<a href=\"from?site=greptime.com\"><span class=\"sitestr\">greptime.com</span></a>)</span></span></td></tr><tr><td colspan=\"2\"></td><td class=\"subtext\"><span class=\"subline\">\n",
              "<span class=\"score\" id=\"score_43789625\">63 points</span> by <a class=\"hnuser\" href=\"user?id=todsacerdoti\">todsacerdoti</a> <span class=\"age\" title=\"2025-04-25T02:39:00 1745548740\"><a href=\"item?id=43789625\">4 hours ago</a></span> <span id=\"unv_43789625\"></span> | <a href=\"hide?id=43789625&amp;goto=news\">hide</a> | <a href=\"item?id=43789625\">18 comments</a> </span>\n",
              "</td></tr>\n",
              "<tr class=\"spacer\" style=\"height:5px\"></tr>\n",
              "<tr class=\"athing submission\" id=\"43787730\">\n",
              "<td align=\"right\" class=\"title\" valign=\"top\"><span class=\"rank\">8.</span></td> <td class=\"votelinks\" valign=\"top\"><center><a href=\"vote?id=43787730&amp;how=up&amp;goto=news\" id=\"up_43787730\"><div class=\"votearrow\" title=\"upvote\"></div></a></center></td><td class=\"title\"><span class=\"titleline\"><a href=\"https://nasstatus.faa.gov/\">National Airspace System Status</a><span class=\"sitebit comhead\"> (<a href=\"from?site=faa.gov\"><span class=\"sitestr\">faa.gov</span></a>)</span></span></td></tr><tr><td colspan=\"2\"></td><td class=\"subtext\"><span class=\"subline\">\n",
              "<span class=\"score\" id=\"score_43787730\">146 points</span> by <a class=\"hnuser\" href=\"user?id=bookofjoe\">bookofjoe</a> <span class=\"age\" title=\"2025-04-24T21:31:09 1745530269\"><a href=\"item?id=43787730\">10 hours ago</a></span> <span id=\"unv_43787730\"></span> | <a href=\"hide?id=43787730&amp;goto=news\">hide</a> | <a href=\"item?id=43787730\">19 comments</a> </span>\n",
              "</td></tr>\n",
              "<tr class=\"spacer\" style=\"height:5px\"></tr>\n",
              "<tr class=\"athing submission\" id=\"43781888\">\n",
              "<td align=\"right\" class=\"title\" valign=\"top\"><span class=\"rank\">9.</span></td> <td class=\"votelinks\" valign=\"top\"><center><a href=\"vote?id=43781888&amp;how=up&amp;goto=news\" id=\"up_43781888\"><div class=\"votearrow\" title=\"upvote\"></div></a></center></td><td class=\"title\"><span class=\"titleline\"><a href=\"https://code.mendhak.com/gpl-v2-address-letter/\">I wrote to the address in the GPLv2 license notice (2022)</a><span class=\"sitebit comhead\"> (<a href=\"from?site=mendhak.com\"><span class=\"sitestr\">mendhak.com</span></a>)</span></span></td></tr><tr><td colspan=\"2\"></td><td class=\"subtext\"><span class=\"subline\">\n",
              "<span class=\"score\" id=\"score_43781888\">631 points</span> by <a class=\"hnuser\" href=\"user?id=ekiauhce\">ekiauhce</a> <span class=\"age\" title=\"2025-04-24T12:26:38 1745497598\"><a href=\"item?id=43781888\">19 hours ago</a></span> <span id=\"unv_43781888\"></span> | <a href=\"hide?id=43781888&amp;goto=news\">hide</a> | <a href=\"item?id=43781888\">479 comments</a> </span>\n",
              "</td></tr>\n",
              "<tr class=\"spacer\" style=\"height:5px\"></tr>\n",
              "<tr class=\"athing submission\" id=\"43774169\">\n",
              "<td align=\"right\" class=\"title\" valign=\"top\"><span class=\"rank\">10.</span></td> <td class=\"votelinks\" valign=\"top\"><center><a href=\"vote?id=43774169&amp;how=up&amp;goto=news\" id=\"up_43774169\"><div class=\"votearrow\" title=\"upvote\"></div></a></center></td><td class=\"title\"><span class=\"titleline\"><a href=\"https://www.ycombinator.com/library/Ij-tarpit-ideas-what-are-tarpit-ideas-how-to-avoid-them\">Tarpit ideas: What are tarpit ideas and how to avoid them (2023) [video]</a><span class=\"sitebit comhead\"> (<a href=\"from?site=ycombinator.com\"><span class=\"sitestr\">ycombinator.com</span></a>)</span></span></td></tr><tr><td colspan=\"2\"></td><td class=\"subtext\"><span class=\"subline\">\n",
              "<span class=\"score\" id=\"score_43774169\">56 points</span> by <a class=\"hnuser\" href=\"user?id=dgs_sgd\">dgs_sgd</a> <span class=\"age\" title=\"2025-04-23T16:59:36 1745427576\"><a href=\"item?id=43774169\">8 hours ago</a></span> <span id=\"unv_43774169\"></span> | <a href=\"hide?id=43774169&amp;goto=news\">hide</a> | <a href=\"item?id=43774169\">44 comments</a> </span>\n",
              "</td></tr>\n",
              "<tr class=\"spacer\" style=\"height:5px\"></tr>\n",
              "<tr class=\"athing submission\" id=\"43787676\">\n",
              "<td align=\"right\" class=\"title\" valign=\"top\"><span class=\"rank\">11.</span></td> <td class=\"votelinks\" valign=\"top\"><center><a href=\"vote?id=43787676&amp;how=up&amp;goto=news\" id=\"up_43787676\"><div class=\"votearrow\" title=\"upvote\"></div></a></center></td><td class=\"title\"><span class=\"titleline\"><a href=\"https://www.chrbutler.com/you-can-be-a-great-designer-and-be-completely-unknown\">You Can Be a Great Designer and Be Completely Unknown</a><span class=\"sitebit comhead\"> (<a href=\"from?site=chrbutler.com\"><span class=\"sitestr\">chrbutler.com</span></a>)</span></span></td></tr><tr><td colspan=\"2\"></td><td class=\"subtext\"><span class=\"subline\">\n",
              "<span class=\"score\" id=\"score_43787676\">146 points</span> by <a class=\"hnuser\" href=\"user?id=delaugust\">delaugust</a> <span class=\"age\" title=\"2025-04-24T21:24:58 1745529898\"><a href=\"item?id=43787676\">10 hours ago</a></span> <span id=\"unv_43787676\"></span> | <a href=\"hide?id=43787676&amp;goto=news\">hide</a> | <a href=\"item?id=43787676\">58 comments</a> </span>\n",
              "</td></tr>\n",
              "<tr class=\"spacer\" style=\"height:5px\"></tr>\n",
              "<tr class=\"athing submission\" id=\"43785039\">\n",
              "<td align=\"right\" class=\"title\" valign=\"top\"><span class=\"rank\">12.</span></td> <td class=\"votelinks\" valign=\"top\"><center><a href=\"vote?id=43785039&amp;how=up&amp;goto=news\" id=\"up_43785039\"><div class=\"votearrow\" title=\"upvote\"></div></a></center></td><td class=\"title\"><span class=\"titleline\"><a href=\"https://status.open-vsx.org/\">OpenVSX, which VSCode forks rely on for extensions, down for 24 hours</a><span class=\"sitebit comhead\"> (<a href=\"from?site=open-vsx.org\"><span class=\"sitestr\">open-vsx.org</span></a>)</span></span></td></tr><tr><td colspan=\"2\"></td><td class=\"subtext\"><span class=\"subline\">\n",
              "<span class=\"score\" id=\"score_43785039\">188 points</span> by <a class=\"hnuser\" href=\"user?id=aaronvg\">aaronvg</a> <span class=\"age\" title=\"2025-04-24T17:09:56 1745514596\"><a href=\"item?id=43785039\">14 hours ago</a></span> <span id=\"unv_43785039\"></span> | <a href=\"hide?id=43785039&amp;goto=news\">hide</a> | <a href=\"item?id=43785039\">82 comments</a> </span>\n",
              "</td></tr>\n",
              "<tr class=\"spacer\" style=\"height:5px\"></tr>\n",
              "<tr class=\"athing submission\" id=\"43788994\">\n",
              "<td align=\"right\" class=\"title\" valign=\"top\"><span class=\"rank\">13.</span></td> <td class=\"votelinks\" valign=\"top\"><center><a href=\"vote?id=43788994&amp;how=up&amp;goto=news\" id=\"up_43788994\"><div class=\"votearrow\" title=\"upvote\"></div></a></center></td><td class=\"title\"><span class=\"titleline\"><a href=\"https://github.com/apple/swift-container-plugin\">Swift Container Plugin</a><span class=\"sitebit comhead\"> (<a href=\"from?site=github.com/apple\"><span class=\"sitestr\">github.com/apple</span></a>)</span></span></td></tr><tr><td colspan=\"2\"></td><td class=\"subtext\"><span class=\"subline\">\n",
              "<span class=\"score\" id=\"score_43788994\">67 points</span> by <a class=\"hnuser\" href=\"user?id=frizlab\">frizlab</a> <span class=\"age\" title=\"2025-04-25T00:28:35 1745540915\"><a href=\"item?id=43788994\">7 hours ago</a></span> <span id=\"unv_43788994\"></span> | <a href=\"hide?id=43788994&amp;goto=news\">hide</a> | <a href=\"item?id=43788994\">43 comments</a> </span>\n",
              "</td></tr>\n",
              "<tr class=\"spacer\" style=\"height:5px\"></tr>\n",
              "<tr class=\"athing submission\" id=\"43782299\">\n",
              "<td align=\"right\" class=\"title\" valign=\"top\"><span class=\"rank\">14.</span></td> <td class=\"votelinks\" valign=\"top\"><center><a href=\"vote?id=43782299&amp;how=up&amp;goto=news\" id=\"up_43782299\"><div class=\"votearrow\" title=\"upvote\"></div></a></center></td><td class=\"title\"><span class=\"titleline\"><a href=\"item?id=43782299\">Ask HN: Share your AI prompt that stumps every model</a></span></td></tr><tr><td colspan=\"2\"></td><td class=\"subtext\"><span class=\"subline\">\n",
              "<span class=\"score\" id=\"score_43782299\">246 points</span> by <a class=\"hnuser\" href=\"user?id=owendarko\">owendarko</a> <span class=\"age\" title=\"2025-04-24T13:11:22 1745500282\"><a href=\"item?id=43782299\">18 hours ago</a></span> <span id=\"unv_43782299\"></span> | <a href=\"hide?id=43782299&amp;goto=news\">hide</a> | <a href=\"item?id=43782299\">415 comments</a> </span>\n",
              "</td></tr>\n",
              "<tr class=\"spacer\" style=\"height:5px\"></tr>\n",
              "<tr class=\"athing submission\" id=\"43784721\">\n",
              "<td align=\"right\" class=\"title\" valign=\"top\"><span class=\"rank\">15.</span></td> <td class=\"votelinks\" valign=\"top\"><center><a href=\"vote?id=43784721&amp;how=up&amp;goto=news\" id=\"up_43784721\"><div class=\"votearrow\" title=\"upvote\"></div></a></center></td><td class=\"title\"><span class=\"titleline\"><a href=\"https://bigthink.com/starts-with-a-bang/21cm-magic-length/\">One quantum transition makes light at 21 cm</a><span class=\"sitebit comhead\"> (<a href=\"from?site=bigthink.com\"><span class=\"sitestr\">bigthink.com</span></a>)</span></span></td></tr><tr><td colspan=\"2\"></td><td class=\"subtext\"><span class=\"subline\">\n",
              "<span class=\"score\" id=\"score_43784721\">216 points</span> by <a class=\"hnuser\" href=\"user?id=Brajeshwar\">Brajeshwar</a> <span class=\"age\" title=\"2025-04-24T16:38:54 1745512734\"><a href=\"item?id=43784721\">14 hours ago</a></span> <span id=\"unv_43784721\"></span> | <a href=\"hide?id=43784721&amp;goto=news\">hide</a> | <a href=\"item?id=43784721\">136 comments</a> </span>\n",
              "</td></tr>\n",
              "<tr class=\"spacer\" style=\"height:5px\"></tr>\n",
              "<tr class=\"athing submission\" id=\"43785044\">\n",
              "<td align=\"right\" class=\"title\" valign=\"top\"><span class=\"rank\">16.</span></td> <td class=\"votelinks\" valign=\"top\"><center><a href=\"vote?id=43785044&amp;how=up&amp;goto=news\" id=\"up_43785044\"><div class=\"votearrow\" title=\"upvote\"></div></a></center></td><td class=\"title\"><span class=\"titleline\"><a href=\"item?id=43785044\">Show HN: Lemon Slice Live – Have a video call with a transformer model</a></span></td></tr><tr><td colspan=\"2\"></td><td class=\"subtext\"><span class=\"subline\">\n",
              "<span class=\"score\" id=\"score_43785044\">139 points</span> by <a class=\"hnuser\" href=\"user?id=lcolucci\">lcolucci</a> <span class=\"age\" title=\"2025-04-24T17:10:14 1745514614\"><a href=\"item?id=43785044\">14 hours ago</a></span> <span id=\"unv_43785044\"></span> | <a href=\"hide?id=43785044&amp;goto=news\">hide</a> | <a href=\"item?id=43785044\">54 comments</a> </span>\n",
              "</td></tr>\n",
              "<tr class=\"spacer\" style=\"height:5px\"></tr>\n",
              "<tr class=\"athing submission\" id=\"43786514\">\n",
              "<td align=\"right\" class=\"title\" valign=\"top\"><span class=\"rank\">17.</span></td> <td class=\"votelinks\" valign=\"top\"><center><a href=\"vote?id=43786514&amp;how=up&amp;goto=news\" id=\"up_43786514\"><div class=\"votearrow\" title=\"upvote\"></div></a></center></td><td class=\"title\"><span class=\"titleline\"><a href=\"https://arxiv.org/abs/2503.19779\">PyGraph: Robust Compiler Support for CUDA Graphs in PyTorch</a><span class=\"sitebit comhead\"> (<a href=\"from?site=arxiv.org\"><span class=\"sitestr\">arxiv.org</span></a>)</span></span></td></tr><tr><td colspan=\"2\"></td><td class=\"subtext\"><span class=\"subline\">\n",
              "<span class=\"score\" id=\"score_43786514\">57 points</span> by <a class=\"hnuser\" href=\"user?id=mfiguiere\">mfiguiere</a> <span class=\"age\" title=\"2025-04-24T19:28:29 1745522909\"><a href=\"item?id=43786514\">12 hours ago</a></span> <span id=\"unv_43786514\"></span> | <a href=\"hide?id=43786514&amp;goto=news\">hide</a> | <a href=\"item?id=43786514\">5 comments</a> </span>\n",
              "</td></tr>\n",
              "<tr class=\"spacer\" style=\"height:5px\"></tr>\n",
              "<tr class=\"athing submission\" id=\"43782406\">\n",
              "<td align=\"right\" class=\"title\" valign=\"top\"><span class=\"rank\">18.</span></td> <td class=\"votelinks\" valign=\"top\"><center><a href=\"vote?id=43782406&amp;how=up&amp;goto=news\" id=\"up_43782406\"><div class=\"votearrow\" title=\"upvote\"></div></a></center></td><td class=\"title\"><span class=\"titleline\"><a href=\"https://motherduck.com/blog/introducing-instant-sql/\">Instant SQL for results as you type in DuckDB UI</a><span class=\"sitebit comhead\"> (<a href=\"from?site=motherduck.com\"><span class=\"sitestr\">motherduck.com</span></a>)</span></span></td></tr><tr><td colspan=\"2\"></td><td class=\"subtext\"><span class=\"subline\">\n",
              "<span class=\"score\" id=\"score_43782406\">302 points</span> by <a class=\"hnuser\" href=\"user?id=ryguyrg\">ryguyrg</a> <span class=\"age\" title=\"2025-04-24T13:23:26 1745501006\"><a href=\"item?id=43782406\">18 hours ago</a></span> <span id=\"unv_43782406\"></span> | <a href=\"hide?id=43782406&amp;goto=news\">hide</a> | <a href=\"item?id=43782406\">100 comments</a> </span>\n",
              "</td></tr>\n",
              "<tr class=\"spacer\" style=\"height:5px\"></tr>\n",
              "<tr class=\"athing submission\" id=\"43780918\">\n",
              "<td align=\"right\" class=\"title\" valign=\"top\"><span class=\"rank\">19.</span></td> <td class=\"votelinks\" valign=\"top\"><center><a href=\"vote?id=43780918&amp;how=up&amp;goto=news\" id=\"up_43780918\"><div class=\"votearrow\" title=\"upvote\"></div></a></center></td><td class=\"title\"><span class=\"titleline\"><a href=\"https://plutonic.dev\">Show HN: I built Lovable for text bots and mini apps</a><span class=\"sitebit comhead\"> (<a href=\"from?site=plutonic.dev\"><span class=\"sitestr\">plutonic.dev</span></a>)</span></span></td></tr><tr><td colspan=\"2\"></td><td class=\"subtext\"><span class=\"subline\">\n",
              "<span class=\"score\" id=\"score_43780918\">14 points</span> by <a class=\"hnuser\" href=\"user?id=piotmni\">piotmni</a> <span class=\"age\" title=\"2025-04-24T10:03:53 1745489033\"><a href=\"item?id=43780918\">5 hours ago</a></span> <span id=\"unv_43780918\"></span> | <a href=\"hide?id=43780918&amp;goto=news\">hide</a> | <a href=\"item?id=43780918\">7 comments</a> </span>\n",
              "</td></tr>\n",
              "<tr class=\"spacer\" style=\"height:5px\"></tr>\n",
              "<tr class=\"athing submission\" id=\"43778729\">\n",
              "<td align=\"right\" class=\"title\" valign=\"top\"><span class=\"rank\">20.</span></td> <td class=\"votelinks\" valign=\"top\"><center><a href=\"vote?id=43778729&amp;how=up&amp;goto=news\" id=\"up_43778729\"><div class=\"votearrow\" title=\"upvote\"></div></a></center></td><td class=\"title\"><span class=\"titleline\"><a href=\"https://www.nytimes.com/2025/04/23/science/lion-gladiator-romans-bones.html\">A Roman Gladiator and a Lion Met in Combat. Only One Walked Away</a><span class=\"sitebit comhead\"> (<a href=\"from?site=nytimes.com\"><span class=\"sitestr\">nytimes.com</span></a>)</span></span></td></tr><tr><td colspan=\"2\"></td><td class=\"subtext\"><span class=\"subline\">\n",
              "<span class=\"score\" id=\"score_43778729\">26 points</span> by <a class=\"hnuser\" href=\"user?id=diodorus\">diodorus</a> <span class=\"age\" title=\"2025-04-24T02:26:10 1745461570\"><a href=\"item?id=43778729\">8 hours ago</a></span> <span id=\"unv_43778729\"></span> | <a href=\"hide?id=43778729&amp;goto=news\">hide</a> | <a href=\"item?id=43778729\">29 comments</a> </span>\n",
              "</td></tr>\n",
              "<tr class=\"spacer\" style=\"height:5px\"></tr>\n",
              "<tr class=\"athing submission\" id=\"43785464\">\n",
              "<td align=\"right\" class=\"title\" valign=\"top\"><span class=\"rank\">21.</span></td> <td class=\"votelinks\" valign=\"top\"><center><a href=\"vote?id=43785464&amp;how=up&amp;goto=news\" id=\"up_43785464\"><div class=\"votearrow\" title=\"upvote\"></div></a></center></td><td class=\"title\"><span class=\"titleline\"><a href=\"https://reverseui.com\">Show HN: I reverse engineered top websites to build an animated UI library</a><span class=\"sitebit comhead\"> (<a href=\"from?site=reverseui.com\"><span class=\"sitestr\">reverseui.com</span></a>)</span></span></td></tr><tr><td colspan=\"2\"></td><td class=\"subtext\"><span class=\"subline\">\n",
              "<span class=\"score\" id=\"score_43785464\">118 points</span> by <a class=\"hnuser\" href=\"user?id=armedin\">armedin</a> <span class=\"age\" title=\"2025-04-24T17:47:09 1745516829\"><a href=\"item?id=43785464\">13 hours ago</a></span> <span id=\"unv_43785464\"></span> | <a href=\"hide?id=43785464&amp;goto=news\">hide</a> | <a href=\"item?id=43785464\">57 comments</a> </span>\n",
              "</td></tr>\n",
              "<tr class=\"spacer\" style=\"height:5px\"></tr>\n",
              "<tr class=\"athing submission\" id=\"43783416\">\n",
              "<td align=\"right\" class=\"title\" valign=\"top\"><span class=\"rank\">22.</span></td> <td class=\"votelinks\" valign=\"top\"><center><a href=\"vote?id=43783416&amp;how=up&amp;goto=news\" id=\"up_43783416\"><div class=\"votearrow\" title=\"upvote\"></div></a></center></td><td class=\"title\"><span class=\"titleline\"><a href=\"https://www.bitsnbites.eu/three-fundamental-flaws-of-simd/\">Fundamental flaws of SIMD ISAs (2021)</a><span class=\"sitebit comhead\"> (<a href=\"from?site=bitsnbites.eu\"><span class=\"sitestr\">bitsnbites.eu</span></a>)</span></span></td></tr><tr><td colspan=\"2\"></td><td class=\"subtext\"><span class=\"subline\">\n",
              "<span class=\"score\" id=\"score_43783416\">115 points</span> by <a class=\"hnuser\" href=\"user?id=fanf2\">fanf2</a> <span class=\"age\" title=\"2025-04-24T14:42:03 1745505723\"><a href=\"item?id=43783416\">16 hours ago</a></span> <span id=\"unv_43783416\"></span> | <a href=\"hide?id=43783416&amp;goto=news\">hide</a> | <a href=\"item?id=43783416\">84 comments</a> </span>\n",
              "</td></tr>\n",
              "<tr class=\"spacer\" style=\"height:5px\"></tr>\n",
              "<tr class=\"athing submission\" id=\"43784200\">\n",
              "<td align=\"right\" class=\"title\" valign=\"top\"><span class=\"rank\">23.</span></td> <td class=\"votelinks\" valign=\"top\"><center><a href=\"vote?id=43784200&amp;how=up&amp;goto=news\" id=\"up_43784200\"><div class=\"votearrow\" title=\"upvote\"></div></a></center></td><td class=\"title\"><span class=\"titleline\"><a href=\"https://www.claudiu-ivan.com/writing/search-dsl\">A Principled Approach to Querying Data – A Type-Safe Search DSL</a><span class=\"sitebit comhead\"> (<a href=\"from?site=claudiu-ivan.com\"><span class=\"sitestr\">claudiu-ivan.com</span></a>)</span></span></td></tr><tr><td colspan=\"2\"></td><td class=\"subtext\"><span class=\"subline\">\n",
              "<span class=\"score\" id=\"score_43784200\">71 points</span> by <a class=\"hnuser\" href=\"user?id=kioku\">kioku</a> <span class=\"age\" title=\"2025-04-24T15:53:15 1745509995\"><a href=\"item?id=43784200\">15 hours ago</a></span> <span id=\"unv_43784200\"></span> | <a href=\"hide?id=43784200&amp;goto=news\">hide</a> | <a href=\"item?id=43784200\">8 comments</a> </span>\n",
              "</td></tr>\n",
              "<tr class=\"spacer\" style=\"height:5px\"></tr>\n",
              "<tr class=\"athing submission\" id=\"43777478\">\n",
              "<td align=\"right\" class=\"title\" valign=\"top\"><span class=\"rank\">24.</span></td> <td class=\"votelinks\" valign=\"top\"><center><a href=\"vote?id=43777478&amp;how=up&amp;goto=news\" id=\"up_43777478\"><div class=\"votearrow\" title=\"upvote\"></div></a></center></td><td class=\"title\"><span class=\"titleline\"><a href=\"https://newrepublic.com/article/193998/henry-james-not-home-america\" rel=\"nofollow\">Henry James was not at home in America</a><span class=\"sitebit comhead\"> (<a href=\"from?site=newrepublic.com\"><span class=\"sitestr\">newrepublic.com</span></a>)</span></span></td></tr><tr><td colspan=\"2\"></td><td class=\"subtext\"><span class=\"subline\">\n",
              "<span class=\"score\" id=\"score_43777478\">7 points</span> by <a class=\"hnuser\" href=\"user?id=benbreen\">benbreen</a> <span class=\"age\" title=\"2025-04-23T22:47:26 1745448446\"><a href=\"item?id=43777478\">4 hours ago</a></span> <span id=\"unv_43777478\"></span> | <a href=\"hide?id=43777478&amp;goto=news\">hide</a> | <a href=\"item?id=43777478\">2 comments</a> </span>\n",
              "</td></tr>\n",
              "<tr class=\"spacer\" style=\"height:5px\"></tr>\n",
              "<tr class=\"athing submission\" id=\"43759466\">\n",
              "<td align=\"right\" class=\"title\" valign=\"top\"><span class=\"rank\">25.</span></td> <td class=\"votelinks\" valign=\"top\"><center><a href=\"vote?id=43759466&amp;how=up&amp;goto=news\" id=\"up_43759466\"><div class=\"votearrow\" title=\"upvote\"></div></a></center></td><td class=\"title\"><span class=\"titleline\"><a href=\"https://lareviewofbooks.org/article/theres-a-seeker-born-every-minute/\">There's a Seeker Born Every Minute (2024)</a><span class=\"sitebit comhead\"> (<a href=\"from?site=lareviewofbooks.org\"><span class=\"sitestr\">lareviewofbooks.org</span></a>)</span></span></td></tr><tr><td colspan=\"2\"></td><td class=\"subtext\"><span class=\"subline\">\n",
              "<span class=\"score\" id=\"score_43759466\">14 points</span> by <a class=\"hnuser\" href=\"user?id=tintinnabula\">tintinnabula</a> <span class=\"age\" title=\"2025-04-22T06:05:36 1745301936\"><a href=\"item?id=43759466\">5 hours ago</a></span> <span id=\"unv_43759466\"></span> | <a href=\"hide?id=43759466&amp;goto=news\">hide</a> | <a href=\"item?id=43759466\">7 comments</a> </span>\n",
              "</td></tr>\n",
              "<tr class=\"spacer\" style=\"height:5px\"></tr>\n",
              "<tr class=\"athing submission\" id=\"43784056\">\n",
              "<td align=\"right\" class=\"title\" valign=\"top\"><span class=\"rank\">26.</span></td> <td class=\"votelinks\" valign=\"top\"><center><a href=\"vote?id=43784056&amp;how=up&amp;goto=news\" id=\"up_43784056\"><div class=\"votearrow\" title=\"upvote\"></div></a></center></td><td class=\"title\"><span class=\"titleline\"><a href=\"https://papers.ssrn.com/sol3/papers.cfm?abstract_id=5106235\">Asymmetric Content Moderation in Search Markets: The Case of Adult Websites</a><span class=\"sitebit comhead\"> (<a href=\"from?site=ssrn.com\"><span class=\"sitestr\">ssrn.com</span></a>)</span></span></td></tr><tr><td colspan=\"2\"></td><td class=\"subtext\"><span class=\"subline\">\n",
              "<span class=\"score\" id=\"score_43784056\">70 points</span> by <a class=\"hnuser\" href=\"user?id=amadeuspagel\">amadeuspagel</a> <span class=\"age\" title=\"2025-04-24T15:38:44 1745509124\"><a href=\"item?id=43784056\">15 hours ago</a></span> <span id=\"unv_43784056\"></span> | <a href=\"hide?id=43784056&amp;goto=news\">hide</a> | <a href=\"item?id=43784056\">29 comments</a> </span>\n",
              "</td></tr>\n",
              "<tr class=\"spacer\" style=\"height:5px\"></tr>\n",
              "<tr class=\"athing submission\" id=\"43788125\">\n",
              "<td align=\"right\" class=\"title\" valign=\"top\"><span class=\"rank\">27.</span></td> <td class=\"votelinks\" valign=\"top\"><center><a href=\"vote?id=43788125&amp;how=up&amp;goto=news\" id=\"up_43788125\"><div class=\"votearrow\" title=\"upvote\"></div></a></center></td><td class=\"title\"><span class=\"titleline\"><a href=\"https://www.theregister.com/2025/04/24/microsoft_vs_code_subtracts_cc_extension/\">Microsoft subtracts C/C++ extension from VS Code forks</a><span class=\"sitebit comhead\"> (<a href=\"from?site=theregister.com\"><span class=\"sitestr\">theregister.com</span></a>)</span></span></td></tr><tr><td colspan=\"2\"></td><td class=\"subtext\"><span class=\"subline\">\n",
              "<span class=\"score\" id=\"score_43788125\">144 points</span> by <a class=\"hnuser\" href=\"user?id=Dotnaught\">Dotnaught</a> <span class=\"age\" title=\"2025-04-24T22:18:49 1745533129\"><a href=\"item?id=43788125\">9 hours ago</a></span> <span id=\"unv_43788125\"></span> | <a href=\"hide?id=43788125&amp;goto=news\">hide</a> | <a href=\"item?id=43788125\">149 comments</a> </span>\n",
              "</td></tr>\n",
              "<tr class=\"spacer\" style=\"height:5px\"></tr>\n",
              "<tr class=\"athing submission\" id=\"43784946\">\n",
              "<td align=\"right\" class=\"title\" valign=\"top\"><span class=\"rank\">28.</span></td> <td><img height=\"1\" src=\"s.gif\" width=\"14\"/></td> <td class=\"title\"><span class=\"titleline\"><a href=\"https://www.ycombinator.com/companies/bild-ai/jobs/m2ilR5L-founding-engineer\">Bild AI (YC W25) is hiring a founding engineer in SF</a><span class=\"sitebit comhead\"> (<a href=\"from?site=ycombinator.com\"><span class=\"sitestr\">ycombinator.com</span></a>)</span></span></td></tr><tr><td colspan=\"2\"></td><td class=\"subtext\">\n",
              "<span class=\"age\" title=\"2025-04-24T17:00:38 1745514038\"><a href=\"item?id=43784946\">14 hours ago</a></span> | <a href=\"hide?id=43784946&amp;goto=news\">hide</a> </td></tr>\n",
              "<tr class=\"spacer\" style=\"height:5px\"></tr>\n",
              "<tr class=\"athing submission\" id=\"43789010\">\n",
              "<td align=\"right\" class=\"title\" valign=\"top\"><span class=\"rank\">29.</span></td> <td class=\"votelinks\" valign=\"top\"><center><a href=\"vote?id=43789010&amp;how=up&amp;goto=news\" id=\"up_43789010\"><div class=\"votearrow\" title=\"upvote\"></div></a></center></td><td class=\"title\"><span class=\"titleline\"><a href=\"https://github.com/fourlexboehm/faasta\">Show HN: Faasta – A self-hosted Serverless platform for WASM-wasi-HTTP in Rust</a><span class=\"sitebit comhead\"> (<a href=\"from?site=github.com/fourlexboehm\"><span class=\"sitestr\">github.com/fourlexboehm</span></a>)</span></span></td></tr><tr><td colspan=\"2\"></td><td class=\"subtext\"><span class=\"subline\">\n",
              "<span class=\"score\" id=\"score_43789010\">17 points</span> by <a class=\"hnuser\" href=\"user?id=alexboehm\">alexboehm</a> <span class=\"age\" title=\"2025-04-25T00:31:05 1745541065\"><a href=\"item?id=43789010\">7 hours ago</a></span> <span id=\"unv_43789010\"></span> | <a href=\"hide?id=43789010&amp;goto=news\">hide</a> | <a href=\"item?id=43789010\">8 comments</a> </span>\n",
              "</td></tr>\n",
              "<tr class=\"spacer\" style=\"height:5px\"></tr>\n",
              "<tr class=\"athing submission\" id=\"43785350\">\n",
              "<td align=\"right\" class=\"title\" valign=\"top\"><span class=\"rank\">30.</span></td> <td class=\"votelinks\" valign=\"top\"><center><a href=\"vote?id=43785350&amp;how=up&amp;goto=news\" id=\"up_43785350\"><div class=\"votearrow\" title=\"upvote\"></div></a></center></td><td class=\"title\"><span class=\"titleline\"><a href=\"https://github.com/philocalyst/infat\">Show HN: Infat – Declaritive application assocation manager for macOS</a><span class=\"sitebit comhead\"> (<a href=\"from?site=github.com/philocalyst\"><span class=\"sitestr\">github.com/philocalyst</span></a>)</span></span></td></tr><tr><td colspan=\"2\"></td><td class=\"subtext\"><span class=\"subline\">\n",
              "<span class=\"score\" id=\"score_43785350\">64 points</span> by <a class=\"hnuser\" href=\"user?id=philocalyst\">philocalyst</a> <span class=\"age\" title=\"2025-04-24T17:37:52 1745516272\"><a href=\"item?id=43785350\">13 hours ago</a></span> <span id=\"unv_43785350\"></span> | <a href=\"hide?id=43785350&amp;goto=news\">hide</a> | <a href=\"item?id=43785350\">24 comments</a> </span>\n",
              "</td></tr>\n",
              "<tr class=\"spacer\" style=\"height:5px\"></tr>\n",
              "<tr class=\"morespace\" style=\"height:10px\"></tr><tr><td colspan=\"2\"></td>\n",
              "<td class=\"title\"><a class=\"morelink\" href=\"?p=2\" rel=\"next\">More</a></td> </tr>\n",
              "</table>\n",
              "</td></tr>\n",
              "<tr><td><img height=\"10\" src=\"s.gif\" width=\"0\"/><table cellpadding=\"1\" cellspacing=\"0\" width=\"100%\"><tr><td bgcolor=\"#ff6600\"></td></tr></table><br/>\n",
              "<center>Join us for <a href=\"https://events.ycombinator.com/ai-sus\"><u>AI Startup School</u></a> this June 16-17 in San Francisco!</center><br/>\n",
              "<center><span class=\"yclinks\"><a href=\"newsguidelines.html\">Guidelines</a> | <a href=\"newsfaq.html\">FAQ</a> | <a href=\"lists\">Lists</a> | <a href=\"https://github.com/HackerNews/API\">API</a> | <a href=\"security.html\">Security</a> | <a href=\"https://www.ycombinator.com/legal/\">Legal</a> | <a href=\"https://www.ycombinator.com/apply/\">Apply to YC</a> | <a href=\"mailto:hn@ycombinator.com\">Contact</a></span><br/><br/>\n",
              "<form action=\"//hn.algolia.com/\" method=\"get\">Search: <input autocapitalize=\"off\" autocomplete=\"off\" autocorrect=\"off\" name=\"q\" size=\"17\" spellcheck=\"false\" type=\"text\"/></form></center></td></tr> </table></center></body>\n",
              "<script src=\"hn.js?lvYOTeaZKqFhcJaaAifQ\" type=\"text/javascript\"></script>\n",
              "</html>"
            ]
          },
          "metadata": {},
          "execution_count": 11
        }
      ]
    },
    {
      "cell_type": "code",
      "source": [
        "<tr id=\"pagespace\" style=\"height:10px\" title=\"\"></tr>\n",
        "<tr>\n",
        "<td><table border=\"0\" cellpadding=\"0\" cellspacing=\"0\">\n",
        "<tr class=\"athing submission\" id=\"43790093\">\n",
        "  <td align=\"right\" class=\"title\" valign=\"top\">\n",
        "  <span class=\"rank\">1.</span></td>\n",
        "  <td class=\"votelinks\" valign=\"top\"><center>\n",
        "    <a href=\"vote?id=43790093&amp;how=up&amp;goto=news\" id=\"up_43790093\">\n",
        "    <div class=\"votearrow\" title=\"upvote\"></div></a></center>\n",
        "  </td>\n",
        "  <td class=\"title\">\n",
        "    <span class=\"titleline\">\n",
        "    <a href=\"https://deepmind.google/discover/blog/music-ai-sandbox-now-with-new-features-and-broader-access/\">DeepMind releases Lyria 2 music generation model</a>\n",
        "    <span class=\"sitebit comhead\"> (<a href=\"from?site=deepmind.google\"><span class=\"sitestr\">deepmind.google</span></a>)\n",
        "    </span></span>\n",
        "  </td>\n",
        "</tr>\n",
        "\n",
        "<tr><td colspan=\"2\"></td><td class=\"subtext\"><span class=\"subline\">\n",
        "    <span class=\"score\" id=\"score_43790093\">140 points</span> by <a class=\"hnuser\" href=\"user?id=velcrobeg\">velcrobeg</a>\n",
        "    <span class=\"age\" title=\"2025-04-25T04:25:15 1745555115\"><a href=\"item?id=43790093\">3 hours ago</a></span>\n",
        "    <span id=\"unv_43790093\"></span> | <a href=\"hide?id=43790093&amp;goto=news\">hide</a> | <a href=\"item?id=43790093\">132 comments</a> </span>\n",
        "  </td>\n",
        "</tr>"
      ],
      "metadata": {
        "id": "iYcruJj_AcLF"
      },
      "execution_count": null,
      "outputs": []
    },
    {
      "cell_type": "code",
      "source": [
        "story_rows = soup.find_all('tr', class_='athing')\n",
        "story_rows"
      ],
      "metadata": {
        "colab": {
          "base_uri": "https://localhost:8080/"
        },
        "collapsed": true,
        "id": "6D-NKelq3iQ0",
        "outputId": "b3799fa7-b83d-44cd-fdc2-ed9e26089479"
      },
      "execution_count": 50,
      "outputs": [
        {
          "output_type": "execute_result",
          "data": {
            "text/plain": [
              "[<tr class=\"athing submission\" id=\"43790093\">\n",
              " <td align=\"right\" class=\"title\" valign=\"top\"><span class=\"rank\">1.</span></td> <td class=\"votelinks\" valign=\"top\"><center><a href=\"vote?id=43790093&amp;how=up&amp;goto=news\" id=\"up_43790093\"><div class=\"votearrow\" title=\"upvote\"></div></a></center></td><td class=\"title\"><span class=\"titleline\"><a href=\"https://deepmind.google/discover/blog/music-ai-sandbox-now-with-new-features-and-broader-access/\">DeepMind releases Lyria 2 music generation model</a><span class=\"sitebit comhead\"> (<a href=\"from?site=deepmind.google\"><span class=\"sitestr\">deepmind.google</span></a>)</span></span></td></tr>,\n",
              " <tr class=\"athing submission\" id=\"43789593\">\n",
              " <td align=\"right\" class=\"title\" valign=\"top\"><span class=\"rank\">2.</span></td> <td class=\"votelinks\" valign=\"top\"><center><a href=\"vote?id=43789593&amp;how=up&amp;goto=news\" id=\"up_43789593\"><div class=\"votearrow\" title=\"upvote\"></div></a></center></td><td class=\"title\"><span class=\"titleline\"><a href=\"https://www.jsoftware.com/papers/tot.htm\">Notation as a Tool of Thought (1979)</a><span class=\"sitebit comhead\"> (<a href=\"from?site=jsoftware.com\"><span class=\"sitestr\">jsoftware.com</span></a>)</span></span></td></tr>,\n",
              " <tr class=\"athing submission\" id=\"43790420\">\n",
              " <td align=\"right\" class=\"title\" valign=\"top\"><span class=\"rank\">3.</span></td> <td class=\"votelinks\" valign=\"top\"><center><a href=\"vote?id=43790420&amp;how=up&amp;goto=news\" id=\"up_43790420\"><div class=\"votearrow\" title=\"upvote\"></div></a></center></td><td class=\"title\"><span class=\"titleline\"><a href=\"https://www.morling.dev/blog/what-if-we-could-rebuild-kafka-from-scratch/\">What If We Could Rebuild Kafka from Scratch?</a><span class=\"sitebit comhead\"> (<a href=\"from?site=morling.dev\"><span class=\"sitestr\">morling.dev</span></a>)</span></span></td></tr>,\n",
              " <tr class=\"athing submission\" id=\"43790855\">\n",
              " <td align=\"right\" class=\"title\" valign=\"top\"><span class=\"rank\">4.</span></td> <td class=\"votelinks\" valign=\"top\"><center><a href=\"vote?id=43790855&amp;how=up&amp;goto=news\" id=\"up_43790855\"><div class=\"votearrow\" title=\"upvote\"></div></a></center></td><td class=\"title\"><span class=\"titleline\"><a href=\"https://lwn.net/SubscriberLink/1018486/1dcd29863655cb25/\" rel=\"nofollow\">Some __nonstring__ Turbulence</a><span class=\"sitebit comhead\"> (<a href=\"from?site=lwn.net\"><span class=\"sitestr\">lwn.net</span></a>)</span></span></td></tr>,\n",
              " <tr class=\"athing submission\" id=\"43786506\">\n",
              " <td align=\"right\" class=\"title\" valign=\"top\"><span class=\"rank\">5.</span></td> <td class=\"votelinks\" valign=\"top\"><center><a href=\"vote?id=43786506&amp;how=up&amp;goto=news\" id=\"up_43786506\"><div class=\"votearrow\" title=\"upvote\"></div></a></center></td><td class=\"title\"><span class=\"titleline\"><a href=\"https://openai.com/index/image-generation-api/\">OpenAI releases image generation in the API</a><span class=\"sitebit comhead\"> (<a href=\"from?site=openai.com\"><span class=\"sitestr\">openai.com</span></a>)</span></span></td></tr>,\n",
              " <tr class=\"athing submission\" id=\"43788053\">\n",
              " <td align=\"right\" class=\"title\" valign=\"top\"><span class=\"rank\">6.</span></td> <td class=\"votelinks\" valign=\"top\"><center><a href=\"vote?id=43788053&amp;how=up&amp;goto=news\" id=\"up_43788053\"><div class=\"votearrow\" title=\"upvote\"></div></a></center></td><td class=\"title\"><span class=\"titleline\"><a href=\"https://newscenter.lbl.gov/2025/04/24/scientists-develop-artificial-leaf-that-uses-sunlight-to-produce-valuable-chemicals/\">Scientists Develop Artificial Leaf, Uses Sunlight to Produce Valuable Chemicals</a><span class=\"sitebit comhead\"> (<a href=\"from?site=lbl.gov\"><span class=\"sitestr\">lbl.gov</span></a>)</span></span></td></tr>,\n",
              " <tr class=\"athing submission\" id=\"43789625\">\n",
              " <td align=\"right\" class=\"title\" valign=\"top\"><span class=\"rank\">7.</span></td> <td class=\"votelinks\" valign=\"top\"><center><a href=\"vote?id=43789625&amp;how=up&amp;goto=news\" id=\"up_43789625\"><div class=\"votearrow\" title=\"upvote\"></div></a></center></td><td class=\"title\"><span class=\"titleline\"><a href=\"https://greptime.com/blogs/2025-04-25-greptimedb-observability2-new-database\">Observability 2.0 and the Database for It</a><span class=\"sitebit comhead\"> (<a href=\"from?site=greptime.com\"><span class=\"sitestr\">greptime.com</span></a>)</span></span></td></tr>,\n",
              " <tr class=\"athing submission\" id=\"43787730\">\n",
              " <td align=\"right\" class=\"title\" valign=\"top\"><span class=\"rank\">8.</span></td> <td class=\"votelinks\" valign=\"top\"><center><a href=\"vote?id=43787730&amp;how=up&amp;goto=news\" id=\"up_43787730\"><div class=\"votearrow\" title=\"upvote\"></div></a></center></td><td class=\"title\"><span class=\"titleline\"><a href=\"https://nasstatus.faa.gov/\">National Airspace System Status</a><span class=\"sitebit comhead\"> (<a href=\"from?site=faa.gov\"><span class=\"sitestr\">faa.gov</span></a>)</span></span></td></tr>,\n",
              " <tr class=\"athing submission\" id=\"43781888\">\n",
              " <td align=\"right\" class=\"title\" valign=\"top\"><span class=\"rank\">9.</span></td> <td class=\"votelinks\" valign=\"top\"><center><a href=\"vote?id=43781888&amp;how=up&amp;goto=news\" id=\"up_43781888\"><div class=\"votearrow\" title=\"upvote\"></div></a></center></td><td class=\"title\"><span class=\"titleline\"><a href=\"https://code.mendhak.com/gpl-v2-address-letter/\">I wrote to the address in the GPLv2 license notice (2022)</a><span class=\"sitebit comhead\"> (<a href=\"from?site=mendhak.com\"><span class=\"sitestr\">mendhak.com</span></a>)</span></span></td></tr>,\n",
              " <tr class=\"athing submission\" id=\"43774169\">\n",
              " <td align=\"right\" class=\"title\" valign=\"top\"><span class=\"rank\">10.</span></td> <td class=\"votelinks\" valign=\"top\"><center><a href=\"vote?id=43774169&amp;how=up&amp;goto=news\" id=\"up_43774169\"><div class=\"votearrow\" title=\"upvote\"></div></a></center></td><td class=\"title\"><span class=\"titleline\"><a href=\"https://www.ycombinator.com/library/Ij-tarpit-ideas-what-are-tarpit-ideas-how-to-avoid-them\">Tarpit ideas: What are tarpit ideas and how to avoid them (2023) [video]</a><span class=\"sitebit comhead\"> (<a href=\"from?site=ycombinator.com\"><span class=\"sitestr\">ycombinator.com</span></a>)</span></span></td></tr>,\n",
              " <tr class=\"athing submission\" id=\"43787676\">\n",
              " <td align=\"right\" class=\"title\" valign=\"top\"><span class=\"rank\">11.</span></td> <td class=\"votelinks\" valign=\"top\"><center><a href=\"vote?id=43787676&amp;how=up&amp;goto=news\" id=\"up_43787676\"><div class=\"votearrow\" title=\"upvote\"></div></a></center></td><td class=\"title\"><span class=\"titleline\"><a href=\"https://www.chrbutler.com/you-can-be-a-great-designer-and-be-completely-unknown\">You Can Be a Great Designer and Be Completely Unknown</a><span class=\"sitebit comhead\"> (<a href=\"from?site=chrbutler.com\"><span class=\"sitestr\">chrbutler.com</span></a>)</span></span></td></tr>,\n",
              " <tr class=\"athing submission\" id=\"43785039\">\n",
              " <td align=\"right\" class=\"title\" valign=\"top\"><span class=\"rank\">12.</span></td> <td class=\"votelinks\" valign=\"top\"><center><a href=\"vote?id=43785039&amp;how=up&amp;goto=news\" id=\"up_43785039\"><div class=\"votearrow\" title=\"upvote\"></div></a></center></td><td class=\"title\"><span class=\"titleline\"><a href=\"https://status.open-vsx.org/\">OpenVSX, which VSCode forks rely on for extensions, down for 24 hours</a><span class=\"sitebit comhead\"> (<a href=\"from?site=open-vsx.org\"><span class=\"sitestr\">open-vsx.org</span></a>)</span></span></td></tr>,\n",
              " <tr class=\"athing submission\" id=\"43788994\">\n",
              " <td align=\"right\" class=\"title\" valign=\"top\"><span class=\"rank\">13.</span></td> <td class=\"votelinks\" valign=\"top\"><center><a href=\"vote?id=43788994&amp;how=up&amp;goto=news\" id=\"up_43788994\"><div class=\"votearrow\" title=\"upvote\"></div></a></center></td><td class=\"title\"><span class=\"titleline\"><a href=\"https://github.com/apple/swift-container-plugin\">Swift Container Plugin</a><span class=\"sitebit comhead\"> (<a href=\"from?site=github.com/apple\"><span class=\"sitestr\">github.com/apple</span></a>)</span></span></td></tr>,\n",
              " <tr class=\"athing submission\" id=\"43782299\">\n",
              " <td align=\"right\" class=\"title\" valign=\"top\"><span class=\"rank\">14.</span></td> <td class=\"votelinks\" valign=\"top\"><center><a href=\"vote?id=43782299&amp;how=up&amp;goto=news\" id=\"up_43782299\"><div class=\"votearrow\" title=\"upvote\"></div></a></center></td><td class=\"title\"><span class=\"titleline\"><a href=\"item?id=43782299\">Ask HN: Share your AI prompt that stumps every model</a></span></td></tr>,\n",
              " <tr class=\"athing submission\" id=\"43784721\">\n",
              " <td align=\"right\" class=\"title\" valign=\"top\"><span class=\"rank\">15.</span></td> <td class=\"votelinks\" valign=\"top\"><center><a href=\"vote?id=43784721&amp;how=up&amp;goto=news\" id=\"up_43784721\"><div class=\"votearrow\" title=\"upvote\"></div></a></center></td><td class=\"title\"><span class=\"titleline\"><a href=\"https://bigthink.com/starts-with-a-bang/21cm-magic-length/\">One quantum transition makes light at 21 cm</a><span class=\"sitebit comhead\"> (<a href=\"from?site=bigthink.com\"><span class=\"sitestr\">bigthink.com</span></a>)</span></span></td></tr>,\n",
              " <tr class=\"athing submission\" id=\"43785044\">\n",
              " <td align=\"right\" class=\"title\" valign=\"top\"><span class=\"rank\">16.</span></td> <td class=\"votelinks\" valign=\"top\"><center><a href=\"vote?id=43785044&amp;how=up&amp;goto=news\" id=\"up_43785044\"><div class=\"votearrow\" title=\"upvote\"></div></a></center></td><td class=\"title\"><span class=\"titleline\"><a href=\"item?id=43785044\">Show HN: Lemon Slice Live – Have a video call with a transformer model</a></span></td></tr>,\n",
              " <tr class=\"athing submission\" id=\"43782406\">\n",
              " <td align=\"right\" class=\"title\" valign=\"top\"><span class=\"rank\">17.</span></td> <td class=\"votelinks\" valign=\"top\"><center><a href=\"vote?id=43782406&amp;how=up&amp;goto=news\" id=\"up_43782406\"><div class=\"votearrow\" title=\"upvote\"></div></a></center></td><td class=\"title\"><span class=\"titleline\"><a href=\"https://motherduck.com/blog/introducing-instant-sql/\">Instant SQL for results as you type in DuckDB UI</a><span class=\"sitebit comhead\"> (<a href=\"from?site=motherduck.com\"><span class=\"sitestr\">motherduck.com</span></a>)</span></span></td></tr>,\n",
              " <tr class=\"athing submission\" id=\"43786514\">\n",
              " <td align=\"right\" class=\"title\" valign=\"top\"><span class=\"rank\">18.</span></td> <td class=\"votelinks\" valign=\"top\"><center><a href=\"vote?id=43786514&amp;how=up&amp;goto=news\" id=\"up_43786514\"><div class=\"votearrow\" title=\"upvote\"></div></a></center></td><td class=\"title\"><span class=\"titleline\"><a href=\"https://arxiv.org/abs/2503.19779\">PyGraph: Robust Compiler Support for CUDA Graphs in PyTorch</a><span class=\"sitebit comhead\"> (<a href=\"from?site=arxiv.org\"><span class=\"sitestr\">arxiv.org</span></a>)</span></span></td></tr>,\n",
              " <tr class=\"athing submission\" id=\"43780918\">\n",
              " <td align=\"right\" class=\"title\" valign=\"top\"><span class=\"rank\">19.</span></td> <td class=\"votelinks\" valign=\"top\"><center><a href=\"vote?id=43780918&amp;how=up&amp;goto=news\" id=\"up_43780918\"><div class=\"votearrow\" title=\"upvote\"></div></a></center></td><td class=\"title\"><span class=\"titleline\"><a href=\"https://plutonic.dev\">Show HN: I built Lovable for text bots and mini apps</a><span class=\"sitebit comhead\"> (<a href=\"from?site=plutonic.dev\"><span class=\"sitestr\">plutonic.dev</span></a>)</span></span></td></tr>,\n",
              " <tr class=\"athing submission\" id=\"43778729\">\n",
              " <td align=\"right\" class=\"title\" valign=\"top\"><span class=\"rank\">20.</span></td> <td class=\"votelinks\" valign=\"top\"><center><a href=\"vote?id=43778729&amp;how=up&amp;goto=news\" id=\"up_43778729\"><div class=\"votearrow\" title=\"upvote\"></div></a></center></td><td class=\"title\"><span class=\"titleline\"><a href=\"https://www.nytimes.com/2025/04/23/science/lion-gladiator-romans-bones.html\">A Roman Gladiator and a Lion Met in Combat. Only One Walked Away</a><span class=\"sitebit comhead\"> (<a href=\"from?site=nytimes.com\"><span class=\"sitestr\">nytimes.com</span></a>)</span></span></td></tr>,\n",
              " <tr class=\"athing submission\" id=\"43785464\">\n",
              " <td align=\"right\" class=\"title\" valign=\"top\"><span class=\"rank\">21.</span></td> <td class=\"votelinks\" valign=\"top\"><center><a href=\"vote?id=43785464&amp;how=up&amp;goto=news\" id=\"up_43785464\"><div class=\"votearrow\" title=\"upvote\"></div></a></center></td><td class=\"title\"><span class=\"titleline\"><a href=\"https://reverseui.com\">Show HN: I reverse engineered top websites to build an animated UI library</a><span class=\"sitebit comhead\"> (<a href=\"from?site=reverseui.com\"><span class=\"sitestr\">reverseui.com</span></a>)</span></span></td></tr>,\n",
              " <tr class=\"athing submission\" id=\"43783416\">\n",
              " <td align=\"right\" class=\"title\" valign=\"top\"><span class=\"rank\">22.</span></td> <td class=\"votelinks\" valign=\"top\"><center><a href=\"vote?id=43783416&amp;how=up&amp;goto=news\" id=\"up_43783416\"><div class=\"votearrow\" title=\"upvote\"></div></a></center></td><td class=\"title\"><span class=\"titleline\"><a href=\"https://www.bitsnbites.eu/three-fundamental-flaws-of-simd/\">Fundamental flaws of SIMD ISAs (2021)</a><span class=\"sitebit comhead\"> (<a href=\"from?site=bitsnbites.eu\"><span class=\"sitestr\">bitsnbites.eu</span></a>)</span></span></td></tr>,\n",
              " <tr class=\"athing submission\" id=\"43784200\">\n",
              " <td align=\"right\" class=\"title\" valign=\"top\"><span class=\"rank\">23.</span></td> <td class=\"votelinks\" valign=\"top\"><center><a href=\"vote?id=43784200&amp;how=up&amp;goto=news\" id=\"up_43784200\"><div class=\"votearrow\" title=\"upvote\"></div></a></center></td><td class=\"title\"><span class=\"titleline\"><a href=\"https://www.claudiu-ivan.com/writing/search-dsl\">A Principled Approach to Querying Data – A Type-Safe Search DSL</a><span class=\"sitebit comhead\"> (<a href=\"from?site=claudiu-ivan.com\"><span class=\"sitestr\">claudiu-ivan.com</span></a>)</span></span></td></tr>,\n",
              " <tr class=\"athing submission\" id=\"43777478\">\n",
              " <td align=\"right\" class=\"title\" valign=\"top\"><span class=\"rank\">24.</span></td> <td class=\"votelinks\" valign=\"top\"><center><a href=\"vote?id=43777478&amp;how=up&amp;goto=news\" id=\"up_43777478\"><div class=\"votearrow\" title=\"upvote\"></div></a></center></td><td class=\"title\"><span class=\"titleline\"><a href=\"https://newrepublic.com/article/193998/henry-james-not-home-america\" rel=\"nofollow\">Henry James was not at home in America</a><span class=\"sitebit comhead\"> (<a href=\"from?site=newrepublic.com\"><span class=\"sitestr\">newrepublic.com</span></a>)</span></span></td></tr>,\n",
              " <tr class=\"athing submission\" id=\"43784056\">\n",
              " <td align=\"right\" class=\"title\" valign=\"top\"><span class=\"rank\">25.</span></td> <td class=\"votelinks\" valign=\"top\"><center><a href=\"vote?id=43784056&amp;how=up&amp;goto=news\" id=\"up_43784056\"><div class=\"votearrow\" title=\"upvote\"></div></a></center></td><td class=\"title\"><span class=\"titleline\"><a href=\"https://papers.ssrn.com/sol3/papers.cfm?abstract_id=5106235\">Asymmetric Content Moderation in Search Markets: The Case of Adult Websites</a><span class=\"sitebit comhead\"> (<a href=\"from?site=ssrn.com\"><span class=\"sitestr\">ssrn.com</span></a>)</span></span></td></tr>,\n",
              " <tr class=\"athing submission\" id=\"43759466\">\n",
              " <td align=\"right\" class=\"title\" valign=\"top\"><span class=\"rank\">26.</span></td> <td class=\"votelinks\" valign=\"top\"><center><a href=\"vote?id=43759466&amp;how=up&amp;goto=news\" id=\"up_43759466\"><div class=\"votearrow\" title=\"upvote\"></div></a></center></td><td class=\"title\"><span class=\"titleline\"><a href=\"https://lareviewofbooks.org/article/theres-a-seeker-born-every-minute/\">There's a Seeker Born Every Minute (2024)</a><span class=\"sitebit comhead\"> (<a href=\"from?site=lareviewofbooks.org\"><span class=\"sitestr\">lareviewofbooks.org</span></a>)</span></span></td></tr>,\n",
              " <tr class=\"athing submission\" id=\"43788125\">\n",
              " <td align=\"right\" class=\"title\" valign=\"top\"><span class=\"rank\">27.</span></td> <td class=\"votelinks\" valign=\"top\"><center><a href=\"vote?id=43788125&amp;how=up&amp;goto=news\" id=\"up_43788125\"><div class=\"votearrow\" title=\"upvote\"></div></a></center></td><td class=\"title\"><span class=\"titleline\"><a href=\"https://www.theregister.com/2025/04/24/microsoft_vs_code_subtracts_cc_extension/\">Microsoft subtracts C/C++ extension from VS Code forks</a><span class=\"sitebit comhead\"> (<a href=\"from?site=theregister.com\"><span class=\"sitestr\">theregister.com</span></a>)</span></span></td></tr>,\n",
              " <tr class=\"athing submission\" id=\"43784946\">\n",
              " <td align=\"right\" class=\"title\" valign=\"top\"><span class=\"rank\">28.</span></td> <td><img height=\"1\" src=\"s.gif\" width=\"14\"/></td> <td class=\"title\"><span class=\"titleline\"><a href=\"https://www.ycombinator.com/companies/bild-ai/jobs/m2ilR5L-founding-engineer\">Bild AI (YC W25) is hiring a founding engineer in SF</a><span class=\"sitebit comhead\"> (<a href=\"from?site=ycombinator.com\"><span class=\"sitestr\">ycombinator.com</span></a>)</span></span></td></tr>,\n",
              " <tr class=\"athing submission\" id=\"43789010\">\n",
              " <td align=\"right\" class=\"title\" valign=\"top\"><span class=\"rank\">29.</span></td> <td class=\"votelinks\" valign=\"top\"><center><a href=\"vote?id=43789010&amp;how=up&amp;goto=news\" id=\"up_43789010\"><div class=\"votearrow\" title=\"upvote\"></div></a></center></td><td class=\"title\"><span class=\"titleline\"><a href=\"https://github.com/fourlexboehm/faasta\">Show HN: Faasta – A self-hosted Serverless platform for WASM-wasi-HTTP in Rust</a><span class=\"sitebit comhead\"> (<a href=\"from?site=github.com/fourlexboehm\"><span class=\"sitestr\">github.com/fourlexboehm</span></a>)</span></span></td></tr>,\n",
              " <tr class=\"athing submission\" id=\"43785350\">\n",
              " <td align=\"right\" class=\"title\" valign=\"top\"><span class=\"rank\">30.</span></td> <td class=\"votelinks\" valign=\"top\"><center><a href=\"vote?id=43785350&amp;how=up&amp;goto=news\" id=\"up_43785350\"><div class=\"votearrow\" title=\"upvote\"></div></a></center></td><td class=\"title\"><span class=\"titleline\"><a href=\"https://github.com/philocalyst/infat\">Show HN: Infat – Declaritive application assocation manager for macOS</a><span class=\"sitebit comhead\"> (<a href=\"from?site=github.com/philocalyst\"><span class=\"sitestr\">github.com/philocalyst</span></a>)</span></span></td></tr>]"
            ]
          },
          "metadata": {},
          "execution_count": 50
        }
      ]
    },
    {
      "cell_type": "code",
      "source": [
        "story_rows[0]"
      ],
      "metadata": {
        "colab": {
          "base_uri": "https://localhost:8080/"
        },
        "id": "qOwCLGi53uTU",
        "outputId": "bc420a1f-1324-44f1-d2a4-46f80183ae61"
      },
      "execution_count": 19,
      "outputs": [
        {
          "output_type": "execute_result",
          "data": {
            "text/plain": [
              "<tr class=\"athing submission\" id=\"43790093\">\n",
              "<td align=\"right\" class=\"title\" valign=\"top\"><span class=\"rank\">1.</span></td> <td class=\"votelinks\" valign=\"top\"><center><a href=\"vote?id=43790093&amp;how=up&amp;goto=news\" id=\"up_43790093\"><div class=\"votearrow\" title=\"upvote\"></div></a></center></td><td class=\"title\"><span class=\"titleline\"><a href=\"https://deepmind.google/discover/blog/music-ai-sandbox-now-with-new-features-and-broader-access/\">DeepMind releases Lyria 2 music generation model</a><span class=\"sitebit comhead\"> (<a href=\"from?site=deepmind.google\"><span class=\"sitestr\">deepmind.google</span></a>)</span></span></td></tr>"
            ]
          },
          "metadata": {},
          "execution_count": 19
        }
      ]
    },
    {
      "cell_type": "code",
      "source": [
        "story_rows[0].get('id')"
      ],
      "metadata": {
        "colab": {
          "base_uri": "https://localhost:8080/",
          "height": 35
        },
        "id": "nQABHIRz3uWG",
        "outputId": "f88ff523-7efc-45c7-a754-b6932dc5646b"
      },
      "execution_count": 21,
      "outputs": [
        {
          "output_type": "execute_result",
          "data": {
            "text/plain": [
              "'43790093'"
            ],
            "application/vnd.google.colaboratory.intrinsic+json": {
              "type": "string"
            }
          },
          "metadata": {},
          "execution_count": 21
        }
      ]
    },
    {
      "cell_type": "code",
      "source": [
        "story_rows[0].find('span', class_='titleline')"
      ],
      "metadata": {
        "colab": {
          "base_uri": "https://localhost:8080/"
        },
        "id": "kxa6GHu93uY_",
        "outputId": "31d7b5d3-b975-44ff-e14f-ca79e26a99ff"
      },
      "execution_count": 22,
      "outputs": [
        {
          "output_type": "execute_result",
          "data": {
            "text/plain": [
              "<span class=\"titleline\"><a href=\"https://deepmind.google/discover/blog/music-ai-sandbox-now-with-new-features-and-broader-access/\">DeepMind releases Lyria 2 music generation model</a><span class=\"sitebit comhead\"> (<a href=\"from?site=deepmind.google\"><span class=\"sitestr\">deepmind.google</span></a>)</span></span>"
            ]
          },
          "metadata": {},
          "execution_count": 22
        }
      ]
    },
    {
      "cell_type": "code",
      "source": [
        "story_rows[0].find('span', class_='titleline').find('a')"
      ],
      "metadata": {
        "colab": {
          "base_uri": "https://localhost:8080/"
        },
        "id": "9QQvvgPt3ubY",
        "outputId": "7a6afbb8-0250-4a44-8b1d-66894cc7b18f"
      },
      "execution_count": 23,
      "outputs": [
        {
          "output_type": "execute_result",
          "data": {
            "text/plain": [
              "<a href=\"https://deepmind.google/discover/blog/music-ai-sandbox-now-with-new-features-and-broader-access/\">DeepMind releases Lyria 2 music generation model</a>"
            ]
          },
          "metadata": {},
          "execution_count": 23
        }
      ]
    },
    {
      "cell_type": "code",
      "source": [
        "story_rows[0].find('span', class_='titleline').find('a').text"
      ],
      "metadata": {
        "colab": {
          "base_uri": "https://localhost:8080/",
          "height": 35
        },
        "id": "eGyXEY_Z3ueK",
        "outputId": "cd776dab-b9ab-4a22-b1e0-df7a7a99adea"
      },
      "execution_count": 25,
      "outputs": [
        {
          "output_type": "execute_result",
          "data": {
            "text/plain": [
              "'DeepMind releases Lyria 2 music generation model'"
            ],
            "application/vnd.google.colaboratory.intrinsic+json": {
              "type": "string"
            }
          },
          "metadata": {},
          "execution_count": 25
        }
      ]
    },
    {
      "cell_type": "code",
      "source": [
        "story_rows[0].find('span', class_='titleline').find('a').text.strip()"
      ],
      "metadata": {
        "colab": {
          "base_uri": "https://localhost:8080/",
          "height": 35
        },
        "id": "3O78zaKV3ug3",
        "outputId": "beef0df9-7056-4e24-ccf6-c6ac1442ff4f"
      },
      "execution_count": 26,
      "outputs": [
        {
          "output_type": "execute_result",
          "data": {
            "text/plain": [
              "'DeepMind releases Lyria 2 music generation model'"
            ],
            "application/vnd.google.colaboratory.intrinsic+json": {
              "type": "string"
            }
          },
          "metadata": {},
          "execution_count": 26
        }
      ]
    },
    {
      "cell_type": "code",
      "source": [
        "story_rows[0].find('span', class_='titleline').find('a').get('href')"
      ],
      "metadata": {
        "colab": {
          "base_uri": "https://localhost:8080/",
          "height": 35
        },
        "id": "zYQSFQ4i3iUC",
        "outputId": "282aad48-f435-48d1-916d-334ce03cf4b2"
      },
      "execution_count": 27,
      "outputs": [
        {
          "output_type": "execute_result",
          "data": {
            "text/plain": [
              "'https://deepmind.google/discover/blog/music-ai-sandbox-now-with-new-features-and-broader-access/'"
            ],
            "application/vnd.google.colaboratory.intrinsic+json": {
              "type": "string"
            }
          },
          "metadata": {},
          "execution_count": 27
        }
      ]
    },
    {
      "cell_type": "code",
      "source": [
        "link = story_rows[0].find('span', class_='titleline').find('a').get('href','')\n",
        "print(link)"
      ],
      "metadata": {
        "colab": {
          "base_uri": "https://localhost:8080/"
        },
        "id": "GXl9UcDB6L99",
        "outputId": "57cb5c43-0689-49c3-e30c-40f4cc72ffd2"
      },
      "execution_count": 33,
      "outputs": [
        {
          "output_type": "stream",
          "name": "stdout",
          "text": [
            "https://deepmind.google/discover/blog/music-ai-sandbox-now-with-new-features-and-broader-access/\n"
          ]
        }
      ]
    },
    {
      "cell_type": "code",
      "source": [
        "if link and link.startswith('item?'):\n",
        "  print(link)\n",
        "  link = f\"https://news.ycombinator.com/{link}\"\n",
        "\n",
        "print(link)"
      ],
      "metadata": {
        "colab": {
          "base_uri": "https://localhost:8080/"
        },
        "id": "REdu2nX66MAy",
        "outputId": "fd3df3ad-5a05-41c4-b7c4-b9ad26da9242"
      },
      "execution_count": 32,
      "outputs": [
        {
          "output_type": "stream",
          "name": "stdout",
          "text": [
            "https://deepmind.google/discover/blog/music-ai-sandbox-now-with-new-features-and-broader-access/\n"
          ]
        }
      ]
    },
    {
      "cell_type": "code",
      "source": [
        "story_rows[0]"
      ],
      "metadata": {
        "colab": {
          "base_uri": "https://localhost:8080/"
        },
        "id": "UxymQpjZ_VqQ",
        "outputId": "0baa31a5-f573-4662-8203-eda6f2c9cc39"
      },
      "execution_count": 54,
      "outputs": [
        {
          "output_type": "execute_result",
          "data": {
            "text/plain": [
              "<tr class=\"athing submission\" id=\"43790093\">\n",
              "<td align=\"right\" class=\"title\" valign=\"top\"><span class=\"rank\">1.</span></td> <td class=\"votelinks\" valign=\"top\"><center><a href=\"vote?id=43790093&amp;how=up&amp;goto=news\" id=\"up_43790093\"><div class=\"votearrow\" title=\"upvote\"></div></a></center></td><td class=\"title\"><span class=\"titleline\"><a href=\"https://deepmind.google/discover/blog/music-ai-sandbox-now-with-new-features-and-broader-access/\">DeepMind releases Lyria 2 music generation model</a><span class=\"sitebit comhead\"> (<a href=\"from?site=deepmind.google\"><span class=\"sitestr\">deepmind.google</span></a>)</span></span></td></tr>"
            ]
          },
          "metadata": {},
          "execution_count": 54
        }
      ]
    },
    {
      "cell_type": "code",
      "source": [
        "story_rows[0].find_next_sibling('tr')"
      ],
      "metadata": {
        "colab": {
          "base_uri": "https://localhost:8080/"
        },
        "id": "WVkg-yRZ-jWQ",
        "outputId": "05fae23f-cf2e-490f-e52d-8c155cac484a"
      },
      "execution_count": 53,
      "outputs": [
        {
          "output_type": "execute_result",
          "data": {
            "text/plain": [
              "<tr><td colspan=\"2\"></td><td class=\"subtext\"><span class=\"subline\">\n",
              "<span class=\"score\" id=\"score_43790093\">141 points</span> by <a class=\"hnuser\" href=\"user?id=velcrobeg\">velcrobeg</a> <span class=\"age\" title=\"2025-04-25T04:25:15 1745555115\"><a href=\"item?id=43790093\">3 hours ago</a></span> <span id=\"unv_43790093\"></span> | <a href=\"hide?id=43790093&amp;goto=news\">hide</a> | <a href=\"item?id=43790093\">138 comments</a> </span>\n",
              "</td></tr>"
            ]
          },
          "metadata": {},
          "execution_count": 53
        }
      ]
    },
    {
      "cell_type": "code",
      "source": [
        "<tr><td colspan=\"2\"></td>\n",
        "<td class=\"subtext\"><span class=\"subline\">\n",
        "    <span class=\"score\" id=\"score_43790093\">140 points</span> by <a class=\"hnuser\" href=\"user?id=velcrobeg\">velcrobeg</a>\n",
        "    <span class=\"age\" title=\"2025-04-25T04:25:15 1745555115\"><a href=\"item?id=43790093\">3 hours ago</a></span>\n",
        "    <span id=\"unv_43790093\"></span> | <a href=\"hide?id=43790093&amp;goto=news\">hide</a> | <a href=\"item?id=43790093\">132 comments</a> </span>\n",
        "  </td>\n",
        "</tr>"
      ],
      "metadata": {
        "id": "BXYdmaZ1-jY9"
      },
      "execution_count": null,
      "outputs": []
    },
    {
      "cell_type": "code",
      "source": [
        "story_rows[0].find_next_sibling('tr').find('td', class_='subtext')"
      ],
      "metadata": {
        "colab": {
          "base_uri": "https://localhost:8080/"
        },
        "id": "uySVAN8J-jbk",
        "outputId": "6e3d0a6e-8977-4bea-d885-7aa5aec63cb0"
      },
      "execution_count": 55,
      "outputs": [
        {
          "output_type": "execute_result",
          "data": {
            "text/plain": [
              "<td class=\"subtext\"><span class=\"subline\">\n",
              "<span class=\"score\" id=\"score_43790093\">141 points</span> by <a class=\"hnuser\" href=\"user?id=velcrobeg\">velcrobeg</a> <span class=\"age\" title=\"2025-04-25T04:25:15 1745555115\"><a href=\"item?id=43790093\">3 hours ago</a></span> <span id=\"unv_43790093\"></span> | <a href=\"hide?id=43790093&amp;goto=news\">hide</a> | <a href=\"item?id=43790093\">138 comments</a> </span>\n",
              "</td>"
            ]
          },
          "metadata": {},
          "execution_count": 55
        }
      ]
    },
    {
      "cell_type": "code",
      "source": [
        "story_rows[0].find_next_sibling('tr').find('td', class_='subtext').find('span', class_='score')"
      ],
      "metadata": {
        "colab": {
          "base_uri": "https://localhost:8080/"
        },
        "id": "heTlLjkCE-6f",
        "outputId": "527ea17d-8bdb-4bc3-ea41-40a03347cf2f"
      },
      "execution_count": 56,
      "outputs": [
        {
          "output_type": "execute_result",
          "data": {
            "text/plain": [
              "<span class=\"score\" id=\"score_43790093\">141 points</span>"
            ]
          },
          "metadata": {},
          "execution_count": 56
        }
      ]
    },
    {
      "cell_type": "code",
      "source": [
        "story_rows[0].find_next_sibling('tr').find('td', class_='subtext').find('span', class_='score').text"
      ],
      "metadata": {
        "colab": {
          "base_uri": "https://localhost:8080/",
          "height": 35
        },
        "id": "ghheNS8CE-9i",
        "outputId": "440d12df-9992-45f3-8ac2-505fad1cd06d"
      },
      "execution_count": 57,
      "outputs": [
        {
          "output_type": "execute_result",
          "data": {
            "text/plain": [
              "'141 points'"
            ],
            "application/vnd.google.colaboratory.intrinsic+json": {
              "type": "string"
            }
          },
          "metadata": {},
          "execution_count": 57
        }
      ]
    },
    {
      "cell_type": "code",
      "source": [
        "#Score\n",
        "story_rows[0].find_next_sibling('tr').find('td', class_='subtext').find('span', class_='score').text.strip()"
      ],
      "metadata": {
        "colab": {
          "base_uri": "https://localhost:8080/",
          "height": 35
        },
        "id": "Gb7cw4duE_AW",
        "outputId": "e6ef7c61-497e-47ab-c0a3-372b51cca475"
      },
      "execution_count": 58,
      "outputs": [
        {
          "output_type": "execute_result",
          "data": {
            "text/plain": [
              "'141 points'"
            ],
            "application/vnd.google.colaboratory.intrinsic+json": {
              "type": "string"
            }
          },
          "metadata": {},
          "execution_count": 58
        }
      ]
    },
    {
      "cell_type": "code",
      "source": [
        "story_rows[0].find_next_sibling('tr').find('td', class_='subtext').find('a',class_='hnuser')"
      ],
      "metadata": {
        "colab": {
          "base_uri": "https://localhost:8080/"
        },
        "id": "_FDDYc0AE_DL",
        "outputId": "124c0637-7b13-40d2-d440-b9a38d2a022f"
      },
      "execution_count": 59,
      "outputs": [
        {
          "output_type": "execute_result",
          "data": {
            "text/plain": [
              "<a class=\"hnuser\" href=\"user?id=velcrobeg\">velcrobeg</a>"
            ]
          },
          "metadata": {},
          "execution_count": 59
        }
      ]
    },
    {
      "cell_type": "code",
      "source": [
        "#Author\n",
        "story_rows[0].find_next_sibling('tr').find('td', class_='subtext').find('a',class_='hnuser').text.strip()"
      ],
      "metadata": {
        "colab": {
          "base_uri": "https://localhost:8080/",
          "height": 35
        },
        "id": "c2gU5tuDFiMW",
        "outputId": "0616a478-d243-4fb2-91ca-d62a0b6458f1"
      },
      "execution_count": 60,
      "outputs": [
        {
          "output_type": "execute_result",
          "data": {
            "text/plain": [
              "'velcrobeg'"
            ],
            "application/vnd.google.colaboratory.intrinsic+json": {
              "type": "string"
            }
          },
          "metadata": {},
          "execution_count": 60
        }
      ]
    },
    {
      "cell_type": "code",
      "source": [
        "story_rows[0].find_next_sibling('tr').find('td', class_='subtext').findall('a')"
      ],
      "metadata": {
        "colab": {
          "base_uri": "https://localhost:8080/",
          "height": 141
        },
        "id": "av5PShe5FiPJ",
        "outputId": "2cfa31aa-a7e7-4fe7-c35f-0ae1b7320556"
      },
      "execution_count": 61,
      "outputs": [
        {
          "output_type": "error",
          "ename": "TypeError",
          "evalue": "'NoneType' object is not callable",
          "traceback": [
            "\u001b[0;31m---------------------------------------------------------------------------\u001b[0m",
            "\u001b[0;31mTypeError\u001b[0m                                 Traceback (most recent call last)",
            "\u001b[0;32m<ipython-input-61-e4bb7cb93d56>\u001b[0m in \u001b[0;36m<cell line: 0>\u001b[0;34m()\u001b[0m\n\u001b[0;32m----> 1\u001b[0;31m \u001b[0mstory_rows\u001b[0m\u001b[0;34m[\u001b[0m\u001b[0;36m0\u001b[0m\u001b[0;34m]\u001b[0m\u001b[0;34m.\u001b[0m\u001b[0mfind_next_sibling\u001b[0m\u001b[0;34m(\u001b[0m\u001b[0;34m'tr'\u001b[0m\u001b[0;34m)\u001b[0m\u001b[0;34m.\u001b[0m\u001b[0mfind\u001b[0m\u001b[0;34m(\u001b[0m\u001b[0;34m'td'\u001b[0m\u001b[0;34m,\u001b[0m \u001b[0mclass_\u001b[0m\u001b[0;34m=\u001b[0m\u001b[0;34m'subtext'\u001b[0m\u001b[0;34m)\u001b[0m\u001b[0;34m.\u001b[0m\u001b[0mfindall\u001b[0m\u001b[0;34m(\u001b[0m\u001b[0;34m'a'\u001b[0m\u001b[0;34m)\u001b[0m\u001b[0;34m\u001b[0m\u001b[0;34m\u001b[0m\u001b[0m\n\u001b[0m",
            "\u001b[0;31mTypeError\u001b[0m: 'NoneType' object is not callable"
          ]
        }
      ]
    },
    {
      "cell_type": "code",
      "source": [
        "subtext = story_rows[0].find_next_sibling('tr').find('td', class_='subtext')\n",
        "lnk_a= subtext.find_all('a')"
      ],
      "metadata": {
        "id": "UzrdroUIFiST"
      },
      "execution_count": 64,
      "outputs": []
    },
    {
      "cell_type": "code",
      "source": [
        "for a in lnk_a:\n",
        "  if any(keyword in a.text for keyword in ['comment', 'discuss']):\n",
        "    alnk = a\n",
        "    print(alnk)"
      ],
      "metadata": {
        "colab": {
          "base_uri": "https://localhost:8080/"
        },
        "id": "SKwVIO8yFiVd",
        "outputId": "083ee308-1c55-4718-8043-cb7363848f8e"
      },
      "execution_count": 70,
      "outputs": [
        {
          "output_type": "stream",
          "name": "stdout",
          "text": [
            "<a href=\"item?id=43790093\">138 comments</a>\n"
          ]
        }
      ]
    },
    {
      "cell_type": "code",
      "source": [
        "alnk.text.strip()"
      ],
      "metadata": {
        "colab": {
          "base_uri": "https://localhost:8080/",
          "height": 35
        },
        "id": "Jn-cKm3q-jeb",
        "outputId": "b83aa783-de35-4cfe-a1b2-0c7bc09a3de6"
      },
      "execution_count": 74,
      "outputs": [
        {
          "output_type": "execute_result",
          "data": {
            "text/plain": [
              "'138\\xa0comments'"
            ],
            "application/vnd.google.colaboratory.intrinsic+json": {
              "type": "string"
            }
          },
          "metadata": {},
          "execution_count": 74
        }
      ]
    },
    {
      "cell_type": "code",
      "source": [
        "alnk.text.strip().split()"
      ],
      "metadata": {
        "colab": {
          "base_uri": "https://localhost:8080/"
        },
        "id": "I6J0gLbbHaTV",
        "outputId": "d652e70c-23a7-44aa-c780-6760e69646b3"
      },
      "execution_count": 75,
      "outputs": [
        {
          "output_type": "execute_result",
          "data": {
            "text/plain": [
              "['138', 'comments']"
            ]
          },
          "metadata": {},
          "execution_count": 75
        }
      ]
    },
    {
      "cell_type": "code",
      "source": [],
      "metadata": {
        "id": "2mJd8-xlHaWX"
      },
      "execution_count": null,
      "outputs": []
    },
    {
      "cell_type": "code",
      "source": [],
      "metadata": {
        "id": "0AaowxWWHaZZ"
      },
      "execution_count": null,
      "outputs": []
    },
    {
      "cell_type": "code",
      "source": [],
      "metadata": {
        "id": "GftkGIuxHab0"
      },
      "execution_count": null,
      "outputs": []
    },
    {
      "cell_type": "code",
      "source": [
        "sample = \"\"\"<td align=\"right\" class=\"title\" valign=\"top\"><span class=\"rank\">14.</span></td> <td class=\"votelinks\" valign=\"top\"><center><a href=\"vote?id=43782299&amp;how=up&amp;goto=news\" id=\"up_43782299\"><div class=\"votearrow\" title=\"upvote\"></div></a></center></td><td class=\"title\"><span class=\"titleline\"><a href=\"item?id=43782299\">Ask HN: Share your AI prompt that stumps every model</a></span></td></tr>,\n",
        " <tr class=\"athing submission\" id=\"43784721\">\"\"\""
      ],
      "metadata": {
        "id": "P2_8s5Du6MDV"
      },
      "execution_count": 35,
      "outputs": []
    },
    {
      "cell_type": "code",
      "source": [
        "sample"
      ],
      "metadata": {
        "colab": {
          "base_uri": "https://localhost:8080/",
          "height": 87
        },
        "id": "X1KgwgCe6MGp",
        "outputId": "a4a5e33d-6ec6-42e3-ee67-2875b41fe436"
      },
      "execution_count": 36,
      "outputs": [
        {
          "output_type": "execute_result",
          "data": {
            "text/plain": [
              "'<td align=\"right\" class=\"title\" valign=\"top\"><span class=\"rank\">14.</span></td> <td class=\"votelinks\" valign=\"top\"><center><a href=\"vote?id=43782299&amp;how=up&amp;goto=news\" id=\"up_43782299\"><div class=\"votearrow\" title=\"upvote\"></div></a></center></td><td class=\"title\"><span class=\"titleline\"><a href=\"item?id=43782299\">Ask HN: Share your AI prompt that stumps every model</a></span></td></tr>,\\n <tr class=\"athing submission\" id=\"43784721\">'"
            ],
            "application/vnd.google.colaboratory.intrinsic+json": {
              "type": "string"
            }
          },
          "metadata": {},
          "execution_count": 36
        }
      ]
    },
    {
      "cell_type": "code",
      "source": [
        "sample_soup = BeautifulSoup(sample, 'html.parser')\n"
      ],
      "metadata": {
        "id": "0mQ9wZwx-Dql"
      },
      "execution_count": 41,
      "outputs": []
    },
    {
      "cell_type": "code",
      "source": [
        "sample.find('span')"
      ],
      "metadata": {
        "colab": {
          "base_uri": "https://localhost:8080/"
        },
        "id": "mbhG9ELI6MJj",
        "outputId": "2adfd3c8-630e-4bb0-b2f6-ba043edbdf29"
      },
      "execution_count": 37,
      "outputs": [
        {
          "output_type": "execute_result",
          "data": {
            "text/plain": [
              "46"
            ]
          },
          "metadata": {},
          "execution_count": 37
        }
      ]
    },
    {
      "cell_type": "code",
      "source": [
        "sample_soup.find('span', class_='titleline')"
      ],
      "metadata": {
        "colab": {
          "base_uri": "https://localhost:8080/"
        },
        "id": "5p3j5iLH9h2t",
        "outputId": "d4069058-a2b2-4440-864b-1da806f5e62b"
      },
      "execution_count": 44,
      "outputs": [
        {
          "output_type": "execute_result",
          "data": {
            "text/plain": [
              "<span class=\"titleline\"><a href=\"item?id=43782299\">Ask HN: Share your AI prompt that stumps every model</a></span>"
            ]
          },
          "metadata": {},
          "execution_count": 44
        }
      ]
    },
    {
      "cell_type": "code",
      "source": [
        "sample_soup.find('span', class_='titleline').find('a')"
      ],
      "metadata": {
        "colab": {
          "base_uri": "https://localhost:8080/"
        },
        "id": "-9Mo6tzJ9h5V",
        "outputId": "e52816e4-d23f-40ca-fa87-71d07fa5e382"
      },
      "execution_count": 45,
      "outputs": [
        {
          "output_type": "execute_result",
          "data": {
            "text/plain": [
              "<a href=\"item?id=43782299\">Ask HN: Share your AI prompt that stumps every model</a>"
            ]
          },
          "metadata": {},
          "execution_count": 45
        }
      ]
    },
    {
      "cell_type": "code",
      "source": [
        "sample_soup.find('span', class_='titleline').find('a').get('href')"
      ],
      "metadata": {
        "colab": {
          "base_uri": "https://localhost:8080/",
          "height": 35
        },
        "id": "wB_VVKd69h8c",
        "outputId": "e58bbdea-3679-4bd2-fc45-594d3098ef92"
      },
      "execution_count": 46,
      "outputs": [
        {
          "output_type": "execute_result",
          "data": {
            "text/plain": [
              "'item?id=43782299'"
            ],
            "application/vnd.google.colaboratory.intrinsic+json": {
              "type": "string"
            }
          },
          "metadata": {},
          "execution_count": 46
        }
      ]
    },
    {
      "cell_type": "code",
      "source": [
        "sample_link = sample_soup.find('span', class_='titleline').find('a').get('href')"
      ],
      "metadata": {
        "id": "t3gSwvNI-SZ3"
      },
      "execution_count": 47,
      "outputs": []
    },
    {
      "cell_type": "code",
      "source": [
        "if sample_link and sample_link.startswith('item?'):\n",
        "  print(sample_link)\n",
        "  sample_link = f\"https://news.ycombinator.com/{sample_link}\"\n",
        "\n",
        "print(sample_link)"
      ],
      "metadata": {
        "colab": {
          "base_uri": "https://localhost:8080/"
        },
        "id": "gS_miKks-Scz",
        "outputId": "4401337d-6da1-46d6-ea00-1c317b058fd6"
      },
      "execution_count": 48,
      "outputs": [
        {
          "output_type": "stream",
          "name": "stdout",
          "text": [
            "item?id=43782299\n",
            "https://news.ycombinator.com/item?id=43782299\n"
          ]
        }
      ]
    },
    {
      "cell_type": "code",
      "source": [
        "import requests\n",
        "from bs4 import BeautifulSoup\n",
        "import pandas as pd\n",
        "import time\n",
        "import random\n",
        "\n",
        "def scrape_hacker_news(pages=3):\n",
        "    \"\"\"\n",
        "    Scrapes top stories from Hacker News.\n",
        "\n",
        "    Args:\n",
        "        pages: Number of pages to scrape\n",
        "\n",
        "    Returns:\n",
        "        A pandas DataFrame with story details\n",
        "    \"\"\"\n",
        "    # Lists to store story data\n",
        "    titles = []\n",
        "    urls = []\n",
        "    scores = []\n",
        "    authors = []\n",
        "    comments = []\n",
        "\n",
        "    # User agent to mimic a browser - User-Agent String\n",
        "    headers = {\n",
        "        \"User-Agent\": \"Mozilla/5.0 (Windows NT 10.0; Win64; x64) AppleWebKit/537.36 (KHTML, like Gecko) Chrome/91.0.4472.124 Safari/537.36\"\n",
        "    }\n",
        "    \"\"\"\n",
        "    Mozilla/5.0: A general identifier that almost all browsers use for historical compatibility reasons\n",
        "    Windows NT 10.0; Win64; x64: Indicates Windows 10 on a 64-bit system\n",
        "    AppleWebKit/537.36: Specifies the rendering engine being used\n",
        "    KHTML, like Gecko: Additional compatibility identifiers\n",
        "    Chrome/91.0.4472.124: Specifies Chrome version 91\n",
        "    Safari/537.36: Another compatibility identifier\"\"\"\n",
        "\n",
        "    # Loop through the specified number of pages\n",
        "    for page in range(1, pages + 1):\n",
        "        # Construct the URL for the current page\n",
        "        if page == 1:\n",
        "            url = \"https://news.ycombinator.com/\"\n",
        "        else:\n",
        "            url = f\"https://news.ycombinator.com/news?p={page}\"\n",
        "\n",
        "        print(f\"Scraping page {page}...\")\n",
        "\n",
        "        try:\n",
        "            # Send HTTP request\n",
        "            response = requests.get(url, headers=headers) #Status 200 - Ok\n",
        "            response.raise_for_status()  # Raise exception for HTTP errors\n",
        "\n",
        "            # Parse HTML content\n",
        "            soup = BeautifulSoup(response.text, 'html.parser')\n",
        "\n",
        "            # Find all story rows (they have class 'athing')\n",
        "            story_rows = soup.find_all('tr', class_='athing')\n",
        "\n",
        "            for story_row in story_rows:\n",
        "                # Get story ID for finding related information\n",
        "                story_id = story_row.get('id')\n",
        "\n",
        "                # Extract title and URL\n",
        "                title_cell = story_row.find('span', class_='titleline')\n",
        "                if not title_cell:\n",
        "                    continue\n",
        "\n",
        "                title_link = title_cell.find('a')\n",
        "                if not title_link:\n",
        "                    continue\n",
        "\n",
        "                title = title_link.text.strip()\n",
        "                link = title_link.get('href', '')\n",
        "\n",
        "                # If link is relative, make it absolute\n",
        "                if link and link.startswith('item?'):\n",
        "                    link = f\"https://news.ycombinator.com/{link}\"\n",
        "\n",
        "                # Find the subtext row that contains score, author and comments\n",
        "                subtext_row = story_row.find_next_sibling('tr')\n",
        "                if not subtext_row:\n",
        "                    # If we can't find the subtext row, use placeholders\n",
        "                    titles.append(title)\n",
        "                    urls.append(link)\n",
        "                    scores.append('N/A')\n",
        "                    authors.append('N/A')\n",
        "                    comments.append('N/A')\n",
        "                    continue\n",
        "\n",
        "                subtext = subtext_row.find('td', class_='subtext')\n",
        "                if not subtext:\n",
        "                    # If we can't find the subtext, use placeholders\n",
        "                    titles.append(title)\n",
        "                    urls.append(link)\n",
        "                    scores.append('N/A')\n",
        "                    authors.append('N/A')\n",
        "                    comments.append('N/A')\n",
        "                    continue\n",
        "\n",
        "                # Extract score\n",
        "                score_span = subtext.find('span', class_='score')\n",
        "                score = score_span.text.strip() if score_span else 'N/A'\n",
        "\n",
        "                # Extract author\n",
        "                user_link = subtext.find('a', class_='hnuser')\n",
        "                author = user_link.text.strip() if user_link else 'N/A'\n",
        "\n",
        "                # Extract comment count\n",
        "                comment_links = subtext.find_all('a')\n",
        "                comment_count = 'N/A'\n",
        "                for a in comment_links:\n",
        "                    if 'comment' in a.text or 'discuss' in a.text:\n",
        "                        comment_text = a.text.strip()\n",
        "                        # Extract just the number if it's in the format \"123 comments\"\n",
        "                        if 'comment' in comment_text:\n",
        "                            comment_count = comment_text.split()[0]\n",
        "                        break\n",
        "\n",
        "                # Add data to our lists\n",
        "                titles.append(title)\n",
        "                urls.append(link)\n",
        "                scores.append(score)\n",
        "                authors.append(author)\n",
        "                comments.append(comment_count)\n",
        "\n",
        "            # Be respectful with rate limiting\n",
        "            time.sleep(random.uniform(1.5, 3.0))\n",
        "\n",
        "        except requests.exceptions.RequestException as e:\n",
        "            print(f\"Error fetching page {page}: {e}\")\n",
        "            continue\n",
        "\n",
        "    # Create DataFrame with collected data\n",
        "    story_data = {\n",
        "        'Title': titles,\n",
        "        'URL': urls,\n",
        "        'Score': scores,\n",
        "        'Author': authors,\n",
        "        'Comments': comments\n",
        "    }\n",
        "\n",
        "    return pd.DataFrame(story_data)\n"
      ],
      "metadata": {
        "id": "LB67ca-I1p-d"
      },
      "execution_count": 12,
      "outputs": []
    },
    {
      "cell_type": "code",
      "source": [
        "def analyze_stories(df):\n",
        "    \"\"\"\n",
        "    Performs basic analysis on the scraped Hacker News stories.\n",
        "\n",
        "    Args:\n",
        "        df: DataFrame containing story data\n",
        "\n",
        "    Returns:\n",
        "        Dictionary with analysis results\n",
        "    \"\"\"\n",
        "    # Convert Score column to numeric, removing \"points\" text\n",
        "    df['Score_Numeric'] = df['Score'].apply(\n",
        "        lambda x: int(x.split()[0]) if x != 'N/A' and len(x.split()) > 0 else 0\n",
        "    )\n",
        "\n",
        "    # Convert Comments column to numeric\n",
        "    df['Comments_Numeric'] = df['Comments'].apply(\n",
        "        lambda x: int(x) if x != 'N/A' and x.isdigit() else 0\n",
        "    )\n",
        "\n",
        "    # Top authors by number of stories\n",
        "    top_authors = df['Author'].value_counts().head(5)\n",
        "\n",
        "    # Domain analysis\n",
        "    df['Domain'] = df['URL'].apply(\n",
        "        lambda url: url.split('/')[2] if '://' in url and len(url.split('/')) > 2 else 'Unknown'\n",
        "    )\n",
        "    top_domains = df['Domain'].value_counts().head(5)\n",
        "\n",
        "    # Basic statistics\n",
        "    avg_score = df['Score_Numeric'].mean()\n",
        "    avg_comments = df['Comments_Numeric'].mean()\n",
        "    max_score = df['Score_Numeric'].max()\n",
        "\n",
        "    # Stories with highest scores\n",
        "    top_stories = df.sort_values('Score_Numeric', ascending=False).head(5)[['Title', 'Score', 'URL']]\n",
        "\n",
        "    analysis = {\n",
        "        'average_score': avg_score,\n",
        "        'average_comments': avg_comments,\n",
        "        'max_score': max_score,\n",
        "        'top_authors': top_authors,\n",
        "        'top_domains': top_domains,\n",
        "        'top_stories': top_stories\n",
        "    }\n",
        "\n",
        "    return analysis\n"
      ],
      "metadata": {
        "id": "k6z0fzVu1qBl"
      },
      "execution_count": 13,
      "outputs": []
    },
    {
      "cell_type": "code",
      "source": [
        "if __name__ == \"__main__\":\n",
        "    # Scrape Hacker News stories\n",
        "    df = scrape_hacker_news(pages=3)\n",
        "\n",
        "    # Save to CSV\n",
        "    df.to_csv('hacker_news_stories.csv', index=False)\n",
        "    print(f\"Saved {len(df)} stories to hacker_news_stories.csv\")\n",
        "\n",
        "    # Analyze the data\n",
        "    if not df.empty:\n",
        "        analysis = analyze_stories(df)\n",
        "\n",
        "        print(\"\\n--- Hacker News Analysis ---\")\n",
        "        print(f\"Average Score: {analysis['average_score']:.2f} points\")\n",
        "        print(f\"Average Comments: {analysis['average_comments']:.2f}\")\n",
        "        print(f\"Maximum Score: {analysis['max_score']} points\")\n",
        "\n",
        "        print(\"\\nTop Authors:\")\n",
        "        for author, count in analysis['top_authors'].items():\n",
        "            print(f\"- {author}: {count} stories\")\n",
        "\n",
        "        print(\"\\nTop Domains:\")\n",
        "        for domain, count in analysis['top_domains'].items():\n",
        "            print(f\"- {domain}: {count} stories\")\n",
        "\n",
        "        print(\"\\nTop Stories by Score:\")\n",
        "        for _, row in analysis['top_stories'].iterrows():\n",
        "            print(f\"- {row['Title']} ({row['Score']})\")"
      ],
      "metadata": {
        "colab": {
          "base_uri": "https://localhost:8080/"
        },
        "id": "sXO0gHf-1qEt",
        "outputId": "7587c4a5-8dfa-47b8-9a8b-24c72858c0ed"
      },
      "execution_count": 14,
      "outputs": [
        {
          "output_type": "stream",
          "name": "stdout",
          "text": [
            "Scraping page 1...\n",
            "Scraping page 2...\n",
            "Scraping page 3...\n",
            "Saved 90 stories to hacker_news_stories.csv\n",
            "\n",
            "--- Hacker News Analysis ---\n",
            "Average Score: 163.34 points\n",
            "Average Comments: 103.38\n",
            "Maximum Score: 1325 points\n",
            "\n",
            "Top Authors:\n",
            "- todsacerdoti: 3 stories\n",
            "- gnabgib: 2 stories\n",
            "- Aldipower: 2 stories\n",
            "- benbreen: 2 stories\n",
            "- rbanffy: 2 stories\n",
            "\n",
            "Top Domains:\n",
            "- github.com: 14 stories\n",
            "- www.youtube.com: 3 stories\n",
            "- www.ycombinator.com: 2 stories\n",
            "- news.ycombinator.com: 2 stories\n",
            "- www.bloomberg.com: 2 stories\n",
            "\n",
            "Top Stories by Score:\n",
            "- You wouldn't steal a font (1325 points)\n",
            "- DOGE worker’s code supports NLRB whistleblower (964 points)\n",
            "- Careless People (828 points)\n",
            "- AI Horseless Carriages (789 points)\n",
            "- I wrote to the address in the GPLv2 license notice (2022) (632 points)\n"
          ]
        }
      ]
    },
    {
      "cell_type": "code",
      "source": [],
      "metadata": {
        "id": "eBbes_eq1qIY"
      },
      "execution_count": null,
      "outputs": []
    },
    {
      "cell_type": "code",
      "source": [],
      "metadata": {
        "id": "-zTm984L1qKt"
      },
      "execution_count": null,
      "outputs": []
    },
    {
      "cell_type": "code",
      "source": [],
      "metadata": {
        "id": "XNmxSRg41qNe"
      },
      "execution_count": null,
      "outputs": []
    }
  ]
}