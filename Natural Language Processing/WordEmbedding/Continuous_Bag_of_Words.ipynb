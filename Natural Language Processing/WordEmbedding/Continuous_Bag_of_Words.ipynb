{
  "nbformat": 4,
  "nbformat_minor": 0,
  "metadata": {
    "colab": {
      "provenance": [],
      "toc_visible": true
    },
    "kernelspec": {
      "name": "python3",
      "display_name": "Python 3"
    },
    "language_info": {
      "name": "python"
    }
  },
  "cells": [
    {
      "cell_type": "markdown",
      "source": [
        "# Word embeddings"
      ],
      "metadata": {
        "id": "ZDdeYPq6ge8P"
      }
    },
    {
      "cell_type": "markdown",
      "source": [
        "- vector representations of words capture the semantic meaning and relationships between words, enabling algorithms to work with text data effectively.\n",
        "- Among various word embedding techniques, one that stands out for its simplicity and efficiency is the Continuous Bag-of-Words (CBOW) model."
      ],
      "metadata": {
        "id": "WtHH2IY4ge-z"
      }
    },
    {
      "cell_type": "markdown",
      "source": [
        "# Continuous Bag-of-Words"
      ],
      "metadata": {
        "id": "EKf3qvb6gfBe"
      }
    },
    {
      "cell_type": "markdown",
      "source": [
        "- Continuous bag-of-words (CBOW) is a neural network model **for learning word embeddings**.\n",
        "- Word embeddings are **distributed representations of words that capture the semantic and syntactic relationships between words**.\n",
        "- CBOW predicts a target word given the context words in a sentence.\n",
        "\n",
        "- The CBOW model is a **shallow neural network with three layers**: **an input layer, a hidden layer, and an output layer.**\n",
        "- The input layer **represents the context words in a sentence**. The hidden layer **learns the word embeddings**. The output layer **predicts the target word**.\n",
        "\n",
        "- The CBOW model is trained using a **supervised learning algorithm**. The training data consists of **pairs of (context_window, target_word)** where the context_window is a set of words surrounding the target word. The model is trained to predict the target word given the context_window.\n",
        "\n",
        "- CBOW is a simple and efficient model that can be trained on large datasets. It is a good choice for **text classification and natural language understanding tasks.**\n",
        "\n",
        "\n"
      ],
      "metadata": {
        "id": "yfNHIZkAgfEM"
      }
    },
    {
      "cell_type": "markdown",
      "source": [
        "**Example**\n",
        "\n",
        "*The quick brown fox jumps over the lazy dog.*\n",
        "\n",
        "The context_window for the word “fox” would be the words “the”, “quick”, and “brown”. The CBOW model would be trained to predict the word “fox” given the context_window.\n",
        "\n",
        "The CBOW model is a powerful tool for learning word embeddings. It is simple, efficient, and can be trained on large datasets. CBOW is a good choice for text classification and natural language understanding tasks."
      ],
      "metadata": {
        "id": "8gOlrsG_gfGd"
      }
    },
    {
      "cell_type": "markdown",
      "source": [
        "# Process Steps"
      ],
      "metadata": {
        "id": "NUkDaS9Phaj-"
      }
    },
    {
      "cell_type": "markdown",
      "source": [
        "Training the Continuous Bag-of-Words (CBOW) model is crucial in obtaining word embeddings that can effectively **capture semantic relationships in a given corpus**.\n",
        "\n"
      ],
      "metadata": {
        "id": "PwQuOb_hhamr"
      }
    },
    {
      "cell_type": "markdown",
      "source": [
        "1.**Data Preprocessing**:\n",
        "- Before training the CBOW model, we need to **preprocess** the text data. The preprocessing steps typically involve **tokenization, removing punctuation, converting text to lowercase, and handling special characters**.\n",
        "- Additionally, we may **remove stopwords** (common words with little semantic value) and **perform stemming or lemmatization** to reduce word variations to their base forms\n",
        "\n",
        "2.**Building the Context Window**:\n",
        "- The central idea behind CBOW is **to predict a target word based on its surrounding context words**.  \n",
        "- To achieve this, we **define a context window size**, which determines the number of words on either side of the target word that will be considered context words.  \n",
        "- A **larger context window allows the model to capture more context but may lead to increased computational overhead.**\n",
        "\n",
        "3.**Creating Input-Output Pairs**:  \n",
        "- Once the context window is defined, we slide it over the preprocessed text data.  \n",
        "- We **extract the context words within the window for each target word to create input-output pairs. **\n",
        "- For example, if the context window size is set to 2, and the sentence is “The quick brown fox jumps,” the input-output pairs would be:\n",
        "\n",
        "  – Input: [The, brown] Output: quick\n",
        "  – Input: [quick, fox] Output: brown\n",
        "  – Input: [brown, jumps] Output: fox\n",
        "\n",
        "**4.Defining the Neural Network Architecture:**\n",
        "- We can define the **CBOW neural network architecture with ready input-output pairs**.\n",
        "- The architecture usually consists of an **input layer, a hidden layer, and an output layer. **\n",
        "- **Each word in the context window** will be represented as a **one-hot encoded vector** in the input layer.\n",
        "- The **hidden layer contains the embedding layer, where the word representations are learned**, and the **output layer predicts the target word**.\n",
        "\n",
        "**5.Training the CBOW Model:**\n",
        "- The training process involves **feeding the input-output pairs into the CBOW model** and **adjusting the model’s parameters to minimize the prediction error**.\n",
        "- Common optimization algorithms, such as **stochastic gradient descent (SGD) or Adam**, update the model’s weights during training.\n",
        "- The optimization process aims **to find the word embeddings that best capture the semantic relationships between words** in the corpus.\n"
      ],
      "metadata": {
        "id": "mZ7JzU7dhaph"
      }
    },
    {
      "cell_type": "markdown",
      "source": [
        "**6.Softmax Activation Function:**\n",
        "- The **output layer** of the CBOW model typically employs the softmax activation function. **Softmax converts the raw output scores into a probability distribution**, allowing the model to predict the most likely word for a given context.\n",
        "- The **target word’s one-hot encoded vector is compared to the predicted probability distribution**, and **the error is backpropagated through the network to update the model’s parameters.**\n",
        "\n",
        "**7.Training Epochs and Batch Size:**\n",
        "- During training, we iterate over the **input-output pairs multiple times, known as epochs.**\n",
        "- The number of epochs determines how often the training dataset is processed.\n",
        "- Additionally, **input-output pairs are usually divided into batches to accelerate training and utilize parallelism**.\n",
        "- The **batch size is a hyperparameter** that controls the number of samples processed in each training step.\n",
        "\n",
        "**8.Evaluation during Training:**\n",
        "- To monitor the CBOW model’s training progress and prevent overfitting, it is essential **to evaluate the model’s performance on a validation set during training**.\n",
        "- The validation set contains **input-output pairs that are distinct from the training set**.\n",
        "- By assessing the model’s performance on this set, we can determine if it is generalizing well to unseen data and whether it is appropriate to stop training or make adjustments.\n",
        "\n",
        "**9.Hyperparameter Tuning:**\n",
        "- As mentioned previously, CBOW has several hyperparameters, including the **context window size, embedding dimension, learning rate, and batch size**.\n",
        "- Hyperparameter tuning involves systematically experimenting with different combinations of hyperparameters to find the optimal configuration that yields the best performance on the validation set."
      ],
      "metadata": {
        "id": "MleioMn6hax3"
      }
    },
    {
      "cell_type": "markdown",
      "source": [
        "Training the CBOW model involves preprocessing the text data, creating input-output pairs, defining the neural network architecture, and optimizing the model’s parameters using an optimization algorithm. By training the CBOW model on a large corpus of text data, we obtain word embeddings that capture the contextual relationships between words, empowering us to leverage these embeddings for various downstream NLP tasks, such as word similarity, text classification, and sentiment analysis. The success of the CBOW model lies in its ability to efficiently produce meaningful word representations, facilitating better language understanding and enhancing the performance of NLP applications.\n",
        "\n"
      ],
      "metadata": {
        "id": "157m2xVNhazv"
      }
    },
    {
      "cell_type": "markdown",
      "source": [
        "# Evaluate word embeddings"
      ],
      "metadata": {
        "id": "IJLJqGOOjrnT"
      }
    },
    {
      "cell_type": "markdown",
      "source": [
        "1.  **Intrinsic Evaluation:** These methods evaluate the quality of embeddings based on their properties within the embedding space, without using them in a specific downstream task.\n",
        "\n",
        "      * **Word Similarity Benchmarks:** Comparing the cosine similarity of word pairs from the embedding space to human-rated similarity scores (e.g., datasets like MEN, WS-353). The correlation between the model's scores and human scores is a common metric.\n",
        "      * **Word Analogy Tasks:** Testing if the vector relationships between words hold for analogies (e.g., \"king\" - \"man\" + \"woman\" $\\\\approx$ \"queen\"). This is evaluated by finding the word vector closest to the result of the vector arithmetic and checking if it matches the expected word. The accuracy on standard analogy datasets (e.g., Google Analogy Test Set) is used.\n",
        "      * **Word Categorization/Clustering:** Evaluating if words belonging to the same semantic categories are clustered together in the embedding space using metrics like Silhouette score.\n",
        "\n",
        "2.  **Extrinsic Evaluation:** These methods assess the quality of embeddings by using them as features in specific downstream NLP tasks and measuring the performance on those tasks.\n",
        "\n",
        "      * **Text Classification:** Using word embeddings as input to a classifier for tasks like sentiment analysis or topic classification. Metrics like accuracy, precision, recall, and F1-score are used to evaluate the classifier's performance.\n",
        "      * **Named Entity Recognition (NER):** Employing word embeddings as features in an NER model to identify and classify named entities in text. F1-score is a common evaluation metric for NER.\n",
        "      * **Machine Translation:** Using word embeddings within machine translation models. Evaluation metrics like BLEU score are used to assess the quality of the translated text.\n",
        "\n",
        "Extrinsic evaluation is often considered a more realistic measure of how useful the embeddings are for practical applications, but it can be more time-consuming as it requires setting up and training models for each downstream task."
      ],
      "metadata": {
        "id": "iqEgWRFgTJuZ"
      }
    },
    {
      "cell_type": "markdown",
      "source": [
        "The evaluation aims to determine how well the word embeddings capture semantic relationships, word similarities, and other linguistic properties"
      ],
      "metadata": {
        "id": "_HeZsIFOjrsy"
      }
    },
    {
      "cell_type": "markdown",
      "source": [
        "**1.Word Similarity Tasks**\n",
        "- Word similarity tasks evaluate how well word embeddings represent the semantic similarity between pairs of words.\n",
        "- The evaluation typically involves a set of word pairs, each associated with a human-assigned similarity score.\n",
        "- These similarity scores can be obtained from human judgments or datasets where human subjects rate the similarity between words.\n",
        "\n",
        "To evaluate word embeddings using word similarity tasks, the following steps are commonly followed:\n",
        "\n",
        "  - **a. Compute Similarity Scores:** Calculate the **cosine similarity or other distance metrics** between the embeddings of each word pair in the evaluation set.\n",
        "\n",
        "  - **b. Correlation Analysis:** Compare the computed and human-assigned similarity scores. Common correlation metrics used are **Pearson correlation or Spearman rank correlation**. Higher correlation values indicate that the word embeddings capture semantic similarity well.\n"
      ],
      "metadata": {
        "id": "jRKTg6JJjrwb"
      }
    },
    {
      "cell_type": "markdown",
      "source": [
        "**2.Analogy Tasks**\n",
        "\n",
        "- Analogy tasks **evaluate the model’s ability to perform linguistic reasoning by completing analogies of the form “A is to B as C is to ?”**.\n",
        "- The evaluation dataset consists of analogy questions, such as “king is to queen as man is to ?” or “Paris is to France as Rome is to ?”.\n",
        "- The goal is **to find the word whose embedding vector is closest to the vector difference** (e.g., king – man + woman ≈ queen).\n",
        "\n",
        "The steps to evaluate word embeddings using analogy tasks are as follows:\n",
        "\n",
        "  - **a. Find Analogies:** For each analogy question, compute the vector differences between the word embeddings and identify the word whose embedding is closest to the resulting vector.\n",
        "\n",
        "  - **b. Accuracy Analysis:** Measure the model’s accuracy in answering the analogy questions correctly. The higher the accuracy, the better the embeddings capture linguistic relationships and analogies.\n",
        "\n"
      ],
      "metadata": {
        "id": "kyADfWS_jr0J"
      }
    },
    {
      "cell_type": "markdown",
      "source": [
        "**3.Word Clustering**\n",
        "\n",
        "- Word clustering evaluation assesses **how well word embeddings group similar words together**.\n",
        "- Clustering similar words is an essential property for word embeddings, indicating that the embeddings capture meaningful semantic relationships.\n",
        "\n",
        "To evaluate word embeddings using word clustering, the process typically involves:\n",
        "\n",
        "  - **a. Clustering:** Apply a clustering algorithm, such as **k-means or hierarchical clustering**, to group word embeddings based on their similarities.\n",
        "\n",
        "  - **b. Cluster Validation:** Evaluate the quality of the clusters using metrics like **silhouette score or Davies-Bouldin index**. Higher scores indicate better clustering performance.\n",
        "\n"
      ],
      "metadata": {
        "id": "2PYdDwE7jr7o"
      }
    },
    {
      "cell_type": "markdown",
      "source": [
        "# Applications use Continuous Bag-of-Words (CBOW) in Natural Language Processing"
      ],
      "metadata": {
        "id": "lh_dXJiokzGz"
      }
    },
    {
      "cell_type": "markdown",
      "source": [
        "CBOW can calculate the similarity between word pairs in word similarity and relatedness tasks, aiding in **information retrieval and question-answering systems**. Additionally, CBOW plays a significant role in **text classification and sentiment analysis tasks**, where understanding the sentiment of a piece of text is essential for numerous applications, including **social media monitoring and customer feedback analysis.**\n",
        "CBOW model is helpful in **Named Entity Recognition (NER) and part-of-speech tagging**, where it helps identify entities and their corresponding categories in unstructured text.\n",
        "\n",
        "\n",
        "\n"
      ],
      "metadata": {
        "id": "TjZMvOcnkzJz"
      }
    },
    {
      "cell_type": "markdown",
      "source": [
        "# Continuous Bag-of-Words (CBOW) vs Other Word Embedding Models"
      ],
      "metadata": {
        "id": "7Ay9KcLlkzMb"
      }
    },
    {
      "cell_type": "markdown",
      "source": [
        "## CBOW vs skip-gram"
      ],
      "metadata": {
        "id": "J6WcKfdqkzPC"
      }
    },
    {
      "cell_type": "markdown",
      "source": [
        "CBOW and skip-gram are two neural network models used to learn word embeddings. Word embeddings are distributed representations of words that capture the semantic and syntactic relationships between words.\n",
        "\n",
        "**CBOW**\n",
        "\n",
        "- Continuous bag-of-words (CBOW) is a **neural network model that predicts a target word given the context words in a sentence.**\n",
        "- The CBOW model is a shallow neural network with three layers: an input layer, a hidden layer, and an output layer.\n",
        "- The input layer represents the context words in a sentence.\n",
        "- The hidden layer learns the word embeddings.\n",
        "- The output layer predicts the target word.\n",
        "\n",
        "**Skip-gram**\n",
        "\n",
        "- Continuous skip-gram (skip-gram) is a neural network model that **predicts the context words given the target word.**\n",
        "- The skip-gram model is also a shallow neural network with three layers: an input layer, a hidden layer, and an output layer.\n",
        "- The input layer represents the target word.\n",
        "- The hidden layer learns the word embeddings.\n",
        "- The output layer predicts the context words.\n",
        "\n",
        "**Comparison**\n",
        "\n",
        "- The main difference between CBOW and skip-gram is the way they predict words. CBOW predicts the target word given the context words, while skip-gram predicts the context words given the target word.\n",
        "\n",
        "- CBOW is generally considered more efficient than skip-gram, as it only needs to predict a single target word at a time. However, skip-gram can learn more fine-grained word representations, as it can see the context words in different orders\n",
        "\n",
        "- If efficiency is essential, then CBOW may be a better choice. If fine-grained word representations are meaningful, skip-gram may be a better choice.\n",
        "\n",
        "- CBOW is generally a good choice for **text classification and natural language understanding tasks**. At the same time, skip-gram is a good choice for **natural language generation and machine translation tasks**.\n"
      ],
      "metadata": {
        "id": "AkA8LFU6lfEL"
      }
    },
    {
      "cell_type": "markdown",
      "source": [
        "![image.png](data:image/png;base64,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)"
      ],
      "metadata": {
        "id": "i9mMLMXKlfHD"
      }
    },
    {
      "cell_type": "markdown",
      "source": [
        "![image.png](data:image/png;base64,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)"
      ],
      "metadata": {
        "id": "iq-nfeu_oopl"
      }
    },
    {
      "cell_type": "markdown",
      "source": [
        "# Challenges and limitations associated with the CBOW model"
      ],
      "metadata": {
        "id": "Ltj27Lr6pABO"
      }
    },
    {
      "cell_type": "markdown",
      "source": [
        "**1.Handling Out-of-Vocabulary (OOV) Words:**\n",
        "- CBOW relies on pre-defined word embeddings for each word in the vocabulary, it struggles to handle unseen words during inference.\n",
        "- Researchers often use **subword embeddings, such as FastText**, which can take unseen words by composing embeddings based on subword units to address this issue. This way, even if a word is OOV, its subword components can still contribute to its representation.\n",
        "\n",
        "**2.Polysemy and Homonymy**\n",
        "- Polysemy refers to **words that have multiple meanings**, while homonymy refers to **different words that share the same form**. CBOW treats each word as a single entity and does not differentiate between other word senses. This limitation can lead to ambiguous word embeddings that do not capture the subtle nuances of word meanings.\n",
        "- To tackle this challenge, context-sensitive word embedding models like contextualized word embeddings (e.g., **BERT**) have been developed, which learn representations based on the surrounding context of each word occurrence. Such models capture different meanings of a word based on its context, addressing the issue of polysemy and homonymy.\n",
        "\n",
        "**3.Data Sparsity**\n",
        "- CBOW, like other neural network models, requires much data to learn meaningful representations effectively. For languages with l**imited resources or specialized domains with scarce data**, obtaining high-quality word embeddings with CBOW can be challenging.\n",
        "- To mitigate data sparsity, researchers may resort to **transfer learning, fine-tuning pre-trained embeddings from larger corpora** on their specific dataset or domain. This approach leverages the knowledge captured by embeddings from the broader domain to improve performance in the target domain."
      ],
      "metadata": {
        "id": "Ya8x4HEklfKC"
      }
    },
    {
      "cell_type": "markdown",
      "source": [
        "**4.Context Window Size Selection**\n",
        "\n",
        "- The choice of **context window size** is critical in CBOW. A small window may not provide sufficient context information, while a large window may introduce noise and dilute the relevant information. The optimal context window size often depends on the specific NLP task and the dataset’s characteristics.\n",
        "- **Experimentation and hyperparameter tuning** are essential to finding the appropriate context window size for a particular application.\n",
        "\n",
        "**5.Scalability**\n",
        "- CBOW, like other neural network-based models, can be computationally intensive, especially for large vocabularies and datasets. Training a CBOW model on massive text corpora may require significant computational resources and time.\n",
        "- To overcome this challenge, researchers may consider using **word2vec libraries like Gensim, which efficiently implement CBOW and other word embedding techniques that can leverage multi-core processors and distributed computing.**\n"
      ],
      "metadata": {
        "id": "Foj0eZM7lfMU"
      }
    },
    {
      "cell_type": "markdown",
      "source": [
        "# Pre-trained Continuous Bag-of-Words (CBOW) embeddings\n"
      ],
      "metadata": {
        "id": "HghNrxpilfOm"
      }
    },
    {
      "cell_type": "markdown",
      "source": [
        "Pre-trained CBOW embeddings are word representations that have been pre-computed using the Continuous Bag-of-Words (CBOW) model on large-scale text corpora. These embeddings capture semantic relationships between words and are trained on vast amounts of text data, making them valuable resources for various Natural Language Processing (NLP) tasks. Pre-trained CBOW embeddings serve as a starting point for NLP projects, providing a foundation for word representations without the need to train a model from scratch.\n",
        "\n"
      ],
      "metadata": {
        "id": "6EbWdMiMqOTU"
      }
    },
    {
      "cell_type": "markdown",
      "source": [
        "## Advantages of Pre-trained CBOW Embeddings"
      ],
      "metadata": {
        "id": "FYRoEXOfqOWt"
      }
    },
    {
      "cell_type": "markdown",
      "source": [
        "- **Generalization**: Pre-trained CBOW embeddings are trained on extensive and diverse text corpora, enabling them to capture general semantic relationships and context across different domains and languages.\n",
        "\n",
        "- **Dimensionality Reduction:** Word embeddings significantly reduce the dimensionality of the word space. Pre-training the CBOW model allows researchers to obtain word embeddings in a lower-dimensional space while preserving essential semantic information.\n",
        "\n",
        "- **Time and Resource Efficiency:** Training word embeddings from scratch can be computationally expensive and time-consuming, especially on large datasets. Pre-trained embeddings save time and computational resources, allowing researchers to focus on specific NLP tasks.\n",
        "\n",
        "- **OOV Handling**: Out-of-vocabulary (OOV) words, i.e., words not seen during training, can be problematic for models trained from scratch. Pre-trained embeddings often handle OOV words by providing similar representations for related words, even if the exact word is unseen during training.\n"
      ],
      "metadata": {
        "id": "jAlH4nSZqOaN"
      }
    },
    {
      "cell_type": "markdown",
      "source": [
        "## Popular Pre-trained CBOW Embeddings"
      ],
      "metadata": {
        "id": "Bz-u9xjjqOdd"
      }
    },
    {
      "cell_type": "markdown",
      "source": [
        "- **Word2Vec**: Word2Vec is one of the most well-known pre-trained CBOW models. Developed by **Google**, Word2Vec generates word embeddings by training CBOW and Skip-gram models on vast text corpora. Word2Vec embeddings have been widely used in various NLP applications and are available in different dimensions (e.g., 50, 100, 300) to suit different requirements.\n",
        "\n",
        "- **GloVe**: Global Vectors for Word Representation (GloVe) is another popular pre-trained word embedding technique. Unlike Word2Vec, **GloVe combines global word co-occurrence statistics to learn word embeddings**. GloVe embeddings are available in various dimensions and are known for their efficiency and ability to capture global context.\n",
        "\n",
        "- **FastText**: FastText is an extension of Word2Vec that **considers subword information**. It generates word **embeddings by averaging subword embeddings, which helps handle morphologically rich languages and OOV words more effectively**"
      ],
      "metadata": {
        "id": "uBf9A_MgqOg1"
      }
    },
    {
      "cell_type": "markdown",
      "source": [
        "**Using Pre-trained CBOW Embeddings**\n",
        "\n",
        "Integrating pre-trained CBOW embeddings into an NLP project is straightforward. You can simply load the pre-trained embeddings, map words from their vocabulary to the pre-trained embedding space, and utilize them as inputs for downstream NLP tasks. However, fine-tuning pre-trained embeddings on a domain-specific corpus is often recommended to adapt the embeddings to the specific task, domain, or context."
      ],
      "metadata": {
        "id": "L-KNiAu7qOkK"
      }
    },
    {
      "cell_type": "markdown",
      "source": [
        "# Implementation"
      ],
      "metadata": {
        "id": "1WfT74buqOnj"
      }
    },
    {
      "cell_type": "code",
      "source": [
        "pip install tensorflow"
      ],
      "metadata": {
        "colab": {
          "base_uri": "https://localhost:8080/"
        },
        "collapsed": true,
        "id": "BubZt9GPqNY1",
        "outputId": "23e678ee-f94f-4e87-f1c9-2f98a3255532"
      },
      "execution_count": 1,
      "outputs": [
        {
          "output_type": "stream",
          "name": "stdout",
          "text": [
            "Requirement already satisfied: tensorflow in /usr/local/lib/python3.11/dist-packages (2.18.0)\n",
            "Requirement already satisfied: absl-py>=1.0.0 in /usr/local/lib/python3.11/dist-packages (from tensorflow) (1.4.0)\n",
            "Requirement already satisfied: astunparse>=1.6.0 in /usr/local/lib/python3.11/dist-packages (from tensorflow) (1.6.3)\n",
            "Requirement already satisfied: flatbuffers>=24.3.25 in /usr/local/lib/python3.11/dist-packages (from tensorflow) (25.2.10)\n",
            "Requirement already satisfied: gast!=0.5.0,!=0.5.1,!=0.5.2,>=0.2.1 in /usr/local/lib/python3.11/dist-packages (from tensorflow) (0.6.0)\n",
            "Requirement already satisfied: google-pasta>=0.1.1 in /usr/local/lib/python3.11/dist-packages (from tensorflow) (0.2.0)\n",
            "Requirement already satisfied: libclang>=13.0.0 in /usr/local/lib/python3.11/dist-packages (from tensorflow) (18.1.1)\n",
            "Requirement already satisfied: opt-einsum>=2.3.2 in /usr/local/lib/python3.11/dist-packages (from tensorflow) (3.4.0)\n",
            "Requirement already satisfied: packaging in /usr/local/lib/python3.11/dist-packages (from tensorflow) (24.2)\n",
            "Requirement already satisfied: protobuf!=4.21.0,!=4.21.1,!=4.21.2,!=4.21.3,!=4.21.4,!=4.21.5,<6.0.0dev,>=3.20.3 in /usr/local/lib/python3.11/dist-packages (from tensorflow) (5.29.4)\n",
            "Requirement already satisfied: requests<3,>=2.21.0 in /usr/local/lib/python3.11/dist-packages (from tensorflow) (2.32.3)\n",
            "Requirement already satisfied: setuptools in /usr/local/lib/python3.11/dist-packages (from tensorflow) (75.2.0)\n",
            "Requirement already satisfied: six>=1.12.0 in /usr/local/lib/python3.11/dist-packages (from tensorflow) (1.17.0)\n",
            "Requirement already satisfied: termcolor>=1.1.0 in /usr/local/lib/python3.11/dist-packages (from tensorflow) (3.1.0)\n",
            "Requirement already satisfied: typing-extensions>=3.6.6 in /usr/local/lib/python3.11/dist-packages (from tensorflow) (4.13.2)\n",
            "Requirement already satisfied: wrapt>=1.11.0 in /usr/local/lib/python3.11/dist-packages (from tensorflow) (1.17.2)\n",
            "Requirement already satisfied: grpcio<2.0,>=1.24.3 in /usr/local/lib/python3.11/dist-packages (from tensorflow) (1.71.0)\n",
            "Requirement already satisfied: tensorboard<2.19,>=2.18 in /usr/local/lib/python3.11/dist-packages (from tensorflow) (2.18.0)\n",
            "Requirement already satisfied: keras>=3.5.0 in /usr/local/lib/python3.11/dist-packages (from tensorflow) (3.8.0)\n",
            "Requirement already satisfied: numpy<2.1.0,>=1.26.0 in /usr/local/lib/python3.11/dist-packages (from tensorflow) (2.0.2)\n",
            "Requirement already satisfied: h5py>=3.11.0 in /usr/local/lib/python3.11/dist-packages (from tensorflow) (3.13.0)\n",
            "Requirement already satisfied: ml-dtypes<0.5.0,>=0.4.0 in /usr/local/lib/python3.11/dist-packages (from tensorflow) (0.4.1)\n",
            "Requirement already satisfied: tensorflow-io-gcs-filesystem>=0.23.1 in /usr/local/lib/python3.11/dist-packages (from tensorflow) (0.37.1)\n",
            "Requirement already satisfied: wheel<1.0,>=0.23.0 in /usr/local/lib/python3.11/dist-packages (from astunparse>=1.6.0->tensorflow) (0.45.1)\n",
            "Requirement already satisfied: rich in /usr/local/lib/python3.11/dist-packages (from keras>=3.5.0->tensorflow) (13.9.4)\n",
            "Requirement already satisfied: namex in /usr/local/lib/python3.11/dist-packages (from keras>=3.5.0->tensorflow) (0.0.9)\n",
            "Requirement already satisfied: optree in /usr/local/lib/python3.11/dist-packages (from keras>=3.5.0->tensorflow) (0.15.0)\n",
            "Requirement already satisfied: charset-normalizer<4,>=2 in /usr/local/lib/python3.11/dist-packages (from requests<3,>=2.21.0->tensorflow) (3.4.2)\n",
            "Requirement already satisfied: idna<4,>=2.5 in /usr/local/lib/python3.11/dist-packages (from requests<3,>=2.21.0->tensorflow) (3.10)\n",
            "Requirement already satisfied: urllib3<3,>=1.21.1 in /usr/local/lib/python3.11/dist-packages (from requests<3,>=2.21.0->tensorflow) (2.4.0)\n",
            "Requirement already satisfied: certifi>=2017.4.17 in /usr/local/lib/python3.11/dist-packages (from requests<3,>=2.21.0->tensorflow) (2025.4.26)\n",
            "Requirement already satisfied: markdown>=2.6.8 in /usr/local/lib/python3.11/dist-packages (from tensorboard<2.19,>=2.18->tensorflow) (3.8)\n",
            "Requirement already satisfied: tensorboard-data-server<0.8.0,>=0.7.0 in /usr/local/lib/python3.11/dist-packages (from tensorboard<2.19,>=2.18->tensorflow) (0.7.2)\n",
            "Requirement already satisfied: werkzeug>=1.0.1 in /usr/local/lib/python3.11/dist-packages (from tensorboard<2.19,>=2.18->tensorflow) (3.1.3)\n",
            "Requirement already satisfied: MarkupSafe>=2.1.1 in /usr/local/lib/python3.11/dist-packages (from werkzeug>=1.0.1->tensorboard<2.19,>=2.18->tensorflow) (3.0.2)\n",
            "Requirement already satisfied: markdown-it-py>=2.2.0 in /usr/local/lib/python3.11/dist-packages (from rich->keras>=3.5.0->tensorflow) (3.0.0)\n",
            "Requirement already satisfied: pygments<3.0.0,>=2.13.0 in /usr/local/lib/python3.11/dist-packages (from rich->keras>=3.5.0->tensorflow) (2.19.1)\n",
            "Requirement already satisfied: mdurl~=0.1 in /usr/local/lib/python3.11/dist-packages (from markdown-it-py>=2.2.0->rich->keras>=3.5.0->tensorflow) (0.1.2)\n"
          ]
        }
      ]
    },
    {
      "cell_type": "code",
      "source": [
        "import numpy as np\n",
        "from tensorflow.keras.models import Sequential\n",
        "from tensorflow.keras.layers import Embedding, Lambda, Dense\n",
        "from tensorflow.keras.utils import to_categorical\n",
        "from tensorflow.keras.preprocessing.text import Tokenizer\n",
        "from tensorflow.keras.preprocessing.sequence import pad_sequences\n",
        "import tensorflow.keras.backend as K\n",
        "from scipy.spatial.distance import cosine # Import for cosine similarity"
      ],
      "metadata": {
        "id": "VZq_7xd4weZz"
      },
      "execution_count": 3,
      "outputs": []
    },
    {
      "cell_type": "code",
      "source": [
        "# Sample Corpus\n",
        "corpus = [\n",
        "    \"natural language processing is fun\",\n",
        "    \"implementing cbow in python\",\n",
        "    \"word embeddings are useful\",\n",
        "    \"cbow and skipgram are word2vec models\"\n",
        "]\n",
        "\n"
      ],
      "metadata": {
        "id": "EDJ9_sgawee0"
      },
      "execution_count": 4,
      "outputs": []
    },
    {
      "cell_type": "code",
      "source": [
        "# 1. Data Preparation\n",
        "\n",
        "# Tokenization and Vocabulary\n",
        "tokenizer = Tokenizer()\n",
        "tokenizer.fit_on_texts(corpus)\n",
        "word_index = tokenizer.word_index\n",
        "vocab_size = len(word_index) + 1\n",
        "sequences = tokenizer.texts_to_sequences(corpus)"
      ],
      "metadata": {
        "id": "VdBd4R8Pweja"
      },
      "execution_count": 5,
      "outputs": []
    },
    {
      "cell_type": "code",
      "source": [
        "# Generate Context-Target Pairs\n",
        "def generate_context_target_pairs(sequences, window_size):\n",
        "    context_target_pairs = []\n",
        "    for sequence in sequences:\n",
        "        for i in range(window_size, len(sequence) - window_size):\n",
        "            context = sequence[i - window_size : i] + sequence[i + 1 : i + window_size + 1]\n",
        "            target = sequence[i]\n",
        "            context_target_pairs.append((context, target))\n",
        "    return context_target_pairs\n",
        "\n",
        "window_size = 2\n",
        "context_target_pairs = generate_context_target_pairs(sequences, window_size)"
      ],
      "metadata": {
        "id": "QoJMpmKawena"
      },
      "execution_count": 6,
      "outputs": []
    },
    {
      "cell_type": "code",
      "source": [
        "\n",
        "# Prepare Data for Keras\n",
        "X = []\n",
        "y = []\n",
        "for context, target in context_target_pairs:\n",
        "    X.append(context)\n",
        "    y.append(target)"
      ],
      "metadata": {
        "id": "DZ0UZs5twevY"
      },
      "execution_count": 7,
      "outputs": []
    },
    {
      "cell_type": "code",
      "source": [
        "# Pad sequences to ensure uniform input length\n",
        "max_context_length = window_size * 2\n",
        "X = pad_sequences(X, maxlen=max_context_length, padding='pre', value=0)"
      ],
      "metadata": {
        "id": "zGP8PbMKweyo"
      },
      "execution_count": 8,
      "outputs": []
    },
    {
      "cell_type": "code",
      "source": [
        "# One-hot encode the target variable\n",
        "y = to_categorical(y, num_classes=vocab_size)"
      ],
      "metadata": {
        "id": "IybWqlpIwe1o"
      },
      "execution_count": 9,
      "outputs": []
    },
    {
      "cell_type": "code",
      "source": [
        "# Convert to NumPy arrays\n",
        "X = np.array(X)\n",
        "y = np.array(y)"
      ],
      "metadata": {
        "id": "1GRUUwT1we5z"
      },
      "execution_count": 10,
      "outputs": []
    },
    {
      "cell_type": "code",
      "source": [
        "# 2. Model Architecture\n",
        "\n",
        "embed_size = 10  # Dimension of word embeddings\n",
        "\n",
        "model = Sequential()\n",
        "model.add(Embedding(input_dim=vocab_size, output_dim=embed_size, input_length=max_context_length))\n",
        "model.add(Lambda(lambda x: K.mean(x, axis=1), output_shape=(embed_size,))) # Averaging layer\n",
        "model.add(Dense(vocab_size, activation='softmax'))"
      ],
      "metadata": {
        "colab": {
          "base_uri": "https://localhost:8080/"
        },
        "id": "ahTIOo0Kwe9U",
        "outputId": "d35d6295-8d58-4e3b-b409-ab9f4e4be34b"
      },
      "execution_count": 11,
      "outputs": [
        {
          "output_type": "stream",
          "name": "stderr",
          "text": [
            "/usr/local/lib/python3.11/dist-packages/keras/src/layers/core/embedding.py:90: UserWarning: Argument `input_length` is deprecated. Just remove it.\n",
            "  warnings.warn(\n"
          ]
        }
      ]
    },
    {
      "cell_type": "code",
      "source": [
        "# 3. Training\n",
        "\n",
        "model.compile(loss='categorical_crossentropy', optimizer='adam', metrics=['accuracy'])\n",
        "\n",
        "print(model.summary())"
      ],
      "metadata": {
        "colab": {
          "base_uri": "https://localhost:8080/",
          "height": 255
        },
        "id": "6LNL9qijwfAk",
        "outputId": "069181e3-7a3f-41c4-a463-851794dfa2c8"
      },
      "execution_count": 12,
      "outputs": [
        {
          "output_type": "display_data",
          "data": {
            "text/plain": [
              "\u001b[1mModel: \"sequential\"\u001b[0m\n"
            ],
            "text/html": [
              "<pre style=\"white-space:pre;overflow-x:auto;line-height:normal;font-family:Menlo,'DejaVu Sans Mono',consolas,'Courier New',monospace\"><span style=\"font-weight: bold\">Model: \"sequential\"</span>\n",
              "</pre>\n"
            ]
          },
          "metadata": {}
        },
        {
          "output_type": "display_data",
          "data": {
            "text/plain": [
              "┏━━━━━━━━━━━━━━━━━━━━━━━━━━━━━━━━━┳━━━━━━━━━━━━━━━━━━━━━━━━┳━━━━━━━━━━━━━━━┓\n",
              "┃\u001b[1m \u001b[0m\u001b[1mLayer (type)                   \u001b[0m\u001b[1m \u001b[0m┃\u001b[1m \u001b[0m\u001b[1mOutput Shape          \u001b[0m\u001b[1m \u001b[0m┃\u001b[1m \u001b[0m\u001b[1m      Param #\u001b[0m\u001b[1m \u001b[0m┃\n",
              "┡━━━━━━━━━━━━━━━━━━━━━━━━━━━━━━━━━╇━━━━━━━━━━━━━━━━━━━━━━━━╇━━━━━━━━━━━━━━━┩\n",
              "│ embedding (\u001b[38;5;33mEmbedding\u001b[0m)           │ ?                      │   \u001b[38;5;34m0\u001b[0m (unbuilt) │\n",
              "├─────────────────────────────────┼────────────────────────┼───────────────┤\n",
              "│ lambda (\u001b[38;5;33mLambda\u001b[0m)                 │ ?                      │   \u001b[38;5;34m0\u001b[0m (unbuilt) │\n",
              "├─────────────────────────────────┼────────────────────────┼───────────────┤\n",
              "│ dense (\u001b[38;5;33mDense\u001b[0m)                   │ ?                      │   \u001b[38;5;34m0\u001b[0m (unbuilt) │\n",
              "└─────────────────────────────────┴────────────────────────┴───────────────┘\n"
            ],
            "text/html": [
              "<pre style=\"white-space:pre;overflow-x:auto;line-height:normal;font-family:Menlo,'DejaVu Sans Mono',consolas,'Courier New',monospace\">┏━━━━━━━━━━━━━━━━━━━━━━━━━━━━━━━━━┳━━━━━━━━━━━━━━━━━━━━━━━━┳━━━━━━━━━━━━━━━┓\n",
              "┃<span style=\"font-weight: bold\"> Layer (type)                    </span>┃<span style=\"font-weight: bold\"> Output Shape           </span>┃<span style=\"font-weight: bold\">       Param # </span>┃\n",
              "┡━━━━━━━━━━━━━━━━━━━━━━━━━━━━━━━━━╇━━━━━━━━━━━━━━━━━━━━━━━━╇━━━━━━━━━━━━━━━┩\n",
              "│ embedding (<span style=\"color: #0087ff; text-decoration-color: #0087ff\">Embedding</span>)           │ ?                      │   <span style=\"color: #00af00; text-decoration-color: #00af00\">0</span> (unbuilt) │\n",
              "├─────────────────────────────────┼────────────────────────┼───────────────┤\n",
              "│ lambda (<span style=\"color: #0087ff; text-decoration-color: #0087ff\">Lambda</span>)                 │ ?                      │   <span style=\"color: #00af00; text-decoration-color: #00af00\">0</span> (unbuilt) │\n",
              "├─────────────────────────────────┼────────────────────────┼───────────────┤\n",
              "│ dense (<span style=\"color: #0087ff; text-decoration-color: #0087ff\">Dense</span>)                   │ ?                      │   <span style=\"color: #00af00; text-decoration-color: #00af00\">0</span> (unbuilt) │\n",
              "└─────────────────────────────────┴────────────────────────┴───────────────┘\n",
              "</pre>\n"
            ]
          },
          "metadata": {}
        },
        {
          "output_type": "display_data",
          "data": {
            "text/plain": [
              "\u001b[1m Total params: \u001b[0m\u001b[38;5;34m0\u001b[0m (0.00 B)\n"
            ],
            "text/html": [
              "<pre style=\"white-space:pre;overflow-x:auto;line-height:normal;font-family:Menlo,'DejaVu Sans Mono',consolas,'Courier New',monospace\"><span style=\"font-weight: bold\"> Total params: </span><span style=\"color: #00af00; text-decoration-color: #00af00\">0</span> (0.00 B)\n",
              "</pre>\n"
            ]
          },
          "metadata": {}
        },
        {
          "output_type": "display_data",
          "data": {
            "text/plain": [
              "\u001b[1m Trainable params: \u001b[0m\u001b[38;5;34m0\u001b[0m (0.00 B)\n"
            ],
            "text/html": [
              "<pre style=\"white-space:pre;overflow-x:auto;line-height:normal;font-family:Menlo,'DejaVu Sans Mono',consolas,'Courier New',monospace\"><span style=\"font-weight: bold\"> Trainable params: </span><span style=\"color: #00af00; text-decoration-color: #00af00\">0</span> (0.00 B)\n",
              "</pre>\n"
            ]
          },
          "metadata": {}
        },
        {
          "output_type": "display_data",
          "data": {
            "text/plain": [
              "\u001b[1m Non-trainable params: \u001b[0m\u001b[38;5;34m0\u001b[0m (0.00 B)\n"
            ],
            "text/html": [
              "<pre style=\"white-space:pre;overflow-x:auto;line-height:normal;font-family:Menlo,'DejaVu Sans Mono',consolas,'Courier New',monospace\"><span style=\"font-weight: bold\"> Non-trainable params: </span><span style=\"color: #00af00; text-decoration-color: #00af00\">0</span> (0.00 B)\n",
              "</pre>\n"
            ]
          },
          "metadata": {}
        },
        {
          "output_type": "stream",
          "name": "stdout",
          "text": [
            "None\n"
          ]
        }
      ]
    },
    {
      "cell_type": "code",
      "source": [
        "# Train the model\n",
        "model.fit(X, y, epochs=100, verbose=1)"
      ],
      "metadata": {
        "colab": {
          "base_uri": "https://localhost:8080/"
        },
        "id": "STFB8YGhwfD1",
        "outputId": "d74f1436-9d72-416a-8a94-ba3c22df83dc"
      },
      "execution_count": 13,
      "outputs": [
        {
          "output_type": "stream",
          "name": "stdout",
          "text": [
            "Epoch 1/100\n",
            "\u001b[1m1/1\u001b[0m \u001b[32m━━━━━━━━━━━━━━━━━━━━\u001b[0m\u001b[37m\u001b[0m \u001b[1m1s\u001b[0m 1s/step - accuracy: 0.0000e+00 - loss: 2.8908\n",
            "Epoch 2/100\n",
            "\u001b[1m1/1\u001b[0m \u001b[32m━━━━━━━━━━━━━━━━━━━━\u001b[0m\u001b[37m\u001b[0m \u001b[1m0s\u001b[0m 48ms/step - accuracy: 0.0000e+00 - loss: 2.8868\n",
            "Epoch 3/100\n",
            "\u001b[1m1/1\u001b[0m \u001b[32m━━━━━━━━━━━━━━━━━━━━\u001b[0m\u001b[37m\u001b[0m \u001b[1m0s\u001b[0m 48ms/step - accuracy: 0.3333 - loss: 2.8829\n",
            "Epoch 4/100\n",
            "\u001b[1m1/1\u001b[0m \u001b[32m━━━━━━━━━━━━━━━━━━━━\u001b[0m\u001b[37m\u001b[0m \u001b[1m0s\u001b[0m 46ms/step - accuracy: 0.3333 - loss: 2.8789\n",
            "Epoch 5/100\n",
            "\u001b[1m1/1\u001b[0m \u001b[32m━━━━━━━━━━━━━━━━━━━━\u001b[0m\u001b[37m\u001b[0m \u001b[1m0s\u001b[0m 49ms/step - accuracy: 0.3333 - loss: 2.8750\n",
            "Epoch 6/100\n",
            "\u001b[1m1/1\u001b[0m \u001b[32m━━━━━━━━━━━━━━━━━━━━\u001b[0m\u001b[37m\u001b[0m \u001b[1m0s\u001b[0m 60ms/step - accuracy: 0.3333 - loss: 2.8711\n",
            "Epoch 7/100\n",
            "\u001b[1m1/1\u001b[0m \u001b[32m━━━━━━━━━━━━━━━━━━━━\u001b[0m\u001b[37m\u001b[0m \u001b[1m0s\u001b[0m 56ms/step - accuracy: 0.3333 - loss: 2.8671\n",
            "Epoch 8/100\n",
            "\u001b[1m1/1\u001b[0m \u001b[32m━━━━━━━━━━━━━━━━━━━━\u001b[0m\u001b[37m\u001b[0m \u001b[1m0s\u001b[0m 57ms/step - accuracy: 0.6667 - loss: 2.8632\n",
            "Epoch 9/100\n",
            "\u001b[1m1/1\u001b[0m \u001b[32m━━━━━━━━━━━━━━━━━━━━\u001b[0m\u001b[37m\u001b[0m \u001b[1m0s\u001b[0m 47ms/step - accuracy: 0.6667 - loss: 2.8592\n",
            "Epoch 10/100\n",
            "\u001b[1m1/1\u001b[0m \u001b[32m━━━━━━━━━━━━━━━━━━━━\u001b[0m\u001b[37m\u001b[0m \u001b[1m0s\u001b[0m 58ms/step - accuracy: 0.6667 - loss: 2.8552\n",
            "Epoch 11/100\n",
            "\u001b[1m1/1\u001b[0m \u001b[32m━━━━━━━━━━━━━━━━━━━━\u001b[0m\u001b[37m\u001b[0m \u001b[1m0s\u001b[0m 47ms/step - accuracy: 0.6667 - loss: 2.8513\n",
            "Epoch 12/100\n",
            "\u001b[1m1/1\u001b[0m \u001b[32m━━━━━━━━━━━━━━━━━━━━\u001b[0m\u001b[37m\u001b[0m \u001b[1m0s\u001b[0m 45ms/step - accuracy: 0.6667 - loss: 2.8473\n",
            "Epoch 13/100\n",
            "\u001b[1m1/1\u001b[0m \u001b[32m━━━━━━━━━━━━━━━━━━━━\u001b[0m\u001b[37m\u001b[0m \u001b[1m0s\u001b[0m 47ms/step - accuracy: 0.6667 - loss: 2.8433\n",
            "Epoch 14/100\n",
            "\u001b[1m1/1\u001b[0m \u001b[32m━━━━━━━━━━━━━━━━━━━━\u001b[0m\u001b[37m\u001b[0m \u001b[1m0s\u001b[0m 46ms/step - accuracy: 0.6667 - loss: 2.8393\n",
            "Epoch 15/100\n",
            "\u001b[1m1/1\u001b[0m \u001b[32m━━━━━━━━━━━━━━━━━━━━\u001b[0m\u001b[37m\u001b[0m \u001b[1m0s\u001b[0m 45ms/step - accuracy: 0.6667 - loss: 2.8353\n",
            "Epoch 16/100\n",
            "\u001b[1m1/1\u001b[0m \u001b[32m━━━━━━━━━━━━━━━━━━━━\u001b[0m\u001b[37m\u001b[0m \u001b[1m0s\u001b[0m 61ms/step - accuracy: 0.6667 - loss: 2.8313\n",
            "Epoch 17/100\n",
            "\u001b[1m1/1\u001b[0m \u001b[32m━━━━━━━━━━━━━━━━━━━━\u001b[0m\u001b[37m\u001b[0m \u001b[1m0s\u001b[0m 47ms/step - accuracy: 0.6667 - loss: 2.8273\n",
            "Epoch 18/100\n",
            "\u001b[1m1/1\u001b[0m \u001b[32m━━━━━━━━━━━━━━━━━━━━\u001b[0m\u001b[37m\u001b[0m \u001b[1m0s\u001b[0m 57ms/step - accuracy: 0.6667 - loss: 2.8233\n",
            "Epoch 19/100\n",
            "\u001b[1m1/1\u001b[0m \u001b[32m━━━━━━━━━━━━━━━━━━━━\u001b[0m\u001b[37m\u001b[0m \u001b[1m0s\u001b[0m 61ms/step - accuracy: 0.6667 - loss: 2.8192\n",
            "Epoch 20/100\n",
            "\u001b[1m1/1\u001b[0m \u001b[32m━━━━━━━━━━━━━━━━━━━━\u001b[0m\u001b[37m\u001b[0m \u001b[1m0s\u001b[0m 46ms/step - accuracy: 0.6667 - loss: 2.8151\n",
            "Epoch 21/100\n",
            "\u001b[1m1/1\u001b[0m \u001b[32m━━━━━━━━━━━━━━━━━━━━\u001b[0m\u001b[37m\u001b[0m \u001b[1m0s\u001b[0m 58ms/step - accuracy: 0.6667 - loss: 2.8110\n",
            "Epoch 22/100\n",
            "\u001b[1m1/1\u001b[0m \u001b[32m━━━━━━━━━━━━━━━━━━━━\u001b[0m\u001b[37m\u001b[0m \u001b[1m0s\u001b[0m 59ms/step - accuracy: 0.6667 - loss: 2.8069\n",
            "Epoch 23/100\n",
            "\u001b[1m1/1\u001b[0m \u001b[32m━━━━━━━━━━━━━━━━━━━━\u001b[0m\u001b[37m\u001b[0m \u001b[1m0s\u001b[0m 46ms/step - accuracy: 0.6667 - loss: 2.8028\n",
            "Epoch 24/100\n",
            "\u001b[1m1/1\u001b[0m \u001b[32m━━━━━━━━━━━━━━━━━━━━\u001b[0m\u001b[37m\u001b[0m \u001b[1m0s\u001b[0m 46ms/step - accuracy: 0.6667 - loss: 2.7986\n",
            "Epoch 25/100\n",
            "\u001b[1m1/1\u001b[0m \u001b[32m━━━━━━━━━━━━━━━━━━━━\u001b[0m\u001b[37m\u001b[0m \u001b[1m0s\u001b[0m 63ms/step - accuracy: 0.6667 - loss: 2.7944\n",
            "Epoch 26/100\n",
            "\u001b[1m1/1\u001b[0m \u001b[32m━━━━━━━━━━━━━━━━━━━━\u001b[0m\u001b[37m\u001b[0m \u001b[1m0s\u001b[0m 53ms/step - accuracy: 0.6667 - loss: 2.7902\n",
            "Epoch 27/100\n",
            "\u001b[1m1/1\u001b[0m \u001b[32m━━━━━━━━━━━━━━━━━━━━\u001b[0m\u001b[37m\u001b[0m \u001b[1m0s\u001b[0m 57ms/step - accuracy: 0.6667 - loss: 2.7859\n",
            "Epoch 28/100\n",
            "\u001b[1m1/1\u001b[0m \u001b[32m━━━━━━━━━━━━━━━━━━━━\u001b[0m\u001b[37m\u001b[0m \u001b[1m0s\u001b[0m 48ms/step - accuracy: 0.6667 - loss: 2.7817\n",
            "Epoch 29/100\n",
            "\u001b[1m1/1\u001b[0m \u001b[32m━━━━━━━━━━━━━━━━━━━━\u001b[0m\u001b[37m\u001b[0m \u001b[1m0s\u001b[0m 49ms/step - accuracy: 0.6667 - loss: 2.7773\n",
            "Epoch 30/100\n",
            "\u001b[1m1/1\u001b[0m \u001b[32m━━━━━━━━━━━━━━━━━━━━\u001b[0m\u001b[37m\u001b[0m \u001b[1m0s\u001b[0m 58ms/step - accuracy: 0.6667 - loss: 2.7730\n",
            "Epoch 31/100\n",
            "\u001b[1m1/1\u001b[0m \u001b[32m━━━━━━━━━━━━━━━━━━━━\u001b[0m\u001b[37m\u001b[0m \u001b[1m0s\u001b[0m 46ms/step - accuracy: 0.6667 - loss: 2.7686\n",
            "Epoch 32/100\n",
            "\u001b[1m1/1\u001b[0m \u001b[32m━━━━━━━━━━━━━━━━━━━━\u001b[0m\u001b[37m\u001b[0m \u001b[1m0s\u001b[0m 46ms/step - accuracy: 0.6667 - loss: 2.7642\n",
            "Epoch 33/100\n",
            "\u001b[1m1/1\u001b[0m \u001b[32m━━━━━━━━━━━━━━━━━━━━\u001b[0m\u001b[37m\u001b[0m \u001b[1m0s\u001b[0m 65ms/step - accuracy: 0.6667 - loss: 2.7597\n",
            "Epoch 34/100\n",
            "\u001b[1m1/1\u001b[0m \u001b[32m━━━━━━━━━━━━━━━━━━━━\u001b[0m\u001b[37m\u001b[0m \u001b[1m0s\u001b[0m 49ms/step - accuracy: 0.6667 - loss: 2.7552\n",
            "Epoch 35/100\n",
            "\u001b[1m1/1\u001b[0m \u001b[32m━━━━━━━━━━━━━━━━━━━━\u001b[0m\u001b[37m\u001b[0m \u001b[1m0s\u001b[0m 57ms/step - accuracy: 0.6667 - loss: 2.7507\n",
            "Epoch 36/100\n",
            "\u001b[1m1/1\u001b[0m \u001b[32m━━━━━━━━━━━━━━━━━━━━\u001b[0m\u001b[37m\u001b[0m \u001b[1m0s\u001b[0m 46ms/step - accuracy: 0.6667 - loss: 2.7461\n",
            "Epoch 37/100\n",
            "\u001b[1m1/1\u001b[0m \u001b[32m━━━━━━━━━━━━━━━━━━━━\u001b[0m\u001b[37m\u001b[0m \u001b[1m0s\u001b[0m 48ms/step - accuracy: 0.6667 - loss: 2.7415\n",
            "Epoch 38/100\n",
            "\u001b[1m1/1\u001b[0m \u001b[32m━━━━━━━━━━━━━━━━━━━━\u001b[0m\u001b[37m\u001b[0m \u001b[1m0s\u001b[0m 56ms/step - accuracy: 0.6667 - loss: 2.7368\n",
            "Epoch 39/100\n",
            "\u001b[1m1/1\u001b[0m \u001b[32m━━━━━━━━━━━━━━━━━━━━\u001b[0m\u001b[37m\u001b[0m \u001b[1m0s\u001b[0m 59ms/step - accuracy: 0.6667 - loss: 2.7321\n",
            "Epoch 40/100\n",
            "\u001b[1m1/1\u001b[0m \u001b[32m━━━━━━━━━━━━━━━━━━━━\u001b[0m\u001b[37m\u001b[0m \u001b[1m0s\u001b[0m 57ms/step - accuracy: 0.6667 - loss: 2.7274\n",
            "Epoch 41/100\n",
            "\u001b[1m1/1\u001b[0m \u001b[32m━━━━━━━━━━━━━━━━━━━━\u001b[0m\u001b[37m\u001b[0m \u001b[1m0s\u001b[0m 46ms/step - accuracy: 0.6667 - loss: 2.7226\n",
            "Epoch 42/100\n",
            "\u001b[1m1/1\u001b[0m \u001b[32m━━━━━━━━━━━━━━━━━━━━\u001b[0m\u001b[37m\u001b[0m \u001b[1m0s\u001b[0m 61ms/step - accuracy: 0.6667 - loss: 2.7178\n",
            "Epoch 43/100\n",
            "\u001b[1m1/1\u001b[0m \u001b[32m━━━━━━━━━━━━━━━━━━━━\u001b[0m\u001b[37m\u001b[0m \u001b[1m0s\u001b[0m 61ms/step - accuracy: 0.6667 - loss: 2.7129\n",
            "Epoch 44/100\n",
            "\u001b[1m1/1\u001b[0m \u001b[32m━━━━━━━━━━━━━━━━━━━━\u001b[0m\u001b[37m\u001b[0m \u001b[1m0s\u001b[0m 46ms/step - accuracy: 0.6667 - loss: 2.7080\n",
            "Epoch 45/100\n",
            "\u001b[1m1/1\u001b[0m \u001b[32m━━━━━━━━━━━━━━━━━━━━\u001b[0m\u001b[37m\u001b[0m \u001b[1m0s\u001b[0m 60ms/step - accuracy: 0.6667 - loss: 2.7030\n",
            "Epoch 46/100\n",
            "\u001b[1m1/1\u001b[0m \u001b[32m━━━━━━━━━━━━━━━━━━━━\u001b[0m\u001b[37m\u001b[0m \u001b[1m0s\u001b[0m 57ms/step - accuracy: 0.6667 - loss: 2.6980\n",
            "Epoch 47/100\n",
            "\u001b[1m1/1\u001b[0m \u001b[32m━━━━━━━━━━━━━━━━━━━━\u001b[0m\u001b[37m\u001b[0m \u001b[1m0s\u001b[0m 46ms/step - accuracy: 0.6667 - loss: 2.6929\n",
            "Epoch 48/100\n",
            "\u001b[1m1/1\u001b[0m \u001b[32m━━━━━━━━━━━━━━━━━━━━\u001b[0m\u001b[37m\u001b[0m \u001b[1m0s\u001b[0m 59ms/step - accuracy: 0.6667 - loss: 2.6878\n",
            "Epoch 49/100\n",
            "\u001b[1m1/1\u001b[0m \u001b[32m━━━━━━━━━━━━━━━━━━━━\u001b[0m\u001b[37m\u001b[0m \u001b[1m0s\u001b[0m 46ms/step - accuracy: 0.6667 - loss: 2.6827\n",
            "Epoch 50/100\n",
            "\u001b[1m1/1\u001b[0m \u001b[32m━━━━━━━━━━━━━━━━━━━━\u001b[0m\u001b[37m\u001b[0m \u001b[1m0s\u001b[0m 60ms/step - accuracy: 0.3333 - loss: 2.6774\n",
            "Epoch 51/100\n",
            "\u001b[1m1/1\u001b[0m \u001b[32m━━━━━━━━━━━━━━━━━━━━\u001b[0m\u001b[37m\u001b[0m \u001b[1m0s\u001b[0m 58ms/step - accuracy: 0.3333 - loss: 2.6722\n",
            "Epoch 52/100\n",
            "\u001b[1m1/1\u001b[0m \u001b[32m━━━━━━━━━━━━━━━━━━━━\u001b[0m\u001b[37m\u001b[0m \u001b[1m0s\u001b[0m 52ms/step - accuracy: 0.3333 - loss: 2.6669\n",
            "Epoch 53/100\n",
            "\u001b[1m1/1\u001b[0m \u001b[32m━━━━━━━━━━━━━━━━━━━━\u001b[0m\u001b[37m\u001b[0m \u001b[1m0s\u001b[0m 46ms/step - accuracy: 0.3333 - loss: 2.6615\n",
            "Epoch 54/100\n",
            "\u001b[1m1/1\u001b[0m \u001b[32m━━━━━━━━━━━━━━━━━━━━\u001b[0m\u001b[37m\u001b[0m \u001b[1m0s\u001b[0m 47ms/step - accuracy: 0.3333 - loss: 2.6561\n",
            "Epoch 55/100\n",
            "\u001b[1m1/1\u001b[0m \u001b[32m━━━━━━━━━━━━━━━━━━━━\u001b[0m\u001b[37m\u001b[0m \u001b[1m0s\u001b[0m 57ms/step - accuracy: 0.3333 - loss: 2.6507\n",
            "Epoch 56/100\n",
            "\u001b[1m1/1\u001b[0m \u001b[32m━━━━━━━━━━━━━━━━━━━━\u001b[0m\u001b[37m\u001b[0m \u001b[1m0s\u001b[0m 59ms/step - accuracy: 0.3333 - loss: 2.6452\n",
            "Epoch 57/100\n",
            "\u001b[1m1/1\u001b[0m \u001b[32m━━━━━━━━━━━━━━━━━━━━\u001b[0m\u001b[37m\u001b[0m \u001b[1m0s\u001b[0m 53ms/step - accuracy: 0.3333 - loss: 2.6396\n",
            "Epoch 58/100\n",
            "\u001b[1m1/1\u001b[0m \u001b[32m━━━━━━━━━━━━━━━━━━━━\u001b[0m\u001b[37m\u001b[0m \u001b[1m0s\u001b[0m 49ms/step - accuracy: 0.3333 - loss: 2.6340\n",
            "Epoch 59/100\n",
            "\u001b[1m1/1\u001b[0m \u001b[32m━━━━━━━━━━━━━━━━━━━━\u001b[0m\u001b[37m\u001b[0m \u001b[1m0s\u001b[0m 47ms/step - accuracy: 0.3333 - loss: 2.6283\n",
            "Epoch 60/100\n",
            "\u001b[1m1/1\u001b[0m \u001b[32m━━━━━━━━━━━━━━━━━━━━\u001b[0m\u001b[37m\u001b[0m \u001b[1m0s\u001b[0m 58ms/step - accuracy: 0.3333 - loss: 2.6226\n",
            "Epoch 61/100\n",
            "\u001b[1m1/1\u001b[0m \u001b[32m━━━━━━━━━━━━━━━━━━━━\u001b[0m\u001b[37m\u001b[0m \u001b[1m0s\u001b[0m 59ms/step - accuracy: 0.3333 - loss: 2.6168\n",
            "Epoch 62/100\n",
            "\u001b[1m1/1\u001b[0m \u001b[32m━━━━━━━━━━━━━━━━━━━━\u001b[0m\u001b[37m\u001b[0m \u001b[1m0s\u001b[0m 69ms/step - accuracy: 0.3333 - loss: 2.6110\n",
            "Epoch 63/100\n",
            "\u001b[1m1/1\u001b[0m \u001b[32m━━━━━━━━━━━━━━━━━━━━\u001b[0m\u001b[37m\u001b[0m \u001b[1m0s\u001b[0m 50ms/step - accuracy: 0.3333 - loss: 2.6051\n",
            "Epoch 64/100\n",
            "\u001b[1m1/1\u001b[0m \u001b[32m━━━━━━━━━━━━━━━━━━━━\u001b[0m\u001b[37m\u001b[0m \u001b[1m0s\u001b[0m 56ms/step - accuracy: 0.3333 - loss: 2.5992\n",
            "Epoch 65/100\n",
            "\u001b[1m1/1\u001b[0m \u001b[32m━━━━━━━━━━━━━━━━━━━━\u001b[0m\u001b[37m\u001b[0m \u001b[1m0s\u001b[0m 48ms/step - accuracy: 0.3333 - loss: 2.5933\n",
            "Epoch 66/100\n",
            "\u001b[1m1/1\u001b[0m \u001b[32m━━━━━━━━━━━━━━━━━━━━\u001b[0m\u001b[37m\u001b[0m \u001b[1m0s\u001b[0m 57ms/step - accuracy: 0.3333 - loss: 2.5872\n",
            "Epoch 67/100\n",
            "\u001b[1m1/1\u001b[0m \u001b[32m━━━━━━━━━━━━━━━━━━━━\u001b[0m\u001b[37m\u001b[0m \u001b[1m0s\u001b[0m 59ms/step - accuracy: 0.3333 - loss: 2.5812\n",
            "Epoch 68/100\n",
            "\u001b[1m1/1\u001b[0m \u001b[32m━━━━━━━━━━━━━━━━━━━━\u001b[0m\u001b[37m\u001b[0m \u001b[1m0s\u001b[0m 47ms/step - accuracy: 0.3333 - loss: 2.5750\n",
            "Epoch 69/100\n",
            "\u001b[1m1/1\u001b[0m \u001b[32m━━━━━━━━━━━━━━━━━━━━\u001b[0m\u001b[37m\u001b[0m \u001b[1m0s\u001b[0m 48ms/step - accuracy: 0.3333 - loss: 2.5688\n",
            "Epoch 70/100\n",
            "\u001b[1m1/1\u001b[0m \u001b[32m━━━━━━━━━━━━━━━━━━━━\u001b[0m\u001b[37m\u001b[0m \u001b[1m0s\u001b[0m 58ms/step - accuracy: 0.3333 - loss: 2.5626\n",
            "Epoch 71/100\n",
            "\u001b[1m1/1\u001b[0m \u001b[32m━━━━━━━━━━━━━━━━━━━━\u001b[0m\u001b[37m\u001b[0m \u001b[1m0s\u001b[0m 57ms/step - accuracy: 0.3333 - loss: 2.5563\n",
            "Epoch 72/100\n",
            "\u001b[1m1/1\u001b[0m \u001b[32m━━━━━━━━━━━━━━━━━━━━\u001b[0m\u001b[37m\u001b[0m \u001b[1m0s\u001b[0m 59ms/step - accuracy: 0.3333 - loss: 2.5500\n",
            "Epoch 73/100\n",
            "\u001b[1m1/1\u001b[0m \u001b[32m━━━━━━━━━━━━━━━━━━━━\u001b[0m\u001b[37m\u001b[0m \u001b[1m0s\u001b[0m 57ms/step - accuracy: 0.3333 - loss: 2.5436\n",
            "Epoch 74/100\n",
            "\u001b[1m1/1\u001b[0m \u001b[32m━━━━━━━━━━━━━━━━━━━━\u001b[0m\u001b[37m\u001b[0m \u001b[1m0s\u001b[0m 50ms/step - accuracy: 0.3333 - loss: 2.5372\n",
            "Epoch 75/100\n",
            "\u001b[1m1/1\u001b[0m \u001b[32m━━━━━━━━━━━━━━━━━━━━\u001b[0m\u001b[37m\u001b[0m \u001b[1m0s\u001b[0m 63ms/step - accuracy: 0.3333 - loss: 2.5307\n",
            "Epoch 76/100\n",
            "\u001b[1m1/1\u001b[0m \u001b[32m━━━━━━━━━━━━━━━━━━━━\u001b[0m\u001b[37m\u001b[0m \u001b[1m0s\u001b[0m 49ms/step - accuracy: 0.3333 - loss: 2.5241\n",
            "Epoch 77/100\n",
            "\u001b[1m1/1\u001b[0m \u001b[32m━━━━━━━━━━━━━━━━━━━━\u001b[0m\u001b[37m\u001b[0m \u001b[1m0s\u001b[0m 59ms/step - accuracy: 0.3333 - loss: 2.5175\n",
            "Epoch 78/100\n",
            "\u001b[1m1/1\u001b[0m \u001b[32m━━━━━━━━━━━━━━━━━━━━\u001b[0m\u001b[37m\u001b[0m \u001b[1m0s\u001b[0m 51ms/step - accuracy: 0.3333 - loss: 2.5109\n",
            "Epoch 79/100\n",
            "\u001b[1m1/1\u001b[0m \u001b[32m━━━━━━━━━━━━━━━━━━━━\u001b[0m\u001b[37m\u001b[0m \u001b[1m0s\u001b[0m 49ms/step - accuracy: 0.3333 - loss: 2.5042\n",
            "Epoch 80/100\n",
            "\u001b[1m1/1\u001b[0m \u001b[32m━━━━━━━━━━━━━━━━━━━━\u001b[0m\u001b[37m\u001b[0m \u001b[1m0s\u001b[0m 135ms/step - accuracy: 0.3333 - loss: 2.4975\n",
            "Epoch 81/100\n",
            "\u001b[1m1/1\u001b[0m \u001b[32m━━━━━━━━━━━━━━━━━━━━\u001b[0m\u001b[37m\u001b[0m \u001b[1m0s\u001b[0m 47ms/step - accuracy: 0.3333 - loss: 2.4907\n",
            "Epoch 82/100\n",
            "\u001b[1m1/1\u001b[0m \u001b[32m━━━━━━━━━━━━━━━━━━━━\u001b[0m\u001b[37m\u001b[0m \u001b[1m0s\u001b[0m 63ms/step - accuracy: 0.3333 - loss: 2.4838\n",
            "Epoch 83/100\n",
            "\u001b[1m1/1\u001b[0m \u001b[32m━━━━━━━━━━━━━━━━━━━━\u001b[0m\u001b[37m\u001b[0m \u001b[1m0s\u001b[0m 54ms/step - accuracy: 0.3333 - loss: 2.4769\n",
            "Epoch 84/100\n",
            "\u001b[1m1/1\u001b[0m \u001b[32m━━━━━━━━━━━━━━━━━━━━\u001b[0m\u001b[37m\u001b[0m \u001b[1m0s\u001b[0m 46ms/step - accuracy: 0.3333 - loss: 2.4700\n",
            "Epoch 85/100\n",
            "\u001b[1m1/1\u001b[0m \u001b[32m━━━━━━━━━━━━━━━━━━━━\u001b[0m\u001b[37m\u001b[0m \u001b[1m0s\u001b[0m 59ms/step - accuracy: 0.3333 - loss: 2.4630\n",
            "Epoch 86/100\n",
            "\u001b[1m1/1\u001b[0m \u001b[32m━━━━━━━━━━━━━━━━━━━━\u001b[0m\u001b[37m\u001b[0m \u001b[1m0s\u001b[0m 47ms/step - accuracy: 0.3333 - loss: 2.4560\n",
            "Epoch 87/100\n",
            "\u001b[1m1/1\u001b[0m \u001b[32m━━━━━━━━━━━━━━━━━━━━\u001b[0m\u001b[37m\u001b[0m \u001b[1m0s\u001b[0m 49ms/step - accuracy: 0.3333 - loss: 2.4489\n",
            "Epoch 88/100\n",
            "\u001b[1m1/1\u001b[0m \u001b[32m━━━━━━━━━━━━━━━━━━━━\u001b[0m\u001b[37m\u001b[0m \u001b[1m0s\u001b[0m 54ms/step - accuracy: 0.3333 - loss: 2.4418\n",
            "Epoch 89/100\n",
            "\u001b[1m1/1\u001b[0m \u001b[32m━━━━━━━━━━━━━━━━━━━━\u001b[0m\u001b[37m\u001b[0m \u001b[1m0s\u001b[0m 47ms/step - accuracy: 0.3333 - loss: 2.4346\n",
            "Epoch 90/100\n",
            "\u001b[1m1/1\u001b[0m \u001b[32m━━━━━━━━━━━━━━━━━━━━\u001b[0m\u001b[37m\u001b[0m \u001b[1m0s\u001b[0m 60ms/step - accuracy: 0.3333 - loss: 2.4274\n",
            "Epoch 91/100\n",
            "\u001b[1m1/1\u001b[0m \u001b[32m━━━━━━━━━━━━━━━━━━━━\u001b[0m\u001b[37m\u001b[0m \u001b[1m0s\u001b[0m 54ms/step - accuracy: 0.3333 - loss: 2.4201\n",
            "Epoch 92/100\n",
            "\u001b[1m1/1\u001b[0m \u001b[32m━━━━━━━━━━━━━━━━━━━━\u001b[0m\u001b[37m\u001b[0m \u001b[1m0s\u001b[0m 53ms/step - accuracy: 0.3333 - loss: 2.4128\n",
            "Epoch 93/100\n",
            "\u001b[1m1/1\u001b[0m \u001b[32m━━━━━━━━━━━━━━━━━━━━\u001b[0m\u001b[37m\u001b[0m \u001b[1m0s\u001b[0m 54ms/step - accuracy: 0.3333 - loss: 2.4054\n",
            "Epoch 94/100\n",
            "\u001b[1m1/1\u001b[0m \u001b[32m━━━━━━━━━━━━━━━━━━━━\u001b[0m\u001b[37m\u001b[0m \u001b[1m0s\u001b[0m 53ms/step - accuracy: 0.3333 - loss: 2.3980\n",
            "Epoch 95/100\n",
            "\u001b[1m1/1\u001b[0m \u001b[32m━━━━━━━━━━━━━━━━━━━━\u001b[0m\u001b[37m\u001b[0m \u001b[1m0s\u001b[0m 61ms/step - accuracy: 0.3333 - loss: 2.3905\n",
            "Epoch 96/100\n",
            "\u001b[1m1/1\u001b[0m \u001b[32m━━━━━━━━━━━━━━━━━━━━\u001b[0m\u001b[37m\u001b[0m \u001b[1m0s\u001b[0m 73ms/step - accuracy: 0.3333 - loss: 2.3831\n",
            "Epoch 97/100\n",
            "\u001b[1m1/1\u001b[0m \u001b[32m━━━━━━━━━━━━━━━━━━━━\u001b[0m\u001b[37m\u001b[0m \u001b[1m0s\u001b[0m 48ms/step - accuracy: 0.3333 - loss: 2.3755\n",
            "Epoch 98/100\n",
            "\u001b[1m1/1\u001b[0m \u001b[32m━━━━━━━━━━━━━━━━━━━━\u001b[0m\u001b[37m\u001b[0m \u001b[1m0s\u001b[0m 46ms/step - accuracy: 0.3333 - loss: 2.3679\n",
            "Epoch 99/100\n",
            "\u001b[1m1/1\u001b[0m \u001b[32m━━━━━━━━━━━━━━━━━━━━\u001b[0m\u001b[37m\u001b[0m \u001b[1m0s\u001b[0m 50ms/step - accuracy: 0.3333 - loss: 2.3603\n",
            "Epoch 100/100\n",
            "\u001b[1m1/1\u001b[0m \u001b[32m━━━━━━━━━━━━━━━━━━━━\u001b[0m\u001b[37m\u001b[0m \u001b[1m0s\u001b[0m 59ms/step - accuracy: 0.3333 - loss: 2.3526\n"
          ]
        },
        {
          "output_type": "execute_result",
          "data": {
            "text/plain": [
              "<keras.src.callbacks.history.History at 0x781b32bff590>"
            ]
          },
          "metadata": {},
          "execution_count": 13
        }
      ]
    },
    {
      "cell_type": "code",
      "source": [
        "# Get Word Embeddings\n",
        "# The embedding matrix is in the first layer (index 0)\n",
        "embedding_matrix = model.layers[0].get_weights()[0]"
      ],
      "metadata": {
        "id": "ZGpW0DJQw8PC"
      },
      "execution_count": 14,
      "outputs": []
    },
    {
      "cell_type": "code",
      "source": [
        "\n",
        "\n",
        "# You can now access the embedding vector for a word\n",
        "# For example, the embedding for 'python' (if it exists in the vocabulary)\n",
        "word_to_id = tokenizer.word_index\n",
        "if 'python' in word_to_id:\n",
        "    python_embedding = embedding_matrix[word_to_id['python']]\n",
        "    print(\"\\nEmbedding for 'python':\", python_embedding)\n",
        "else:\n",
        "    print(\"\\n'python' not in vocabulary\")\n",
        "\n"
      ],
      "metadata": {
        "colab": {
          "base_uri": "https://localhost:8080/"
        },
        "id": "DNMAax1ywfGx",
        "outputId": "a39fe707-6023-4d18-fc60-cda94dcf1af2"
      },
      "execution_count": 15,
      "outputs": [
        {
          "output_type": "stream",
          "name": "stdout",
          "text": [
            "\n",
            "Embedding for 'python': [ 0.00537838  0.0297795  -0.02272122  0.04191363  0.01046266 -0.03281961\n",
            " -0.01850663  0.04775698 -0.02053717  0.02889631]\n"
          ]
        }
      ]
    },
    {
      "cell_type": "code",
      "source": [
        "# Function to get the embedding for a word\n",
        "def get_word_embedding(word, word_index, embedding_matrix):\n",
        "    if word in word_index:\n",
        "        return embedding_matrix[word_index[word]]\n",
        "    else:\n",
        "        return None\n"
      ],
      "metadata": {
        "id": "bcb6tMG-T_vW"
      },
      "execution_count": 16,
      "outputs": []
    },
    {
      "cell_type": "code",
      "source": [
        "get_word_embedding('python', word_to_id, embedding_matrix)"
      ],
      "metadata": {
        "colab": {
          "base_uri": "https://localhost:8080/"
        },
        "id": "H35URs7CUfA1",
        "outputId": "b671a367-7060-4952-89a5-a0eabe866a3c"
      },
      "execution_count": 21,
      "outputs": [
        {
          "output_type": "execute_result",
          "data": {
            "text/plain": [
              "array([ 0.00537838,  0.0297795 , -0.02272122,  0.04191363,  0.01046266,\n",
              "       -0.03281961, -0.01850663,  0.04775698, -0.02053717,  0.02889631],\n",
              "      dtype=float32)"
            ]
          },
          "metadata": {},
          "execution_count": 21
        }
      ]
    },
    {
      "cell_type": "code",
      "source": [
        "print(\"\\nWord embeddings shape:\", embedding_matrix.shape)"
      ],
      "metadata": {
        "colab": {
          "base_uri": "https://localhost:8080/"
        },
        "id": "-DsyeDd7w9m1",
        "outputId": "89b6741a-2375-4c1f-ca0f-275cc1ad9d0c"
      },
      "execution_count": 17,
      "outputs": [
        {
          "output_type": "stream",
          "name": "stdout",
          "text": [
            "\n",
            "Word embeddings shape: (18, 10)\n"
          ]
        }
      ]
    },
    {
      "cell_type": "code",
      "source": [
        "# Function to calculate cosine similarity between two words\n",
        "def calculate_cosine_similarity(word1, word2, word_index, embedding_matrix):\n",
        "    embedding1 = get_word_embedding(word1, word_index, embedding_matrix)\n",
        "    embedding2 = get_word_embedding(word2, word_index, embedding_matrix)\n",
        "\n",
        "    if embedding1 is not None and embedding2 is not None:\n",
        "        # Cosine similarity is 1 - cosine distance\n",
        "        return 1 - cosine(embedding1, embedding2)\n",
        "    else:\n",
        "        return None\n"
      ],
      "metadata": {
        "id": "376cMbW-UDUU"
      },
      "execution_count": 18,
      "outputs": []
    },
    {
      "cell_type": "code",
      "source": [
        "# Example Usage of Cosine Similarity\n",
        "word1 = 'python'\n",
        "word2 = 'cbow'\n",
        "similarity = calculate_cosine_similarity(word1, word2, word_index, embedding_matrix)\n",
        "\n",
        "if similarity is not None:\n",
        "    print(f\"\\nCosine similarity between '{word1}' and '{word2}': {similarity}\")\n",
        "else:\n",
        "    print(f\"\\nOne or both words ('{word1}', '{word2}') not in vocabulary.\")\n"
      ],
      "metadata": {
        "colab": {
          "base_uri": "https://localhost:8080/"
        },
        "id": "3XXHaOHeUGZi",
        "outputId": "cd8fbdd3-43a0-4614-ee87-ebb333e0fda9"
      },
      "execution_count": 19,
      "outputs": [
        {
          "output_type": "stream",
          "name": "stdout",
          "text": [
            "\n",
            "Cosine similarity between 'python' and 'cbow': -0.21911823749542236\n"
          ]
        }
      ]
    },
    {
      "cell_type": "code",
      "source": [
        "\n",
        "word3 = 'language'\n",
        "word4 = 'embeddings'\n",
        "similarity2 = calculate_cosine_similarity(word3, word4, word_index, embedding_matrix)\n",
        "\n",
        "if similarity2 is not None:\n",
        "    print(f\"Cosine similarity between '{word3}' and '{word4}': {similarity2}\")\n",
        "else:\n",
        "    print(f\"\\nOne or both words ('{word3}', '{word4}') not in vocabulary.\")\n"
      ],
      "metadata": {
        "colab": {
          "base_uri": "https://localhost:8080/"
        },
        "id": "IxW68XtFUDag",
        "outputId": "6212722d-37db-4d04-b0d1-dcbc7cf2e32d"
      },
      "execution_count": 20,
      "outputs": [
        {
          "output_type": "stream",
          "name": "stdout",
          "text": [
            "Cosine similarity between 'language' and 'embeddings': -0.5752369165420532\n"
          ]
        }
      ]
    },
    {
      "cell_type": "markdown",
      "source": [
        "# Word Similarity Calculation - Cosine Similarity"
      ],
      "metadata": {
        "id": "YtpuXp2iSjlh"
      }
    },
    {
      "cell_type": "markdown",
      "source": [
        "Cosine similarity is a widely used metric to measure the similarity between two non-zero vectors. It calculates the cosine of the angle between them. A cosine similarity of 1 indicates that the vectors are identical in direction (highly similar), 0 indicates they are orthogonal (no similarity), and -1 indicates they are completely opposite.\n",
        "\n",
        "The formula for cosine similarity between two vectors A and B is:\n",
        "\n",
        "$$\\text{Cosine Similarity}(A, B) = \\frac{A \\cdot B}{||A|| \\cdot ||B||} = \\frac{\\sum_{i=1}^n A_i B_i}{\\sqrt{\\sum_{i=1}^n A_i^2} \\sqrt{\\sum_{i=1}^n B_i^2}}$$\n",
        "\n",
        "Where:\n",
        "\n",
        "  * $A \\\\cdot B$ is the dot product of vectors A and B.\n",
        "  * $||A||$ and $||B||$ are the magnitudes (L2 norms) of vectors A and B.\n",
        "\n",
        "In the context of word embeddings, A and B would be the embedding vectors for two words."
      ],
      "metadata": {
        "id": "q11AVKw3Sxcc"
      }
    },
    {
      "cell_type": "markdown",
      "source": [
        "# Source"
      ],
      "metadata": {
        "id": "eKTZTTazxKXR"
      }
    },
    {
      "cell_type": "markdown",
      "source": [
        "- https://spotintelligence.com/2023/07/27/continuous-bag-of-words/"
      ],
      "metadata": {
        "id": "69n_zKhcxMJa"
      }
    }
  ]
}