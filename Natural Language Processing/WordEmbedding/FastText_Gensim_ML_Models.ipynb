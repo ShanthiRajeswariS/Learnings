{
  "nbformat": 4,
  "nbformat_minor": 0,
  "metadata": {
    "colab": {
      "provenance": []
    },
    "kernelspec": {
      "name": "python3",
      "display_name": "Python 3"
    },
    "language_info": {
      "name": "python"
    }
  },
  "cells": [
    {
      "cell_type": "code",
      "source": [
        "!pip uninstall gensim -y\n",
        "!pip uninstall numpy -y"
      ],
      "metadata": {
        "colab": {
          "base_uri": "https://localhost:8080/"
        },
        "id": "qeUmBXeu2GO-",
        "outputId": "7413f8af-7cc2-4eab-f01c-0a72af97c9a7"
      },
      "execution_count": 27,
      "outputs": [
        {
          "output_type": "stream",
          "name": "stdout",
          "text": [
            "Found existing installation: gensim 4.3.3\n",
            "Uninstalling gensim-4.3.3:\n",
            "  Successfully uninstalled gensim-4.3.3\n",
            "Found existing installation: numpy 1.26.4\n",
            "Uninstalling numpy-1.26.4:\n",
            "  Successfully uninstalled numpy-1.26.4\n"
          ]
        }
      ]
    },
    {
      "cell_type": "code",
      "source": [
        "!pip install numpy"
      ],
      "metadata": {
        "colab": {
          "base_uri": "https://localhost:8080/"
        },
        "id": "HzY7VZm72Y82",
        "outputId": "c01dac51-58d0-4d25-cf98-3aa3fea9ef67"
      },
      "execution_count": 28,
      "outputs": [
        {
          "output_type": "stream",
          "name": "stdout",
          "text": [
            "Collecting numpy\n",
            "  Using cached numpy-2.2.6-cp311-cp311-manylinux_2_17_x86_64.manylinux2014_x86_64.whl.metadata (62 kB)\n",
            "Using cached numpy-2.2.6-cp311-cp311-manylinux_2_17_x86_64.manylinux2014_x86_64.whl (16.8 MB)\n",
            "Installing collected packages: numpy\n",
            "\u001b[31mERROR: pip's dependency resolver does not currently take into account all the packages that are installed. This behaviour is the source of the following dependency conflicts.\n",
            "tensorflow 2.18.0 requires numpy<2.1.0,>=1.26.0, but you have numpy 2.2.6 which is incompatible.\n",
            "numba 0.60.0 requires numpy<2.1,>=1.22, but you have numpy 2.2.6 which is incompatible.\n",
            "tsfresh 0.21.0 requires scipy>=1.14.0; python_version >= \"3.10\", but you have scipy 1.13.1 which is incompatible.\u001b[0m\u001b[31m\n",
            "\u001b[0mSuccessfully installed numpy-2.2.6\n"
          ]
        }
      ]
    },
    {
      "cell_type": "code",
      "source": [
        "!pip install gensim"
      ],
      "metadata": {
        "colab": {
          "base_uri": "https://localhost:8080/",
          "height": 425
        },
        "id": "lWZk8LYo2lF1",
        "outputId": "49baa16f-9caa-4fb0-dd54-75f1a071d3d6"
      },
      "execution_count": 29,
      "outputs": [
        {
          "output_type": "stream",
          "name": "stdout",
          "text": [
            "Collecting gensim\n",
            "  Using cached gensim-4.3.3-cp311-cp311-manylinux_2_17_x86_64.manylinux2014_x86_64.whl.metadata (8.1 kB)\n",
            "Collecting numpy<2.0,>=1.18.5 (from gensim)\n",
            "  Using cached numpy-1.26.4-cp311-cp311-manylinux_2_17_x86_64.manylinux2014_x86_64.whl.metadata (61 kB)\n",
            "Requirement already satisfied: scipy<1.14.0,>=1.7.0 in /usr/local/lib/python3.11/dist-packages (from gensim) (1.13.1)\n",
            "Requirement already satisfied: smart-open>=1.8.1 in /usr/local/lib/python3.11/dist-packages (from gensim) (7.1.0)\n",
            "Requirement already satisfied: wrapt in /usr/local/lib/python3.11/dist-packages (from smart-open>=1.8.1->gensim) (1.17.2)\n",
            "Using cached gensim-4.3.3-cp311-cp311-manylinux_2_17_x86_64.manylinux2014_x86_64.whl (26.7 MB)\n",
            "Using cached numpy-1.26.4-cp311-cp311-manylinux_2_17_x86_64.manylinux2014_x86_64.whl (18.3 MB)\n",
            "Installing collected packages: numpy, gensim\n",
            "  Attempting uninstall: numpy\n",
            "    Found existing installation: numpy 2.2.6\n",
            "    Uninstalling numpy-2.2.6:\n",
            "      Successfully uninstalled numpy-2.2.6\n",
            "\u001b[31mERROR: pip's dependency resolver does not currently take into account all the packages that are installed. This behaviour is the source of the following dependency conflicts.\n",
            "thinc 8.3.6 requires numpy<3.0.0,>=2.0.0, but you have numpy 1.26.4 which is incompatible.\n",
            "tsfresh 0.21.0 requires scipy>=1.14.0; python_version >= \"3.10\", but you have scipy 1.13.1 which is incompatible.\u001b[0m\u001b[31m\n",
            "\u001b[0mSuccessfully installed gensim-4.3.3 numpy-1.26.4\n"
          ]
        },
        {
          "output_type": "display_data",
          "data": {
            "application/vnd.colab-display-data+json": {
              "pip_warning": {
                "packages": [
                  "gensim"
                ]
              },
              "id": "c922e0096ded4b32baa2204ff271c224"
            }
          },
          "metadata": {}
        }
      ]
    },
    {
      "cell_type": "code",
      "execution_count": 1,
      "metadata": {
        "colab": {
          "base_uri": "https://localhost:8080/"
        },
        "id": "L2diCKi7mL_v",
        "outputId": "437f056c-9506-41ab-97df-46b59fdc470e"
      },
      "outputs": [
        {
          "output_type": "stream",
          "name": "stdout",
          "text": [
            "Building a more robust sentiment analysis model with Word2Vec...\n"
          ]
        }
      ],
      "source": [
        "import numpy as np\n",
        "import pandas as pd\n",
        "from sklearn.model_selection import train_test_split, cross_val_score, StratifiedKFold\n",
        "from sklearn.linear_model import LogisticRegression\n",
        "from sklearn.ensemble import RandomForestClassifier\n",
        "from sklearn.svm import SVC\n",
        "from sklearn.metrics import classification_report, accuracy_score, confusion_matrix\n",
        "from sklearn.feature_extraction.text import TfidfVectorizer, CountVectorizer\n",
        "from sklearn.pipeline import Pipeline\n",
        "from gensim.models import Word2Vec, FastText\n",
        "import nltk\n",
        "from nltk.tokenize import word_tokenize\n",
        "from nltk.corpus import stopwords\n",
        "from nltk.stem import WordNetLemmatizer\n",
        "import re\n",
        "import matplotlib.pyplot as plt\n",
        "import seaborn as sns\n",
        "from sklearn.manifold import TSNE\n",
        "import warnings\n",
        "warnings.filterwarnings('ignore')\n",
        "\n",
        "# Download necessary NLTK resources\n",
        "nltk.download('punkt', quiet=True)\n",
        "nltk.download('stopwords', quiet=True)\n",
        "nltk.download('wordnet', quiet=True)\n",
        "\n",
        "print(\"Building a more robust sentiment analysis model with Word2Vec...\")\n"
      ]
    },
    {
      "cell_type": "code",
      "source": [
        "import nltk\n",
        "nltk.download('punkt_tab')"
      ],
      "metadata": {
        "colab": {
          "base_uri": "https://localhost:8080/"
        },
        "id": "YDiTV50u3bZm",
        "outputId": "8b294d2d-0137-4b1d-fb1f-e4e237150b7d"
      },
      "execution_count": 2,
      "outputs": [
        {
          "output_type": "stream",
          "name": "stderr",
          "text": [
            "[nltk_data] Downloading package punkt_tab to /root/nltk_data...\n",
            "[nltk_data]   Package punkt_tab is already up-to-date!\n"
          ]
        },
        {
          "output_type": "execute_result",
          "data": {
            "text/plain": [
              "True"
            ]
          },
          "metadata": {},
          "execution_count": 2
        }
      ]
    },
    {
      "cell_type": "code",
      "source": [
        "# Create a larger, more diverse dataset\n",
        "texts = [\n",
        "    # Positive reviews (25)\n",
        "    \"I love this product, it's amazing and works great\",\n",
        "    \"The customer service was excellent and responsive\",\n",
        "    \"This is the best purchase I've made all year\",\n",
        "    \"The quality exceeded my expectations\",\n",
        "    \"I would highly recommend this to anyone\",\n",
        "    \"Great product, fast shipping, excellent service\",\n",
        "    \"Amazing value for money, very satisfied\",\n",
        "    \"Works exactly as advertised, very pleased\",\n",
        "    \"Excellent performance and reliability\",\n",
        "    \"Super easy to use and very effective\",\n",
        "    \"Customer support went above and beyond\",\n",
        "    \"Fantastic quality and design\",\n",
        "    \"Incredible features and user-friendly interface\",\n",
        "    \"Very happy with my purchase\",\n",
        "    \"Love the design and functionality\",\n",
        "    \"Absolutely perfect for my needs\",\n",
        "    \"Impressed with how well it performs\",\n",
        "    \"Outstanding product quality and durability\",\n",
        "    \"The best customer service I've experienced\",\n",
        "    \"Exceeded all my expectations, truly wonderful\",\n",
        "    \"Brilliant design and execution\",\n",
        "    \"Delighted with this purchase, worth every penny\",\n",
        "    \"Remarkable quality and attention to detail\",\n",
        "    \"Excellent value, highly satisfied customer\",\n",
        "    \"Thrilled with how well this works\",\n",
        "\n",
        "    # Negative reviews (25)\n",
        "    \"This product is terrible and broke immediately\",\n",
        "    \"Worst experience ever, would not recommend\",\n",
        "    \"The customer service was unhelpful and rude\",\n",
        "    \"Complete waste of money, very disappointed\",\n",
        "    \"I regret buying this, it doesn't work as advertised\",\n",
        "    \"Poor quality product that failed within a week\",\n",
        "    \"Horrible customer experience, avoid this company\",\n",
        "    \"False advertising, product nothing like described\",\n",
        "    \"Extremely frustrating to use, counterintuitive design\",\n",
        "    \"Completely useless for its intended purpose\",\n",
        "    \"Defective on arrival and difficult return process\",\n",
        "    \"Awful performance, keeps crashing and freezing\",\n",
        "    \"Very poor build quality, feels cheap\",\n",
        "    \"Total disappointment, doesn't deliver on promises\",\n",
        "    \"Unreliable and inconsistent results\",\n",
        "    \"Terrible design with constant problems\",\n",
        "    \"Waste of time and money, avoid at all costs\",\n",
        "    \"Extremely dissatisfied with this purchase\",\n",
        "    \"Product broke after minimal use, poor durability\",\n",
        "    \"Appalling customer service and product quality\",\n",
        "    \"Dreadful experience from start to finish\",\n",
        "    \"Poorly made and overpriced junk\",\n",
        "    \"Deeply disappointed with this product\",\n",
        "    \"Awful company to deal with, never again\",\n",
        "    \"Consistently fails to work properly\"\n",
        "]\n",
        "\n",
        "labels = [1] * 25 + [0] * 25  # 1 for positive, 0 for negative\n",
        "\n",
        "print(f\"Dataset size: {len(texts)} reviews ({labels.count(1)} positive, {labels.count(0)} negative)\")"
      ],
      "metadata": {
        "colab": {
          "base_uri": "https://localhost:8080/"
        },
        "id": "RuTF-Roj3fFn",
        "outputId": "9992119a-48d2-4383-d696-c8d1191efae2"
      },
      "execution_count": 3,
      "outputs": [
        {
          "output_type": "stream",
          "name": "stdout",
          "text": [
            "Dataset size: 50 reviews (25 positive, 25 negative)\n"
          ]
        }
      ]
    },
    {
      "cell_type": "code",
      "source": [
        "# Enhanced text preprocessing function\n",
        "def preprocess_text(text, for_training=True):\n",
        "    # Convert to lowercase\n",
        "    text = text.lower()\n",
        "    # Remove special characters and numbers\n",
        "    text = re.sub(r'[^a-zA-Z\\s]', ' ', text)\n",
        "    # Tokenize\n",
        "    tokens = word_tokenize(text)\n",
        "\n",
        "    # For training data, apply more aggressive preprocessing\n",
        "    if for_training:\n",
        "        # Remove stopwords\n",
        "        stop_words = set(stopwords.words('english'))\n",
        "        # Keep some important sentiment words that might be in stopwords\n",
        "        sentiment_words = {'not', 'no', 'never', 'none'}\n",
        "        filtered_stop_words = stop_words - sentiment_words\n",
        "        tokens = [word for word in tokens if word not in filtered_stop_words and len(word) > 2]\n",
        "        # Lemmatize\n",
        "        lemmatizer = WordNetLemmatizer()\n",
        "        tokens = [lemmatizer.lemmatize(word) for word in tokens]\n",
        "    else:\n",
        "        # For prediction data, just remove very short words\n",
        "        tokens = [word for word in tokens if len(word) > 2]\n",
        "\n",
        "    return tokens"
      ],
      "metadata": {
        "id": "C71afUzT3fIh"
      },
      "execution_count": 4,
      "outputs": []
    },
    {
      "cell_type": "code",
      "source": [
        "# For debugging: print original and processed texts\n",
        "print(\"\\nSample text preprocessing:\")\n",
        "for i in range(2):\n",
        "    print(f\"Original (pos): {texts[i]}\")\n",
        "    print(f\"Processed: {preprocess_text(texts[i])}\")\n",
        "for i in range(25, 27):\n",
        "    print(f\"Original (neg): {texts[i]}\")\n",
        "    print(f\"Processed: {preprocess_text(texts[i])}\")\n",
        "\n",
        "# Preprocess all texts\n",
        "processed_texts = [preprocess_text(text) for text in texts]\n",
        "\n",
        "# Create FastText model (better for small datasets than Word2Vec)\n",
        "print(\"\\nTraining FastText model...\")\n",
        "fasttext_model = FastText(sentences=processed_texts,\n",
        "                         vector_size=100,\n",
        "                         window=5,\n",
        "                         min_count=1,\n",
        "                         workers=4,\n",
        "                         sg=1,  # Skip-gram\n",
        "                         epochs=200)  # More training epochs\n",
        "\n",
        "print(f\"Vocabulary size: {len(fasttext_model.wv.index_to_key)}\")"
      ],
      "metadata": {
        "colab": {
          "base_uri": "https://localhost:8080/"
        },
        "id": "W3_lHP8C3fLQ",
        "outputId": "a65719bd-980d-4500-b0db-753140c18046"
      },
      "execution_count": 5,
      "outputs": [
        {
          "output_type": "stream",
          "name": "stdout",
          "text": [
            "\n",
            "Sample text preprocessing:\n",
            "Original (pos): I love this product, it's amazing and works great\n",
            "Processed: ['love', 'product', 'amazing', 'work', 'great']\n",
            "Original (pos): The customer service was excellent and responsive\n",
            "Processed: ['customer', 'service', 'excellent', 'responsive']\n",
            "Original (neg): This product is terrible and broke immediately\n",
            "Processed: ['product', 'terrible', 'broke', 'immediately']\n",
            "Original (neg): Worst experience ever, would not recommend\n",
            "Processed: ['worst', 'experience', 'ever', 'would', 'not', 'recommend']\n",
            "\n",
            "Training FastText model...\n",
            "Vocabulary size: 138\n"
          ]
        }
      ]
    },
    {
      "cell_type": "code",
      "source": [
        "# Print some vocabulary statistics\n",
        "word_freqs = {}\n",
        "for doc in processed_texts:\n",
        "    for word in doc:\n",
        "        if word in word_freqs:\n",
        "            word_freqs[word] += 1\n",
        "        else:\n",
        "            word_freqs[word] = 1\n",
        "\n",
        "print(f\"Total unique words: {len(word_freqs)}\")\n",
        "print(\"Top 10 most frequent words:\")\n",
        "for word, freq in sorted(word_freqs.items(), key=lambda x: x[1], reverse=True)[:10]:\n",
        "    print(f\"  {word}: {freq}\")"
      ],
      "metadata": {
        "colab": {
          "base_uri": "https://localhost:8080/"
        },
        "id": "d58Rg-fm3fOI",
        "outputId": "167fbb88-fe5b-4b89-a584-0897747d0d45"
      },
      "execution_count": 6,
      "outputs": [
        {
          "output_type": "stream",
          "name": "stdout",
          "text": [
            "Total unique words: 138\n",
            "Top 10 most frequent words:\n",
            "  product: 9\n",
            "  customer: 7\n",
            "  quality: 7\n",
            "  work: 5\n",
            "  service: 5\n",
            "  design: 5\n",
            "  excellent: 4\n",
            "  purchase: 4\n",
            "  money: 3\n",
            "  use: 3\n"
          ]
        }
      ]
    },
    {
      "cell_type": "code",
      "source": [
        "# Enhanced document vector function with TF-IDF weighting\n",
        "def document_vector(word2vec_model, doc_tokens, tfidf_weights=None):\n",
        "    # Filter tokens in vocabulary\n",
        "    doc_tokens = [token for token in doc_tokens if token in word2vec_model.wv.index_to_key]\n",
        "\n",
        "    if not doc_tokens:\n",
        "        # Return zero vector if no tokens are in vocabulary\n",
        "        return np.zeros(word2vec_model.vector_size)\n",
        "\n",
        "    if tfidf_weights is None:\n",
        "        # Simple averaging if no weights provided\n",
        "        return np.mean(word2vec_model.wv[doc_tokens], axis=0)\n",
        "    else:\n",
        "        # TF-IDF weighted average\n",
        "        weighted_sum = np.zeros(word2vec_model.vector_size)\n",
        "        weight_sum = 0\n",
        "\n",
        "        for token in doc_tokens:\n",
        "            if token in tfidf_weights:\n",
        "                weighted_sum += word2vec_model.wv[token] * tfidf_weights[token]\n",
        "                weight_sum += tfidf_weights[token]\n",
        "\n",
        "        if weight_sum > 0:\n",
        "            return weighted_sum / weight_sum\n",
        "        else:\n",
        "            return np.mean(word2vec_model.wv[doc_tokens], axis=0)"
      ],
      "metadata": {
        "id": "IZUhFx0u3fQt"
      },
      "execution_count": 7,
      "outputs": []
    },
    {
      "cell_type": "code",
      "source": [
        "# Calculate TF-IDF weights\n",
        "print(\"\\nCalculating TF-IDF weights...\")\n",
        "text_data = [' '.join(tokens) for tokens in processed_texts]\n",
        "vectorizer = TfidfVectorizer()\n",
        "X_tfidf = vectorizer.fit_transform(text_data)\n",
        "feature_names = vectorizer.get_feature_names_out()"
      ],
      "metadata": {
        "colab": {
          "base_uri": "https://localhost:8080/"
        },
        "id": "-Q-82gZ93s0u",
        "outputId": "85fce83b-0325-4724-e107-50bdc22b8def"
      },
      "execution_count": 8,
      "outputs": [
        {
          "output_type": "stream",
          "name": "stdout",
          "text": [
            "\n",
            "Calculating TF-IDF weights...\n"
          ]
        }
      ]
    },
    {
      "cell_type": "code",
      "source": [
        "\n",
        "# Create TF-IDF weight dictionary\n",
        "tfidf_weights = {}\n",
        "for i, feature in enumerate(feature_names):\n",
        "    tfidf_weights[feature] = np.max(X_tfidf[:, i].toarray())\n",
        "\n",
        "# Create feature vectors for each document using embeddings\n",
        "print(\"Creating document vectors...\")\n",
        "X_fasttext = np.array([document_vector(fasttext_model, doc, tfidf_weights) for doc in processed_texts])\n",
        "y = np.array(labels)"
      ],
      "metadata": {
        "colab": {
          "base_uri": "https://localhost:8080/"
        },
        "id": "7Tsk5PWI3uvP",
        "outputId": "80de7908-1b86-4ff6-db09-d26de6401085"
      },
      "execution_count": 9,
      "outputs": [
        {
          "output_type": "stream",
          "name": "stdout",
          "text": [
            "Creating document vectors...\n"
          ]
        }
      ]
    },
    {
      "cell_type": "code",
      "source": [
        "# Also create a simple bag-of-words representation for comparison\n",
        "print(\"Creating bag-of-words features for comparison...\")\n",
        "count_vectorizer = CountVectorizer(min_df=2)\n",
        "X_bow = count_vectorizer.fit_transform(text_data)"
      ],
      "metadata": {
        "colab": {
          "base_uri": "https://localhost:8080/"
        },
        "id": "Njh-I9hw3uyu",
        "outputId": "8b4b059d-7c73-472b-d5ca-70b7bac5e871"
      },
      "execution_count": 10,
      "outputs": [
        {
          "output_type": "stream",
          "name": "stdout",
          "text": [
            "Creating bag-of-words features for comparison...\n"
          ]
        }
      ]
    },
    {
      "cell_type": "code",
      "source": [
        "# Split data\n",
        "X_fasttext_train, X_fasttext_test, X_bow_train, X_bow_test, y_train, y_test = train_test_split(\n",
        "    X_fasttext, X_bow, y, test_size=0.3, stratify=y, random_state=42)"
      ],
      "metadata": {
        "id": "vbuvNKWM3u2C"
      },
      "execution_count": 11,
      "outputs": []
    },
    {
      "cell_type": "code",
      "source": [
        "\n",
        "# Train multiple models with strong hyperparameters\n",
        "print(\"\\nTraining multiple models...\")\n",
        "\n",
        "# 1. Logistic Regression with embedding features\n",
        "lr_embedding = LogisticRegression(C=1.0, class_weight='balanced', max_iter=1000, random_state=42)\n",
        "lr_embedding.fit(X_fasttext_train, y_train)\n",
        "\n",
        "# 2. SVM with embedding features\n",
        "svm_embedding = SVC(C=10, kernel='rbf', probability=True, class_weight='balanced', random_state=42)\n",
        "svm_embedding.fit(X_fasttext_train, y_train)\n",
        "\n",
        "# 3. Random Forest with embedding features\n",
        "rf_embedding = RandomForestClassifier(n_estimators=100, max_depth=10, class_weight='balanced', random_state=42)\n",
        "rf_embedding.fit(X_fasttext_train, y_train)\n",
        "\n",
        "# 4. Logistic Regression with bag-of-words features\n",
        "lr_bow = LogisticRegression(C=1.0, class_weight='balanced', max_iter=1000, random_state=42)\n",
        "lr_bow.fit(X_bow_train, y_train)"
      ],
      "metadata": {
        "colab": {
          "base_uri": "https://localhost:8080/",
          "height": 115
        },
        "id": "bXu5yWEv304X",
        "outputId": "43aef422-a4aa-4f90-97ed-647600000fc0"
      },
      "execution_count": 12,
      "outputs": [
        {
          "output_type": "stream",
          "name": "stdout",
          "text": [
            "\n",
            "Training multiple models...\n"
          ]
        },
        {
          "output_type": "execute_result",
          "data": {
            "text/plain": [
              "LogisticRegression(class_weight='balanced', max_iter=1000, random_state=42)"
            ],
            "text/html": [
              "<style>#sk-container-id-1 {\n",
              "  /* Definition of color scheme common for light and dark mode */\n",
              "  --sklearn-color-text: #000;\n",
              "  --sklearn-color-text-muted: #666;\n",
              "  --sklearn-color-line: gray;\n",
              "  /* Definition of color scheme for unfitted estimators */\n",
              "  --sklearn-color-unfitted-level-0: #fff5e6;\n",
              "  --sklearn-color-unfitted-level-1: #f6e4d2;\n",
              "  --sklearn-color-unfitted-level-2: #ffe0b3;\n",
              "  --sklearn-color-unfitted-level-3: chocolate;\n",
              "  /* Definition of color scheme for fitted estimators */\n",
              "  --sklearn-color-fitted-level-0: #f0f8ff;\n",
              "  --sklearn-color-fitted-level-1: #d4ebff;\n",
              "  --sklearn-color-fitted-level-2: #b3dbfd;\n",
              "  --sklearn-color-fitted-level-3: cornflowerblue;\n",
              "\n",
              "  /* Specific color for light theme */\n",
              "  --sklearn-color-text-on-default-background: var(--sg-text-color, var(--theme-code-foreground, var(--jp-content-font-color1, black)));\n",
              "  --sklearn-color-background: var(--sg-background-color, var(--theme-background, var(--jp-layout-color0, white)));\n",
              "  --sklearn-color-border-box: var(--sg-text-color, var(--theme-code-foreground, var(--jp-content-font-color1, black)));\n",
              "  --sklearn-color-icon: #696969;\n",
              "\n",
              "  @media (prefers-color-scheme: dark) {\n",
              "    /* Redefinition of color scheme for dark theme */\n",
              "    --sklearn-color-text-on-default-background: var(--sg-text-color, var(--theme-code-foreground, var(--jp-content-font-color1, white)));\n",
              "    --sklearn-color-background: var(--sg-background-color, var(--theme-background, var(--jp-layout-color0, #111)));\n",
              "    --sklearn-color-border-box: var(--sg-text-color, var(--theme-code-foreground, var(--jp-content-font-color1, white)));\n",
              "    --sklearn-color-icon: #878787;\n",
              "  }\n",
              "}\n",
              "\n",
              "#sk-container-id-1 {\n",
              "  color: var(--sklearn-color-text);\n",
              "}\n",
              "\n",
              "#sk-container-id-1 pre {\n",
              "  padding: 0;\n",
              "}\n",
              "\n",
              "#sk-container-id-1 input.sk-hidden--visually {\n",
              "  border: 0;\n",
              "  clip: rect(1px 1px 1px 1px);\n",
              "  clip: rect(1px, 1px, 1px, 1px);\n",
              "  height: 1px;\n",
              "  margin: -1px;\n",
              "  overflow: hidden;\n",
              "  padding: 0;\n",
              "  position: absolute;\n",
              "  width: 1px;\n",
              "}\n",
              "\n",
              "#sk-container-id-1 div.sk-dashed-wrapped {\n",
              "  border: 1px dashed var(--sklearn-color-line);\n",
              "  margin: 0 0.4em 0.5em 0.4em;\n",
              "  box-sizing: border-box;\n",
              "  padding-bottom: 0.4em;\n",
              "  background-color: var(--sklearn-color-background);\n",
              "}\n",
              "\n",
              "#sk-container-id-1 div.sk-container {\n",
              "  /* jupyter's `normalize.less` sets `[hidden] { display: none; }`\n",
              "     but bootstrap.min.css set `[hidden] { display: none !important; }`\n",
              "     so we also need the `!important` here to be able to override the\n",
              "     default hidden behavior on the sphinx rendered scikit-learn.org.\n",
              "     See: https://github.com/scikit-learn/scikit-learn/issues/21755 */\n",
              "  display: inline-block !important;\n",
              "  position: relative;\n",
              "}\n",
              "\n",
              "#sk-container-id-1 div.sk-text-repr-fallback {\n",
              "  display: none;\n",
              "}\n",
              "\n",
              "div.sk-parallel-item,\n",
              "div.sk-serial,\n",
              "div.sk-item {\n",
              "  /* draw centered vertical line to link estimators */\n",
              "  background-image: linear-gradient(var(--sklearn-color-text-on-default-background), var(--sklearn-color-text-on-default-background));\n",
              "  background-size: 2px 100%;\n",
              "  background-repeat: no-repeat;\n",
              "  background-position: center center;\n",
              "}\n",
              "\n",
              "/* Parallel-specific style estimator block */\n",
              "\n",
              "#sk-container-id-1 div.sk-parallel-item::after {\n",
              "  content: \"\";\n",
              "  width: 100%;\n",
              "  border-bottom: 2px solid var(--sklearn-color-text-on-default-background);\n",
              "  flex-grow: 1;\n",
              "}\n",
              "\n",
              "#sk-container-id-1 div.sk-parallel {\n",
              "  display: flex;\n",
              "  align-items: stretch;\n",
              "  justify-content: center;\n",
              "  background-color: var(--sklearn-color-background);\n",
              "  position: relative;\n",
              "}\n",
              "\n",
              "#sk-container-id-1 div.sk-parallel-item {\n",
              "  display: flex;\n",
              "  flex-direction: column;\n",
              "}\n",
              "\n",
              "#sk-container-id-1 div.sk-parallel-item:first-child::after {\n",
              "  align-self: flex-end;\n",
              "  width: 50%;\n",
              "}\n",
              "\n",
              "#sk-container-id-1 div.sk-parallel-item:last-child::after {\n",
              "  align-self: flex-start;\n",
              "  width: 50%;\n",
              "}\n",
              "\n",
              "#sk-container-id-1 div.sk-parallel-item:only-child::after {\n",
              "  width: 0;\n",
              "}\n",
              "\n",
              "/* Serial-specific style estimator block */\n",
              "\n",
              "#sk-container-id-1 div.sk-serial {\n",
              "  display: flex;\n",
              "  flex-direction: column;\n",
              "  align-items: center;\n",
              "  background-color: var(--sklearn-color-background);\n",
              "  padding-right: 1em;\n",
              "  padding-left: 1em;\n",
              "}\n",
              "\n",
              "\n",
              "/* Toggleable style: style used for estimator/Pipeline/ColumnTransformer box that is\n",
              "clickable and can be expanded/collapsed.\n",
              "- Pipeline and ColumnTransformer use this feature and define the default style\n",
              "- Estimators will overwrite some part of the style using the `sk-estimator` class\n",
              "*/\n",
              "\n",
              "/* Pipeline and ColumnTransformer style (default) */\n",
              "\n",
              "#sk-container-id-1 div.sk-toggleable {\n",
              "  /* Default theme specific background. It is overwritten whether we have a\n",
              "  specific estimator or a Pipeline/ColumnTransformer */\n",
              "  background-color: var(--sklearn-color-background);\n",
              "}\n",
              "\n",
              "/* Toggleable label */\n",
              "#sk-container-id-1 label.sk-toggleable__label {\n",
              "  cursor: pointer;\n",
              "  display: flex;\n",
              "  width: 100%;\n",
              "  margin-bottom: 0;\n",
              "  padding: 0.5em;\n",
              "  box-sizing: border-box;\n",
              "  text-align: center;\n",
              "  align-items: start;\n",
              "  justify-content: space-between;\n",
              "  gap: 0.5em;\n",
              "}\n",
              "\n",
              "#sk-container-id-1 label.sk-toggleable__label .caption {\n",
              "  font-size: 0.6rem;\n",
              "  font-weight: lighter;\n",
              "  color: var(--sklearn-color-text-muted);\n",
              "}\n",
              "\n",
              "#sk-container-id-1 label.sk-toggleable__label-arrow:before {\n",
              "  /* Arrow on the left of the label */\n",
              "  content: \"▸\";\n",
              "  float: left;\n",
              "  margin-right: 0.25em;\n",
              "  color: var(--sklearn-color-icon);\n",
              "}\n",
              "\n",
              "#sk-container-id-1 label.sk-toggleable__label-arrow:hover:before {\n",
              "  color: var(--sklearn-color-text);\n",
              "}\n",
              "\n",
              "/* Toggleable content - dropdown */\n",
              "\n",
              "#sk-container-id-1 div.sk-toggleable__content {\n",
              "  max-height: 0;\n",
              "  max-width: 0;\n",
              "  overflow: hidden;\n",
              "  text-align: left;\n",
              "  /* unfitted */\n",
              "  background-color: var(--sklearn-color-unfitted-level-0);\n",
              "}\n",
              "\n",
              "#sk-container-id-1 div.sk-toggleable__content.fitted {\n",
              "  /* fitted */\n",
              "  background-color: var(--sklearn-color-fitted-level-0);\n",
              "}\n",
              "\n",
              "#sk-container-id-1 div.sk-toggleable__content pre {\n",
              "  margin: 0.2em;\n",
              "  border-radius: 0.25em;\n",
              "  color: var(--sklearn-color-text);\n",
              "  /* unfitted */\n",
              "  background-color: var(--sklearn-color-unfitted-level-0);\n",
              "}\n",
              "\n",
              "#sk-container-id-1 div.sk-toggleable__content.fitted pre {\n",
              "  /* unfitted */\n",
              "  background-color: var(--sklearn-color-fitted-level-0);\n",
              "}\n",
              "\n",
              "#sk-container-id-1 input.sk-toggleable__control:checked~div.sk-toggleable__content {\n",
              "  /* Expand drop-down */\n",
              "  max-height: 200px;\n",
              "  max-width: 100%;\n",
              "  overflow: auto;\n",
              "}\n",
              "\n",
              "#sk-container-id-1 input.sk-toggleable__control:checked~label.sk-toggleable__label-arrow:before {\n",
              "  content: \"▾\";\n",
              "}\n",
              "\n",
              "/* Pipeline/ColumnTransformer-specific style */\n",
              "\n",
              "#sk-container-id-1 div.sk-label input.sk-toggleable__control:checked~label.sk-toggleable__label {\n",
              "  color: var(--sklearn-color-text);\n",
              "  background-color: var(--sklearn-color-unfitted-level-2);\n",
              "}\n",
              "\n",
              "#sk-container-id-1 div.sk-label.fitted input.sk-toggleable__control:checked~label.sk-toggleable__label {\n",
              "  background-color: var(--sklearn-color-fitted-level-2);\n",
              "}\n",
              "\n",
              "/* Estimator-specific style */\n",
              "\n",
              "/* Colorize estimator box */\n",
              "#sk-container-id-1 div.sk-estimator input.sk-toggleable__control:checked~label.sk-toggleable__label {\n",
              "  /* unfitted */\n",
              "  background-color: var(--sklearn-color-unfitted-level-2);\n",
              "}\n",
              "\n",
              "#sk-container-id-1 div.sk-estimator.fitted input.sk-toggleable__control:checked~label.sk-toggleable__label {\n",
              "  /* fitted */\n",
              "  background-color: var(--sklearn-color-fitted-level-2);\n",
              "}\n",
              "\n",
              "#sk-container-id-1 div.sk-label label.sk-toggleable__label,\n",
              "#sk-container-id-1 div.sk-label label {\n",
              "  /* The background is the default theme color */\n",
              "  color: var(--sklearn-color-text-on-default-background);\n",
              "}\n",
              "\n",
              "/* On hover, darken the color of the background */\n",
              "#sk-container-id-1 div.sk-label:hover label.sk-toggleable__label {\n",
              "  color: var(--sklearn-color-text);\n",
              "  background-color: var(--sklearn-color-unfitted-level-2);\n",
              "}\n",
              "\n",
              "/* Label box, darken color on hover, fitted */\n",
              "#sk-container-id-1 div.sk-label.fitted:hover label.sk-toggleable__label.fitted {\n",
              "  color: var(--sklearn-color-text);\n",
              "  background-color: var(--sklearn-color-fitted-level-2);\n",
              "}\n",
              "\n",
              "/* Estimator label */\n",
              "\n",
              "#sk-container-id-1 div.sk-label label {\n",
              "  font-family: monospace;\n",
              "  font-weight: bold;\n",
              "  display: inline-block;\n",
              "  line-height: 1.2em;\n",
              "}\n",
              "\n",
              "#sk-container-id-1 div.sk-label-container {\n",
              "  text-align: center;\n",
              "}\n",
              "\n",
              "/* Estimator-specific */\n",
              "#sk-container-id-1 div.sk-estimator {\n",
              "  font-family: monospace;\n",
              "  border: 1px dotted var(--sklearn-color-border-box);\n",
              "  border-radius: 0.25em;\n",
              "  box-sizing: border-box;\n",
              "  margin-bottom: 0.5em;\n",
              "  /* unfitted */\n",
              "  background-color: var(--sklearn-color-unfitted-level-0);\n",
              "}\n",
              "\n",
              "#sk-container-id-1 div.sk-estimator.fitted {\n",
              "  /* fitted */\n",
              "  background-color: var(--sklearn-color-fitted-level-0);\n",
              "}\n",
              "\n",
              "/* on hover */\n",
              "#sk-container-id-1 div.sk-estimator:hover {\n",
              "  /* unfitted */\n",
              "  background-color: var(--sklearn-color-unfitted-level-2);\n",
              "}\n",
              "\n",
              "#sk-container-id-1 div.sk-estimator.fitted:hover {\n",
              "  /* fitted */\n",
              "  background-color: var(--sklearn-color-fitted-level-2);\n",
              "}\n",
              "\n",
              "/* Specification for estimator info (e.g. \"i\" and \"?\") */\n",
              "\n",
              "/* Common style for \"i\" and \"?\" */\n",
              "\n",
              ".sk-estimator-doc-link,\n",
              "a:link.sk-estimator-doc-link,\n",
              "a:visited.sk-estimator-doc-link {\n",
              "  float: right;\n",
              "  font-size: smaller;\n",
              "  line-height: 1em;\n",
              "  font-family: monospace;\n",
              "  background-color: var(--sklearn-color-background);\n",
              "  border-radius: 1em;\n",
              "  height: 1em;\n",
              "  width: 1em;\n",
              "  text-decoration: none !important;\n",
              "  margin-left: 0.5em;\n",
              "  text-align: center;\n",
              "  /* unfitted */\n",
              "  border: var(--sklearn-color-unfitted-level-1) 1pt solid;\n",
              "  color: var(--sklearn-color-unfitted-level-1);\n",
              "}\n",
              "\n",
              ".sk-estimator-doc-link.fitted,\n",
              "a:link.sk-estimator-doc-link.fitted,\n",
              "a:visited.sk-estimator-doc-link.fitted {\n",
              "  /* fitted */\n",
              "  border: var(--sklearn-color-fitted-level-1) 1pt solid;\n",
              "  color: var(--sklearn-color-fitted-level-1);\n",
              "}\n",
              "\n",
              "/* On hover */\n",
              "div.sk-estimator:hover .sk-estimator-doc-link:hover,\n",
              ".sk-estimator-doc-link:hover,\n",
              "div.sk-label-container:hover .sk-estimator-doc-link:hover,\n",
              ".sk-estimator-doc-link:hover {\n",
              "  /* unfitted */\n",
              "  background-color: var(--sklearn-color-unfitted-level-3);\n",
              "  color: var(--sklearn-color-background);\n",
              "  text-decoration: none;\n",
              "}\n",
              "\n",
              "div.sk-estimator.fitted:hover .sk-estimator-doc-link.fitted:hover,\n",
              ".sk-estimator-doc-link.fitted:hover,\n",
              "div.sk-label-container:hover .sk-estimator-doc-link.fitted:hover,\n",
              ".sk-estimator-doc-link.fitted:hover {\n",
              "  /* fitted */\n",
              "  background-color: var(--sklearn-color-fitted-level-3);\n",
              "  color: var(--sklearn-color-background);\n",
              "  text-decoration: none;\n",
              "}\n",
              "\n",
              "/* Span, style for the box shown on hovering the info icon */\n",
              ".sk-estimator-doc-link span {\n",
              "  display: none;\n",
              "  z-index: 9999;\n",
              "  position: relative;\n",
              "  font-weight: normal;\n",
              "  right: .2ex;\n",
              "  padding: .5ex;\n",
              "  margin: .5ex;\n",
              "  width: min-content;\n",
              "  min-width: 20ex;\n",
              "  max-width: 50ex;\n",
              "  color: var(--sklearn-color-text);\n",
              "  box-shadow: 2pt 2pt 4pt #999;\n",
              "  /* unfitted */\n",
              "  background: var(--sklearn-color-unfitted-level-0);\n",
              "  border: .5pt solid var(--sklearn-color-unfitted-level-3);\n",
              "}\n",
              "\n",
              ".sk-estimator-doc-link.fitted span {\n",
              "  /* fitted */\n",
              "  background: var(--sklearn-color-fitted-level-0);\n",
              "  border: var(--sklearn-color-fitted-level-3);\n",
              "}\n",
              "\n",
              ".sk-estimator-doc-link:hover span {\n",
              "  display: block;\n",
              "}\n",
              "\n",
              "/* \"?\"-specific style due to the `<a>` HTML tag */\n",
              "\n",
              "#sk-container-id-1 a.estimator_doc_link {\n",
              "  float: right;\n",
              "  font-size: 1rem;\n",
              "  line-height: 1em;\n",
              "  font-family: monospace;\n",
              "  background-color: var(--sklearn-color-background);\n",
              "  border-radius: 1rem;\n",
              "  height: 1rem;\n",
              "  width: 1rem;\n",
              "  text-decoration: none;\n",
              "  /* unfitted */\n",
              "  color: var(--sklearn-color-unfitted-level-1);\n",
              "  border: var(--sklearn-color-unfitted-level-1) 1pt solid;\n",
              "}\n",
              "\n",
              "#sk-container-id-1 a.estimator_doc_link.fitted {\n",
              "  /* fitted */\n",
              "  border: var(--sklearn-color-fitted-level-1) 1pt solid;\n",
              "  color: var(--sklearn-color-fitted-level-1);\n",
              "}\n",
              "\n",
              "/* On hover */\n",
              "#sk-container-id-1 a.estimator_doc_link:hover {\n",
              "  /* unfitted */\n",
              "  background-color: var(--sklearn-color-unfitted-level-3);\n",
              "  color: var(--sklearn-color-background);\n",
              "  text-decoration: none;\n",
              "}\n",
              "\n",
              "#sk-container-id-1 a.estimator_doc_link.fitted:hover {\n",
              "  /* fitted */\n",
              "  background-color: var(--sklearn-color-fitted-level-3);\n",
              "}\n",
              "</style><div id=\"sk-container-id-1\" class=\"sk-top-container\"><div class=\"sk-text-repr-fallback\"><pre>LogisticRegression(class_weight=&#x27;balanced&#x27;, max_iter=1000, random_state=42)</pre><b>In a Jupyter environment, please rerun this cell to show the HTML representation or trust the notebook. <br />On GitHub, the HTML representation is unable to render, please try loading this page with nbviewer.org.</b></div><div class=\"sk-container\" hidden><div class=\"sk-item\"><div class=\"sk-estimator fitted sk-toggleable\"><input class=\"sk-toggleable__control sk-hidden--visually\" id=\"sk-estimator-id-1\" type=\"checkbox\" checked><label for=\"sk-estimator-id-1\" class=\"sk-toggleable__label fitted sk-toggleable__label-arrow\"><div><div>LogisticRegression</div></div><div><a class=\"sk-estimator-doc-link fitted\" rel=\"noreferrer\" target=\"_blank\" href=\"https://scikit-learn.org/1.6/modules/generated/sklearn.linear_model.LogisticRegression.html\">?<span>Documentation for LogisticRegression</span></a><span class=\"sk-estimator-doc-link fitted\">i<span>Fitted</span></span></div></label><div class=\"sk-toggleable__content fitted\"><pre>LogisticRegression(class_weight=&#x27;balanced&#x27;, max_iter=1000, random_state=42)</pre></div> </div></div></div></div>"
            ]
          },
          "metadata": {},
          "execution_count": 12
        }
      ]
    },
    {
      "cell_type": "code",
      "source": [
        "# Evaluation function\n",
        "def evaluate_model(name, model, X_test, y_test):\n",
        "    y_pred = model.predict(X_test)\n",
        "    accuracy = accuracy_score(y_test, y_pred)\n",
        "    print(f\"\\n{name} Performance:\")\n",
        "    print(f\"Accuracy: {accuracy:.4f}\")\n",
        "    print(\"\\nClassification Report:\")\n",
        "    print(classification_report(y_test, y_pred))\n",
        "\n",
        "    return accuracy"
      ],
      "metadata": {
        "id": "WSP_zXE3307K"
      },
      "execution_count": 13,
      "outputs": []
    },
    {
      "cell_type": "code",
      "source": [
        "# Evaluate all models\n",
        "print(\"\\n--- Model Evaluation ---\")\n",
        "acc1 = evaluate_model(\"Logistic Regression (FastText)\", lr_embedding, X_fasttext_test, y_test)\n",
        "acc2 = evaluate_model(\"SVM (FastText)\", svm_embedding, X_fasttext_test, y_test)\n",
        "acc3 = evaluate_model(\"Random Forest (FastText)\", rf_embedding, X_fasttext_test, y_test)\n",
        "acc4 = evaluate_model(\"Logistic Regression (BoW)\", lr_bow, X_bow_test, y_test)"
      ],
      "metadata": {
        "colab": {
          "base_uri": "https://localhost:8080/"
        },
        "id": "4LhubV4y30-A",
        "outputId": "347cd44b-5155-41ee-dfc9-c0484a385b54"
      },
      "execution_count": 14,
      "outputs": [
        {
          "output_type": "stream",
          "name": "stdout",
          "text": [
            "\n",
            "--- Model Evaluation ---\n",
            "\n",
            "Logistic Regression (FastText) Performance:\n",
            "Accuracy: 0.6667\n",
            "\n",
            "Classification Report:\n",
            "              precision    recall  f1-score   support\n",
            "\n",
            "           0       0.67      0.75      0.71         8\n",
            "           1       0.67      0.57      0.62         7\n",
            "\n",
            "    accuracy                           0.67        15\n",
            "   macro avg       0.67      0.66      0.66        15\n",
            "weighted avg       0.67      0.67      0.66        15\n",
            "\n",
            "\n",
            "SVM (FastText) Performance:\n",
            "Accuracy: 0.5333\n",
            "\n",
            "Classification Report:\n",
            "              precision    recall  f1-score   support\n",
            "\n",
            "           0       0.57      0.50      0.53         8\n",
            "           1       0.50      0.57      0.53         7\n",
            "\n",
            "    accuracy                           0.53        15\n",
            "   macro avg       0.54      0.54      0.53        15\n",
            "weighted avg       0.54      0.53      0.53        15\n",
            "\n",
            "\n",
            "Random Forest (FastText) Performance:\n",
            "Accuracy: 0.4667\n",
            "\n",
            "Classification Report:\n",
            "              precision    recall  f1-score   support\n",
            "\n",
            "           0       0.50      0.38      0.43         8\n",
            "           1       0.44      0.57      0.50         7\n",
            "\n",
            "    accuracy                           0.47        15\n",
            "   macro avg       0.47      0.47      0.46        15\n",
            "weighted avg       0.47      0.47      0.46        15\n",
            "\n",
            "\n",
            "Logistic Regression (BoW) Performance:\n",
            "Accuracy: 0.6667\n",
            "\n",
            "Classification Report:\n",
            "              precision    recall  f1-score   support\n",
            "\n",
            "           0       0.64      0.88      0.74         8\n",
            "           1       0.75      0.43      0.55         7\n",
            "\n",
            "    accuracy                           0.67        15\n",
            "   macro avg       0.69      0.65      0.64        15\n",
            "weighted avg       0.69      0.67      0.65        15\n",
            "\n"
          ]
        }
      ]
    },
    {
      "cell_type": "code",
      "source": [
        "# Select best model\n",
        "accuracies = [acc1, acc2, acc3, acc4]\n",
        "models = [lr_embedding, svm_embedding, rf_embedding, lr_bow]\n",
        "model_names = [\"Logistic Regression (FastText)\", \"SVM (FastText)\", \"Random Forest (FastText)\", \"Logistic Regression (BoW)\"]\n",
        "X_test_options = [X_fasttext_test, X_fasttext_test, X_fasttext_test, X_bow_test]\n",
        "\n",
        "best_idx = np.argmax(accuracies)\n",
        "best_model = models[best_idx]\n",
        "best_model_name = model_names[best_idx]\n",
        "best_X_test = X_test_options[best_idx]\n",
        "\n",
        "print(f\"\\nBest model: {best_model_name} with accuracy {accuracies[best_idx]:.4f}\")"
      ],
      "metadata": {
        "colab": {
          "base_uri": "https://localhost:8080/"
        },
        "id": "ObeH37oo31AV",
        "outputId": "4db35e9e-d288-4324-8b25-b46494d7d1de"
      },
      "execution_count": 15,
      "outputs": [
        {
          "output_type": "stream",
          "name": "stdout",
          "text": [
            "\n",
            "Best model: Logistic Regression (FastText) with accuracy 0.6667\n"
          ]
        }
      ]
    },
    {
      "cell_type": "code",
      "source": [
        "# Show confusion matrix for best model\n",
        "y_pred = best_model.predict(best_X_test)\n",
        "cm = confusion_matrix(y_test, y_pred)\n",
        "plt.figure(figsize=(8, 6))\n",
        "sns.heatmap(cm, annot=True, fmt='d', cmap='Blues', cbar=False)\n",
        "plt.title(f'Confusion Matrix - {best_model_name}')\n",
        "plt.ylabel('True Label')\n",
        "plt.xlabel('Predicted Label')\n",
        "plt.show()"
      ],
      "metadata": {
        "colab": {
          "base_uri": "https://localhost:8080/",
          "height": 564
        },
        "id": "iVaPZARH4A6O",
        "outputId": "8fdfab8e-a12b-43fb-c503-176fab58fc58"
      },
      "execution_count": 16,
      "outputs": [
        {
          "output_type": "display_data",
          "data": {
            "text/plain": [
              "<Figure size 800x600 with 1 Axes>"
            ],
            "image/png": "[encoded data removed]"
          },
          "metadata": {}
        }
      ]
    },
    {
      "cell_type": "code",
      "source": [
        "# Visualize word embeddings for key sentiment words\n",
        "def plot_word_embeddings(model):\n",
        "    sentiment_words = ['love', 'great', 'excellent', 'best', 'amazing', 'terrible', 'worst', 'poor', 'horrible', 'disappointed']\n",
        "    available_words = [word for word in sentiment_words if word in model.wv.index_to_key]\n",
        "\n",
        "    if len(available_words) < 2:\n",
        "        print(\"Not enough sentiment words in vocabulary for visualization\")\n",
        "        return\n",
        "\n",
        "    word_vectors = [model.wv[word] for word in available_words]\n",
        "\n",
        "    # Convert the list of vectors to a NumPy array\n",
        "    word_vectors_array = np.array(word_vectors)\n",
        "\n",
        "    # Apply t-SNE\n",
        "    # Perplexity should be less than the number of samples (words)\n",
        "    perplexity_val = min(len(available_words) - 1, 5) if len(available_words) > 1 else 1\n",
        "    if perplexity_val <= 1 and len(available_words) > 1:\n",
        "         # Handle edge case for very small number of words where perplexity must be > 1\n",
        "         perplexity_val = 2 if len(available_words) > 2 else 1 # Set to 2 if possible, otherwise 1 (will likely fail for 1 word)\n",
        "         if perplexity_val == 1 and len(available_words) > 1:\n",
        "             print(\"Warning: Perplexity set to 1. T-SNE might not produce meaningful results for very few words.\")\n",
        "\n",
        "\n",
        "    tsne = TSNE(n_components=2, random_state=42, perplexity=perplexity_val)\n",
        "\n",
        "    # Pass the NumPy array to fit_transform\n",
        "    reduced_vectors = tsne.fit_transform(word_vectors_array)\n",
        "\n",
        "    # Define colors\n",
        "    pos_words = ['love', 'great', 'excellent', 'best', 'amazing']\n",
        "    colors = ['green' if word in pos_words else 'red' for word in available_words]\n",
        "\n",
        "    plt.figure(figsize=(10, 8))\n",
        "    for i, word in enumerate(available_words):\n",
        "        plt.scatter(reduced_vectors[i, 0], reduced_vectors[i, 1], color=colors[i], edgecolors='k', s=100)\n",
        "        plt.annotate(word, xy=(reduced_vectors[i, 0], reduced_vectors[i, 1]),\n",
        "                    xytext=(5, 2), textcoords='offset points', fontsize=12)\n",
        "\n",
        "    plt.title('t-SNE visualization of sentiment word embeddings')\n",
        "    plt.tight_layout()\n",
        "    plt.show()\n"
      ],
      "metadata": {
        "id": "9J9AUf-g4A9b"
      },
      "execution_count": 17,
      "outputs": []
    },
    {
      "cell_type": "code",
      "source": [
        "\n",
        "# Visualize sentiment words\n",
        "plot_word_embeddings(fasttext_model)"
      ],
      "metadata": {
        "colab": {
          "base_uri": "https://localhost:8080/",
          "height": 807
        },
        "id": "cs_27Gbi4P93",
        "outputId": "6f0d99b7-08c9-4eaa-8c2d-d6c19628b71b"
      },
      "execution_count": 18,
      "outputs": [
        {
          "output_type": "display_data",
          "data": {
            "text/plain": [
              "<Figure size 1000x800 with 1 Axes>"
            ],
            "image/png": "[encoded data removed]"
          },
          "metadata": {}
        }
      ]
    },
    {
      "cell_type": "code",
      "source": [
        "# Find similar words for key sentiment words\n",
        "def find_similar_words(word, model):\n",
        "    \"\"\"Finds words similar to a given word using the FastText model.\"\"\"\n",
        "    if word in model.wv:\n",
        "        similar_words = model.wv.most_similar(word, topn=5)\n",
        "        print(f\"\\nWords similar to '{word}':\")\n",
        "        for similar_word, score in similar_words:\n",
        "            print(f\"  {similar_word}: {score:.4f}\")\n",
        "    else:\n",
        "        print(f\"\\nWord '{word}' not in vocabulary\")\n"
      ],
      "metadata": {
        "id": "fE9ospIf4BBB"
      },
      "execution_count": 31,
      "outputs": []
    },
    {
      "cell_type": "code",
      "source": [
        "print(\"\\n--- Word Similarities ---\")\n",
        "sentiment_words = ['love', 'great', 'terrible', 'poor', 'excellent', 'disappointing']\n",
        "for word in sentiment_words:\n",
        "    # Pass the current word and the model to the function\n",
        "    find_similar_words(word, fasttext_model)"
      ],
      "metadata": {
        "colab": {
          "base_uri": "https://localhost:8080/"
        },
        "id": "JYKrBdqS4UK-",
        "outputId": "75112a99-69b6-4c8f-9126-5fae216bf7fe"
      },
      "execution_count": 32,
      "outputs": [
        {
          "output_type": "stream",
          "name": "stdout",
          "text": [
            "\n",
            "--- Word Similarities ---\n",
            "\n",
            "Words similar to 'love':\n",
            "  overpriced: 0.9997\n",
            "  inconsistent: 0.9997\n",
            "  dissatisfied: 0.9997\n",
            "  advertised: 0.9997\n",
            "  consistently: 0.9997\n",
            "\n",
            "Words similar to 'great':\n",
            "  excellent: 0.9997\n",
            "  consistently: 0.9997\n",
            "  remarkable: 0.9997\n",
            "  inconsistent: 0.9997\n",
            "  quality: 0.9997\n",
            "\n",
            "Words similar to 'terrible':\n",
            "  horrible: 0.9999\n",
            "  constant: 0.9999\n",
            "  consistently: 0.9999\n",
            "  incredible: 0.9999\n",
            "  excellent: 0.9999\n",
            "\n",
            "Words similar to 'poor':\n",
            "  poorly: 0.9999\n",
            "  quality: 0.9998\n",
            "  reliability: 0.9998\n",
            "  overpriced: 0.9998\n",
            "  durability: 0.9997\n",
            "\n",
            "Words similar to 'excellent':\n",
            "  performance: 0.9999\n",
            "  reliability: 0.9999\n",
            "  absolutely: 0.9999\n",
            "  consistently: 0.9999\n",
            "  experienced: 0.9999\n",
            "\n",
            "Words similar to 'disappointing':\n",
            "  disappointed: 1.0000\n",
            "  disappointment: 1.0000\n",
            "  promise: 0.9999\n",
            "  excellent: 0.9999\n",
            "  reliability: 0.9999\n"
          ]
        }
      ]
    },
    {
      "cell_type": "code",
      "source": [
        "# Enhanced prediction pipeline for new texts\n",
        "def predict_sentiment(text, models, vectorizers):\n",
        "    # Unpack the models and vectorizers\n",
        "    ft_model, classifier, is_bow_model = models\n",
        "    tfidf_weights, count_vectorizer = vectorizers\n",
        "\n",
        "    # Preprocess text (with for_training=False to be more lenient)\n",
        "    tokens = preprocess_text(text, for_training=False)\n",
        "    print(f\"Processed tokens: {tokens}\")\n",
        "\n",
        "    # Generate features based on the classifier type\n",
        "    if is_bow_model:\n",
        "        # For BoW models\n",
        "        text_transformed = count_vectorizer.transform([' '.join(tokens)])\n",
        "        features = text_transformed\n",
        "    else:\n",
        "        # For embedding models\n",
        "        doc_vec = document_vector(ft_model, tokens, tfidf_weights).reshape(1, -1)\n",
        "        features = doc_vec\n",
        "\n",
        "    # Predict\n",
        "    prediction = classifier.predict(features)[0]\n",
        "    probabilities = classifier.predict_proba(features)[0]\n",
        "\n",
        "    sentiment = \"Positive\" if prediction == 1 else \"Negative\"\n",
        "    confidence = probabilities[1] if prediction == 1 else probabilities[0]\n",
        "\n",
        "    return sentiment, confidence, probabilities"
      ],
      "metadata": {
        "id": "RGIfazVf4UNv"
      },
      "execution_count": 21,
      "outputs": []
    },
    {
      "cell_type": "code",
      "source": [
        "# Test examples\n",
        "test_texts = [\n",
        "    \"I'm really happy with my purchase, great value!\",\n",
        "    \"Terrible experience, would not shop here again.\",\n",
        "    \"The product quality is excellent.\",\n",
        "    \"Disappointed with the poor customer service.\",\n",
        "    \"This is absolutely amazing and exceeded all my expectations.\",\n",
        "    \"Completely useless product, waste of money.\"\n",
        "]\n"
      ],
      "metadata": {
        "id": "YNTrGWDo4UQl"
      },
      "execution_count": 22,
      "outputs": []
    },
    {
      "cell_type": "code",
      "source": [
        "print(\"\\n--- Sentiment Analysis Results ---\")\n",
        "print(f\"Using model: {best_model_name}\")"
      ],
      "metadata": {
        "colab": {
          "base_uri": "https://localhost:8080/"
        },
        "id": "4bRBdura4UTL",
        "outputId": "490681f8-3980-45c9-80a1-89c46d697109"
      },
      "execution_count": 23,
      "outputs": [
        {
          "output_type": "stream",
          "name": "stdout",
          "text": [
            "\n",
            "--- Sentiment Analysis Results ---\n",
            "Using model: Logistic Regression (FastText)\n"
          ]
        }
      ]
    },
    {
      "cell_type": "code",
      "source": [
        "# Determine if the best model is a BoW model\n",
        "is_bow = best_model_name == \"Logistic Regression (BoW)\"\n",
        "models_package = (fasttext_model, best_model, is_bow)\n",
        "vectorizers_package = (tfidf_weights, count_vectorizer)"
      ],
      "metadata": {
        "id": "foL5qh6C18N9"
      },
      "execution_count": 24,
      "outputs": []
    },
    {
      "cell_type": "code",
      "source": [
        "for text in test_texts:\n",
        "    sentiment, confidence, probs = predict_sentiment(text, models_package, vectorizers_package)\n",
        "    print(f\"\\nText: {text}\")\n",
        "    print(f\"Predicted Sentiment: {sentiment}\")\n",
        "    print(f\"Confidence: {confidence:.4f}\")\n",
        "    print(f\"Probabilities [Negative, Positive]: [{probs[0]:.4f}, {probs[1]:.4f}]\")\n"
      ],
      "metadata": {
        "colab": {
          "base_uri": "https://localhost:8080/"
        },
        "id": "-xCFHfdLLU1Y",
        "outputId": "0c6d9038-27b1-49bd-ff6f-d54ed729eb54"
      },
      "execution_count": 27,
      "outputs": [
        {
          "output_type": "stream",
          "name": "stdout",
          "text": [
            "Processed tokens: ['really', 'happy', 'with', 'purchase', 'great', 'value']\n",
            "\n",
            "Text: I'm really happy with my purchase, great value!\n",
            "Predicted Sentiment: Positive\n",
            "Confidence: 0.5886\n",
            "Probabilities [Negative, Positive]: [0.4114, 0.5886]\n",
            "Processed tokens: ['terrible', 'experience', 'would', 'not', 'shop', 'here', 'again']\n",
            "\n",
            "Text: Terrible experience, would not shop here again.\n",
            "Predicted Sentiment: Negative\n",
            "Confidence: 0.5450\n",
            "Probabilities [Negative, Positive]: [0.5450, 0.4550]\n",
            "Processed tokens: ['the', 'product', 'quality', 'excellent']\n",
            "\n",
            "Text: The product quality is excellent.\n",
            "Predicted Sentiment: Negative\n",
            "Confidence: 0.5409\n",
            "Probabilities [Negative, Positive]: [0.5409, 0.4591]\n",
            "Processed tokens: ['disappointed', 'with', 'the', 'poor', 'customer', 'service']\n",
            "\n",
            "Text: Disappointed with the poor customer service.\n",
            "Predicted Sentiment: Negative\n",
            "Confidence: 0.5220\n",
            "Probabilities [Negative, Positive]: [0.5220, 0.4780]\n",
            "Processed tokens: ['this', 'absolutely', 'amazing', 'and', 'exceeded', 'all', 'expectations']\n",
            "\n",
            "Text: This is absolutely amazing and exceeded all my expectations.\n",
            "Predicted Sentiment: Positive\n",
            "Confidence: 0.5110\n",
            "Probabilities [Negative, Positive]: [0.4890, 0.5110]\n",
            "Processed tokens: ['completely', 'useless', 'product', 'waste', 'money']\n",
            "\n",
            "Text: Completely useless product, waste of money.\n",
            "Predicted Sentiment: Negative\n",
            "Confidence: 0.5374\n",
            "Probabilities [Negative, Positive]: [0.5374, 0.4626]\n"
          ]
        }
      ]
    },
    {
      "cell_type": "code",
      "source": [
        "print(\"\\n--- Word Similarities ---\")\n",
        "sentiment_words = ['love', 'great', 'terrible', 'poor', 'excellent', 'disappointing']\n",
        "for word in sentiment_words:\n",
        "    find_similar_words(word, fasttext_model)\n",
        "\n"
      ],
      "metadata": {
        "colab": {
          "base_uri": "https://localhost:8080/"
        },
        "id": "PUJ3OhNTLh1r",
        "outputId": "4cd69af8-cd20-4ab3-b082-4f2a222f8060"
      },
      "execution_count": 33,
      "outputs": [
        {
          "output_type": "stream",
          "name": "stdout",
          "text": [
            "\n",
            "--- Word Similarities ---\n",
            "\n",
            "Words similar to 'love':\n",
            "  overpriced: 0.9997\n",
            "  inconsistent: 0.9997\n",
            "  dissatisfied: 0.9997\n",
            "  advertised: 0.9997\n",
            "  consistently: 0.9997\n",
            "\n",
            "Words similar to 'great':\n",
            "  excellent: 0.9997\n",
            "  consistently: 0.9997\n",
            "  remarkable: 0.9997\n",
            "  inconsistent: 0.9997\n",
            "  quality: 0.9997\n",
            "\n",
            "Words similar to 'terrible':\n",
            "  horrible: 0.9999\n",
            "  constant: 0.9999\n",
            "  consistently: 0.9999\n",
            "  incredible: 0.9999\n",
            "  excellent: 0.9999\n",
            "\n",
            "Words similar to 'poor':\n",
            "  poorly: 0.9999\n",
            "  quality: 0.9998\n",
            "  reliability: 0.9998\n",
            "  overpriced: 0.9998\n",
            "  durability: 0.9997\n",
            "\n",
            "Words similar to 'excellent':\n",
            "  performance: 0.9999\n",
            "  reliability: 0.9999\n",
            "  absolutely: 0.9999\n",
            "  consistently: 0.9999\n",
            "  experienced: 0.9999\n",
            "\n",
            "Words similar to 'disappointing':\n",
            "  disappointed: 1.0000\n",
            "  disappointment: 1.0000\n",
            "  promise: 0.9999\n",
            "  excellent: 0.9999\n",
            "  reliability: 0.9999\n"
          ]
        }
      ]
    },
    {
      "cell_type": "code",
      "source": [],
      "metadata": {
        "id": "_CraHqfQMUwG"
      },
      "execution_count": null,
      "outputs": []
    }
  ]
}