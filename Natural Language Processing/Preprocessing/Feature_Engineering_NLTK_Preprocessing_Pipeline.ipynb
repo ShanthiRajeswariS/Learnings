{
  "nbformat": 4,
  "nbformat_minor": 0,
  "metadata": {
    "colab": {
      "provenance": [],
      "toc_visible": true
    },
    "kernelspec": {
      "name": "python3",
      "display_name": "Python 3"
    },
    "language_info": {
      "name": "python"
    }
  },
  "cells": [
    {
      "cell_type": "markdown",
      "source": [
        "# Natural Language Processing (NLP) feature engineering"
      ],
      "metadata": {
        "id": "sX1kDx57pzth"
      }
    },
    {
      "cell_type": "markdown",
      "source": [
        "-  Natural Language Processing (NLP) feature engineering involves transforming raw **textual data into numerical features** that can be input into machine learning models.\n",
        "- Feature engineering is a crucial step in NLP, as it determines the effectiveness of the models built for the task.\n",
        "\n"
      ],
      "metadata": {
        "id": "BZKusdA2pzoD"
      }
    },
    {
      "cell_type": "markdown",
      "source": [
        "- **Preprocessing** in Natural Language Processing (NLP) is to get text data ready for further processing or analysis.\n",
        "- Most of the time, preprocessing is a **mix of cleaning and normalising techniques that make the text easier to use for the task at hand**.\n",
        "- A useful library for processing text in Python is the **Natural Language Toolkit (NLTK)**\n",
        "\n"
      ],
      "metadata": {
        "id": "fmSGf5MS11cZ"
      }
    },
    {
      "cell_type": "markdown",
      "source": [
        "# 1.Tokenization for NLP feature engineering"
      ],
      "metadata": {
        "id": "YEIiWlQ1pzwp"
      }
    },
    {
      "cell_type": "markdown",
      "source": [
        "- splitting text into individual words or subwords - tokens.\n",
        "- Tokenization is often the first step in NLP feature engineering.\n",
        "\n"
      ],
      "metadata": {
        "id": "PgKfeC0EpzzZ"
      }
    },
    {
      "cell_type": "markdown",
      "source": [
        "**Advantages**\n",
        "\n",
        "- Tokenization can help simplify the text by **reducing** it to its **most basic components**.\n",
        "- Tokenization can improve the accuracy of text analysis by providing a **consistent basis for comparison**.\n",
        "- Tokenization can help identify **important keywords and phrases** in the text that can be used for analysis.\n",
        "- Tokenization can help re**duce the complexity of text by removing irrelevant information**.\n",
        "\n",
        "**Disadvantages**\n",
        "\n",
        "- Tokenization can sometimes produce **meaningless or ambiguous tokens**.\n",
        "- Tokenization might not always get the **meaning of a text right**, especially when there are complicated sentence structures or idiomatic expressions.\n",
        "- Tokenization may not work well for languages with **complex word structures or for languages that do not use spaces to separate words.**\n"
      ],
      "metadata": {
        "id": "LkkBcj7npz1w"
      }
    },
    {
      "cell_type": "code",
      "source": [
        "import nltk\n",
        "nltk.download('punkt_tab') # Punkt tokenization algorithm\n",
        "\n",
        "from nltk.tokenize import word_tokenize\n",
        "\n",
        "text = \"The quick brown fox jumped over the lazy dog.\"\n",
        "\n",
        "tokens = word_tokenize(text)\n",
        "print(tokens)"
      ],
      "metadata": {
        "colab": {
          "base_uri": "https://localhost:8080/"
        },
        "id": "iiPQFCzKq8Fx",
        "outputId": "fbdb8750-9655-4c86-8072-31e0a007cdc4"
      },
      "execution_count": null,
      "outputs": [
        {
          "output_type": "stream",
          "name": "stdout",
          "text": [
            "['The', 'quick', 'brown', 'fox', 'jumped', 'over', 'the', 'lazy', 'dog', '.']\n"
          ]
        },
        {
          "output_type": "stream",
          "name": "stderr",
          "text": [
            "[nltk_data] Downloading package punkt_tab to /root/nltk_data...\n",
            "[nltk_data]   Unzipping tokenizers/punkt_tab.zip.\n"
          ]
        }
      ]
    },
    {
      "cell_type": "markdown",
      "source": [
        "## Types of Tokenization"
      ],
      "metadata": {
        "id": "f7FjD6Yz2-Ya"
      }
    },
    {
      "cell_type": "markdown",
      "source": [
        "- Tokenizing text can be done in a number of ways, depending on the task at hand and the type of text being processed.\n",
        "- **sentiment analysis**, a common method is to split the text into individual words, known as **word tokenization**. This allows the model to analyse the sentiment of each word and make a prediction about the overall sentiment of the text.\n",
        "- **sentence tokenization**, which splits the text into individual sentences. This can help with tasks like **summarization**, where the model needs to know how the text is put together in order to make a short summary.\n",
        "- **n-grams** are groups of n-consecutive words or symbols, that can be used to capture the context of a word in a sentence\n",
        "- **Part-of-speech tagging** - Each word in a sentence is labelled with its part of speech (e.g., noun, verb, adjective, etc.).\n",
        "\n",
        "\n",
        "\n"
      ],
      "metadata": {
        "id": "oZOoE2cV3A7A"
      }
    },
    {
      "cell_type": "markdown",
      "source": [
        "### 1.Word Tokenization"
      ],
      "metadata": {
        "id": "2iclQvLa3uip"
      }
    },
    {
      "cell_type": "markdown",
      "source": [
        "- Word tokenization involves splitting the text into individual words, also known as tokens.\n",
        "- This is a common method for **sentiment analysis**, where the model needs to analyze the sentiment of each word.\n",
        "- Advantages of word tokenization include simplicity and the ability **to capture the sentiment of individual words**.\n",
        "- Disadvantages include the **need to handle punctuation and contractions and the possibility of splitting words that should be treated as a single token** (e.g. “can’t”).\n",
        "\n"
      ],
      "metadata": {
        "id": "PgRlUrQU3w4r"
      }
    },
    {
      "cell_type": "markdown",
      "source": [
        "### 2.Sentence tokenization"
      ],
      "metadata": {
        "id": "ZW392Sr-3w8Z"
      }
    },
    {
      "cell_type": "markdown",
      "source": [
        "- Sentence tokenization involves splitting the **text into individual sentences**.\n",
        "- This can be useful for tasks such as **summarization**, where the model needs **to understand the structure of the text to generate a summary**.\n",
        "- Advantages of sentence tokenization include the **ability to capture the structure of the text and the ability to handle punctuation**.\n",
        "- Disadvantages include the **possibility of splitting sentences that should be treated as a single unit** (e.g. if the text contains a list of items)."
      ],
      "metadata": {
        "id": "Vxx8AAg54HSx"
      }
    },
    {
      "cell_type": "markdown",
      "source": [
        "### 3.N-gram tokenization"
      ],
      "metadata": {
        "id": "ypDB5ZNA4HYp"
      }
    },
    {
      "cell_type": "markdown",
      "source": [
        "- N-gram tokenization involves splitting the text into groups of n-consecutive words or symbols, known as n-grams\n",
        "- This can be useful for tasks such as **language modelling**, where the model needs **to predict the next word in a sentence based on the context** provided by the previous words.\n",
        "- Helps to analyze the frequency and distribution of linguistic patterns in a given sample\n",
        "-  Useful for task like **language modelling, machine translation, and sentiment analysis and information retrieval systems**\n",
        "- Advantages of n-gram tokenization include **capturing the context of a word in a sentence and handling words that are split by sentence boundaries**.\n",
        "- Disadvantages include the need to decide on the value of n and the increased complexity of the model due to the larger number of tokens."
      ],
      "metadata": {
        "id": "J80T5yTG4Hca"
      }
    },
    {
      "cell_type": "code",
      "source": [
        "from nltk.util import ngrams\n",
        "\n",
        "# Example sentence\n",
        "sentence = \"Natural language processing is a field of study focused on the interactions between human language and computers.\"\n",
        "\n",
        "# Tokenize the sentence into words\n",
        "words = sentence.split()\n",
        "\n",
        "# Create bigrams from the list of words\n",
        "bigrams = ngrams(words, 2)\n",
        "\n",
        "# Print the bigrams\n",
        "for bigram in bigrams:\n",
        "    print(bigram)"
      ],
      "metadata": {
        "colab": {
          "base_uri": "https://localhost:8080/"
        },
        "id": "w7iw8fm06GOw",
        "outputId": "86b6d2d6-31be-48b9-a89b-73e5fc242d62"
      },
      "execution_count": null,
      "outputs": [
        {
          "output_type": "stream",
          "name": "stdout",
          "text": [
            "('Natural', 'language')\n",
            "('language', 'processing')\n",
            "('processing', 'is')\n",
            "('is', 'a')\n",
            "('a', 'field')\n",
            "('field', 'of')\n",
            "('of', 'study')\n",
            "('study', 'focused')\n",
            "('focused', 'on')\n",
            "('on', 'the')\n",
            "('the', 'interactions')\n",
            "('interactions', 'between')\n",
            "('between', 'human')\n",
            "('human', 'language')\n",
            "('language', 'and')\n",
            "('and', 'computers.')\n"
          ]
        }
      ]
    },
    {
      "cell_type": "markdown",
      "source": [
        "### **skip-gram**\n",
        "\n",
        "- Skip-gram is a word embedding model often used in natural language processing tasks, especially for those with bigger vocabularies.\n",
        "- Unlike n-grams, which represent fixed-length sequences of adjacent words, skip-gram represents **each word as a dense vector in a high-dimensional space**. The **distance between vectors reflects the similarity between words**.\n",
        "- A skip-gram model attempts **to learn each word’s vector** so that words with **similar semantic properties are close to one another in the vector space**.\n",
        "- The skip-gram model teaches a **neural network to predict the context words that come close to a given target word**. For example, given the sentence “The cat sat on the mat,” the skip-gram model might try to predict the context words “cat,” “on,” and “the” given the target word “sat.”\n",
        "\n",
        "N-grams are a powerful tool in natural language processing that can help us model **the probability distribution of words in a language and capture complex relationships between words based on their co-occurrence patterns**. N-grams can be used for various tasks, such as language modelling, text classification, and sentiment analysis.\n",
        "\n",
        "However, it’s important to consider the bias-variance trade-off when using n-grams and choose the appropriate n-gram size based on the specific task and data. In addition, there are alternative models, such as **skip-grams, that can be used to generate word embeddings that capture more nuanced relationships between words.**"
      ],
      "metadata": {
        "id": "vPoFBZar4HfR"
      }
    },
    {
      "cell_type": "markdown",
      "source": [
        "# 2.Stop word removal for NLP feature engineering"
      ],
      "metadata": {
        "id": "fAa5sKcjpz4R"
      }
    },
    {
      "cell_type": "markdown",
      "source": [
        "- Stop words are common words without meaning, such as “the” or “and”.\n",
        "- Removing stop words can reduce the feature space’s dimensionality and improve the model’s efficiency.\n",
        "\n"
      ],
      "metadata": {
        "id": "M2YR_eXVpz9J"
      }
    },
    {
      "cell_type": "markdown",
      "source": [
        "**Advantages**\n",
        "\n",
        "- Stop word removal can help **reduce the noise in the data** and improve the accuracy of text analysis by removing words that are not relevant to the analysis.\n",
        "- Stop word removal can **help reduce the size of the dataset and improve computational efficiency**.\n",
        "- Stop word removal can help **improve the readability of the text by removing redundant or unnecessary words**.\n",
        "\n",
        "**Disadvantages**\n",
        "\n",
        "- Stop word removal may **remove important context and nuance** from the text,\n",
        "especially in cases where the context of the text is important.\n",
        "- Stop word removal may **not work well for all languages**, as some rely heavily on function words to convey meaning.\n",
        "- Stop word removal may remove words that are not technically stop words but are important for the analysis.\n"
      ],
      "metadata": {
        "id": "SUn_30Mqpz_x"
      }
    },
    {
      "cell_type": "code",
      "source": [
        "import nltk\n",
        "from nltk.corpus import stopwords\n",
        "from nltk.tokenize import word_tokenize\n",
        "nltk.download('stopwords')\n",
        "\n",
        "text = \"The quick brown fox jumped over the lazy dog.\"\n",
        "\n",
        "stop_words = set(stopwords.words('english'))\n",
        "tokens = word_tokenize(text)\n",
        "\n",
        "filtered_tokens = [token for token in tokens if not token in stop_words]\n",
        "\n",
        "print(filtered_tokens)"
      ],
      "metadata": {
        "colab": {
          "base_uri": "https://localhost:8080/"
        },
        "id": "sKQX5Gn_r01p",
        "outputId": "8fc9f8a2-a8ae-493f-e343-926c26225967"
      },
      "execution_count": null,
      "outputs": [
        {
          "output_type": "stream",
          "name": "stdout",
          "text": [
            "['The', 'quick', 'brown', 'fox', 'jumped', 'lazy', 'dog', '.']\n"
          ]
        },
        {
          "output_type": "stream",
          "name": "stderr",
          "text": [
            "[nltk_data] Downloading package stopwords to /root/nltk_data...\n",
            "[nltk_data]   Unzipping corpora/stopwords.zip.\n"
          ]
        }
      ]
    },
    {
      "cell_type": "markdown",
      "source": [
        "# 3.Stemming and lemmatization for NLP feature engineering"
      ],
      "metadata": {
        "id": "sfaXaWWSr1JB"
      }
    },
    {
      "cell_type": "markdown",
      "source": [
        "- Stemming involves **reducing words to their base form by removing suffixes**, while lemmatization **involves reducing words to their base form by mapping them to their dictionary form**.\n",
        "- Both techniques can help reduce the **dimensionality of the feature space and improve model accuracy**.\n",
        "\n"
      ],
      "metadata": {
        "id": "SiajTlEZr1MQ"
      }
    },
    {
      "cell_type": "markdown",
      "source": [
        "**Advantages**\n",
        "\n",
        "- Stemming and lemmatization can help improve the **accuracy of text analysis by reducing words to their most basic form**.\n",
        "- Stemming and lemmatization can help **improve the efficiency of text analysis by reducing the number of unique words in the dataset**.\n",
        "- Stemming and lemmatization can help identify patterns and relationships in the text that may not be apparent when words are not reduced to their base form.\n",
        "\n",
        "**Disadvantages**\n",
        "\n",
        "- Stemming and lemmatization may result in **losing important information**, as words reduced to their base form may not accurately capture the text’s intended meaning.\n",
        "- Stemming and lemmatization may produce **non-words or words that do not exist in the language**, making the text more difficult to understand.\n",
        "- Stemming and lemmatization may **not work well for all languages or text types**.\n"
      ],
      "metadata": {
        "id": "sryQdM08r1PY"
      }
    },
    {
      "cell_type": "markdown",
      "source": [
        "![image.png](data:image/png;base64,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)"
      ],
      "metadata": {
        "id": "-XGFWoytB2tH"
      }
    },
    {
      "cell_type": "markdown",
      "source": [
        "## Stemming"
      ],
      "metadata": {
        "id": "tQDvETtcHE39"
      }
    },
    {
      "cell_type": "markdown",
      "source": [
        "- Stemming is the process of **reducing a word to its base or root form**.\n",
        "- For example, the stem of the word “running” is “run,” and the stem of the word “swimming” is “swim.”\n",
        "- Stemming is often used in natural language processing tasks **to standardise the text and improve the performance of algorithms**.\n",
        "- In addition, it can **help group words with the same meaning, even if they have different forms**. This can be useful in tasks like **document classification**,\n",
        "- For example, the words “run,” “running,” and “runs” would all be reduced to the stem “run,” which would make it easier for an algorithm to identify that they are related.\n",
        "\n",
        "- Stemming is used in the **search function of blogs**\n",
        "- Used in sentiment analysis and topic modelling."
      ],
      "metadata": {
        "id": "hhor6CxTHGS6"
      }
    },
    {
      "cell_type": "markdown",
      "source": [
        "**Disadvantages of Stemming**\n",
        "\n",
        "1. **Overstemming** and **understemming** are two problems that can arise in stemming.\n",
        "  - **Overstemming** occurs when a stemmer reduces a word to its base form too aggressively, resulting in a stem that is not a valid word. For example, the word “fishing” might be overstemmed to “fishin,” which is not correct\n",
        "  - **Understemming** occurs when a stemmer reduces a word to its base form, resulting in a stem that is still an inflected form of the original word. For example, the word “fishing” might be understemmed to “fish,” which is a valid word but still not the base form of the original word.\n",
        "\n",
        "2. stemming can **sometimes produce words that have multiple meanings**.\n",
        "  - For example, the term “run” can have many different meanings, such as to move quickly on foot, to operate or control, or to be in charge of. When this word is stemmed, it could be difficult for an algorithm to determine which meaning is intended in a particular context.\n",
        "\n",
        "3. stemming can also **lose important information about the structure of words**\n",
        "  - For example, “teaching” could stem from “teach,” which yields the critical information that the original word is a noun rather than a verb.\n"
      ],
      "metadata": {
        "id": "EWAsOqK0IFgq"
      }
    },
    {
      "cell_type": "markdown",
      "source": [
        "## Stemming Algorithms"
      ],
      "metadata": {
        "id": "pZh6MY-xIyOk"
      }
    },
    {
      "cell_type": "markdown",
      "source": [
        "1. Porter stemmer\n",
        "  - based on a set of rules applied to words to reduce them to their base form - most widely used stemming algorithms and is implemented in the NLTK library for Python.\n",
        "\n",
        "2. Snowball stemmer\n",
        "  - based on the Porter stemmer but has a more aggressive set of rules for reducing words to their base form. It is implemented in the NLTK library for Python.\n",
        "\n",
        "3. Lancaster stemmer\n",
        "  - based on the Porter stemmer but uses a more aggressive set of rules for reducing words to their base form. It is implemented in the NLTK library for Python.\n"
      ],
      "metadata": {
        "id": "_KJHOvStI2ay"
      }
    },
    {
      "cell_type": "code",
      "source": [
        "# NLTK Stemming\n",
        "import nltk\n",
        "\n",
        "from nltk.stem import PorterStemmer\n",
        "from nltk.tokenize import word_tokenize\n",
        "\n",
        "text = \"The quick brown foxes jumped over the lazy dogs.\"\n",
        "\n",
        "tokens = word_tokenize(text)\n",
        "\n",
        "stemmer = PorterStemmer()\n",
        "\n",
        "stemmed_tokens = [stemmer.stem(token) for token in tokens]\n",
        "print(stemmed_tokens)"
      ],
      "metadata": {
        "colab": {
          "base_uri": "https://localhost:8080/"
        },
        "id": "vRzRZw4Ys4qh",
        "outputId": "f69823cb-9749-4415-c835-b7a1e55fb6c8"
      },
      "execution_count": null,
      "outputs": [
        {
          "output_type": "stream",
          "name": "stdout",
          "text": [
            "['the', 'quick', 'brown', 'fox', 'jump', 'over', 'the', 'lazi', 'dog', '.']\n"
          ]
        }
      ]
    },
    {
      "cell_type": "code",
      "source": [
        "# SpaCy stemming\n",
        "import spacy\n",
        "nlp = spacy.load(\"en_core_web_sm\")\n",
        "\n",
        "words = [\"run\", \"running\", \"ran\"]\n",
        "\n",
        "stemmed_words = [nlp(word)[0].lemma_ for word in words]\n",
        "\n",
        "print(stemmed_words)\n"
      ],
      "metadata": {
        "colab": {
          "base_uri": "https://localhost:8080/"
        },
        "id": "ls9fgt92JxYi",
        "outputId": "426fe2fc-252f-4e69-975a-d481905049d0"
      },
      "execution_count": null,
      "outputs": [
        {
          "output_type": "stream",
          "name": "stdout",
          "text": [
            "['run', 'run', 'run']\n"
          ]
        }
      ]
    },
    {
      "cell_type": "code",
      "source": [
        "!pip install gensim"
      ],
      "metadata": {
        "colab": {
          "base_uri": "https://localhost:8080/"
        },
        "id": "yiUFeNQDKI5d",
        "outputId": "9c73a434-f4ee-4e9f-9fcf-552ad42d652b"
      },
      "execution_count": null,
      "outputs": [
        {
          "output_type": "stream",
          "name": "stdout",
          "text": [
            "Requirement already satisfied: gensim in /usr/local/lib/python3.11/dist-packages (4.3.3)\n",
            "Requirement already satisfied: numpy<2.0,>=1.18.5 in /usr/local/lib/python3.11/dist-packages (from gensim) (1.26.4)\n",
            "Requirement already satisfied: scipy<1.14.0,>=1.7.0 in /usr/local/lib/python3.11/dist-packages (from gensim) (1.13.1)\n",
            "Requirement already satisfied: smart-open>=1.8.1 in /usr/local/lib/python3.11/dist-packages (from gensim) (7.1.0)\n",
            "Requirement already satisfied: wrapt in /usr/local/lib/python3.11/dist-packages (from smart-open>=1.8.1->gensim) (1.17.2)\n"
          ]
        }
      ]
    },
    {
      "cell_type": "code",
      "source": [
        "# Gensim stemming\n",
        "from gensim.parsing.porter import PorterStemmer\n",
        "\n",
        "stemmer = PorterStemmer()\n",
        "\n",
        "words = [\"run\", \"running\", \"ran\"]\n",
        "\n",
        "stemmed_words = [stemmer.stem(word) for word in words]\n",
        "\n",
        "print(stemmed_words)\n"
      ],
      "metadata": {
        "colab": {
          "base_uri": "https://localhost:8080/"
        },
        "id": "9eqPCz10KEtz",
        "outputId": "371186c2-7e15-41ff-aaec-194c0ca7a081"
      },
      "execution_count": null,
      "outputs": [
        {
          "output_type": "stream",
          "name": "stdout",
          "text": [
            "['run', 'run', 'ran']\n"
          ]
        }
      ]
    },
    {
      "cell_type": "markdown",
      "source": [
        "## Alternative to Stemming\n"
      ],
      "metadata": {
        "id": "nvWplckIJfCC"
      }
    },
    {
      "cell_type": "markdown",
      "source": [
        "1. Lemmatization\n",
        "2. Dictionary-based approach, where words are mapped to their base forms using a pre-defined dictionary\n",
        "3. synonyms or related words to group words together rather than reducing them to their base forms."
      ],
      "metadata": {
        "id": "bHijNhoeJh6K"
      }
    },
    {
      "cell_type": "markdown",
      "source": [
        "## Lemmatization"
      ],
      "metadata": {
        "id": "n6OpAdcBJRuR"
      }
    },
    {
      "cell_type": "markdown",
      "source": [
        "- process of reducing a word to its base form, but unlike stemming, lemmatization takes into account the context and part of speech of the word, which can produce more accurate results.\n",
        "- For example, the term “teaching” would be lemmatized to “teach,” which retains the necessary information that it is a noun, rather than being stemmed to “teach,” which loses this information."
      ],
      "metadata": {
        "id": "74Ksg95LJUCX"
      }
    },
    {
      "cell_type": "markdown",
      "source": [],
      "metadata": {
        "id": "G8bV_OR2JUGb"
      }
    },
    {
      "cell_type": "code",
      "source": [
        "import nltk\n",
        "nltk.download('wordnet')\n",
        "from nltk.stem import WordNetLemmatizer\n",
        "from nltk.tokenize import word_tokenize\n",
        "\n",
        "text = \"The quick brown foxes jumped over the lazy dogs.\"\n",
        "\n",
        "tokens = word_tokenize(text)\n",
        "lemmatizer = WordNetLemmatizer()\n",
        "\n",
        "lemmatized_tokens = [lemmatizer.lemmatize(token) for token in tokens]\n",
        "print(lemmatized_tokens)"
      ],
      "metadata": {
        "colab": {
          "base_uri": "https://localhost:8080/"
        },
        "id": "EqA9L37iteBI",
        "outputId": "7c94cd72-31b7-49f7-b798-36fd1d66b1b9"
      },
      "execution_count": null,
      "outputs": [
        {
          "output_type": "stream",
          "name": "stderr",
          "text": [
            "[nltk_data] Downloading package wordnet to /root/nltk_data...\n"
          ]
        },
        {
          "output_type": "stream",
          "name": "stdout",
          "text": [
            "['The', 'quick', 'brown', 'fox', 'jumped', 'over', 'the', 'lazy', 'dog', '.']\n"
          ]
        }
      ]
    },
    {
      "cell_type": "markdown",
      "source": [
        "# 4.N-grams for NLP feature engineering"
      ],
      "metadata": {
        "id": "kA0Fww1hs41x"
      }
    },
    {
      "cell_type": "markdown",
      "source": [
        "- N-grams are sequences of adjacent words of length n .\n",
        "- N-grams can capture more context and help the model better understand the meaning of the text."
      ],
      "metadata": {
        "id": "q2zBmEUGs48p"
      }
    },
    {
      "cell_type": "markdown",
      "source": [
        "**Advantages**\n",
        "\n",
        "- N-grams can help **capture the context and meaning of the text by considering the relationship between adjacent words or phrases**.\n",
        "- N-grams can **identify patterns and relationships in the text that may not be apparent when considering individual words or phrases**.\n",
        "- N-grams can be used to **generate predictive models that can help classify or predict text based on patterns or relationships in the data**.\n",
        "\n",
        "**Disadvantages**\n",
        "\n",
        "- N-grams can **produce a large number of features**, which can make the analysis more computationally intensive and require more memory.\n",
        "- N-grams **may not work well for all types of text** or all languages.\n",
        "- N-grams **may not capture the full range of meanings of the text**, as they are limited to adjacent words or phrases.\n"
      ],
      "metadata": {
        "id": "NOFdL3B8s4_Q"
      }
    },
    {
      "cell_type": "code",
      "source": [
        "import nltk\n",
        "from nltk.tokenize import word_tokenize\n",
        "from nltk.util import ngrams\n",
        "\n",
        "text = \"The quick brown foxes jumped over the lazy dogs.\"\n",
        "\n",
        "tokens = nltk.word_tokenize(text)\n",
        "\n",
        "bigrams = ngrams(tokens, 2)\n",
        "trigrams = ngrams(tokens, 3)\n",
        "\n",
        "print(\"Bi-gram:\", list(bigrams))\n",
        "print(\"Tri-gram:\", list(trigrams))"
      ],
      "metadata": {
        "colab": {
          "base_uri": "https://localhost:8080/"
        },
        "id": "eY87mbBAuTrC",
        "outputId": "90d5f271-8a81-4fcd-d96a-2286283839d7"
      },
      "execution_count": null,
      "outputs": [
        {
          "output_type": "stream",
          "name": "stdout",
          "text": [
            "Bi-gram: [('The', 'quick'), ('quick', 'brown'), ('brown', 'foxes'), ('foxes', 'jumped'), ('jumped', 'over'), ('over', 'the'), ('the', 'lazy'), ('lazy', 'dogs'), ('dogs', '.')]\n",
            "Tri-gram: [('The', 'quick', 'brown'), ('quick', 'brown', 'foxes'), ('brown', 'foxes', 'jumped'), ('foxes', 'jumped', 'over'), ('jumped', 'over', 'the'), ('over', 'the', 'lazy'), ('the', 'lazy', 'dogs'), ('lazy', 'dogs', '.')]\n"
          ]
        }
      ]
    },
    {
      "cell_type": "markdown",
      "source": [
        "# 5.Part-of-speech (POS) tagging for NLP feature engineering"
      ],
      "metadata": {
        "id": "-jKP0c_ss5B4"
      }
    },
    {
      "cell_type": "markdown",
      "source": [
        "- POS tagging involves **labelling each word in a sentence with its corresponding part of speech, such as a noun, verb, or adjective**.\n",
        "- This information can be used to build more advanced features for the model.\n",
        "- This can be useful for tasks such as **syntactic parsing**, where the model must understand the **sentence’s grammatical structure to identify the dependencies between words**.\n",
        "- Advantages of part-of-speech tagging include **capturing the sentence’s grammatical structure and handling words with multiple possible parts of speech** (e.g. “fly” can be a verb or a noun).\n",
        "- Disadvantages include the need for a large annotated corpus to train the model and the complexity of the model due to a large number of possible labels.\n",
        "\n"
      ],
      "metadata": {
        "id": "ITeQovpDukk5"
      }
    },
    {
      "cell_type": "markdown",
      "source": [
        "**Advantages**\n",
        "\n",
        "- POS tagging can help **improve the accuracy of text analysis by providing information about the syntactic structure of the text**.\n",
        "- POS tagging can **identify patterns and relationships between different parts of speech in the text**.\n",
        "- POS tagging can **generate predictive models to help classify or predict text based on the part-of-speech tags**.\n",
        "\n",
        "**Disadvantages**\n",
        "\n",
        "- POS tagging **may not work well for all types of text or all languages**.\n",
        "- POS tagging **may not accurately capture the text’s intended meaning**, as some words can have multiple possible part-of-speech tags depending on the context and usage.\n",
        "- POS tagging can be **computationally intensive and require more memory**, especially for larger datasets.\n"
      ],
      "metadata": {
        "id": "OFXtvbR_ukoR"
      }
    },
    {
      "cell_type": "code",
      "source": [
        "import nltk\n",
        "nltk.download('averaged_perceptron_tagger_eng')\n",
        "\n",
        "from nltk.tokenize import word_tokenize\n",
        "from nltk import pos_tag\n",
        "\n",
        "text = \"The quick brown foxes jumped over the lazy dogs.\"\n",
        "\n",
        "tokens = nltk.word_tokenize(text)\n",
        "pos_tags = nltk.pos_tag(tokens)\n",
        "\n",
        "print(pos_tags)"
      ],
      "metadata": {
        "colab": {
          "base_uri": "https://localhost:8080/"
        },
        "id": "cx5XOYknvTAB",
        "outputId": "d4ca549e-8750-4adc-ce26-f287eaebf14e"
      },
      "execution_count": null,
      "outputs": [
        {
          "output_type": "stream",
          "name": "stderr",
          "text": [
            "[nltk_data] Downloading package averaged_perceptron_tagger_eng to\n",
            "[nltk_data]     /root/nltk_data...\n",
            "[nltk_data]   Unzipping taggers/averaged_perceptron_tagger_eng.zip.\n"
          ]
        },
        {
          "output_type": "stream",
          "name": "stdout",
          "text": [
            "[('The', 'DT'), ('quick', 'JJ'), ('brown', 'NN'), ('foxes', 'NNS'), ('jumped', 'VBD'), ('over', 'IN'), ('the', 'DT'), ('lazy', 'JJ'), ('dogs', 'NNS'), ('.', '.')]\n"
          ]
        }
      ]
    },
    {
      "cell_type": "markdown",
      "source": [
        "# 6.Named Entity Recognition (NER) for NLP feature engineering"
      ],
      "metadata": {
        "id": "8OVeJ9YRuktp"
      }
    },
    {
      "cell_type": "markdown",
      "source": [
        "- NER involves **identifying and categorizing named entities in text**, such as people, organizations, and locations.\n",
        "- This information can also be used to build more advanced features for the model"
      ],
      "metadata": {
        "id": "8lHjJHJeukwI"
      }
    },
    {
      "cell_type": "markdown",
      "source": [
        "**Advantages**\n",
        "\n",
        "- NER can help improve the accuracy of text analysis **by identifying and extracting important information from text**.\n",
        "- NER can identify **patterns and relationships between named entities** in the text.\n",
        "- NER can be **used to generate predictive models that can help classify or predict text** based on the named entities.\n",
        "\n",
        "**Disadvantages**\n",
        "\n",
        "- NER may **not work well for all types of text** or all languages.\n",
        "- NER may **not accurately identify all named entities in the text**, especially if the named entities are misspelt or ambiguous.\n",
        "- NER can be **computationally intensive and require more memory**, especially for larger datasets.\n"
      ],
      "metadata": {
        "id": "0oV_M_SFukyw"
      }
    },
    {
      "cell_type": "code",
      "source": [
        "import nltk\n",
        "\n",
        "from nltk.tokenize import word_tokenize\n",
        "from nltk import pos_tag, ne_chunk\n",
        "\n",
        "nltk.download('maxent_ne_chunker_tab')\n",
        "nltk.download('words_tab')\n",
        "nltk.download('words')\n",
        "\n",
        "\n",
        "text = \"John Smith works at Google in New York City.\"\n",
        "tokens = nltk.word_tokenize(text)\n",
        "\n",
        "pos_tags = nltk.pos_tag(tokens)\n",
        "ner_tags = nltk.ne_chunk(pos_tags)\n",
        "\n",
        "print(ner_tags)"
      ],
      "metadata": {
        "colab": {
          "base_uri": "https://localhost:8080/"
        },
        "id": "uf5ikqwIwY4A",
        "outputId": "35fe1e6c-d94a-4132-bff7-a8d3bd895ea5"
      },
      "execution_count": null,
      "outputs": [
        {
          "output_type": "stream",
          "name": "stderr",
          "text": [
            "[nltk_data] Downloading package maxent_ne_chunker_tab to\n",
            "[nltk_data]     /root/nltk_data...\n",
            "[nltk_data]   Package maxent_ne_chunker_tab is already up-to-date!\n",
            "[nltk_data] Error loading words_tab: Package 'words_tab' not found in\n",
            "[nltk_data]     index\n",
            "[nltk_data] Downloading package words to /root/nltk_data...\n",
            "[nltk_data]   Package words is already up-to-date!\n"
          ]
        },
        {
          "output_type": "stream",
          "name": "stdout",
          "text": [
            "(S\n",
            "  (PERSON John/NNP)\n",
            "  (PERSON Smith/NNP)\n",
            "  works/VBZ\n",
            "  at/IN\n",
            "  (ORGANIZATION Google/NNP)\n",
            "  in/IN\n",
            "  (GPE New/NNP York/NNP City/NNP)\n",
            "  ./.)\n"
          ]
        }
      ]
    },
    {
      "cell_type": "markdown",
      "source": [
        "# 7.TF-IDF"
      ],
      "metadata": {
        "id": "yFe3FCPYuk1J"
      }
    },
    {
      "cell_type": "markdown",
      "source": [
        "- Term Frequency-Inverse Document Frequency (TF-IDF) is a technique that **assigns weights to words based on their frequency in the document and the corpus**.\n",
        "- This can help the model identify important words or phrases in the text"
      ],
      "metadata": {
        "id": "UYXqbNcNuk3x"
      }
    },
    {
      "cell_type": "markdown",
      "source": [
        "**Advantages**\n",
        "\n",
        "- TF-IDF can help identify **important keywords and concepts** in a document corpus.\n",
        "- TF-IDF can be used to **measure the relevance of a document to a query** or search term.\n",
        "- TF-IDF can be used to **cluster similar documents based on the similarity of their content**.\n",
        "\n",
        "**Disadvantages**\n",
        "\n",
        "- TF-IDF may **not work well for all types of text** or all languages.\n",
        "- TF-IDF may **not accurately capture the meaning of the text**, as it only considers the frequency of words and does not consider the context or semantics of the words.\n",
        "- TF-IDF **can be computationally intensive and require more memory**, especially for larger datasets.\n"
      ],
      "metadata": {
        "id": "JszZFaMvx1Dp"
      }
    },
    {
      "cell_type": "code",
      "source": [
        "from sklearn.feature_extraction.text import TfidfVectorizer\n",
        "\n",
        "corpus = [ \"The quick brown fox jumps over the lazy dog.\",\n",
        "           \"The quick brown foxes jump over the lazy dogs and cats.\",\n",
        "           \"The lazy dogs and cats watch the quick brown foxes jump over the moon.\"]\n",
        "\n",
        "tfidf_vectorizer = TfidfVectorizer()\n",
        "tfidf_matrix = tfidf_vectorizer.fit_transform(corpus)\n",
        "print(tfidf_matrix.toarray())"
      ],
      "metadata": {
        "colab": {
          "base_uri": "https://localhost:8080/"
        },
        "id": "vM7c7yiayuhB",
        "outputId": "c1734d13-fc92-4424-916a-685d6bb87bea"
      },
      "execution_count": null,
      "outputs": [
        {
          "output_type": "stream",
          "name": "stdout",
          "text": [
            "[[0.         0.24543856 0.         0.4155636  0.         0.4155636\n",
            "  0.         0.         0.4155636  0.24543856 0.         0.24543856\n",
            "  0.24543856 0.49087711 0.        ]\n",
            " [0.31903606 0.24775996 0.31903606 0.         0.31903606 0.\n",
            "  0.31903606 0.31903606 0.         0.24775996 0.         0.24775996\n",
            "  0.24775996 0.49551992 0.        ]\n",
            " [0.24770391 0.19236418 0.24770391 0.         0.24770391 0.\n",
            "  0.24770391 0.24770391 0.         0.19236418 0.32570088 0.19236418\n",
            "  0.19236418 0.57709255 0.32570088]]\n"
          ]
        }
      ]
    },
    {
      "cell_type": "markdown",
      "source": [
        "The resulting TF-IDF matrix can be used to identify **important keywords** and **concepts** in the corpus, measure the **relevance of a document** to a query or search term, and cluster similar documents based on the **similarity of their content**.\n",
        "\n"
      ],
      "metadata": {
        "id": "Rycjsn2Ex1TZ"
      }
    },
    {
      "cell_type": "markdown",
      "source": [
        "# 8.Word Embeddings"
      ],
      "metadata": {
        "id": "33YkqK4wx1WQ"
      }
    },
    {
      "cell_type": "markdown",
      "source": [],
      "metadata": {
        "id": "vkMYrzdokAgX"
      }
    },
    {
      "cell_type": "markdown",
      "source": [
        "- Word embeddings are a **neural network-based technique that converts words into dense vectors that capture semantic meaning**.\n",
        "- Word embeddings can be used as **input features for deep learning models**.\n",
        "- use the word embedding method to **represent text data**. The added benefit of using word embeddings is that we can **represent words with similar meanings in a similar way**. So similar words will be close together numerically, while words with nothing in common will be far apart.\n",
        "- The **numerical representations of words** in a language are called **word embeddings**, also referred to as **vectors**.\n",
        "- These representations must be learned for words with **similar meanings to have vectors that are close to one another**. Words are represented as **real-valued vectors or coordinates in an n-dimensional, predefined vector space**\n",
        "-  Word embeddings come in various forms, including **GloVe, Word2Vec, FastText, TF-IDF, CountVectorizer, BERT, ELMO, and others**."
      ],
      "metadata": {
        "id": "B4V-yHQ7x1ZZ"
      }
    },
    {
      "cell_type": "markdown",
      "source": [
        "**Advantages**\n",
        "\n",
        "- Word embeddings can capture the **meaning and context** of words, allowing for more accurate text analysis and prediction.\n",
        "- Word embeddings can be used to represent words in a **more efficient and scalable way than traditional bag-of-words approaches**.\n",
        "- Word embedding can be **trained on large amounts of text data to capture subtle linguistic patterns and relationships**.\n",
        "\n",
        "**Disadvantages**\n",
        "\n",
        "- Word embedding may not work well for all types of text or all languages.\n",
        "- Word embedding may not **capture all the nuances of meaning and context**, as they are based on statistical patterns in the data and may not reflect the true semantic relationships between words.\n",
        "- Word embedding can be computationally intensive and **require more memory, especially for larger datasets**"
      ],
      "metadata": {
        "id": "ngm9LmCszutp"
      }
    },
    {
      "cell_type": "code",
      "source": [
        "!pip install gensim"
      ],
      "metadata": {
        "colab": {
          "base_uri": "https://localhost:8080/"
        },
        "id": "dmYSfA0z1AaA",
        "outputId": "c5da042e-0cab-4a36-a2cf-6b5c5045454f"
      },
      "execution_count": null,
      "outputs": [
        {
          "output_type": "stream",
          "name": "stdout",
          "text": [
            "Collecting gensim\n",
            "  Downloading gensim-4.3.3-cp311-cp311-manylinux_2_17_x86_64.manylinux2014_x86_64.whl.metadata (8.1 kB)\n",
            "Collecting numpy<2.0,>=1.18.5 (from gensim)\n",
            "  Downloading numpy-1.26.4-cp311-cp311-manylinux_2_17_x86_64.manylinux2014_x86_64.whl.metadata (61 kB)\n",
            "\u001b[2K     \u001b[90m━━━━━━━━━━━━━━━━━━━━━━━━━━━━━━━━━━━━━━━━\u001b[0m \u001b[32m61.0/61.0 kB\u001b[0m \u001b[31m4.3 MB/s\u001b[0m eta \u001b[36m0:00:00\u001b[0m\n",
            "\u001b[?25hCollecting scipy<1.14.0,>=1.7.0 (from gensim)\n",
            "  Downloading scipy-1.13.1-cp311-cp311-manylinux_2_17_x86_64.manylinux2014_x86_64.whl.metadata (60 kB)\n",
            "\u001b[2K     \u001b[90m━━━━━━━━━━━━━━━━━━━━━━━━━━━━━━━━━━━━━━━━\u001b[0m \u001b[32m60.6/60.6 kB\u001b[0m \u001b[31m4.0 MB/s\u001b[0m eta \u001b[36m0:00:00\u001b[0m\n",
            "\u001b[?25hRequirement already satisfied: smart-open>=1.8.1 in /usr/local/lib/python3.11/dist-packages (from gensim) (7.1.0)\n",
            "Requirement already satisfied: wrapt in /usr/local/lib/python3.11/dist-packages (from smart-open>=1.8.1->gensim) (1.17.2)\n",
            "Downloading gensim-4.3.3-cp311-cp311-manylinux_2_17_x86_64.manylinux2014_x86_64.whl (26.7 MB)\n",
            "\u001b[2K   \u001b[90m━━━━━━━━━━━━━━━━━━━━━━━━━━━━━━━━━━━━━━━━\u001b[0m \u001b[32m26.7/26.7 MB\u001b[0m \u001b[31m48.0 MB/s\u001b[0m eta \u001b[36m0:00:00\u001b[0m\n",
            "\u001b[?25hDownloading numpy-1.26.4-cp311-cp311-manylinux_2_17_x86_64.manylinux2014_x86_64.whl (18.3 MB)\n",
            "\u001b[2K   \u001b[90m━━━━━━━━━━━━━━━━━━━━━━━━━━━━━━━━━━━━━━━━\u001b[0m \u001b[32m18.3/18.3 MB\u001b[0m \u001b[31m65.6 MB/s\u001b[0m eta \u001b[36m0:00:00\u001b[0m\n",
            "\u001b[?25hDownloading scipy-1.13.1-cp311-cp311-manylinux_2_17_x86_64.manylinux2014_x86_64.whl (38.6 MB)\n",
            "\u001b[2K   \u001b[90m━━━━━━━━━━━━━━━━━━━━━━━━━━━━━━━━━━━━━━━━\u001b[0m \u001b[32m38.6/38.6 MB\u001b[0m \u001b[31m20.8 MB/s\u001b[0m eta \u001b[36m0:00:00\u001b[0m\n",
            "\u001b[?25hInstalling collected packages: numpy, scipy, gensim\n",
            "  Attempting uninstall: numpy\n",
            "    Found existing installation: numpy 2.0.2\n",
            "    Uninstalling numpy-2.0.2:\n",
            "      Successfully uninstalled numpy-2.0.2\n",
            "  Attempting uninstall: scipy\n",
            "    Found existing installation: scipy 1.14.1\n",
            "    Uninstalling scipy-1.14.1:\n",
            "      Successfully uninstalled scipy-1.14.1\n",
            "\u001b[31mERROR: pip's dependency resolver does not currently take into account all the packages that are installed. This behaviour is the source of the following dependency conflicts.\n",
            "thinc 8.3.6 requires numpy<3.0.0,>=2.0.0, but you have numpy 1.26.4 which is incompatible.\u001b[0m\u001b[31m\n",
            "\u001b[0mSuccessfully installed gensim-4.3.3 numpy-1.26.4 scipy-1.13.1\n"
          ]
        }
      ]
    },
    {
      "cell_type": "code",
      "source": [
        "from gensim.models import Word2Vec\n",
        "\n",
        "sentences = [ \"The quick brown fox jumps over the lazy dog\".split(),\n",
        "              \"The lazy dog watches the quick brown fox\".split(),\n",
        "              \"The quick brown cat jumps over the lazy dog\".split(),\n",
        "              \"The lazy dog watches the quick brown cat\".split() ]\n",
        "\n",
        "model = Word2Vec(sentences, min_count=1)\n",
        "print(model.wv['quick'])"
      ],
      "metadata": {
        "colab": {
          "base_uri": "https://localhost:8080/"
        },
        "id": "FmPFJLVq088K",
        "outputId": "b99852fa-99bd-4878-acb9-73f6ffe0ae41"
      },
      "execution_count": null,
      "outputs": [
        {
          "output_type": "stream",
          "name": "stdout",
          "text": [
            "[-0.00713999  0.00124067 -0.00717751 -0.00224369  0.00371913  0.0058323\n",
            "  0.00119825  0.00210345 -0.00411091  0.00722462 -0.00630649  0.00464686\n",
            " -0.00821997  0.00203635 -0.00497711 -0.00424696 -0.00310838  0.00565393\n",
            "  0.00579869 -0.00497552  0.00077332 -0.00849516  0.00781005  0.0092573\n",
            " -0.0027417   0.00079984  0.00074592  0.00547846 -0.00860618  0.00058384\n",
            "  0.00687079  0.00223185  0.00112499 -0.00932102  0.00848135 -0.00626296\n",
            " -0.00299198  0.00349417 -0.00077261  0.00141155  0.00178289 -0.00682827\n",
            " -0.00972495  0.00903973  0.00619821 -0.00691244  0.003403    0.00020671\n",
            "  0.0047539  -0.0071193   0.00402738  0.00434795  0.00995691 -0.00447293\n",
            " -0.00138929 -0.0073184  -0.00969798 -0.00908061 -0.00102224 -0.00650399\n",
            "  0.00484942 -0.00616323  0.00252097  0.00073905 -0.00339282 -0.00097971\n",
            "  0.0099783   0.00914507 -0.00446227  0.00908205 -0.00564152  0.00593174\n",
            " -0.00309745  0.00343133  0.0030173   0.00689944 -0.00237399  0.00877479\n",
            "  0.00758977 -0.00954731 -0.00800764 -0.00763848  0.00292329 -0.00279391\n",
            " -0.0069293  -0.00812925  0.00830863  0.00199066 -0.00932756 -0.00479216\n",
            "  0.00313556 -0.00471203  0.00528107 -0.00423277  0.00264354 -0.00804616\n",
            "  0.00620921  0.00481919  0.00078833  0.00301355]\n"
          ]
        }
      ]
    },
    {
      "cell_type": "markdown",
      "source": [
        "#9.Keyword Extraction"
      ],
      "metadata": {
        "id": "eTnl-0J3kFM3"
      }
    },
    {
      "cell_type": "markdown",
      "source": [
        "- Finding significant keywords in a document is exactly what keyword extraction does\n",
        "\n",
        "- Using the text analysis natural language processing techniques of keyword extraction, you can quickly gain insightful knowledge about a subject.\n",
        "- The keyword extraction technique can be used to condense the text and extract pertinent keywords without having to go through the entire document.\n",
        "\n",
        "- The simplest way to implement this is with a **count vectorizer**. All this does is count the occurrences of every word, and then you can return the top 10 most popular terms. Remember that this technique is best used with the stop word removal technique described above, or your top words will likely be common words.\n",
        "\n",
        "- **TF-IDF** is another popular way of implementing keyword extraction, as this technique also looks at the uniqueness of a word"
      ],
      "metadata": {
        "id": "ggA7WKz0kFvf"
      }
    },
    {
      "cell_type": "markdown",
      "source": [
        "# List of Python libraries implement NLP tokenization"
      ],
      "metadata": {
        "id": "YbdboL2lzuwY"
      }
    },
    {
      "cell_type": "markdown",
      "source": [
        "1. **NLTK (Natural Language Toolkit)**: This is a widely-used library for NLP tasks in Python. It includes **word** and **sentence tokenization** functions and other everyday NLP tasks such as **part-of-speech tagging** and **named entity recognition**.\n",
        "\n",
        "2. **spaCy**: This is another popular NLP library in Python, known for its fast performance and ease of use. It includes **word and sentence tokenization** functions and other common NLP tasks such as **part-of-speech tagging and dependency parsing.**\n",
        "\n",
        "3. **TextBlob**: This is a simple, user-friendly library for everyday NLP tasks in Python. It includes **word and sentence tokenization functions, sentiment analysis, spelling correction, and other tasks**.\n",
        "\n",
        "4. **Gensim**: This is a library for **topic modelling and document similarity analysis** in Python. It includes functions for **sentence tokenization and n-gram generation**, as well as other everyday NLP tasks such as **Latent Semantic Analysis (LSA) and Latent Dirichlet Allocation (LDA)**.\n",
        "\n",
        "5. **Keras**: This is a popular deep-learning framework for building and training neural networks in Python. It provides a high-level API for working with TensorFlow, a powerful open-source library for numerical computation and machine learning."
      ],
      "metadata": {
        "id": "yalP5aj39znM"
      }
    },
    {
      "cell_type": "markdown",
      "source": [
        "## NLTK Tokenization"
      ],
      "metadata": {
        "id": "Hc-wFObs-n7A"
      }
    },
    {
      "cell_type": "code",
      "source": [
        "import nltk\n",
        "from nltk.tokenize import word_tokenize, sent_tokenize\n",
        "\n",
        "text = \"Natural language processing is an exciting field of study.\"\n",
        "\n",
        "\n",
        "tokens = word_tokenize(text)\n",
        "print(\"Word Tokenization:\",tokens)\n",
        "\n",
        "print('*'*35)\n",
        "sentences = sent_tokenize(text)\n",
        "print(\"Sentence Tokenization:\",sentences)\n"
      ],
      "metadata": {
        "colab": {
          "base_uri": "https://localhost:8080/"
        },
        "id": "6f9-0v4l-p7w",
        "outputId": "dd7b4c94-dcef-4b5d-d377-f3e01eaee051"
      },
      "execution_count": null,
      "outputs": [
        {
          "output_type": "stream",
          "name": "stdout",
          "text": [
            "Word Tokenization: ['Natural', 'language', 'processing', 'is', 'an', 'exciting', 'field', 'of', 'study', '.']\n",
            "***********************************\n",
            "Sentence Tokenization: ['Natural language processing is an exciting field of study.']\n"
          ]
        }
      ]
    },
    {
      "cell_type": "markdown",
      "source": [
        "## SpaCy Tokenization"
      ],
      "metadata": {
        "id": "f6mmHunB-_sA"
      }
    },
    {
      "cell_type": "code",
      "source": [
        "import spacy\n",
        "nlp = spacy.load(\"en_core_web_sm\")\n",
        "\n",
        "\n",
        "text = \"Natural language processing is an exciting field of study.\"\n",
        "\n",
        "doc = nlp(text)\n",
        "\n",
        "#print(doc)\n",
        "\n",
        "for token in doc:\n",
        "  print(token.text)\n",
        "\n",
        "print('*'*35)\n",
        "for sentence in doc.sents:\n",
        "  print(sentence)\n"
      ],
      "metadata": {
        "colab": {
          "base_uri": "https://localhost:8080/"
        },
        "id": "o_QIatN3_Cxn",
        "outputId": "f68bd345-2314-4768-a9ab-543dfcba989b"
      },
      "execution_count": null,
      "outputs": [
        {
          "output_type": "stream",
          "name": "stdout",
          "text": [
            "Natural\n",
            "language\n",
            "processing\n",
            "is\n",
            "an\n",
            "exciting\n",
            "field\n",
            "of\n",
            "study\n",
            ".\n",
            "***********************************\n",
            "Natural language processing is an exciting field of study.\n"
          ]
        }
      ]
    },
    {
      "cell_type": "markdown",
      "source": [
        "## TextBlob Tokenization"
      ],
      "metadata": {
        "id": "Lki5OvNoAL0g"
      }
    },
    {
      "cell_type": "code",
      "source": [
        "from textblob import TextBlob\n",
        "# Define a text string\n",
        "text = \"This is a sample text. It contains some words that we can use for tokenization.\"\n",
        "\n",
        "# Create a TextBlob object\n",
        "blob = TextBlob(text)\n",
        "\n",
        "# Print the list of word tokens\n",
        "print(blob.words)"
      ],
      "metadata": {
        "colab": {
          "base_uri": "https://localhost:8080/"
        },
        "id": "Wkpvm1vFAQKr",
        "outputId": "b5c4c3b2-d9d6-437d-c655-e0e70bd56761"
      },
      "execution_count": null,
      "outputs": [
        {
          "output_type": "stream",
          "name": "stdout",
          "text": [
            "['This', 'is', 'a', 'sample', 'text', 'It', 'contains', 'some', 'words', 'that', 'we', 'can', 'use', 'for', 'tokenization']\n"
          ]
        }
      ]
    },
    {
      "cell_type": "markdown",
      "source": [
        "TextBlob class automatically performs some basic text preprocessing, such as lowercasing all words and removing punctuation. To retain the original case and punctuation, you can use the TextBlob.tokenize() method instead."
      ],
      "metadata": {
        "id": "tYyYbjmoAXG_"
      }
    },
    {
      "cell_type": "markdown",
      "source": [
        "## Gensim Tokenization"
      ],
      "metadata": {
        "id": "IG4tR8rmAZ4R"
      }
    },
    {
      "cell_type": "code",
      "source": [
        "import gensim\n",
        "\n",
        "# Define a document\n",
        "document = \"This is a sample document. It contains some text that we can use for tokenization.\"\n",
        "\n",
        "# Use the simple_preprocess() function to tokenize the document\n",
        "tokens = gensim.utils.simple_preprocess(document)\n",
        "\n",
        "# Print the tokens\n",
        "print(tokens)"
      ],
      "metadata": {
        "colab": {
          "base_uri": "https://localhost:8080/"
        },
        "id": "pX9bIxSwAgux",
        "outputId": "5ea837c5-9ec8-4328-c4f3-c3ff98ef67f2"
      },
      "execution_count": null,
      "outputs": [
        {
          "output_type": "stream",
          "name": "stdout",
          "text": [
            "['this', 'is', 'sample', 'document', 'it', 'contains', 'some', 'text', 'that', 'we', 'can', 'use', 'for', 'tokenization']\n"
          ]
        }
      ]
    },
    {
      "cell_type": "markdown",
      "source": [
        "Keep in mind that the simple_preprocess() function also performs some basic text preprocessing, such as lowercasing all words and removing punctuation. To retain the original case and punctuation, you can use the gensim.utils.tokenize() function instead.\n",
        "\n"
      ],
      "metadata": {
        "id": "yNa2dH7zAni3"
      }
    },
    {
      "cell_type": "markdown",
      "source": [
        "## Keras Tokenization"
      ],
      "metadata": {
        "id": "NKUzJgTxAtXI"
      }
    },
    {
      "cell_type": "markdown",
      "source": [
        "Keras is not specifically designed for text processing or tokenization. Instead, it focuses on building and training neural networks for tasks such as image classification, natural language processing, and time series prediction"
      ],
      "metadata": {
        "id": "ixyer8hPAxcA"
      }
    },
    {
      "cell_type": "code",
      "source": [
        "!pip install tensorflow"
      ],
      "metadata": {
        "colab": {
          "base_uri": "https://localhost:8080/"
        },
        "id": "Dk47vGQwBBoR",
        "outputId": "e869479b-adee-4716-e90e-c261b801f62f"
      },
      "execution_count": null,
      "outputs": [
        {
          "output_type": "stream",
          "name": "stdout",
          "text": [
            "Requirement already satisfied: tensorflow in /usr/local/lib/python3.11/dist-packages (2.18.0)\n",
            "Requirement already satisfied: absl-py>=1.0.0 in /usr/local/lib/python3.11/dist-packages (from tensorflow) (1.4.0)\n",
            "Requirement already satisfied: astunparse>=1.6.0 in /usr/local/lib/python3.11/dist-packages (from tensorflow) (1.6.3)\n",
            "Requirement already satisfied: flatbuffers>=24.3.25 in /usr/local/lib/python3.11/dist-packages (from tensorflow) (25.2.10)\n",
            "Requirement already satisfied: gast!=0.5.0,!=0.5.1,!=0.5.2,>=0.2.1 in /usr/local/lib/python3.11/dist-packages (from tensorflow) (0.6.0)\n",
            "Requirement already satisfied: google-pasta>=0.1.1 in /usr/local/lib/python3.11/dist-packages (from tensorflow) (0.2.0)\n",
            "Requirement already satisfied: libclang>=13.0.0 in /usr/local/lib/python3.11/dist-packages (from tensorflow) (18.1.1)\n",
            "Requirement already satisfied: opt-einsum>=2.3.2 in /usr/local/lib/python3.11/dist-packages (from tensorflow) (3.4.0)\n",
            "Requirement already satisfied: packaging in /usr/local/lib/python3.11/dist-packages (from tensorflow) (24.2)\n",
            "Requirement already satisfied: protobuf!=4.21.0,!=4.21.1,!=4.21.2,!=4.21.3,!=4.21.4,!=4.21.5,<6.0.0dev,>=3.20.3 in /usr/local/lib/python3.11/dist-packages (from tensorflow) (5.29.4)\n",
            "Requirement already satisfied: requests<3,>=2.21.0 in /usr/local/lib/python3.11/dist-packages (from tensorflow) (2.32.3)\n",
            "Requirement already satisfied: setuptools in /usr/local/lib/python3.11/dist-packages (from tensorflow) (75.2.0)\n",
            "Requirement already satisfied: six>=1.12.0 in /usr/local/lib/python3.11/dist-packages (from tensorflow) (1.17.0)\n",
            "Requirement already satisfied: termcolor>=1.1.0 in /usr/local/lib/python3.11/dist-packages (from tensorflow) (3.0.1)\n",
            "Requirement already satisfied: typing-extensions>=3.6.6 in /usr/local/lib/python3.11/dist-packages (from tensorflow) (4.13.2)\n",
            "Requirement already satisfied: wrapt>=1.11.0 in /usr/local/lib/python3.11/dist-packages (from tensorflow) (1.17.2)\n",
            "Requirement already satisfied: grpcio<2.0,>=1.24.3 in /usr/local/lib/python3.11/dist-packages (from tensorflow) (1.71.0)\n",
            "Requirement already satisfied: tensorboard<2.19,>=2.18 in /usr/local/lib/python3.11/dist-packages (from tensorflow) (2.18.0)\n",
            "Requirement already satisfied: keras>=3.5.0 in /usr/local/lib/python3.11/dist-packages (from tensorflow) (3.8.0)\n",
            "Requirement already satisfied: numpy<2.1.0,>=1.26.0 in /usr/local/lib/python3.11/dist-packages (from tensorflow) (1.26.4)\n",
            "Requirement already satisfied: h5py>=3.11.0 in /usr/local/lib/python3.11/dist-packages (from tensorflow) (3.13.0)\n",
            "Requirement already satisfied: ml-dtypes<0.5.0,>=0.4.0 in /usr/local/lib/python3.11/dist-packages (from tensorflow) (0.4.1)\n",
            "Requirement already satisfied: tensorflow-io-gcs-filesystem>=0.23.1 in /usr/local/lib/python3.11/dist-packages (from tensorflow) (0.37.1)\n",
            "Requirement already satisfied: wheel<1.0,>=0.23.0 in /usr/local/lib/python3.11/dist-packages (from astunparse>=1.6.0->tensorflow) (0.45.1)\n",
            "Requirement already satisfied: rich in /usr/local/lib/python3.11/dist-packages (from keras>=3.5.0->tensorflow) (13.9.4)\n",
            "Requirement already satisfied: namex in /usr/local/lib/python3.11/dist-packages (from keras>=3.5.0->tensorflow) (0.0.9)\n",
            "Requirement already satisfied: optree in /usr/local/lib/python3.11/dist-packages (from keras>=3.5.0->tensorflow) (0.15.0)\n",
            "Requirement already satisfied: charset-normalizer<4,>=2 in /usr/local/lib/python3.11/dist-packages (from requests<3,>=2.21.0->tensorflow) (3.4.1)\n",
            "Requirement already satisfied: idna<4,>=2.5 in /usr/local/lib/python3.11/dist-packages (from requests<3,>=2.21.0->tensorflow) (3.10)\n",
            "Requirement already satisfied: urllib3<3,>=1.21.1 in /usr/local/lib/python3.11/dist-packages (from requests<3,>=2.21.0->tensorflow) (2.3.0)\n",
            "Requirement already satisfied: certifi>=2017.4.17 in /usr/local/lib/python3.11/dist-packages (from requests<3,>=2.21.0->tensorflow) (2025.1.31)\n",
            "Requirement already satisfied: markdown>=2.6.8 in /usr/local/lib/python3.11/dist-packages (from tensorboard<2.19,>=2.18->tensorflow) (3.8)\n",
            "Requirement already satisfied: tensorboard-data-server<0.8.0,>=0.7.0 in /usr/local/lib/python3.11/dist-packages (from tensorboard<2.19,>=2.18->tensorflow) (0.7.2)\n",
            "Requirement already satisfied: werkzeug>=1.0.1 in /usr/local/lib/python3.11/dist-packages (from tensorboard<2.19,>=2.18->tensorflow) (3.1.3)\n",
            "Requirement already satisfied: MarkupSafe>=2.1.1 in /usr/local/lib/python3.11/dist-packages (from werkzeug>=1.0.1->tensorboard<2.19,>=2.18->tensorflow) (3.0.2)\n",
            "Requirement already satisfied: markdown-it-py>=2.2.0 in /usr/local/lib/python3.11/dist-packages (from rich->keras>=3.5.0->tensorflow) (3.0.0)\n",
            "Requirement already satisfied: pygments<3.0.0,>=2.13.0 in /usr/local/lib/python3.11/dist-packages (from rich->keras>=3.5.0->tensorflow) (2.18.0)\n",
            "Requirement already satisfied: mdurl~=0.1 in /usr/local/lib/python3.11/dist-packages (from markdown-it-py>=2.2.0->rich->keras>=3.5.0->tensorflow) (0.1.2)\n"
          ]
        }
      ]
    },
    {
      "cell_type": "code",
      "source": [
        "from tensorflow.keras.preprocessing.text import Tokenizer\n",
        "\n",
        "# Define a text string\n",
        "text = \"This is a sample text. It contains some words that we can use for tokenization.\"\n",
        "\n",
        "# Create a Tokenizer object\n",
        "tokenizer = Tokenizer()\n",
        "\n",
        "# Use the fit_on_texts() method to tokenize the text\n",
        "tokenizer.fit_on_texts([text])\n",
        "\n",
        "# Print the list of tokens\n",
        "print(tokenizer.word_index)"
      ],
      "metadata": {
        "colab": {
          "base_uri": "https://localhost:8080/"
        },
        "id": "aL5qieuTAuHA",
        "outputId": "466825b6-7d31-4f06-d34b-c44dd7a91bd7"
      },
      "execution_count": null,
      "outputs": [
        {
          "output_type": "stream",
          "name": "stdout",
          "text": [
            "{'this': 1, 'is': 2, 'a': 3, 'sample': 4, 'text': 5, 'it': 6, 'contains': 7, 'some': 8, 'words': 9, 'that': 10, 'we': 11, 'can': 12, 'use': 13, 'for': 14, 'tokenization': 15}\n"
          ]
        }
      ]
    },
    {
      "cell_type": "markdown",
      "source": [
        "Tokenizer class in Keras is not designed for traditional tokenization, where each word is represented by a single token. Instead, it is used to vectorize text data for neural network models."
      ],
      "metadata": {
        "id": "c6CFsiIYA_dp"
      }
    },
    {
      "cell_type": "markdown",
      "source": [
        "# Challenge in NLP tokenization"
      ],
      "metadata": {
        "id": "NhsGJbaG-b65"
      }
    },
    {
      "cell_type": "markdown",
      "source": [
        "- scaling the technique to include all different possible languages.\n",
        "\n"
      ],
      "metadata": {
        "id": "Mi7d5GSe-gkJ"
      }
    },
    {
      "cell_type": "markdown",
      "source": [
        "# NLP processing"
      ],
      "metadata": {
        "id": "ZWukOLxGGPeq"
      }
    },
    {
      "cell_type": "markdown",
      "source": [
        "- **Keyword Extraction**\n",
        "  - Finding significant keywords in a document is exactly what keyword extraction does\n",
        "\n",
        "- **Word Embedding**\n",
        "  - Word embeddings come in various forms, including GloVe, Word2Vec, FastText, TF-IDF, CountVectorizer, BERT, ELMO, and others.\n",
        "\n",
        "- **Sentiment Analysis**\n",
        "  - detecting the emotions associated with a piece of text. It’s a form of text classification where text fragments are classified as either positive, negative, or neutral. Sentiment analysis is extremely useful for automatically detecting the tone of tweets, newspaper articles, reviews, or customer emails.\n",
        "\n",
        "- **Topic Modeling**\n",
        "  - statistical natural language processing technique that examines a corpus of text documents to identify common themes. This is an unsupervised machine learning algorithm, which does not require labelled data, so documents can be used as is without any prior manual work. With this method, we can organize and compile electronic archives on a larger scale than would be possible with human annotation. Many different algorithms can carry out topic modelling; one of the most effective methods is latent Dirichlet allocation (LDA).\n",
        "\n",
        "- **Text Summarization**\n",
        "  -  to summarise a text clearly, succinctly, and coherently. Summarizing helps you get the essential information out of documents without having to read them word for word\n",
        "\n",
        "  1.Extraction-Based Summarization - summary is created by selecting a few key phrases and words from the text, and the original text is left unaltered\n",
        "\n",
        "  2.Abstraction-Based Summarization - essential information from the original text is extracted and transformed into new phrases and sentences using this text summarization method. Because this method involves paraphrasing, the summary’s language and sentence structure differ from the original text’s\n",
        "\n",
        "- **Named Entity Recognition**\n",
        "  - subfield of information extraction that deals with finding and categorizing named entities. It transfroms an unstructured document into predefined categories. People’s names, organizations, locations, events, dates, and monetary values are common categories"
      ],
      "metadata": {
        "id": "JNjbruXCGTYY"
      }
    },
    {
      "cell_type": "markdown",
      "source": [
        "# Reference"
      ],
      "metadata": {
        "id": "p4GzquKguk9C"
      }
    },
    {
      "cell_type": "markdown",
      "source": [
        "- https://spotintelligence.com/2023/03/25/nlp-feature-engineering/\n",
        "\n",
        "- https://spotintelligence.com/2022/12/07/nlp-tokenization/\n",
        "\n",
        "- https://spotintelligence.com/2023/04/05/n-grams/\n",
        "\n",
        "- https://spotintelligence.com/2022/11/24/natural-language-processing-techniques/\n",
        "\n",
        "- https://spotintelligence.com/2022/12/14/stemming-python/"
      ],
      "metadata": {
        "id": "uLGLVFybumF5"
      }
    }
  ]
}