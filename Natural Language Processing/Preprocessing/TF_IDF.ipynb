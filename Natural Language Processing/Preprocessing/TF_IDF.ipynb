{
  "nbformat": 4,
  "nbformat_minor": 0,
  "metadata": {
    "colab": {
      "provenance": []
    },
    "kernelspec": {
      "name": "python3",
      "display_name": "Python 3"
    },
    "language_info": {
      "name": "python"
    }
  },
  "cells": [
    {
      "cell_type": "markdown",
      "source": [
        "# Tf-idf/ Term frequency-Inverse document frequency"
      ],
      "metadata": {
        "id": "jJL3YWHHd7d5"
      }
    },
    {
      "cell_type": "markdown",
      "source": [
        "- Finding essential words in a text is one of the most common use cases in information retrieval and text mining, and a common way of doing this is using tf-idf\n",
        "\n",
        "- This is a measure *to assess a word’s significance within a collection of documents*\n",
        "\n",
        "- Therefore, a unique word that only appears a few times in a set of documents will be more critical and assigned a higher weight than frequently occurring words.\n",
        "\n",
        "- TF-IDF is a simple measure of a word’s importance within a set of documents.\n",
        "\n",
        "- Search engines frequently use variations of the tf-idf weighting schemes as their leading scoring and ranking tool when determining how relevant a document is to a user query.\n",
        "\n",
        "- Tf-idf is also commonly used to filter out stop-words effectively, and this has various use cases in text classification and summarization."
      ],
      "metadata": {
        "id": "TD-7TBxFd7gs"
      }
    },
    {
      "cell_type": "markdown",
      "source": [
        "# Term Frequency"
      ],
      "metadata": {
        "id": "ReYnlunKd7jb"
      }
    },
    {
      "cell_type": "markdown",
      "source": [
        "- The frequency at which a word appears in a document is referred to as “term frequency.”\n",
        "\n",
        "- The weight of a term that occurs in a document is simply proportional to the term’s frequency.\n",
        "\n"
      ],
      "metadata": {
        "id": "UY5sv83Zd7mE"
      }
    },
    {
      "cell_type": "markdown",
      "source": [
        "# Inverse Document Frequency"
      ],
      "metadata": {
        "id": "TudxeSXfd7oa"
      }
    },
    {
      "cell_type": "markdown",
      "source": [
        "- This increases the weight of infrequent terms and decreases the importance of frequently occurring words in the document set.\n",
        "\n",
        "- The specificity of a term can be quantified as an inverse function of the number of documents in which it occurs."
      ],
      "metadata": {
        "id": "Rji39_qqd7qw"
      }
    },
    {
      "cell_type": "markdown",
      "source": [
        "# TF-IDF"
      ],
      "metadata": {
        "id": "PLcall5cgU74"
      }
    },
    {
      "cell_type": "markdown",
      "source": [
        "TF-IDF = term frequency * inverse document frequency"
      ],
      "metadata": {
        "id": "b-LmB7ZMgW0H"
      }
    },
    {
      "cell_type": "markdown",
      "source": [
        "- The most significant problem faced by natural language processing is that machine learning models tend to only deal with numerical values. This is a problem, as numbers can’t just represent natural language, or they would lose meaning.\n",
        "\n",
        "- Therefore, we must **vectorize the text to convert it into numbers**. This is a crucial step in machine learning, and the outcomes of various vectorization algorithms will vary greatly. Hence, choosing one that produces the desired product for your problem is vital.\n",
        "\n",
        "- The **tf-idf score converts words into numbers that can be fed to algorithms like Naive Bayes and Support Vector Machines,** significantly improving the results of more straightforward techniques like **word counts.**\n",
        "\n",
        "- In its simplest form, a **word vector** represents a **document as a list of numbers**. A number is used to represent each possible word in the text. By taking a document’s text and turning it into one of these vectors, the text’s content is somehow represented by the vectors’ numbers. Then, with the help of **tf-idf, we can quantify the relevance of each word in a document by associating it with a number**. As a result, similar vectors will exist in documents that contain identical, pertinent words, which is what a machine learning algorithm seeks to do.\n",
        "\n"
      ],
      "metadata": {
        "id": "8aWHFgZbgmGX"
      }
    },
    {
      "cell_type": "markdown",
      "source": [
        "# Applications of TF-IDF"
      ],
      "metadata": {
        "id": "eQyXSGSChDsg"
      }
    },
    {
      "cell_type": "markdown",
      "source": [
        "- Information retrieval\n",
        "\n",
        "- Keyword Extraction - word cloud formations and quick summaries of large bodies of text."
      ],
      "metadata": {
        "id": "UGdM1_wIhEn4"
      }
    },
    {
      "cell_type": "markdown",
      "source": [
        "# Advantages"
      ],
      "metadata": {
        "id": "QekSFsdRhSP_"
      }
    },
    {
      "cell_type": "markdown",
      "source": [
        "The simplicity and ease of use of tf-idf are its most significant benefits. As a result, it is easy to **compute, inexpensive to run, and a clear starting point for similarity calculations**.\n",
        "\n"
      ],
      "metadata": {
        "id": "u6UlYAAMhU-Y"
      }
    },
    {
      "cell_type": "markdown",
      "source": [
        "# Disadvantages\n"
      ],
      "metadata": {
        "id": "zrFpmbPQhZZ_"
      }
    },
    {
      "cell_type": "markdown",
      "source": [
        "- tf-idf cannot assist in carrying semantic meaning\n",
        "\n",
        "- Tf-idf disregards word order, so compound nouns like “New York” will not be regarded as a “single unit.”\n",
        "\n",
        "- Because tf-idf can experience the curse of dimensionality, it can also experience memory inefficiency\n",
        "\n",
        "- vocabulary size is equal to the length of the tf-idf vectors"
      ],
      "metadata": {
        "id": "qntMQbmchbSg"
      }
    },
    {
      "cell_type": "markdown",
      "source": [
        "# Alternatives: Word2Vec, BERT"
      ],
      "metadata": {
        "id": "XWJKpO41icfu"
      }
    },
    {
      "cell_type": "markdown",
      "source": [
        "# Source"
      ],
      "metadata": {
        "id": "fvelvr3zimU3"
      }
    },
    {
      "cell_type": "markdown",
      "source": [
        "- https://spotintelligence.com/2022/11/28/tf-idf/"
      ],
      "metadata": {
        "id": "ZdDF0eDTinen"
      }
    }
  ]
}