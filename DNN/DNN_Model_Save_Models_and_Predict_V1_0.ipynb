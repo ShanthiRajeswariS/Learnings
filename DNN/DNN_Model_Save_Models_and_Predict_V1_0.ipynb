{
  "nbformat": 4,
  "nbformat_minor": 0,
  "metadata": {
    "colab": {
      "provenance": []
    },
    "kernelspec": {
      "name": "python3",
      "display_name": "Python 3"
    },
    "language_info": {
      "name": "python"
    }
  },
  "cells": [
    {
      "cell_type": "markdown",
      "source": [
        "# Save DNN Model"
      ],
      "metadata": {
        "id": "VvB6AOr1gTgy"
      }
    },
    {
      "cell_type": "markdown",
      "source": [
        "Saving a trained Deep Neural Network model is a crucial step in the machine learning workflow. Once Model is trained and are satisfied with its performance, Model needs to be saved to:\n",
        "\n",
        "* **Use it for inference/prediction:** Apply the trained model to new, unseen data without retraining.\n",
        "* **Deploy it:** Integrate the model into an application or service.\n",
        "* **Continue training later:** Load the saved model and resume training from that point.\n",
        "* **Share it:** Allow others to use your trained model."
      ],
      "metadata": {
        "id": "inSto02KgTjk"
      }
    },
    {
      "cell_type": "markdown",
      "source": [
        "# Different ways to save Model"
      ],
      "metadata": {
        "id": "sswhbMQugtSh"
      }
    },
    {
      "cell_type": "markdown",
      "source": [
        "In TensorFlow and Keras, there are several ways to save a model, each with its own advantages. The most common methods allow you to save:\n",
        "\n",
        "* **The entire model:** This includes the model's architecture (layers and their configurations), the weights of each layer, and the optimizer's state (which is useful for resuming training).\n",
        "* **Only the model's architecture:** Saves the structure of the network without the learned weights.\n",
        "* **Only the model's weights:** Saves only the learned parameters, which can be loaded into a compatible model architecture."
      ],
      "metadata": {
        "id": "vHT4U8t6gTma"
      }
    },
    {
      "cell_type": "markdown",
      "source": [
        "**1. Saving the Entire Model (Recommended: Keras Native Format) and Prediction**"
      ],
      "metadata": {
        "id": "vA1WOfswgTpL"
      }
    },
    {
      "cell_type": "markdown",
      "source": [
        "The `.keras` format is the default and recommended format in recent Keras versions. It's a single archive file that contains everything needed to recreate the model."
      ],
      "metadata": {
        "id": "UYaXK3DmgTsD"
      }
    },
    {
      "cell_type": "markdown",
      "source": [],
      "metadata": {
        "id": "OjlDpK0EgTuy"
      }
    },
    {
      "cell_type": "code",
      "source": [
        "import tensorflow as tf\n",
        "from tensorflow import keras\n",
        "from tensorflow.keras.models import Sequential\n",
        "from tensorflow.keras.layers import Dense, Flatten, BatchNormalization\n",
        "from tensorflow.keras.utils import to_categorical\n",
        "import matplotlib.pyplot as plt\n",
        "import numpy as np"
      ],
      "metadata": {
        "id": "4b5lCDTkh0Tk"
      },
      "execution_count": 1,
      "outputs": []
    },
    {
      "cell_type": "code",
      "source": [
        "# Load and preprocess the MNIST dataset\n",
        "(x_train, y_train), (x_test, y_test) = keras.datasets.mnist.load_data()"
      ],
      "metadata": {
        "colab": {
          "base_uri": "https://localhost:8080/"
        },
        "id": "JIcg-7GHh0Wh",
        "outputId": "27643ec0-952b-48bc-ee2c-bac43edba944"
      },
      "execution_count": 2,
      "outputs": [
        {
          "output_type": "stream",
          "name": "stdout",
          "text": [
            "Downloading data from https://storage.googleapis.com/tensorflow/tf-keras-datasets/mnist.npz\n",
            "\u001b[1m11490434/11490434\u001b[0m \u001b[32m━━━━━━━━━━━━━━━━━━━━\u001b[0m\u001b[37m\u001b[0m \u001b[1m0s\u001b[0m 0us/step\n"
          ]
        }
      ]
    },
    {
      "cell_type": "code",
      "source": [
        "# Normalize the pixel values from 0-255 to 0-1\n",
        "x_train = x_train.reshape(-1, 28 * 28).astype('float32') / 255.0\n",
        "x_test = x_test.reshape(-1, 28 * 28).astype('float32') / 255.0"
      ],
      "metadata": {
        "id": "2TiYJcIdh0ZK"
      },
      "execution_count": 3,
      "outputs": []
    },
    {
      "cell_type": "code",
      "source": [
        "# Convert labels to one-hot encoding\n",
        "num_classes = 10\n",
        "y_train_one_hot = to_categorical(y_train, num_classes)\n",
        "y_test_one_hot = to_categorical(y_test, num_classes)\n",
        "\n",
        "print(f\"Training data shape: {x_train.shape}\")\n",
        "print(f\"Training labels shape: {y_train_one_hot.shape}\")\n",
        "print(f\"Testing data shape: {x_test.shape}\")\n",
        "print(f\"Testing labels shape: {y_test_one_hot.shape}\")"
      ],
      "metadata": {
        "colab": {
          "base_uri": "https://localhost:8080/"
        },
        "id": "EFjjX1QRh0b6",
        "outputId": "cbf0c4c5-ab7a-49b7-e9a1-03925a6abf3d"
      },
      "execution_count": 4,
      "outputs": [
        {
          "output_type": "stream",
          "name": "stdout",
          "text": [
            "Training data shape: (60000, 784)\n",
            "Training labels shape: (60000, 10)\n",
            "Testing data shape: (10000, 784)\n",
            "Testing labels shape: (10000, 10)\n"
          ]
        }
      ]
    },
    {
      "cell_type": "code",
      "source": [
        "model_bn = Sequential()\n",
        "model_bn.add(Flatten(input_shape=(28 * 28,)))\n",
        "\n",
        "# 1st Layer\n",
        "model_bn.add(Dense(128))\n",
        "model_bn.add(BatchNormalization())\n",
        "model_bn.add(keras.layers.Activation('relu'))\n",
        "\n",
        "# 2nd Layer\n",
        "model_bn.add(Dense(64))\n",
        "model_bn.add(BatchNormalization())\n",
        "model_bn.add(keras.layers.Activation('relu'))\n",
        "\n",
        "# Output Layer\n",
        "model_bn.add(Dense(num_classes, activation='softmax'))\n"
      ],
      "metadata": {
        "colab": {
          "base_uri": "https://localhost:8080/"
        },
        "id": "kpFy82GDh0ea",
        "outputId": "8a401c6f-6cc8-4082-fbf0-380ddcb65e5c"
      },
      "execution_count": 5,
      "outputs": [
        {
          "output_type": "stream",
          "name": "stderr",
          "text": [
            "/usr/local/lib/python3.11/dist-packages/keras/src/layers/reshaping/flatten.py:37: UserWarning: Do not pass an `input_shape`/`input_dim` argument to a layer. When using Sequential models, prefer using an `Input(shape)` object as the first layer in the model instead.\n",
            "  super().__init__(**kwargs)\n"
          ]
        }
      ]
    },
    {
      "cell_type": "code",
      "source": [
        "# Compile the model\n",
        "# We use 'adam' optimizer and 'categorical_crossentropy' loss for multi-class classification.\n",
        "# 'accuracy' is included as a metric to monitor performance.\n",
        "model_bn.compile(optimizer='adam',\n",
        "                 loss='categorical_crossentropy',\n",
        "                 metrics=['accuracy'])"
      ],
      "metadata": {
        "id": "0YgZ7hnziIzS"
      },
      "execution_count": 6,
      "outputs": []
    },
    {
      "cell_type": "code",
      "source": [
        "\n",
        "# Train the model\n",
        "# The training process will use the BatchNormalization layers to normalize\n",
        "# the activations within each batch.\n",
        "epochs = 10\n",
        "batch_size = 32\n",
        "print(\"\\nTraining the model with Batch Normalization...\")\n",
        "history_bn = model_bn.fit(x_train, y_train_one_hot,\n",
        "                          epochs=epochs,\n",
        "                          batch_size=batch_size,\n",
        "                          validation_data=(x_test, y_test_one_hot)) # Use test data for validation"
      ],
      "metadata": {
        "colab": {
          "base_uri": "https://localhost:8080/"
        },
        "id": "sEJEm_ZRiI2C",
        "outputId": "739767b1-3722-4a92-f8d7-f9c8dceee22f"
      },
      "execution_count": 7,
      "outputs": [
        {
          "output_type": "stream",
          "name": "stdout",
          "text": [
            "\n",
            "Training the model with Batch Normalization...\n",
            "Epoch 1/10\n",
            "\u001b[1m1875/1875\u001b[0m \u001b[32m━━━━━━━━━━━━━━━━━━━━\u001b[0m\u001b[37m\u001b[0m \u001b[1m16s\u001b[0m 7ms/step - accuracy: 0.8798 - loss: 0.4225 - val_accuracy: 0.9609 - val_loss: 0.1202\n",
            "Epoch 2/10\n",
            "\u001b[1m1875/1875\u001b[0m \u001b[32m━━━━━━━━━━━━━━━━━━━━\u001b[0m\u001b[37m\u001b[0m \u001b[1m18s\u001b[0m 6ms/step - accuracy: 0.9652 - loss: 0.1111 - val_accuracy: 0.9771 - val_loss: 0.0733\n",
            "Epoch 3/10\n",
            "\u001b[1m1875/1875\u001b[0m \u001b[32m━━━━━━━━━━━━━━━━━━━━\u001b[0m\u001b[37m\u001b[0m \u001b[1m11s\u001b[0m 6ms/step - accuracy: 0.9740 - loss: 0.0833 - val_accuracy: 0.9785 - val_loss: 0.0709\n",
            "Epoch 4/10\n",
            "\u001b[1m1875/1875\u001b[0m \u001b[32m━━━━━━━━━━━━━━━━━━━━\u001b[0m\u001b[37m\u001b[0m \u001b[1m22s\u001b[0m 6ms/step - accuracy: 0.9782 - loss: 0.0673 - val_accuracy: 0.9770 - val_loss: 0.0769\n",
            "Epoch 5/10\n",
            "\u001b[1m1875/1875\u001b[0m \u001b[32m━━━━━━━━━━━━━━━━━━━━\u001b[0m\u001b[37m\u001b[0m \u001b[1m20s\u001b[0m 6ms/step - accuracy: 0.9808 - loss: 0.0597 - val_accuracy: 0.9792 - val_loss: 0.0634\n",
            "Epoch 6/10\n",
            "\u001b[1m1875/1875\u001b[0m \u001b[32m━━━━━━━━━━━━━━━━━━━━\u001b[0m\u001b[37m\u001b[0m \u001b[1m19s\u001b[0m 6ms/step - accuracy: 0.9848 - loss: 0.0464 - val_accuracy: 0.9790 - val_loss: 0.0719\n",
            "Epoch 7/10\n",
            "\u001b[1m1875/1875\u001b[0m \u001b[32m━━━━━━━━━━━━━━━━━━━━\u001b[0m\u001b[37m\u001b[0m \u001b[1m21s\u001b[0m 6ms/step - accuracy: 0.9857 - loss: 0.0426 - val_accuracy: 0.9793 - val_loss: 0.0636\n",
            "Epoch 8/10\n",
            "\u001b[1m1875/1875\u001b[0m \u001b[32m━━━━━━━━━━━━━━━━━━━━\u001b[0m\u001b[37m\u001b[0m \u001b[1m20s\u001b[0m 6ms/step - accuracy: 0.9876 - loss: 0.0365 - val_accuracy: 0.9773 - val_loss: 0.0716\n",
            "Epoch 9/10\n",
            "\u001b[1m1875/1875\u001b[0m \u001b[32m━━━━━━━━━━━━━━━━━━━━\u001b[0m\u001b[37m\u001b[0m \u001b[1m20s\u001b[0m 6ms/step - accuracy: 0.9889 - loss: 0.0330 - val_accuracy: 0.9811 - val_loss: 0.0625\n",
            "Epoch 10/10\n",
            "\u001b[1m1875/1875\u001b[0m \u001b[32m━━━━━━━━━━━━━━━━━━━━\u001b[0m\u001b[37m\u001b[0m \u001b[1m21s\u001b[0m 6ms/step - accuracy: 0.9895 - loss: 0.0315 - val_accuracy: 0.9811 - val_loss: 0.0652\n"
          ]
        }
      ]
    },
    {
      "cell_type": "code",
      "source": [
        "# Evaluate the model on the test set to get final performance metrics\n",
        "print(\"\\nEvaluating the model with Batch Normalization on the test set:\")\n",
        "loss_bn, accuracy_bn = model_bn.evaluate(x_test, y_test_one_hot, verbose=0)\n",
        "\n",
        "print(f\"Test Loss (with BN): {loss_bn:.4f}\")\n",
        "print(f\"Test Accuracy (with BN): {accuracy_bn:.4f}\")"
      ],
      "metadata": {
        "colab": {
          "base_uri": "https://localhost:8080/"
        },
        "id": "ciQxr_X8iI46",
        "outputId": "03128734-205f-46f0-8507-d2ca65fe91b5"
      },
      "execution_count": 8,
      "outputs": [
        {
          "output_type": "stream",
          "name": "stdout",
          "text": [
            "\n",
            "Evaluating the model with Batch Normalization on the test set:\n",
            "Test Loss (with BN): 0.0652\n",
            "Test Accuracy (with BN): 0.9811\n"
          ]
        }
      ]
    },
    {
      "cell_type": "code",
      "source": [
        "# Plotting training and validation accuracy and loss for the BN model\n",
        "# This helps visualize the training progress and the effect of BN.\n",
        "plt.figure(figsize=(12, 4))\n",
        "\n",
        "plt.subplot(1, 2, 1)\n",
        "plt.plot(history_bn.history['accuracy'], label='Training Accuracy (with BN)')\n",
        "plt.plot(history_bn.history['val_accuracy'], label='Validation Accuracy (with BN)')\n",
        "plt.xlabel('Epoch')\n",
        "plt.ylabel('Accuracy')\n",
        "plt.title('Training and Validation Accuracy (with Batch Normalization)')\n",
        "plt.legend()\n",
        "plt.grid(True)\n",
        "\n",
        "plt.subplot(1, 2, 2)\n",
        "plt.plot(history_bn.history['loss'], label='Training Loss (with BN)')\n",
        "plt.plot(history_bn.history['val_loss'], label='Validation Loss (with BN)')\n",
        "plt.xlabel('Epoch')\n",
        "plt.ylabel('Loss')\n",
        "plt.title('Training and Validation Loss (with Batch Normalization)')\n",
        "plt.legend()\n",
        "plt.grid(True)\n",
        "\n",
        "plt.tight_layout()\n",
        "plt.show()"
      ],
      "metadata": {
        "colab": {
          "base_uri": "https://localhost:8080/",
          "height": 407
        },
        "id": "iAOm5Fh3h0g6",
        "outputId": "6b8cf9c9-b0e2-4f4f-facc-f1a25b030c91"
      },
      "execution_count": 9,
      "outputs": [
        {
          "output_type": "display_data",
          "data": {
            "text/plain": [
              "<Figure size 1200x400 with 2 Axes>"
            ],
            "image/png": "[encoded data removed]"
          },
          "metadata": {}
        }
      ]
    },
    {
      "cell_type": "code",
      "source": [
        "# Save the entire model in the native Keras format\n",
        "model_bn.save('my_model.keras')\n",
        "\n",
        "print(\"Entire model saved to 'my_model.keras'\")\n",
        "\n",
        "# To load the model later:\n",
        "# loaded_model = keras.models.load_model('my_model.keras')\n",
        "# print(\"Model loaded successfully!\")"
      ],
      "metadata": {
        "colab": {
          "base_uri": "https://localhost:8080/"
        },
        "id": "bu1RmvFTh0jr",
        "outputId": "133e4dac-d5b7-4b61-ac4f-73211489fbb9"
      },
      "execution_count": 10,
      "outputs": [
        {
          "output_type": "stream",
          "name": "stdout",
          "text": [
            "Entire model saved to 'my_model.keras'\n"
          ]
        }
      ]
    },
    {
      "cell_type": "code",
      "source": [
        "loaded_model = keras.models.load_model('my_model.keras')\n",
        "print(\"Model loaded successfully!\")"
      ],
      "metadata": {
        "colab": {
          "base_uri": "https://localhost:8080/"
        },
        "id": "VVCuh1BMjiBq",
        "outputId": "9af621a3-98ac-4eb0-bd34-d6694b50b209"
      },
      "execution_count": 13,
      "outputs": [
        {
          "output_type": "stream",
          "name": "stdout",
          "text": [
            "Model loaded successfully!\n"
          ]
        }
      ]
    },
    {
      "cell_type": "markdown",
      "source": [
        "### Make Prediction using Saved Model"
      ],
      "metadata": {
        "id": "aFPaegaTnW6U"
      }
    },
    {
      "cell_type": "code",
      "source": [
        "# Select a few samples to make predictions on\n",
        "num_prediction_samples = 5\n",
        "x_new_data = x_test[:num_prediction_samples] # Saceld x_test\n",
        "y_new_data_true_labels = y_test[:num_prediction_samples] # Keep track of true labels\n",
        "\n"
      ],
      "metadata": {
        "id": "1RxiKaQina-i"
      },
      "execution_count": 23,
      "outputs": []
    },
    {
      "cell_type": "code",
      "source": [
        "# Display the samples being predicted\n",
        "plt.figure(figsize=(10, 2))\n",
        "for i in range(num_prediction_samples):\n",
        "    plt.subplot(1, num_prediction_samples, i + 1)\n",
        "    # Reshape the image before displaying\n",
        "    plt.imshow(x_new_data[i].reshape(28, 28), cmap='gray') # Display the original image\n",
        "    plt.title(f\"True: {y_new_data_true_labels[i]}\")\n",
        "    plt.axis('off')\n",
        "plt.suptitle(\"Sample Images for Prediction\")\n",
        "plt.show()"
      ],
      "metadata": {
        "colab": {
          "base_uri": "https://localhost:8080/",
          "height": 200
        },
        "id": "e1Rnx530rVlp",
        "outputId": "93762f90-377c-4c4e-ba0c-94711fa2c9ca"
      },
      "execution_count": 36,
      "outputs": [
        {
          "output_type": "display_data",
          "data": {
            "text/plain": [
              "<Figure size 1000x200 with 5 Axes>"
            ],
            "image/png": "[encoded data removed]"
          },
          "metadata": {}
        }
      ]
    },
    {
      "cell_type": "code",
      "source": [
        "# --- Method 1: Load and predict using the .keras format ---\n",
        "print(\"Loading model from 'my_model.keras'...\")\n",
        "try:\n",
        "    loaded_model_keras = keras.models.load_model('my_model.keras')\n",
        "    print(\"Model loaded successfully from .keras format!\")\n",
        "\n",
        "    # Make predictions\n",
        "    predictions_keras = loaded_model_keras.predict(x_new_data)\n",
        "\n",
        "    print(\"\\nPredictions using model loaded from .keras format:\")\n",
        "    # The predictions are probability distributions for each class.\n",
        "    # To get the predicted class, find the index with the highest probability.\n",
        "    predicted_classes_keras = np.argmax(predictions_keras, axis=1)\n",
        "\n",
        "    for i in range(num_prediction_samples):\n",
        "        print(f\"Sample {i+1}: Predicted Class = {predicted_classes_keras[i]}, True Label = {y_new_data_true_labels[i]}\")\n",
        "\n",
        "except Exception as e:\n",
        "    print(f\"Could not load model from 'my_model.keras'. Make sure you saved it first. Error: {e}\")\n",
        "\n"
      ],
      "metadata": {
        "colab": {
          "base_uri": "https://localhost:8080/"
        },
        "id": "FLISqZRwnkvK",
        "outputId": "807e0a9b-9fc1-44de-b506-2f0a6d8713ee"
      },
      "execution_count": 33,
      "outputs": [
        {
          "output_type": "stream",
          "name": "stdout",
          "text": [
            "Loading model from 'my_model.keras'...\n",
            "Model loaded successfully from .keras format!\n",
            "\u001b[1m1/1\u001b[0m \u001b[32m━━━━━━━━━━━━━━━━━━━━\u001b[0m\u001b[37m\u001b[0m \u001b[1m0s\u001b[0m 122ms/step\n",
            "\n",
            "Predictions using model loaded from .keras format:\n",
            "Sample 1: Predicted Class = 7, True Label = 7\n",
            "Sample 2: Predicted Class = 2, True Label = 2\n",
            "Sample 3: Predicted Class = 1, True Label = 1\n",
            "Sample 4: Predicted Class = 0, True Label = 0\n",
            "Sample 5: Predicted Class = 4, True Label = 4\n"
          ]
        }
      ]
    },
    {
      "cell_type": "markdown",
      "source": [
        "## **2. Saving the Entire Model (TensorFlow SavedModel format) and Prediction**"
      ],
      "metadata": {
        "id": "uq4AMEXAgTxq"
      }
    },
    {
      "cell_type": "markdown",
      "source": [
        "The SavedModel format is TensorFlow's standard for saving models and is suitable for deployment with TensorFlow Serving and other platforms."
      ],
      "metadata": {
        "id": "0kpWvUMggT06"
      }
    },
    {
      "cell_type": "code",
      "source": [
        "# Export the entire model in the TensorFlow SavedModel format\n",
        "model_bn.export('my_model_savedmodel')\n",
        "\n",
        "print(\"Entire model saved to 'my_model_savedmodel' directory\")\n"
      ],
      "metadata": {
        "colab": {
          "base_uri": "https://localhost:8080/"
        },
        "id": "T3TON45jirqq",
        "outputId": "62cafc5c-9736-4a69-feee-390e558d5c40"
      },
      "execution_count": 12,
      "outputs": [
        {
          "output_type": "stream",
          "name": "stdout",
          "text": [
            "Saved artifact at 'my_model_savedmodel'. The following endpoints are available:\n",
            "\n",
            "* Endpoint 'serve'\n",
            "  args_0 (POSITIONAL_ONLY): TensorSpec(shape=(None, 784), dtype=tf.float32, name='keras_tensor')\n",
            "Output Type:\n",
            "  TensorSpec(shape=(None, 10), dtype=tf.float32, name=None)\n",
            "Captures:\n",
            "  134870954383248: TensorSpec(shape=(), dtype=tf.resource, name=None)\n",
            "  134870954384400: TensorSpec(shape=(), dtype=tf.resource, name=None)\n",
            "  134870954381520: TensorSpec(shape=(), dtype=tf.resource, name=None)\n",
            "  134870954381136: TensorSpec(shape=(), dtype=tf.resource, name=None)\n",
            "  134870954384208: TensorSpec(shape=(), dtype=tf.resource, name=None)\n",
            "  134870954378256: TensorSpec(shape=(), dtype=tf.resource, name=None)\n",
            "  134870954385168: TensorSpec(shape=(), dtype=tf.resource, name=None)\n",
            "  134870954385360: TensorSpec(shape=(), dtype=tf.resource, name=None)\n",
            "  134870954386512: TensorSpec(shape=(), dtype=tf.resource, name=None)\n",
            "  134870954385936: TensorSpec(shape=(), dtype=tf.resource, name=None)\n",
            "  134870954387088: TensorSpec(shape=(), dtype=tf.resource, name=None)\n",
            "  134870954387280: TensorSpec(shape=(), dtype=tf.resource, name=None)\n",
            "  134870954384592: TensorSpec(shape=(), dtype=tf.resource, name=None)\n",
            "  134870954389200: TensorSpec(shape=(), dtype=tf.resource, name=None)\n",
            "Entire model saved to 'my_model_savedmodel' directory\n"
          ]
        }
      ]
    },
    {
      "cell_type": "code",
      "source": [
        "loaded_model = tf.keras.layers.TFSMLayer('my_model_savedmodel', call_endpoint='serving_default')\n",
        "print(\"Model loaded successfully!\")"
      ],
      "metadata": {
        "colab": {
          "base_uri": "https://localhost:8080/"
        },
        "id": "TXxlb0S9j6RK",
        "outputId": "8ae0e8f9-6b49-415d-8533-9d6530d6d179"
      },
      "execution_count": 31,
      "outputs": [
        {
          "output_type": "stream",
          "name": "stdout",
          "text": [
            "Model loaded successfully!\n"
          ]
        }
      ]
    },
    {
      "cell_type": "markdown",
      "source": [
        "This creates a directory named `my_model_savedmodel` containing the saved model files."
      ],
      "metadata": {
        "id": "9J1TIcLtgT3p"
      }
    },
    {
      "cell_type": "markdown",
      "source": [
        "### Make Prediction"
      ],
      "metadata": {
        "id": "ArQ-6HdcoApx"
      }
    },
    {
      "cell_type": "code",
      "source": [
        "# --- Method 2: Load and predict using the SavedModel format ---\n",
        "print(\"Loading model from 'my_model_savedmodel'...\")\n",
        "try:\n",
        "    #loaded_model_savedmodel = tf.keras.layers.TFSMLayer('my_model_savedmodel')\n",
        "    loaded_model_savedmodel = tf.keras.models.load_model('my_model_savedmodel')\n",
        "    print(\"Model loaded successfully from SavedModel format!\")\n",
        "\n",
        "    # Make predictions\n",
        "    predictions_savedmodel = loaded_model_savedmodel.predict(x_new_data)\n",
        "\n",
        "    print(\"\\nPredictions using model loaded from SavedModel format:\")\n",
        "    predicted_classes_savedmodel = np.argmax(predictions_savedmodel, axis=1)\n",
        "\n",
        "    for i in range(num_prediction_samples):\n",
        "         print(f\"Sample {i+1}: Predicted Class = {predicted_classes_savedmodel[i]}, True Label = {y_new_data_true_labels[i]}\")\n",
        "\n",
        "except Exception as e:\n",
        "    print(f\"Could not load model from 'my_model_savedmodel'. Make sure you saved it first. Error: {e}\")\n",
        "\n"
      ],
      "metadata": {
        "colab": {
          "base_uri": "https://localhost:8080/"
        },
        "id": "sHFOlW4poCbS",
        "outputId": "66415540-c7da-4c36-9f60-b21f6ad67326"
      },
      "execution_count": 27,
      "outputs": [
        {
          "output_type": "stream",
          "name": "stdout",
          "text": [
            "Loading model from 'my_model_savedmodel'...\n",
            "Could not load model from 'my_model_savedmodel'. Make sure you saved it first. Error: File format not supported: filepath=my_model_savedmodel. Keras 3 only supports V3 `.keras` files and legacy H5 format files (`.h5` extension). Note that the legacy SavedModel format is not supported by `load_model()` in Keras 3. In order to reload a TensorFlow SavedModel as an inference-only layer in Keras 3, use `keras.layers.TFSMLayer(my_model_savedmodel, call_endpoint='serving_default')` (note that your `call_endpoint` might have a different name).\n"
          ]
        }
      ]
    },
    {
      "cell_type": "code",
      "source": [
        "# --- Method 2: Load and predict using the SavedModel format ---\n",
        "print(\"Loading model from 'my_model_savedmodel'...\")\n",
        "try:\n",
        "    loaded_model_savedmodel = tf.keras.layers.TFSMLayer('my_model_savedmodel')\n",
        "    print(\"Model loaded successfully from SavedModel format!\")\n",
        "\n",
        "    # Make predictions\n",
        "    predictions_savedmodel = loaded_model_savedmodel(x_new_data)\n",
        "\n",
        "    print(\"\\nPredictions using model loaded from SavedModel format:\")\n",
        "    predicted_classes_savedmodel = np.argmax(predictions_savedmodel, axis=1)\n",
        "\n",
        "    for i in range(num_prediction_samples):\n",
        "         print(f\"Sample {i+1}: Predicted Class = {predicted_classes_savedmodel[i]}, True Label = {y_new_data_true_labels[i]}\")\n",
        "\n",
        "except Exception as e:\n",
        "    print(f\"Could not load model from 'my_model_savedmodel'. Make sure you saved it first. Error: {e}\")\n",
        "\n"
      ],
      "metadata": {
        "colab": {
          "base_uri": "https://localhost:8080/"
        },
        "id": "PurnV8YQpQuy",
        "outputId": "ae036c60-5c9c-457a-8f59-7f5c104ce5cf"
      },
      "execution_count": 29,
      "outputs": [
        {
          "output_type": "stream",
          "name": "stdout",
          "text": [
            "Loading model from 'my_model_savedmodel'...\n",
            "Model loaded successfully from SavedModel format!\n",
            "\n",
            "Predictions using model loaded from SavedModel format:\n",
            "Sample 1: Predicted Class = 7, True Label = 7\n",
            "Sample 2: Predicted Class = 2, True Label = 2\n",
            "Sample 3: Predicted Class = 1, True Label = 1\n",
            "Sample 4: Predicted Class = 0, True Label = 0\n",
            "Sample 5: Predicted Class = 4, True Label = 4\n"
          ]
        }
      ]
    },
    {
      "cell_type": "markdown",
      "source": [
        "## **3. Saving Only the Model's Architecture**"
      ],
      "metadata": {
        "id": "K_V5KmsugT6h"
      }
    },
    {
      "cell_type": "markdown",
      "source": [
        "You can save the model's architecture as a JSON or YAML file. This is useful if you want to recreate the model structure and load weights separately."
      ],
      "metadata": {
        "id": "9_jxvkkmgT-W"
      }
    },
    {
      "cell_type": "code",
      "source": [
        "\n",
        "# Save the model architecture as a JSON string\n",
        "model_json = model_bn.to_json()\n",
        "with open(\"my_model_architecture.json\", \"w\") as json_file:\n",
        "    json_file.write(model_json)\n",
        "\n",
        "print(\"Model architecture saved to 'my_model_architecture.json'\")\n",
        "\n",
        "# To load the architecture later:\n",
        "# with open('my_model_architecture.json', 'r') as json_file:\n",
        "#     loaded_model_json = json_file.read()\n",
        "# loaded_model = keras.models.model_from_json(loaded_model_json)\n",
        "# print(\"Model architecture loaded successfully!\")"
      ],
      "metadata": {
        "colab": {
          "base_uri": "https://localhost:8080/"
        },
        "id": "XzgYn3t4i1ex",
        "outputId": "51a8e30b-500c-49c9-cb5b-483ed74337c3"
      },
      "execution_count": 19,
      "outputs": [
        {
          "output_type": "stream",
          "name": "stdout",
          "text": [
            "Model architecture saved to 'my_model_architecture.json'\n"
          ]
        }
      ]
    },
    {
      "cell_type": "code",
      "source": [
        "with open('my_model_architecture.json', 'r') as json_file:\n",
        "    loaded_model_json = json_file.read()\n",
        "loaded_model = keras.models.model_from_json(loaded_model_json)\n",
        "print(\"Model architecture loaded successfully!\")"
      ],
      "metadata": {
        "colab": {
          "base_uri": "https://localhost:8080/"
        },
        "id": "rYj0iWHYl8US",
        "outputId": "17d308b3-fc55-4102-b6e3-4f4ea6420b8f"
      },
      "execution_count": 20,
      "outputs": [
        {
          "output_type": "stream",
          "name": "stdout",
          "text": [
            "Model architecture loaded successfully!\n"
          ]
        }
      ]
    },
    {
      "cell_type": "markdown",
      "source": [
        "## **4. Saving Only the Model's Weights**\n"
      ],
      "metadata": {
        "id": "eWqqHwIfi7-a"
      }
    },
    {
      "cell_type": "markdown",
      "source": [
        "\n",
        "You can save only the learned weights of the model. These can then be loaded into a model with the exact same architecture."
      ],
      "metadata": {
        "id": "yhE690eyi-FZ"
      }
    },
    {
      "cell_type": "code",
      "source": [
        "\n",
        "# Save only the model's weights\n",
        "model_bn.save_weights('my_model_weights.weights.h5') # or .tf\n",
        "\n",
        "print(\"Model weights saved to 'my_model_weights.weights.h5'\")\n",
        "\n",
        "# To load the weights into a model with the same architecture:\n",
        "# # First, create the model with the same architecture\n",
        "# loaded_model_for_weights = Sequential([\n",
        "#     Flatten(input_shape=(28 * 28,)),\n",
        "#     Dense(128, activation='relu'),\n",
        "#     Dense(64, activation='relu'),\n",
        "#     Dense(10, activation='softmax')\n",
        "# ])\n",
        "# # Load the weights\n",
        "# loaded_model_for_weights.load_weights('my_model_weights.weights.h5')\n",
        "# print(\"Model weights loaded successfully!\")"
      ],
      "metadata": {
        "colab": {
          "base_uri": "https://localhost:8080/"
        },
        "id": "h_Ma6TOzi1ha",
        "outputId": "6c65babc-ba97-40b0-e711-46b7736e0f93"
      },
      "execution_count": 21,
      "outputs": [
        {
          "output_type": "stream",
          "name": "stdout",
          "text": [
            "Model weights saved to 'my_model_weights.weights.h5'\n"
          ]
        }
      ]
    },
    {
      "cell_type": "code",
      "source": [
        "# To load the weights into a model with the same architecture:\n",
        "## First, create the model with the same architecture\n",
        "\n",
        "loaded_model_for_weights = Sequential()\n",
        "loaded_model_for_weights.add(Flatten(input_shape=(28 * 28,)))\n",
        "\n",
        "# 1st Layer\n",
        "loaded_model_for_weights.add(Dense(128))\n",
        "loaded_model_for_weights.add(BatchNormalization())\n",
        "loaded_model_for_weights.add(keras.layers.Activation('relu'))\n",
        "\n",
        "# 2nd Layer\n",
        "loaded_model_for_weights.add(Dense(64))\n",
        "loaded_model_for_weights.add(BatchNormalization())\n",
        "loaded_model_for_weights.add(keras.layers.Activation('relu'))\n",
        "\n",
        "# Output Layer\n",
        "loaded_model_for_weights.add(Dense(num_classes, activation='softmax'))\n",
        "\n",
        "\"\"\"loaded_model_for_weights = Sequential([\n",
        "    Flatten(input_shape=(28 * 28,)),\n",
        "    Dense(128, activation='relu'),\n",
        "    Dense(64, activation='relu'),\n",
        "    Dense(10, activation='softmax')\n",
        "])\"\"\"\n",
        "# Load the weights\n",
        "loaded_model_for_weights.load_weights('my_model_weights.weights.h5')\n",
        "print(\"Model weights loaded successfully!\")"
      ],
      "metadata": {
        "colab": {
          "base_uri": "https://localhost:8080/"
        },
        "id": "Q0UbzJ03mEoC",
        "outputId": "878b7bb8-fd9c-4f58-9c4a-7e9e705afb8e"
      },
      "execution_count": 22,
      "outputs": [
        {
          "output_type": "stream",
          "name": "stdout",
          "text": [
            "Model weights loaded successfully!\n"
          ]
        },
        {
          "output_type": "stream",
          "name": "stderr",
          "text": [
            "/usr/local/lib/python3.11/dist-packages/keras/src/layers/reshaping/flatten.py:37: UserWarning: Do not pass an `input_shape`/`input_dim` argument to a layer. When using Sequential models, prefer using an `Input(shape)` object as the first layer in the model instead.\n",
            "  super().__init__(**kwargs)\n"
          ]
        }
      ]
    },
    {
      "cell_type": "markdown",
      "source": [
        "\n",
        "When choosing a saving method, saving the entire model (either `.keras` or SavedModel) is generally the most convenient as it captures everything. Saving only the architecture and weights is useful if you need more flexibility or want to store the architecture separately for clarity. The `.keras` format is the most straightforward for standard Keras workflows."
      ],
      "metadata": {
        "id": "phxrD0hfjByj"
      }
    }
  ]
}